{
 "cells": [
  {
   "cell_type": "markdown",
   "metadata": {
    "id": "HAva8TnYFtFu"
   },
   "source": [
    "# Contents and why we need this lab\n",
    "\n",
    "This lab is about implementing neural networks yourself before we start using other frameworks that hide some of the computation from you. It builds on the first lab, where you derived the equations for neural network forward and backward propagation and gradient descent parameter updates. \n",
    "\n",
    "All the frameworks for deep learning you will meet from now on use automatic differentiation (autodiff), so you do not have to code the backward step yourself. In this version of this lab, you will develop your own autodif implementation. We also have an optional [version](https://github.com/DeepLearningDTU/02456-deep-learning-with-PyTorch/blob/master/2_Feedforward_Python/2.2-FNN-NumPy.ipynb) of this lab where you have to code the backward pass explicitly in Numpy."
   ]
  },
  {
   "cell_type": "markdown",
   "metadata": {
    "id": "sCa7HzwpFtFy"
   },
   "source": [
    "# External sources of information\n",
    "\n",
    "1. Jupyter notebook. You can find more information about Jupyter notebooks [here](https://jupyter.org/). It will come as part of the [Anaconda](https://www.anaconda.com/) Python installation. \n",
    "2. [NumPy](https://numpy.org/). Part of Anaconda distribution.  If you already know how to program, most things about Python and NumPy can be found with Google searches.\n",
    "3. [Nanograd](https://github.com/rasmusbergpalm/nanograd) is a minimalistic version of autodiff developed by Rasmus Berg Palm that we use for our framework.\n"
   ]
  },
  {
   "cell_type": "markdown",
   "metadata": {
    "id": "1SjiIp-TFtF0"
   },
   "source": [
    "# This notebook will follow the next steps:\n",
    "\n",
    "1. Nanograd automatic differentiation framework\n",
    "2. Finite difference method\n",
    "3. Data generation\n",
    "4. Defining and initializing the network\n",
    "5. Forward pass\n",
    "6. Training loop \n",
    "7. Testing your model\n",
    "8. Further extensions"
   ]
  },
  {
   "cell_type": "markdown",
   "metadata": {
    "id": "OyXeAA-HuT7s"
   },
   "source": [
    "# Nanograd automatic differention framework"
   ]
  },
  {
   "cell_type": "markdown",
   "metadata": {
    "id": "k6UWKCLKubgA"
   },
   "source": [
    "The [Nanograd](https://github.com/rasmusbergpalm/nanograd) framework defines a class Var which both holds a value and gradient value that we can use to store the intermediate values when we apply the chain rule of differentiation."
   ]
  },
  {
   "cell_type": "code",
   "execution_count": 138,
   "metadata": {
    "id": "Jd4CoEBNzNWS"
   },
   "outputs": [],
   "source": [
    "# Copy and pasted from https://github.com/rasmusbergpalm/nanograd/blob/3a1bf9e9e724da813bfccf91a6f309abdade9f39/nanograd.py\n",
    "\n",
    "from math import exp, log\n",
    "\n",
    "class Var:\n",
    "    \"\"\"\n",
    "    A variable which holds a float and enables gradient computations.\n",
    "    \"\"\"\n",
    "\n",
    "    def __init__(self, val: float, grad_fn=lambda: []):\n",
    "        assert type(val) == float\n",
    "        self.v = val\n",
    "        self.grad_fn = grad_fn\n",
    "        self.grad = 0.0\n",
    "\n",
    "    def backprop(self, bp):\n",
    "        self.grad += bp\n",
    "        for input, grad in self.grad_fn():\n",
    "            input.backprop(grad * bp)\n",
    "\n",
    "    def backward(self):\n",
    "        self.backprop(1.0)\n",
    "\n",
    "    def __add__(self: 'Var', other: 'Var') -> 'Var':\n",
    "        return Var(self.v + other.v, lambda: [(self, 1.0), (other, 1.0)])\n",
    "\n",
    "    def __mul__(self: 'Var', other: 'Var') -> 'Var':\n",
    "        return Var(self.v * other.v, lambda: [(self, other.v), (other, self.v)])\n",
    "\n",
    "    def __pow__(self, power):\n",
    "        assert type(power) in {float, int}, \"power must be float or int\"\n",
    "        return Var(self.v ** power, lambda: [(self, power * self.v ** (power - 1))])\n",
    "\n",
    "    def __neg__(self: 'Var') -> 'Var':\n",
    "        return Var(-1.0) * self\n",
    "\n",
    "    def __sub__(self: 'Var', other: 'Var') -> 'Var':\n",
    "        return self + (-other)\n",
    "\n",
    "    def __truediv__(self: 'Var', other: 'Var') -> 'Var':\n",
    "        return self * other ** -1\n",
    "\n",
    "    def __repr__(self):\n",
    "        return \"Var(v=%.4f, grad=%.4f)\" % (self.v, self.grad)\n",
    "\n",
    "    def relu(self):\n",
    "        return Var(self.v if self.v > 0.0 else 0.0, lambda: [(self, 1.0 if self.v > 0.0 else 0.0)])\n",
    "    \n",
    "    def identity(self):\n",
    "        return Var(self.v, lambda: [(self, 1.0)])\n",
    "\n",
    "    def tanh(self):\n",
    "        v = self.v\n",
    "        tanh_v = (exp(v) - exp(-v))/(exp(v)+exp(-v))\n",
    "        return Var(tanh_v, lambda: [(self, 1-tanh_v**2)])\n",
    "    \n",
    "    def sigmoid(self):\n",
    "        sigmoid_v = 1/(1+exp(-self.v))\n",
    "        sigmoid_v_diff = sigmoid_v*(1-sigmoid_v)\n",
    "        return Var(sigmoid_v, lambda: [(self, sigmoid_v_diff)])\n",
    "\n",
    "    def exp(self):\n",
    "        return Var(exp(self.v), lambda: [(self, exp(self.v))])\n",
    "    \n",
    "    def log(self):\n",
    "        return Var(log(self.v), lambda: [(self, self.v ** -1)])\n",
    "        "
   ]
  },
  {
   "cell_type": "markdown",
   "metadata": {
    "id": "yDX67D6jzcte"
   },
   "source": [
    "A few examples illustrate how we can use this:"
   ]
  },
  {
   "cell_type": "code",
   "execution_count": 139,
   "metadata": {
    "colab": {
     "base_uri": "https://localhost:8080/"
    },
    "id": "xk6PeLc3zwPT",
    "outputId": "47e431b2-07ba-4cb1-ea21-997769641c67"
   },
   "outputs": [
    {
     "name": "stdout",
     "output_type": "stream",
     "text": [
      "Var(v=3.0000, grad=5.0000)\n",
      "Var(v=5.0000, grad=3.0000)\n",
      "Var(v=15.0000, grad=1.0000)\n"
     ]
    }
   ],
   "source": [
    "a = Var(3.0)\n",
    "b = Var(5.0)\n",
    "f = a * b\n",
    "\n",
    "f.backward()\n",
    "\n",
    "for v in [a, b, f]:\n",
    "    print(v)"
   ]
  },
  {
   "cell_type": "code",
   "execution_count": 140,
   "metadata": {
    "colab": {
     "base_uri": "https://localhost:8080/"
    },
    "id": "JmKhYgsY0g_o",
    "outputId": "06c1b1df-c33c-40d3-922a-624612a591c7"
   },
   "outputs": [
    {
     "name": "stdout",
     "output_type": "stream",
     "text": [
      "Var(v=3.0000, grad=14.0000)\n",
      "Var(v=5.0000, grad=3.0000)\n",
      "Var(v=15.0000, grad=1.0000)\n",
      "Var(v=9.0000, grad=3.0000)\n",
      "Var(v=27.0000, grad=1.0000)\n",
      "Var(v=42.0000, grad=1.0000)\n"
     ]
    }
   ],
   "source": [
    "a = Var(3.0)\n",
    "b = Var(5.0)\n",
    "c = a * b\n",
    "d = Var(9.0)\n",
    "e = a * d\n",
    "f = c + e\n",
    "\n",
    "f.backward()\n",
    "\n",
    "for v in [a, b, c, d, e, f]:\n",
    "    print(v)"
   ]
  },
  {
   "cell_type": "markdown",
   "metadata": {
    "id": "Fe3B6uEH140p"
   },
   "source": [
    "## Exercise a) What is being calculated?\n",
    "\n",
    "Explain briefly the output of the code? What is the expression we differentiate and with respect to what variables?"
   ]
  },
  {
   "cell_type": "markdown",
   "metadata": {
    "id": "q8_Q0t2I3Ruj"
   },
   "source": [
    "## Exercise b) How does the backward function work?\n",
    "\n",
    "You need to understand how the backward function calculates the gradients. We can use the two examples above to help with that.\n",
    "\n",
    "Go through the following four steps and answer the questions on the way:\n",
    "\n",
    "1. We represent the two expressions as graphs as shown below. Fill in the missing expressions for the different derivatives.\n",
    "\n",
    "2. In the remainder consider the first expression. Make a schematic of the data structure which is generated when we define the expression for f. \n",
    "\n",
    "3. Then execute the backward function by hand to convince yourself that it indeed calculates the gradients with respect to the variables. \n",
    "\n",
    "4. Write down the sequence of calls to backprop."
   ]
  },
  {
   "cell_type": "markdown",
   "metadata": {},
   "source": [
    "## Answer\n",
    "### Expression 1\n",
    "f = (15, 1, [(a, 5),(b, 3)])\n",
    "\n",
    "\n",
    "All gradients are initialized to zero\n",
    "\n",
    "f.backward()\n",
    "  * f.backprob(1)\n",
    "    * f.grad += 1\n",
    "    * a.backprob(5) $(b*bp = 5*1=5)$\n",
    "      * a.grad += 5\n",
    "    * b.packprob(3)\n",
    "      * b.grad += 3\n",
    "\n",
    "### Expression 2\n",
    "f.backward()\n",
    "  * f.backprob(1)\n",
    "    * f.grad += 1\n",
    "    * c.backprob(1)\n",
    "      * c.grad += 1\n",
    "      * a.backprob(5)\n",
    "        * a.grad += 5\n",
    "      * b.backprob(3)\n",
    "        * b.grad += 3\n",
    "    * e.backprob(1)\n",
    "      * e.grad += 1\n",
    "      * a.backprob(9)\n",
    "        * a.grad += 9 (a.grad = 14)\n",
    "      * d.backprob(3)\n",
    "        * d.grad += 3"
   ]
  },
  {
   "cell_type": "code",
   "execution_count": 141,
   "metadata": {
    "id": "idGr71jYXl26"
   },
   "outputs": [],
   "source": [
    "# import logging\n",
    "import graphviz\n",
    "\n",
    "# logging.basicConfig(format='[%(levelname)s@%(name)s] %(message)s', level=logging.DEBUG)\n",
    "\n",
    "# graphviz.__version__, graphviz.version()"
   ]
  },
  {
   "cell_type": "code",
   "execution_count": 142,
   "metadata": {
    "colab": {
     "base_uri": "https://localhost:8080/",
     "height": 152
    },
    "id": "KPe30Q2QXzeG",
    "outputId": "7fa002cd-a018-4dbb-ddf1-28ed5e99ee19"
   },
   "outputs": [
    {
     "data": {
      "image/svg+xml": "<?xml version=\"1.0\" encoding=\"UTF-8\" standalone=\"no\"?>\n<!DOCTYPE svg PUBLIC \"-//W3C//DTD SVG 1.1//EN\"\n \"http://www.w3.org/Graphics/SVG/1.1/DTD/svg11.dtd\">\n<!-- Generated by graphviz version 2.50.0 (0)\n -->\n<!-- Title: first expression Pages: 1 -->\n<svg width=\"159pt\" height=\"98pt\"\n viewBox=\"0.00 0.00 159.00 98.00\" xmlns=\"http://www.w3.org/2000/svg\" xmlns:xlink=\"http://www.w3.org/1999/xlink\">\n<g id=\"graph0\" class=\"graph\" transform=\"scale(1 1) rotate(0) translate(4 94)\">\n<title>first expression</title>\n<polygon fill=\"white\" stroke=\"transparent\" points=\"-4,4 -4,-94 155,-94 155,4 -4,4\"/>\n<!-- a -->\n<g id=\"node1\" class=\"node\">\n<title>a</title>\n<ellipse fill=\"none\" stroke=\"black\" cx=\"18\" cy=\"-72\" rx=\"18\" ry=\"18\"/>\n<text text-anchor=\"middle\" x=\"18\" y=\"-68.3\" font-family=\"Times New Roman,serif\" font-size=\"14.00\">a</text>\n</g>\n<!-- f -->\n<g id=\"node2\" class=\"node\">\n<title>f</title>\n<ellipse fill=\"none\" stroke=\"black\" cx=\"133\" cy=\"-45\" rx=\"18\" ry=\"18\"/>\n<text text-anchor=\"middle\" x=\"133\" y=\"-41.3\" font-family=\"Times New Roman,serif\" font-size=\"14.00\">f</text>\n</g>\n<!-- a&#45;&gt;f -->\n<g id=\"edge1\" class=\"edge\">\n<title>a&#45;&gt;f</title>\n<path fill=\"none\" stroke=\"black\" d=\"M35.67,-68.02C54.03,-63.63 83.81,-56.51 105.4,-51.36\"/>\n<polygon fill=\"black\" stroke=\"black\" points=\"106.35,-54.73 115.26,-49 104.72,-47.92 106.35,-54.73\"/>\n<text text-anchor=\"middle\" x=\"75.5\" y=\"-66.8\" font-family=\"Times New Roman,serif\" font-size=\"14.00\">df/da=b</text>\n</g>\n<!-- b -->\n<g id=\"node3\" class=\"node\">\n<title>b</title>\n<ellipse fill=\"none\" stroke=\"black\" cx=\"18\" cy=\"-18\" rx=\"18\" ry=\"18\"/>\n<text text-anchor=\"middle\" x=\"18\" y=\"-14.3\" font-family=\"Times New Roman,serif\" font-size=\"14.00\">b</text>\n</g>\n<!-- b&#45;&gt;f -->\n<g id=\"edge2\" class=\"edge\">\n<title>b&#45;&gt;f</title>\n<path fill=\"none\" stroke=\"black\" d=\"M35.85,-20.94C51.73,-23.83 76.12,-28.59 97,-34 99.89,-34.75 102.9,-35.59 105.88,-36.47\"/>\n<polygon fill=\"black\" stroke=\"black\" points=\"105.13,-39.9 115.72,-39.5 107.19,-33.21 105.13,-39.9\"/>\n<text text-anchor=\"middle\" x=\"75.5\" y=\"-37.8\" font-family=\"Times New Roman,serif\" font-size=\"14.00\">df/db=a</text>\n</g>\n</g>\n</svg>\n",
      "text/plain": [
       "<graphviz.graphs.Digraph at 0x24f3bef7d30>"
      ]
     },
     "execution_count": 142,
     "metadata": {},
     "output_type": "execute_result"
    }
   ],
   "source": [
    "e1 = graphviz.Digraph('first expression', filename='fsm.gv')\n",
    "\n",
    "e1.attr(rankdir='LR', size='8,5')\n",
    "\n",
    "e1.attr('node', shape='circle')\n",
    "e1.edge('a', 'f', label='df/da=b')\n",
    "e1.edge('b', 'f', label='df/db=a')\n",
    "e1"
   ]
  },
  {
   "cell_type": "code",
   "execution_count": 143,
   "metadata": {
    "colab": {
     "base_uri": "https://localhost:8080/",
     "height": 232
    },
    "id": "0nittR-mZFeX",
    "outputId": "fa3656a3-732c-4abe-8084-98a492b0d6be"
   },
   "outputs": [
    {
     "data": {
      "image/svg+xml": "<?xml version=\"1.0\" encoding=\"UTF-8\" standalone=\"no\"?>\n<!DOCTYPE svg PUBLIC \"-//W3C//DTD SVG 1.1//EN\"\n \"http://www.w3.org/Graphics/SVG/1.1/DTD/svg11.dtd\">\n<!-- Generated by graphviz version 2.50.0 (0)\n -->\n<!-- Title: second expression Pages: 1 -->\n<svg width=\"276pt\" height=\"158pt\"\n viewBox=\"0.00 0.00 276.00 158.00\" xmlns=\"http://www.w3.org/2000/svg\" xmlns:xlink=\"http://www.w3.org/1999/xlink\">\n<g id=\"graph0\" class=\"graph\" transform=\"scale(1 1) rotate(0) translate(4 154)\">\n<title>second expression</title>\n<polygon fill=\"white\" stroke=\"transparent\" points=\"-4,4 -4,-154 272,-154 272,4 -4,4\"/>\n<!-- a -->\n<g id=\"node1\" class=\"node\">\n<title>a</title>\n<ellipse fill=\"none\" stroke=\"black\" cx=\"18\" cy=\"-75\" rx=\"18\" ry=\"18\"/>\n<text text-anchor=\"middle\" x=\"18\" y=\"-71.3\" font-family=\"Times New Roman,serif\" font-size=\"14.00\">a</text>\n</g>\n<!-- c -->\n<g id=\"node2\" class=\"node\">\n<title>c</title>\n<ellipse fill=\"none\" stroke=\"black\" cx=\"135\" cy=\"-102\" rx=\"18\" ry=\"18\"/>\n<text text-anchor=\"middle\" x=\"135\" y=\"-98.3\" font-family=\"Times New Roman,serif\" font-size=\"14.00\">c</text>\n</g>\n<!-- a&#45;&gt;c -->\n<g id=\"edge1\" class=\"edge\">\n<title>a&#45;&gt;c</title>\n<path fill=\"none\" stroke=\"black\" d=\"M35.97,-78.98C54.76,-83.4 85.31,-90.57 107.31,-95.73\"/>\n<polygon fill=\"black\" stroke=\"black\" points=\"106.8,-99.21 117.34,-98.09 108.4,-92.39 106.8,-99.21\"/>\n<text text-anchor=\"middle\" x=\"76.5\" y=\"-96.8\" font-family=\"Times New Roman,serif\" font-size=\"14.00\">dc/da=b</text>\n</g>\n<!-- e -->\n<g id=\"node4\" class=\"node\">\n<title>e</title>\n<ellipse fill=\"none\" stroke=\"black\" cx=\"135\" cy=\"-48\" rx=\"18\" ry=\"18\"/>\n<text text-anchor=\"middle\" x=\"135\" y=\"-44.3\" font-family=\"Times New Roman,serif\" font-size=\"14.00\">e</text>\n</g>\n<!-- a&#45;&gt;e -->\n<g id=\"edge3\" class=\"edge\">\n<title>a&#45;&gt;e</title>\n<path fill=\"none\" stroke=\"black\" d=\"M35.28,-69.49C41.14,-67.61 47.83,-65.58 54,-64 71.5,-59.51 91.43,-55.53 107.01,-52.65\"/>\n<polygon fill=\"black\" stroke=\"black\" points=\"107.8,-56.07 117.03,-50.85 106.56,-49.18 107.8,-56.07\"/>\n<text text-anchor=\"middle\" x=\"76.5\" y=\"-67.8\" font-family=\"Times New Roman,serif\" font-size=\"14.00\">de/da=d</text>\n</g>\n<!-- f -->\n<g id=\"node6\" class=\"node\">\n<title>f</title>\n<ellipse fill=\"none\" stroke=\"black\" cx=\"250\" cy=\"-75\" rx=\"18\" ry=\"18\"/>\n<text text-anchor=\"middle\" x=\"250\" y=\"-71.3\" font-family=\"Times New Roman,serif\" font-size=\"14.00\">f</text>\n</g>\n<!-- c&#45;&gt;f -->\n<g id=\"edge5\" class=\"edge\">\n<title>c&#45;&gt;f</title>\n<path fill=\"none\" stroke=\"black\" d=\"M152.67,-98.02C171.03,-93.63 200.81,-86.51 222.4,-81.36\"/>\n<polygon fill=\"black\" stroke=\"black\" points=\"223.35,-84.73 232.26,-79 221.72,-77.92 223.35,-84.73\"/>\n<text text-anchor=\"middle\" x=\"192.5\" y=\"-96.8\" font-family=\"Times New Roman,serif\" font-size=\"14.00\">df/dc=e</text>\n</g>\n<!-- b -->\n<g id=\"node3\" class=\"node\">\n<title>b</title>\n<ellipse fill=\"none\" stroke=\"black\" cx=\"18\" cy=\"-132\" rx=\"18\" ry=\"18\"/>\n<text text-anchor=\"middle\" x=\"18\" y=\"-128.3\" font-family=\"Times New Roman,serif\" font-size=\"14.00\">b</text>\n</g>\n<!-- b&#45;&gt;c -->\n<g id=\"edge2\" class=\"edge\">\n<title>b&#45;&gt;c</title>\n<path fill=\"none\" stroke=\"black\" d=\"M35.97,-127.57C54.85,-122.65 85.58,-114.63 107.61,-108.88\"/>\n<polygon fill=\"black\" stroke=\"black\" points=\"108.54,-112.26 117.34,-106.35 106.78,-105.48 108.54,-112.26\"/>\n<text text-anchor=\"middle\" x=\"76.5\" y=\"-125.8\" font-family=\"Times New Roman,serif\" font-size=\"14.00\">dc/db=a</text>\n</g>\n<!-- e&#45;&gt;f -->\n<g id=\"edge6\" class=\"edge\">\n<title>e&#45;&gt;f</title>\n<path fill=\"none\" stroke=\"black\" d=\"M152.85,-50.94C168.73,-53.83 193.12,-58.59 214,-64 216.89,-64.75 219.9,-65.59 222.88,-66.47\"/>\n<polygon fill=\"black\" stroke=\"black\" points=\"222.13,-69.9 232.72,-69.5 224.19,-63.21 222.13,-69.9\"/>\n<text text-anchor=\"middle\" x=\"192.5\" y=\"-67.8\" font-family=\"Times New Roman,serif\" font-size=\"14.00\">df/de=c</text>\n</g>\n<!-- d -->\n<g id=\"node5\" class=\"node\">\n<title>d</title>\n<ellipse fill=\"none\" stroke=\"black\" cx=\"18\" cy=\"-18\" rx=\"18\" ry=\"18\"/>\n<text text-anchor=\"middle\" x=\"18\" y=\"-14.3\" font-family=\"Times New Roman,serif\" font-size=\"14.00\">d</text>\n</g>\n<!-- d&#45;&gt;e -->\n<g id=\"edge4\" class=\"edge\">\n<title>d&#45;&gt;e</title>\n<path fill=\"none\" stroke=\"black\" d=\"M36.03,-20.87C52.35,-23.8 77.59,-28.79 99,-35 102.17,-35.92 105.47,-36.99 108.72,-38.12\"/>\n<polygon fill=\"black\" stroke=\"black\" points=\"107.54,-41.41 118.13,-41.55 109.94,-34.83 107.54,-41.41\"/>\n<text text-anchor=\"middle\" x=\"76.5\" y=\"-38.8\" font-family=\"Times New Roman,serif\" font-size=\"14.00\">de/dd=a</text>\n</g>\n</g>\n</svg>\n",
      "text/plain": [
       "<graphviz.graphs.Digraph at 0x24f51db1ed0>"
      ]
     },
     "execution_count": 143,
     "metadata": {},
     "output_type": "execute_result"
    }
   ],
   "source": [
    "e2 = graphviz.Digraph('second expression', filename='fsm.gv')\n",
    "\n",
    "e2.attr(rankdir='LR', size='8,5')\n",
    "\n",
    "e2.attr('node', shape='circle')\n",
    "e2.edge('a', 'c', label='dc/da=b')\n",
    "e2.edge('b', 'c', label='dc/db=a')\n",
    "e2.edge('a', 'e', label='de/da=d')\n",
    "e2.edge('d', 'e', label='de/dd=a')\n",
    "e2.edge('c', 'f', label='df/dc=e')\n",
    "e2.edge('e', 'f', label='df/de=c')\n",
    "\n",
    "e2"
   ]
  },
  {
   "cell_type": "code",
   "execution_count": null,
   "metadata": {},
   "outputs": [],
   "source": []
  },
  {
   "cell_type": "markdown",
   "metadata": {
    "id": "A5oi21W4gpeM"
   },
   "source": [
    "## Exercise c) What happens if we run backward again?\n",
    "\n",
    "Try to execute the code below. Explain what happens."
   ]
  },
  {
   "cell_type": "code",
   "execution_count": 144,
   "metadata": {
    "colab": {
     "base_uri": "https://localhost:8080/"
    },
    "id": "DCtpJyr-gyX1",
    "outputId": "d014bcfa-c9ae-49c3-d268-91cc6ca94ea5"
   },
   "outputs": [
    {
     "name": "stdout",
     "output_type": "stream",
     "text": [
      "Var(v=3.0000, grad=28.0000)\n",
      "Var(v=5.0000, grad=6.0000)\n",
      "Var(v=15.0000, grad=2.0000)\n",
      "Var(v=9.0000, grad=6.0000)\n",
      "Var(v=27.0000, grad=2.0000)\n",
      "Var(v=42.0000, grad=2.0000)\n"
     ]
    }
   ],
   "source": [
    "f.backward()\n",
    "\n",
    "for v in [a, b, c, d, e, f]:\n",
    "    print(v)"
   ]
  },
  {
   "cell_type": "markdown",
   "metadata": {},
   "source": [
    "## Answer\n",
    "The gradients are just incremeneted in ech backward pass - Therefore it will just keep growing"
   ]
  },
  {
   "cell_type": "markdown",
   "metadata": {
    "id": "e8bPVq2VhsP-"
   },
   "source": [
    "## Exercise d) Zero gradient\n",
    "\n",
    "We can zero the gradient by backpropagating a -1.0 as is shown in the example below. (If you have run backward multiple time then you also have to run the cell below an equal amount of times.) Explain what is going on."
   ]
  },
  {
   "cell_type": "code",
   "execution_count": 145,
   "metadata": {
    "colab": {
     "base_uri": "https://localhost:8080/"
    },
    "id": "OnyPDQx9lJe0",
    "outputId": "7a125fdc-60c4-4340-a580-8b82aea5b0db"
   },
   "outputs": [
    {
     "name": "stdout",
     "output_type": "stream",
     "text": [
      "Var(v=2.0000, grad=0.0000)\n",
      "Var(v=5.0000, grad=6.0000)\n",
      "Var(v=15.0000, grad=2.0000)\n",
      "Var(v=9.0000, grad=6.0000)\n",
      "Var(v=27.0000, grad=2.0000)\n",
      "Var(v=42.0000, grad=2.0000)\n",
      "Var(v=2.0000, grad=0.0000)\n",
      "Var(v=5.0000, grad=3.0000)\n",
      "Var(v=15.0000, grad=1.0000)\n",
      "Var(v=9.0000, grad=3.0000)\n",
      "Var(v=27.0000, grad=1.0000)\n",
      "Var(v=42.0000, grad=1.0000)\n"
     ]
    }
   ],
   "source": [
    "a = Var(2.0)\n",
    "\n",
    "for v in [a, b, c, d, e, f]:\n",
    "    print(v)\n",
    "\n",
    "f.backprop(-1.0)\n",
    "\n",
    "for v in [a, b, c, d, e, f]:\n",
    "    print(v)"
   ]
  },
  {
   "cell_type": "markdown",
   "metadata": {},
   "source": [
    "## Answer\n",
    "Same thing as in c), only this time everything is negated, so it will be subtracted instead of added."
   ]
  },
  {
   "cell_type": "markdown",
   "metadata": {
    "id": "U4057_ljNvWB"
   },
   "source": [
    "## Exercise e) Test correctness of derivatives with the finite difference method\n",
    "\n",
    "Write a small function that uses [the finite difference method](https://en.wikipedia.org/wiki/Finite_difference_method) to numerically test that backpropation implementation is working. In short we will use\n",
    "$$\n",
    "\\frac{\\partial f(a)}{\\partial a} \\approx \\frac{f(a+da)-f(a)}{da}\n",
    "$$\n",
    "for $da \\ll 1$.\n",
    "\n",
    "As an example, we could approximate the derivative of the function $f(a)=a^2$ in e.g. the value $a=4$ using the finite difference method. This amounts to inserting the relevant values and approximating the gradient $f'(4)$ with the fraction above. \n"
   ]
  },
  {
   "cell_type": "code",
   "execution_count": 146,
   "metadata": {
    "colab": {
     "base_uri": "https://localhost:8080/"
    },
    "id": "9TGil92lSXDN",
    "outputId": "7ef5489b-b525-4132-ab08-0b1109c07f4d"
   },
   "outputs": [
    {
     "name": "stdout",
     "output_type": "stream",
     "text": [
      "Var(v=3.0000, grad=5.0000)\n",
      "Var(v=5.0000, grad=3.0000)\n",
      "Var(v=15.0000, grad=1.0000)\n",
      "5.000018177270249\n"
     ]
    }
   ],
   "source": [
    "# f function - try to change the code to test other types of functions as well (such as different polynomials etc.)\n",
    "def f_function(a):\n",
    "  a = Var(a)\n",
    "  b = Var(5.0)\n",
    "  f = a * b\n",
    "  f.backward()\n",
    "  return a,b,f\n",
    "\n",
    "for v in f_function(3.0):\n",
    "  print(v)\n",
    "\n",
    "# Insert your finite difference code here\n",
    "def finite_difference(da=1e-10):\n",
    "    \"\"\"\n",
    "    This function compute the finite difference between\n",
    "    \n",
    "    Input:\n",
    "    da:          The finite difference                           (float)\n",
    "    \n",
    "    Output:\n",
    "    finite_difference: numerical approximation to the derivative (float) \n",
    "    \"\"\"\n",
    "    \n",
    "    fa_da = f_function(4. + da)[2].v           # <- Insert correct expression\n",
    "    fa = f_function(4.)[2].v                   # <- Insert correct expression\n",
    "\n",
    "    finite_difference = (fa_da - fa) / da\n",
    "    \n",
    "    return finite_difference\n",
    "\n",
    "print(finite_difference())"
   ]
  },
  {
   "cell_type": "markdown",
   "metadata": {
    "id": "6pZar5RKaUkg"
   },
   "source": [
    "# Create an artificial dataset to play with\n",
    "\n",
    "We create a non-linear 1d regression task. The generator supports various noise levels and it creates train, validation and test sets. You can modify it yourself if you want more or less challenging tasks."
   ]
  },
  {
   "cell_type": "code",
   "execution_count": 147,
   "metadata": {
    "id": "Y6yfMAQ8aduj"
   },
   "outputs": [],
   "source": [
    "import numpy as np\n",
    "import matplotlib.pyplot as plt\n",
    "\n",
    "np.random.seed(42)"
   ]
  },
  {
   "cell_type": "code",
   "execution_count": 148,
   "metadata": {
    "id": "4YabfD43ajNh"
   },
   "outputs": [],
   "source": [
    "def data_generator(noise=0.1, n_samples=300, D1=True):\n",
    "    # Create covariates and response variable\n",
    "    if D1:\n",
    "        X = np.linspace(-3, 3, num=n_samples).reshape(-1,1) # 1-D\n",
    "        np.random.shuffle(X)\n",
    "        y = np.random.normal((0.5*np.sin(X[:,0]*3) + X[:,0]), noise) # 1-D with trend\n",
    "    else:\n",
    "        X = np.random.multivariate_normal(np.zeros(3), noise*np.eye(3), size = n_samples) # 3-D\n",
    "        np.random.shuffle(X)    \n",
    "        y = np.sin(X[:,0]) - 5*(X[:,1]**2) + 0.5*X[:,2] # 3-D\n",
    "\n",
    "    # Stack them together vertically to split data set\n",
    "    data_set = np.vstack((X.T,y)).T\n",
    "    \n",
    "    train, validation, test = np.split(data_set, [int(0.35*n_samples), int(0.7*n_samples)], axis=0)\n",
    "    \n",
    "    # Standardization of the data, remember we do the standardization with the training set mean and standard deviation\n",
    "    train_mu = np.mean(train, axis=0)\n",
    "    train_sigma = np.std(train, axis=0)\n",
    "    \n",
    "    train = (train-train_mu)/train_sigma\n",
    "    validation = (validation-train_mu)/train_sigma\n",
    "    test = (test-train_mu)/train_sigma\n",
    "    \n",
    "    x_train, x_validation, x_test = train[:,:-1], validation[:,:-1], test[:,:-1]\n",
    "    y_train, y_validation, y_test = train[:,-1], validation[:,-1], test[:,-1]\n",
    "\n",
    "    return x_train, y_train,  x_validation, y_validation, x_test, y_test"
   ]
  },
  {
   "cell_type": "code",
   "execution_count": 149,
   "metadata": {
    "id": "u1oDngHLapIz"
   },
   "outputs": [],
   "source": [
    "D1 = True\n",
    "x_train, y_train,  x_validation, y_validation, x_test, y_test = data_generator(noise=0.5, D1=D1)"
   ]
  },
  {
   "cell_type": "code",
   "execution_count": 150,
   "metadata": {
    "colab": {
     "base_uri": "https://localhost:8080/",
     "height": 265
    },
    "id": "Ysfa3FsBavlm",
    "outputId": "399e5382-ae7d-48f6-9774-7ea4c73e7d95"
   },
   "outputs": [
    {
     "data": {
      "image/png": "[encoded data removed]",
      "text/plain": [
       "<Figure size 640x480 with 1 Axes>"
      ]
     },
     "metadata": {},
     "output_type": "display_data"
    }
   ],
   "source": [
    "if D1:\n",
    "    plt.scatter(x_train[:,0], y_train);\n",
    "    plt.scatter(x_validation[:,0], y_validation);\n",
    "    plt.scatter(x_test[:,0], y_test);\n",
    "else:\n",
    "    plt.scatter(x_train[:,1], y_train);\n",
    "    plt.scatter(x_validation[:,1], y_validation);\n",
    "    plt.scatter(x_test[:,1], y_test);\n",
    "plt.show()"
   ]
  },
  {
   "cell_type": "code",
   "execution_count": 151,
   "metadata": {
    "id": "zac2HHNlgbpm"
   },
   "outputs": [],
   "source": [
    "# convert from nparray to Var\n",
    "def nparray_to_Var(x):\n",
    "  if x.ndim==1:\n",
    "    y = [[Var(float(x[i]))] for i in range(x.shape[0])] # always work with list of list\n",
    "  else:\n",
    "    y = [[Var(float(x[i,j])) for j in range(x.shape[1])] for i in range(x.shape[0])]\n",
    "  return y\n",
    "   \n",
    "x_train = nparray_to_Var(x_train)\n",
    "y_train = nparray_to_Var(y_train)\n",
    "x_validation = nparray_to_Var(x_validation)\n",
    "y_validation = nparray_to_Var(y_validation)\n",
    "x_test = nparray_to_Var(x_test)\n",
    "y_test = nparray_to_Var(y_test)\n"
   ]
  },
  {
   "cell_type": "markdown",
   "metadata": {
    "id": "VbjrqcpVFtGe"
   },
   "source": [
    "# Defining and initializing the network\n",
    "\n",
    "The steps to create a feed forward neural network are the following:\n",
    "\n",
    "1. **Number of hidden layer and hidden units**. We have to define the number of hidden units in each layer. The number of features in X and the output dimensionality (the size of Y) are given but the numbers in between are set by the researcher. Remember that for each unit in each layer beside in the input has a bias term.\n",
    "2. **Activation functions** for each hidden layer. Each hidden layer in your list must have an activation function (it can also be the linear activation which is equivalent to identity function). The power of neural networks comes from non-linear activation functions that learn representations (features) from the data allowing us to learn from it. \n",
    "3. **Parameter initialization**. We will initialize the weights to have random values. This is done in practice by drawing pseudo random numbers from a Gaussian or uniform distribution. It turns out that for deeper models we have to be careful about how we scale the random numbers. This will be the topic of the exercise below. For now we will just use unit variance Gaussians.  \n",
    "\n",
    "In order to make life easier for ourselves we define a DenseLayer class that takes care of initialization and the forward pass. We can also extend it later with print and advanced initialization capabilities. For the latter we have introduced a Initializer class.\n",
    "\n",
    "Note that we use Sequence in the code below. A Sequence is an ordered list. This means the order we insert and access items are the same."
   ]
  },
  {
   "cell_type": "code",
   "execution_count": 152,
   "metadata": {
    "id": "ij_ieRsAt7Xt"
   },
   "outputs": [],
   "source": [
    "class Initializer:\n",
    "\n",
    "  def init_weights(self, n_in, n_out):\n",
    "    raise NotImplementedError\n",
    "\n",
    "  def init_bias(self, n_out):\n",
    "    raise NotImplementedError"
   ]
  },
  {
   "cell_type": "code",
   "execution_count": 153,
   "metadata": {
    "id": "eb18N5phuIha"
   },
   "outputs": [],
   "source": [
    "import random\n",
    "\n",
    "class NormalInitializer(Initializer):\n",
    "\n",
    "  def __init__(self, mean=0, std=0.1):\n",
    "    self.mean = mean\n",
    "    self.std = std\n",
    "\n",
    "  def init_weights(self, n_in, n_out):\n",
    "    return [[Var(random.gauss(self.mean, self.std)) for _ in range(n_out)] for _ in range(n_in)]\n",
    "\n",
    "  def init_bias(self, n_out):\n",
    "    return [Var(0.0) for _ in range(n_out)]\n",
    "\n",
    "class ConstantInitializer(Initializer):\n",
    "\n",
    "  def __init__(self, weight=1.0, bias=0.0):\n",
    "    self.weight = weight\n",
    "    self.bias = bias\n",
    "\n",
    "  def init_weights(self, n_in, n_out):\n",
    "    return [[Var(self.weight) for _ in range(n_out)] for _ in range(n_in)]\n",
    "\n",
    "  def init_bias(self, n_out):\n",
    "    return [Var(self.bias) for _ in range(n_out)]"
   ]
  },
  {
   "cell_type": "code",
   "execution_count": 154,
   "metadata": {
    "id": "jOLYGnZKuM6W"
   },
   "outputs": [],
   "source": [
    "from typing import Sequence\n",
    "\n",
    "class DenseLayer:\n",
    "    def __init__(self, n_in: int, n_out: int, act_fn, initializer = NormalInitializer()):\n",
    "        self.weights = initializer.init_weights(n_in, n_out)\n",
    "        self.bias = initializer.init_bias(n_out)\n",
    "        self.act_fn = act_fn\n",
    "    \n",
    "    def __repr__(self):    \n",
    "        return 'Weights: ' + repr(self.weights) + ' Biases: ' + repr(self.bias)\n",
    "\n",
    "    def parameters(self) -> Sequence[Var]:\n",
    "      params = []\n",
    "      for r in self.weights:\n",
    "        params += r\n",
    "\n",
    "      return params + self.bias\n",
    "\n",
    "    def forward(self, single_input: Sequence[Var]) -> Sequence[Var]:\n",
    "        # self.weights is a matrix with dimension n_in x n_out. We check that the dimensionality of the input \n",
    "        # to the current layer matches the number of nodes in the current layer\n",
    "        assert len(self.weights) == len(single_input), \"weights and single_input must match in first dimension\"\n",
    "        weights = self.weights\n",
    "        out = []\n",
    "        # For some given data point single_input, we now want to calculate the resulting value in each node in the current layer\n",
    "        # We therefore loop over the (number of) nodes in the current layer:\n",
    "        for j in range(len(weights[0])): \n",
    "            # Initialize the node value depending on its corresponding parameters.\n",
    "            node = self.bias[j] # <- Insert code\n",
    "            # We now finish the linear transformation corresponding to the parameters of the currently considered node.\n",
    "            for i in range(len(single_input)):\n",
    "                node += single_input[i]*weights[i][j]  # <- Insert code\n",
    "            node = self.act_fn(node)\n",
    "            out.append(node)\n",
    "\n",
    "        return out\n",
    "    \n",
    "    def __str__(self):\n",
    "        return f\"DenseLayer(n_in = {len(self.weights)}, n_out = {len(self.weights[0])}):\\nWeights and biases:\\n{self.__repr__()}\"\n"
   ]
  },
  {
   "cell_type": "markdown",
   "metadata": {
    "id": "jpIZPBpNI0pO"
   },
   "source": [
    "## Exercise f) Add more activation functions\n",
    "\n",
    "To have a full definition of the neural network, we must define an activation function for every layer. Several activation functions have been proposed and have different characteristics. In the Var class we have already defined the rectified linear init (relu). \n",
    " \n",
    "Implement the following activation functions in the Var class:\n",
    "\n",
    "* Identity: $$\\mathrm{identity}(x) = x$$\n",
    "* Hyperbolic tangent: $$\\tanh(x)$$\n",
    "* Sigmoid (or logistic function): $$\\mathrm{sigmoid}(x) = \\frac{1}{1.0 + \\exp(-x ) }$$  Hint: $\\mathrm{sigmoid}'(x)= \\mathrm{sigmoid}(x)(1-\\mathrm{sigmoid}(x))$.  \n",
    "\n",
    "Hint: You can seek inspiration in the relu method in the Var class."
   ]
  },
  {
   "cell_type": "markdown",
   "metadata": {
    "id": "p_8n_SKnIW2F"
   },
   "source": [
    "## Exercise g) Complete the forward pass\n",
    "\n",
    "In the code below we initialize a 1-5-1 network and pass the training set through it. *The forward method in DenseLayer is **not** complete*. It just outputs zeros right now. The method forward should perform an [affine transformation](https://en.wikipedia.org/wiki/Affine_transformation) on the input followed by an application of the activation function."
   ]
  },
  {
   "cell_type": "code",
   "execution_count": 155,
   "metadata": {
    "colab": {
     "base_uri": "https://localhost:8080/",
     "height": 337
    },
    "id": "xDEjtePxE7Mv",
    "outputId": "753406cd-d8a1-4282-ce03-25ad959b0e11"
   },
   "outputs": [
    {
     "name": "stdout",
     "output_type": "stream",
     "text": [
      "[[Var(v=-0.0103, grad=0.0000)], [Var(v=-0.0208, grad=0.0000)], [Var(v=-0.0019, grad=0.0000)], [Var(v=-0.0133, grad=0.0000)], [Var(v=-0.0153, grad=0.0000)], [Var(v=-0.0142, grad=0.0000)], [Var(v=-0.0092, grad=0.0000)], [Var(v=-0.0032, grad=0.0000)], [Var(v=-0.0137, grad=0.0000)], [Var(v=-0.0057, grad=0.0000)], [Var(v=-0.0160, grad=0.0000)], [Var(v=-0.0084, grad=0.0000)], [Var(v=-0.0128, grad=0.0000)], [Var(v=-0.0096, grad=0.0000)], [Var(v=-0.0069, grad=0.0000)], [Var(v=-0.0133, grad=0.0000)], [Var(v=-0.0246, grad=0.0000)], [Var(v=-0.0117, grad=0.0000)], [Var(v=-0.0012, grad=0.0000)], [Var(v=-0.0040, grad=0.0000)], [Var(v=-0.0063, grad=0.0000)], [Var(v=-0.0028, grad=0.0000)], [Var(v=-0.0180, grad=0.0000)], [Var(v=-0.0181, grad=0.0000)], [Var(v=-0.0037, grad=0.0000)], [Var(v=-0.0099, grad=0.0000)], [Var(v=-0.0233, grad=0.0000)], [Var(v=-0.0256, grad=0.0000)], [Var(v=-0.0027, grad=0.0000)], [Var(v=-0.0161, grad=0.0000)], [Var(v=-0.0125, grad=0.0000)], [Var(v=-0.0039, grad=0.0000)], [Var(v=-0.0109, grad=0.0000)], [Var(v=-0.0118, grad=0.0000)], [Var(v=-0.0123, grad=0.0000)], [Var(v=-0.0022, grad=0.0000)], [Var(v=-0.0135, grad=0.0000)], [Var(v=-0.0051, grad=0.0000)], [Var(v=-0.0095, grad=0.0000)], [Var(v=-0.0068, grad=0.0000)], [Var(v=-0.0048, grad=0.0000)], [Var(v=-0.0065, grad=0.0000)], [Var(v=-0.0241, grad=0.0000)], [Var(v=-0.0081, grad=0.0000)], [Var(v=-0.0064, grad=0.0000)], [Var(v=-0.0078, grad=0.0000)], [Var(v=-0.0155, grad=0.0000)], [Var(v=-0.0147, grad=0.0000)], [Var(v=-0.0030, grad=0.0000)], [Var(v=-0.0150, grad=0.0000)], [Var(v=-0.0065, grad=0.0000)], [Var(v=-0.0006, grad=0.0000)], [Var(v=-0.0163, grad=0.0000)], [Var(v=-0.0066, grad=0.0000)], [Var(v=-0.0259, grad=0.0000)], [Var(v=-0.0228, grad=0.0000)], [Var(v=-0.0044, grad=0.0000)], [Var(v=-0.0049, grad=0.0000)], [Var(v=-0.0085, grad=0.0000)], [Var(v=-0.0117, grad=0.0000)], [Var(v=-0.0152, grad=0.0000)], [Var(v=-0.0082, grad=0.0000)], [Var(v=-0.0136, grad=0.0000)], [Var(v=-0.0074, grad=0.0000)], [Var(v=-0.0054, grad=0.0000)], [Var(v=-0.0112, grad=0.0000)], [Var(v=-0.0120, grad=0.0000)], [Var(v=-0.0191, grad=0.0000)], [Var(v=-0.0085, grad=0.0000)], [Var(v=-0.0075, grad=0.0000)], [Var(v=-0.0033, grad=0.0000)], [Var(v=-0.0015, grad=0.0000)], [Var(v=-0.0148, grad=0.0000)], [Var(v=-0.0087, grad=0.0000)], [Var(v=-0.0012, grad=0.0000)], [Var(v=-0.0234, grad=0.0000)], [Var(v=-0.0059, grad=0.0000)], [Var(v=-0.0057, grad=0.0000)], [Var(v=-0.0075, grad=0.0000)], [Var(v=-0.0244, grad=0.0000)], [Var(v=-0.0037, grad=0.0000)], [Var(v=-0.0022, grad=0.0000)], [Var(v=-0.0123, grad=0.0000)], [Var(v=-0.0017, grad=0.0000)], [Var(v=-0.0062, grad=0.0000)], [Var(v=-0.0027, grad=0.0000)], [Var(v=-0.0023, grad=0.0000)], [Var(v=-0.0069, grad=0.0000)], [Var(v=-0.0127, grad=0.0000)], [Var(v=-0.0132, grad=0.0000)], [Var(v=-0.0089, grad=0.0000)], [Var(v=-0.0040, grad=0.0000)], [Var(v=-0.0073, grad=0.0000)], [Var(v=-0.0138, grad=0.0000)], [Var(v=-0.0105, grad=0.0000)], [Var(v=-0.0126, grad=0.0000)], [Var(v=-0.0064, grad=0.0000)], [Var(v=-0.0011, grad=0.0000)], [Var(v=-0.0221, grad=0.0000)], [Var(v=-0.0074, grad=0.0000)], [Var(v=-0.0145, grad=0.0000)], [Var(v=-0.0072, grad=0.0000)], [Var(v=-0.0111, grad=0.0000)], [Var(v=-0.0070, grad=0.0000)], [Var(v=-0.0206, grad=0.0000)]]\n"
     ]
    }
   ],
   "source": [
    "NN = [\n",
    "    DenseLayer(1, 5, lambda x: x.relu()),\n",
    "    DenseLayer(5, 1, lambda x: x.identity())\n",
    "]\n",
    "\n",
    "def forward(input, network):\n",
    "\n",
    "  def forward_single(x, network):\n",
    "    for layer in network:\n",
    "        x = layer.forward(x)\n",
    "    return x\n",
    "\n",
    "  output = [ forward_single(input[n], network) for n in range(len(input))]\n",
    "  return output\n",
    "\n",
    "print(forward(x_train, NN))\n"
   ]
  },
  {
   "cell_type": "markdown",
   "metadata": {
    "id": "oLrGJytZFtGm"
   },
   "source": [
    "## Exercise h) Print all network parameters\n",
    "\n",
    "Make a function that prints all the parameters of the network (weights and biases) with information about in which layer the appear. In the object oriented spirit you should introduce a method in the DenseLayer class to print the parameters of a layer. Hint: You can take inspiration from the corresponding method in Var. "
   ]
  },
  {
   "cell_type": "code",
   "execution_count": 156,
   "metadata": {
    "id": "iac-VwYGFtGm"
   },
   "outputs": [
    {
     "name": "stdout",
     "output_type": "stream",
     "text": [
      "DenseLayer(n_in = 1, n_out = 5):\n",
      "Weights and biases:\n",
      "Weights: [[Var(v=-0.0744, grad=0.0000), Var(v=0.0654, grad=0.0000), Var(v=0.0846, grad=0.0000), Var(v=0.1029, grad=0.0000), Var(v=-0.0875, grad=0.0000)]] Biases: [Var(v=0.0000, grad=0.0000), Var(v=0.0000, grad=0.0000), Var(v=0.0000, grad=0.0000), Var(v=0.0000, grad=0.0000), Var(v=0.0000, grad=0.0000)]\n",
      "DenseLayer(n_in = 5, n_out = 1):\n",
      "Weights and biases:\n",
      "Weights: [[Var(v=-0.0325, grad=0.0000)], [Var(v=-0.1043, grad=0.0000)], [Var(v=-0.0909, grad=0.0000)], [Var(v=0.0016, grad=0.0000)], [Var(v=-0.0721, grad=0.0000)]] Biases: [Var(v=0.0000, grad=0.0000)]\n"
     ]
    }
   ],
   "source": [
    "# Insert code here and in the DenseLayer class\n",
    "def print_network(NN):\n",
    "    for layer in NN:\n",
    "        print(layer)\n",
    "\n",
    "print_network(NN)"
   ]
  },
  {
   "cell_type": "markdown",
   "metadata": {
    "id": "_79HOAXrFtHK"
   },
   "source": [
    "## Visualization\n",
    "\n",
    "Now that we have defined our activation functions we can visualize them to see what they look like:"
   ]
  },
  {
   "cell_type": "code",
   "execution_count": 157,
   "metadata": {
    "id": "1FcylHqLTl-Z"
   },
   "outputs": [
    {
     "data": {
      "text/plain": [
       "[<matplotlib.lines.Line2D at 0x24f53fc8400>]"
      ]
     },
     "execution_count": 157,
     "metadata": {},
     "output_type": "execute_result"
    },
    {
     "data": {
      "image/png": "[encoded data removed]",
      "text/plain": [
       "<Figure size 640x480 with 1 Axes>"
      ]
     },
     "metadata": {},
     "output_type": "display_data"
    }
   ],
   "source": [
    "x = np.linspace(-6, 6, 100)\n",
    "\n",
    "# convert from Var to ndarray  \n",
    "def Var_to_nparray(x):\n",
    "  y = np.zeros((len(x),len(x[0])))\n",
    "  for i in range(len(x)):\n",
    "    for j in range(len(x[0])):\n",
    "      y[i,j] = x[i][j].v\n",
    "  return y\n",
    "\n",
    "# define 1-1 network with weight = 1 and relu activation \n",
    "NN = [ DenseLayer(1, 1, lambda x: x.relu(), initializer = ConstantInitializer(1.0)) ] \n",
    "y = Var_to_nparray(forward(nparray_to_Var(x), NN))\n",
    "\n",
    "#y = Var_to_nparray(relu(nparray_to_Var(x)))\n",
    "plt.plot(x,y)"
   ]
  },
  {
   "cell_type": "code",
   "execution_count": 158,
   "metadata": {
    "id": "oOL2UolJFtHL"
   },
   "outputs": [
    {
     "data": {
      "image/png": "[encoded data removed]",
      "text/plain": [
       "<Figure size 500x500 with 1 Axes>"
      ]
     },
     "metadata": {},
     "output_type": "display_data"
    }
   ],
   "source": [
    "# Testing all activation layers\n",
    "\n",
    "x = np.linspace(-6, 6, 100)\n",
    "units = {\n",
    "    \"identity\": lambda x: x.identity(),\n",
    "    \"sigmoid\": lambda x: x.sigmoid(),\n",
    "    \"relu\": lambda x: x.relu(),\n",
    "    \"tanh\": lambda x: x.tanh()\n",
    "}\n",
    "\n",
    "plt.figure(figsize=(5, 5))\n",
    "[plt.plot(x, Var_to_nparray(forward(nparray_to_Var(x), [DenseLayer(1, 1, unit, initializer = ConstantInitializer(1.0))]) ), label=unit_name, lw=2) for unit_name, unit in units.items()] # unit(nparray_to_Var(x))), label=unit_name, lw=2) for unit_name, unit in units.items()]\n",
    "plt.legend(loc=2, fontsize=16)\n",
    "plt.title('Our activation functions', fontsize=20)\n",
    "plt.ylim([-2, 5])\n",
    "plt.xlim([-6, 6])\n",
    "plt.show()"
   ]
  },
  {
   "cell_type": "markdown",
   "metadata": {
    "id": "b-jdEl-7FtGs"
   },
   "source": [
    "# Advanced initialization schemes\n",
    "\n",
    "If we are not careful with initialization, the signals we propagate forward ($a^{(l)}$, $l=1,\\ldots,L$) and backward ($\\delta^l$, $l=L,L-1,\\ldots,1$) can blow up or shrink to zero. A statistical analysis of the variance of the signals for different activation functions can be found in these two papers: [Glorot initialization](http://proceedings.mlr.press/v9/glorot10a/glorot10a.pdf) and [He initialization](https://arxiv.org/pdf/1502.01852v1.pdf). \n",
    "\n",
    "The result of the analyses are proposals for how to make the initialization such that the variance of the signals (forward and backward) are kept approxmimatly constant when propagating from layer to layer. The exact expressions depend upon the non-linear activation function used. In Glorot initialization, the aim is to keep both the forward and backward variances constant whereas He only aims at keeping the variance in the forward pass constant.\n",
    "\n",
    "We define $n_{in}$ and $n_{out}$ as the number of input units and output units of a particular layer. \n",
    "\n",
    "The Glorot initialization has the form: \n",
    "\n",
    "$$w_{ij} \\sim N \\bigg( 0, \\, \\frac{2 \\alpha }{n_{in} + n_{out}} \\bigg) \\ . $$\n",
    "\n",
    "where $N(\\mu,\\sigma^2)$ is a Gaussian distribution with mean $\\mu$ and variance $\\sigma^2$ and $\\alpha$ is a parameter that depends upon the activation function used. For $\\tanh$, $\\alpha=1$ and for Rectified Linear Unit (ReLU) activations, $\\alpha=2$. (It is also possible to use a uniform distribution for initialization, see [this blog post](https://mmuratarat.github.io/2019-02-25/xavier-glorot-he-weight-init).) \n",
    "\n",
    "The He initialization is very similar\n",
    "\n",
    "$$w_{ij} \\sim N \\bigg( 0, \\, \\frac{\\alpha}{n_{in}} \\bigg) \\ . $$"
   ]
  },
  {
   "cell_type": "markdown",
   "metadata": {
    "id": "mqeyab9qFtGs"
   },
   "source": [
    "## Exercise i) Glorot and He initialization\n",
    " \n",
    "Using the Initializer class, implement functions that implement Glorot and He \n",
    "\n",
    "Explain briefly how you would test numerically that these initializations have the sought after property. Hint: See plots in Glorot paper.\n",
    "\n",
    "Comment: If you want to be more advanced then try to make a universal initializer taking both the activation function and type (Glorot or He) as argument."
   ]
  },
  {
   "cell_type": "code",
   "execution_count": 159,
   "metadata": {
    "id": "Qyk01CgaFtGt"
   },
   "outputs": [],
   "source": [
    "## Glorot\n",
    "def DenseLayer_Glorot_tanh(n_in: int, n_out: int):\n",
    "  std = (2/(n_in + n_out))**0.5 #0.0 # <- replace with proper initialization\n",
    "  return DenseLayer(n_in, n_out, lambda x: x.tanh(), initializer = NormalInitializer(std))\n",
    "\n",
    "## He\n",
    "def DenseLayer_He_relu(n_in: int, n_out: int):\n",
    "  std = (2/n_in)**0.5 #0.0 # <- replace with proper initialization\n",
    "  return DenseLayer(n_in, n_out, lambda x: x.relu(), initializer = NormalInitializer(std))"
   ]
  },
  {
   "cell_type": "markdown",
   "metadata": {
    "id": "-XyXBD37FtHk"
   },
   "source": [
    "## Exercise j) Forward pass unit test\n",
    "\n",
    "Write a bit of code to make a unit test that the forward pass works. This can be done by defining a simple network with for example all weights equal to one (using the ConstantInitializer method) and identity activation functions. \n",
    "\n",
    "Hints: Use the [assert](https://www.w3schools.com/python/ref_keyword_assert.asp), the nparray_to_Var and the Var_to_nparray commands. "
   ]
  },
  {
   "cell_type": "code",
   "execution_count": 160,
   "metadata": {},
   "outputs": [
    {
     "data": {
      "text/plain": [
       "array([-6.        , -5.87878788, -5.75757576, -5.63636364, -5.51515152,\n",
       "       -5.39393939, -5.27272727, -5.15151515, -5.03030303, -4.90909091,\n",
       "       -4.78787879, -4.66666667, -4.54545455, -4.42424242, -4.3030303 ,\n",
       "       -4.18181818, -4.06060606, -3.93939394, -3.81818182, -3.6969697 ,\n",
       "       -3.57575758, -3.45454545, -3.33333333, -3.21212121, -3.09090909,\n",
       "       -2.96969697, -2.84848485, -2.72727273, -2.60606061, -2.48484848,\n",
       "       -2.36363636, -2.24242424, -2.12121212, -2.        , -1.87878788,\n",
       "       -1.75757576, -1.63636364, -1.51515152, -1.39393939, -1.27272727,\n",
       "       -1.15151515, -1.03030303, -0.90909091, -0.78787879, -0.66666667,\n",
       "       -0.54545455, -0.42424242, -0.3030303 , -0.18181818, -0.06060606,\n",
       "        0.06060606,  0.18181818,  0.3030303 ,  0.42424242,  0.54545455,\n",
       "        0.66666667,  0.78787879,  0.90909091,  1.03030303,  1.15151515,\n",
       "        1.27272727,  1.39393939,  1.51515152,  1.63636364,  1.75757576,\n",
       "        1.87878788,  2.        ,  2.12121212,  2.24242424,  2.36363636,\n",
       "        2.48484848,  2.60606061,  2.72727273,  2.84848485,  2.96969697,\n",
       "        3.09090909,  3.21212121,  3.33333333,  3.45454545,  3.57575758,\n",
       "        3.6969697 ,  3.81818182,  3.93939394,  4.06060606,  4.18181818,\n",
       "        4.3030303 ,  4.42424242,  4.54545455,  4.66666667,  4.78787879,\n",
       "        4.90909091,  5.03030303,  5.15151515,  5.27272727,  5.39393939,\n",
       "        5.51515152,  5.63636364,  5.75757576,  5.87878788,  6.        ])"
      ]
     },
     "execution_count": 160,
     "metadata": {},
     "output_type": "execute_result"
    }
   ],
   "source": [
    "x"
   ]
  },
  {
   "cell_type": "code",
   "execution_count": 161,
   "metadata": {
    "id": "k0miqRUAFtHl"
   },
   "outputs": [],
   "source": [
    "# Insert code here\n",
    "simple_newtork = [\n",
    "    DenseLayer(3, 5, lambda x: x.identity(), ConstantInitializer(1., 10.)),\n",
    "    DenseLayer(5, 2, lambda x: x.identity(), ConstantInitializer(1., 10.))\n",
    "]\n",
    "\n",
    "x = np.array([[j]*3 for j in range(4)])\n",
    "x = nparray_to_Var(x)\n",
    "\n",
    "test = lambda k: (3*k + 10)*5 + 10\n",
    "\n",
    "output = Var_to_nparray(forward(x, simple_newtork))\n",
    "\n",
    "assert np.all([output[i] == test(i) for i in range(4)])\n",
    "\n",
    "\n"
   ]
  },
  {
   "cell_type": "markdown",
   "metadata": {
    "id": "faCxhfFnFtHp"
   },
   "source": [
    "# Loss functions\n",
    "\n",
    "We are only missing a loss function to we need to define a loss function and its derivative with respect to the output of the neural network $y$"
   ]
  },
  {
   "cell_type": "code",
   "execution_count": 162,
   "metadata": {
    "id": "I2eDYKvAFtHq"
   },
   "outputs": [],
   "source": [
    "def squared_loss(t, y):\n",
    "  \n",
    "  # add check that sizes agree\n",
    "  \n",
    "  def squared_loss_single(t, y):\n",
    "    Loss = Var(0.0)\n",
    "    for i in range(len(t)): # sum over outputs\n",
    "      Loss += (t[i]-y[i]) ** 2\n",
    "    return Loss\n",
    "\n",
    "  Loss = Var(0.0)\n",
    "  for n in range(len(t)): # sum over training data\n",
    "    Loss += squared_loss_single(t[n],y[n])\n",
    "  return Loss/len(t)"
   ]
  },
  {
   "cell_type": "markdown",
   "metadata": {
    "id": "SrwSJ2UWFtHu"
   },
   "source": [
    "## Exercise k) Implement cross entropy loss\n",
    "\n",
    "Insert code below to implement cross-entropy loss for general dimensionality of $t$. Use a logits formulation:\n",
    "$$\n",
    "\\rm{Loss} = - \\sum_i t_i \\, log \\, p_i \n",
    "$$\n",
    "with $p$ given by the the softmax function in terms of the logits $h$:\n",
    "$$\n",
    "p_i = \\frac{\\exp(h_i)}{\\sum_{i'} \\exp(h_{i'})} .\n",
    "$$\n",
    "Inserting $p$ in the expression for the loss gives\n",
    "$$\n",
    "\\rm{Loss} = - \\sum_i t_i h_i + \\rm{LogSumExp}(h) \\ ,\n",
    "$$\n",
    "where \n",
    "$$\n",
    "\\rm{LogSumExp}(h) = \\log \\sum_i \\exp h_i \\ .\n",
    "$$\n",
    "This is true for $t$ being a one-hot vector. \n",
    "\n",
    "Call the function to convince yourself it works. \n",
    "\n",
    "In practice you want to implement a [numerically stable](https://leimao.github.io/blog/LogSumExp/) version of LogSumExp. But we will not bother about that here.\n",
    "\n",
    "Help: You can add these methods in the Var class:\n",
    "\n",
    "    def exp(self):\n",
    "        return Var(exp(self.v), lambda: [(self, exp(self.v))])\n",
    "    \n",
    "    def log(self):\n",
    "        return Var(log(self.v), lambda: [(self, self.v ** -1)])"
   ]
  },
  {
   "cell_type": "code",
   "execution_count": null,
   "metadata": {
    "id": "6nMuxyfzFtHv"
   },
   "outputs": [],
   "source": [
    "def cross_entropy_loss(t, h):\n",
    "     \n",
    "    Loss = Var(0.0)\n",
    "\n",
    "    def cross_entropy_loss_single(t, h):\n",
    "        logsumexp = Var(0.0)\n",
    "        for i in range(len(h)):\n",
    "            logsumexp += h[i].exp()\n",
    "        logsumexp = logsumexp.log()\n",
    "\n",
    "        Loss = Var(0.0)\n",
    "        for i in range(len(t)): # sum over outputs\n",
    "            Loss -= t[i]*h[i]\n",
    "        return Loss + logsumexp\n",
    "\n",
    "    Loss = Var(0.0)\n",
    "    \n",
    "    for n in range(len(t)): # sum over training data\n",
    "        Loss += cross_entropy_loss_single(t[n],h[n])\n",
    "\n",
    "    return Loss/len(t)"
   ]
  },
  {
   "cell_type": "markdown",
   "metadata": {
    "id": "8fAF5ew4FtHy"
   },
   "source": [
    "# Backward pass\n",
    "\n",
    "Now the magic happens! We get the calculation of the gradients for free. Just do:"
   ]
  },
  {
   "cell_type": "code",
   "execution_count": 163,
   "metadata": {
    "id": "iHyfPPI9Qqwu"
   },
   "outputs": [],
   "source": [
    "NN = [\n",
    "    DenseLayer(1, 5, lambda x: x.relu()),\n",
    "    DenseLayer(5, 1, lambda x: x.identity())\n",
    "]\n",
    "\n",
    "output = forward(x_train, NN)\n",
    "\n",
    "Loss = squared_loss(y_train,output)\n",
    "Loss.backward()"
   ]
  },
  {
   "cell_type": "markdown",
   "metadata": {
    "id": "49biIAYKQ1oG"
   },
   "source": [
    "and the gradients will be calculated:"
   ]
  },
  {
   "cell_type": "code",
   "execution_count": 164,
   "metadata": {
    "id": "_rGt1bq_Q7uk"
   },
   "outputs": [
    {
     "name": "stdout",
     "output_type": "stream",
     "text": [
      "Layer 0 \n",
      " DenseLayer(n_in = 1, n_out = 5):\n",
      "Weights and biases:\n",
      "Weights: [[Var(v=-0.0290, grad=-15.3203), Var(v=-0.0125, grad=-7.8650), Var(v=-0.0290, grad=-4.3217), Var(v=-0.0399, grad=-4.7241), Var(v=-0.1882, grad=4.7071)]] Biases: [Var(v=0.0000, grad=13.9253), Var(v=0.0000, grad=7.1489), Var(v=0.0000, grad=3.9281), Var(v=0.0000, grad=4.2940), Var(v=0.0000, grad=-4.2785)]\n",
      "Layer 1 \n",
      " DenseLayer(n_in = 5, n_out = 1):\n",
      "Weights and biases:\n",
      "Weights: [[Var(v=0.1596, grad=2.7800)], [Var(v=0.0819, grad=1.2035)], [Var(v=0.0450, grad=2.7869)], [Var(v=0.0492, grad=3.8284)], [Var(v=-0.0490, grad=18.0662)]] Biases: [Var(v=0.0000, grad=-0.0287)]\n"
     ]
    },
    {
     "data": {
      "text/plain": [
       "[None, None]"
      ]
     },
     "execution_count": 164,
     "metadata": {},
     "output_type": "execute_result"
    }
   ],
   "source": [
    "[print('Layer', i, '\\n', NN[i]) for i in range(len(NN))] "
   ]
  },
  {
   "cell_type": "markdown",
   "metadata": {
    "id": "D7d7qK0uFtH9"
   },
   "source": [
    "# Backward pass unit test\n",
    "\n",
    "Above we used finite differences to test that Nanograd is actually doing what it is supposed to do. We can in principle try the same for the neural network. But we will trust that the test above is enough."
   ]
  },
  {
   "cell_type": "markdown",
   "metadata": {
    "id": "WgBi8GOSFtIN"
   },
   "source": [
    "# Training and validation\n",
    "\n",
    "We are ready to train some neural networks!\n",
    "\n",
    "We initialize again:"
   ]
  },
  {
   "cell_type": "code",
   "execution_count": 165,
   "metadata": {
    "id": "01ePmzBzRtdh"
   },
   "outputs": [],
   "source": [
    "NN = [\n",
    "    DenseLayer(1, 15, lambda x: x.relu()),\n",
    "    DenseLayer(15, 50, lambda x: x.relu()),\n",
    "    DenseLayer(50, 1, lambda x: x.identity())\n",
    "]\n",
    "\n",
    "output = forward(x_train, NN)\n",
    "\n",
    "Loss = squared_loss(y_train,output)\n",
    "Loss.backward()"
   ]
  },
  {
   "cell_type": "markdown",
   "metadata": {
    "id": "10iRPiQ1ISHw"
   },
   "source": [
    "and make an update:\n",
    "\n",
    "We introduce a help function parameters to have a handle in all parameters in the network."
   ]
  },
  {
   "cell_type": "code",
   "execution_count": 166,
   "metadata": {
    "id": "dhAI7eyeznia"
   },
   "outputs": [
    {
     "name": "stdout",
     "output_type": "stream",
     "text": [
      "Network before update:\n",
      "Layer 0 \n",
      " DenseLayer(n_in = 1, n_out = 15):\n",
      "Weights and biases:\n",
      "Weights: [[Var(v=-0.1642, grad=2.3489), Var(v=0.0538, grad=7.5223), Var(v=-0.0531, grad=-2.6858), Var(v=-0.1709, grad=-0.2559), Var(v=0.0555, grad=-2.2344), Var(v=-0.0543, grad=-4.7004), Var(v=-0.0005, grad=4.2553), Var(v=-0.0205, grad=-1.0950), Var(v=0.0261, grad=3.4337), Var(v=0.0716, grad=13.9331), Var(v=0.2221, grad=1.8334), Var(v=0.0545, grad=-4.5676), Var(v=-0.0120, grad=9.7369), Var(v=0.0660, grad=-2.5044), Var(v=0.0581, grad=1.8846)]] Biases: [Var(v=0.0000, grad=-2.1350), Var(v=0.0000, grad=6.4598), Var(v=0.0000, grad=2.4412), Var(v=0.0000, grad=0.2326), Var(v=0.0000, grad=-1.9188), Var(v=0.0000, grad=4.2724), Var(v=0.0000, grad=-3.8679), Var(v=0.0000, grad=0.9953), Var(v=0.0000, grad=2.9487), Var(v=0.0000, grad=11.9651), Var(v=0.0000, grad=1.5744), Var(v=0.0000, grad=-3.9224), Var(v=0.0000, grad=-8.8502), Var(v=0.0000, grad=-2.1507), Var(v=0.0000, grad=1.6184)]\n",
      "Layer 1 \n",
      " DenseLayer(n_in = 15, n_out = 50):\n",
      "Weights and biases:\n",
      "Weights: [[Var(v=0.0426, grad=2.4617), Var(v=-0.0928, grad=0.0000), Var(v=-0.0792, grad=0.0000), Var(v=-0.0245, grad=-0.4418), Var(v=-0.1190, grad=0.0000), Var(v=0.0892, grad=2.0918), Var(v=0.0740, grad=-0.4416), Var(v=0.0943, grad=0.0000), Var(v=0.0860, grad=0.1358), Var(v=0.1395, grad=0.5295), Var(v=0.0405, grad=2.8227), Var(v=0.0449, grad=0.6090), Var(v=0.0000, grad=0.0000), Var(v=-0.1278, grad=0.0000), Var(v=-0.0502, grad=0.3203), Var(v=0.3190, grad=-3.0334), Var(v=-0.0827, grad=-0.1077), Var(v=0.0197, grad=-0.9673), Var(v=0.1158, grad=1.5483), Var(v=0.0648, grad=0.0000), Var(v=-0.0811, grad=-0.5183), Var(v=-0.0172, grad=0.0000), Var(v=0.0671, grad=0.0841), Var(v=-0.0576, grad=0.0000), Var(v=-0.0740, grad=0.0000), Var(v=-0.0377, grad=0.0000), Var(v=0.1203, grad=1.3274), Var(v=-0.2006, grad=0.0000), Var(v=0.1863, grad=0.5958), Var(v=0.0400, grad=0.8834), Var(v=-0.0910, grad=0.0000), Var(v=0.0320, grad=0.5717), Var(v=0.0958, grad=-3.1038), Var(v=0.0158, grad=0.0000), Var(v=0.0599, grad=3.1746), Var(v=-0.2052, grad=0.0000), Var(v=-0.1419, grad=0.0000), Var(v=0.0663, grad=-0.8812), Var(v=0.1288, grad=-1.0568), Var(v=-0.1168, grad=0.0000), Var(v=0.0110, grad=-1.3904), Var(v=0.0382, grad=-1.3803), Var(v=0.0703, grad=0.0000), Var(v=-0.1087, grad=0.0000), Var(v=0.2142, grad=1.8110), Var(v=0.2379, grad=-2.5468), Var(v=-0.0779, grad=-0.0091), Var(v=0.0266, grad=0.0000), Var(v=-0.0689, grad=-0.9709), Var(v=0.1673, grad=0.4774)], [Var(v=0.1071, grad=-0.8672), Var(v=-0.0195, grad=0.0000), Var(v=-0.1817, grad=0.0000), Var(v=0.1621, grad=0.1556), Var(v=-0.1543, grad=0.0000), Var(v=-0.1031, grad=-0.7369), Var(v=-0.1665, grad=0.1555), Var(v=0.0120, grad=0.0000), Var(v=-0.0275, grad=0.0000), Var(v=0.0435, grad=-0.1865), Var(v=-0.2595, grad=-0.9943), Var(v=0.0845, grad=0.0000), Var(v=-0.0971, grad=0.0000), Var(v=0.0403, grad=0.0000), Var(v=-0.0236, grad=-0.1128), Var(v=0.0620, grad=0.0000), Var(v=0.0067, grad=0.0379), Var(v=-0.1097, grad=0.3408), Var(v=-0.0486, grad=0.0000), Var(v=-0.0565, grad=-0.2150), Var(v=-0.0971, grad=0.0000), Var(v=-0.0256, grad=1.0148), Var(v=-0.0159, grad=0.0000), Var(v=0.1205, grad=-0.1664), Var(v=0.0907, grad=0.4310), Var(v=0.0102, grad=-0.1510), Var(v=-0.0138, grad=0.0000), Var(v=-0.1272, grad=0.0000), Var(v=-0.1302, grad=0.0000), Var(v=-0.0494, grad=0.0000), Var(v=-0.1615, grad=0.0000), Var(v=-0.0232, grad=0.0000), Var(v=-0.1442, grad=0.0000), Var(v=-0.1276, grad=-0.3944), Var(v=0.0728, grad=0.0000), Var(v=-0.0546, grad=0.7457), Var(v=0.2287, grad=0.0000), Var(v=0.1014, grad=0.3104), Var(v=0.1216, grad=0.0000), Var(v=-0.0409, grad=-0.3431), Var(v=-0.0718, grad=0.0000), Var(v=0.0252, grad=0.4862), Var(v=0.0246, grad=1.4676), Var(v=0.0603, grad=-0.4697), Var(v=0.1315, grad=0.0000), Var(v=0.1005, grad=0.8972), Var(v=0.0893, grad=0.0032), Var(v=0.0401, grad=0.0000), Var(v=0.1101, grad=0.3420), Var(v=-0.0759, grad=0.0000)], [Var(v=-0.0423, grad=0.7955), Var(v=-0.1946, grad=0.0000), Var(v=0.0542, grad=0.0000), Var(v=0.1269, grad=-0.1428), Var(v=-0.2100, grad=0.0000), Var(v=0.0293, grad=0.6760), Var(v=-0.1778, grad=-0.1427), Var(v=-0.0710, grad=0.0000), Var(v=-0.1795, grad=0.0439), Var(v=0.0004, grad=0.1711), Var(v=0.1329, grad=0.9121), Var(v=0.1149, grad=0.1968), Var(v=-0.0516, grad=0.0000), Var(v=-0.0482, grad=0.0000), Var(v=0.0837, grad=0.1035), Var(v=-0.0970, grad=-0.9802), Var(v=-0.0716, grad=-0.0348), Var(v=-0.0926, grad=-0.3126), Var(v=-0.0483, grad=0.5003), Var(v=-0.0179, grad=0.0000), Var(v=0.0899, grad=-0.1675), Var(v=-0.0678, grad=0.0000), Var(v=-0.0308, grad=0.0272), Var(v=0.0226, grad=0.0000), Var(v=0.0640, grad=0.0000), Var(v=-0.2067, grad=0.0000), Var(v=-0.0923, grad=0.4289), Var(v=-0.1234, grad=0.0000), Var(v=0.0986, grad=0.1925), Var(v=0.0159, grad=0.2855), Var(v=0.2278, grad=0.0000), Var(v=0.0517, grad=0.1847), Var(v=0.0525, grad=-1.0030), Var(v=-0.1356, grad=0.0000), Var(v=0.0611, grad=1.0259), Var(v=0.0184, grad=0.0000), Var(v=-0.0332, grad=0.0000), Var(v=-0.1402, grad=-0.2848), Var(v=0.1820, grad=-0.3415), Var(v=-0.1168, grad=0.0000), Var(v=0.0770, grad=-0.4493), Var(v=-0.0348, grad=-0.4460), Var(v=-0.1868, grad=0.0000), Var(v=-0.0923, grad=0.0000), Var(v=0.1285, grad=0.5852), Var(v=0.1294, grad=-0.8230), Var(v=0.0695, grad=-0.0029), Var(v=0.1046, grad=0.0000), Var(v=0.0480, grad=-0.3137), Var(v=0.0156, grad=0.1543)], [Var(v=0.0173, grad=2.5628), Var(v=-0.0101, grad=0.0000), Var(v=-0.0616, grad=0.0000), Var(v=0.0360, grad=-0.4600), Var(v=-0.0598, grad=0.0000), Var(v=-0.1136, grad=2.1777), Var(v=0.0631, grad=-0.4597), Var(v=-0.0628, grad=0.0000), Var(v=0.1204, grad=0.1413), Var(v=-0.0817, grad=0.5513), Var(v=0.1693, grad=2.9385), Var(v=0.0011, grad=0.6340), Var(v=-0.0588, grad=0.0000), Var(v=-0.0156, grad=0.0000), Var(v=0.1387, grad=0.3335), Var(v=-0.0215, grad=-3.1579), Var(v=0.1607, grad=-0.1121), Var(v=0.0544, grad=-1.0070), Var(v=-0.0425, grad=1.6119), Var(v=-0.0024, grad=0.0000), Var(v=0.0561, grad=-0.5396), Var(v=-0.0394, grad=0.0000), Var(v=0.0410, grad=0.0875), Var(v=-0.0794, grad=0.0000), Var(v=0.0786, grad=0.0000), Var(v=0.0547, grad=0.0000), Var(v=-0.0264, grad=1.3819), Var(v=0.1222, grad=0.0000), Var(v=0.0467, grad=0.6203), Var(v=0.1035, grad=0.9196), Var(v=-0.0452, grad=0.0000), Var(v=0.0338, grad=0.5951), Var(v=0.0602, grad=-3.2312), Var(v=-0.0291, grad=0.0000), Var(v=0.0201, grad=3.3049), Var(v=-0.2253, grad=0.0000), Var(v=-0.1652, grad=0.0000), Var(v=0.0187, grad=-0.9174), Var(v=-0.0163, grad=-1.1001), Var(v=0.0171, grad=0.0000), Var(v=0.0234, grad=-1.4475), Var(v=-0.0440, grad=-1.4369), Var(v=-0.0754, grad=0.0000), Var(v=0.0841, grad=0.0000), Var(v=-0.1248, grad=1.8854), Var(v=-0.0357, grad=-2.6514), Var(v=0.0527, grad=-0.0095), Var(v=-0.0229, grad=0.0000), Var(v=0.0324, grad=-1.0107), Var(v=0.0807, grad=0.4970)], [Var(v=0.0957, grad=-0.8939), Var(v=0.1174, grad=0.0000), Var(v=-0.0607, grad=0.0000), Var(v=0.0928, grad=0.1604), Var(v=0.0468, grad=0.0000), Var(v=-0.0411, grad=-0.7595), Var(v=-0.0952, grad=0.1603), Var(v=-0.0418, grad=0.0000), Var(v=0.0403, grad=0.0000), Var(v=0.0924, grad=-0.1923), Var(v=0.0967, grad=-1.0249), Var(v=0.0368, grad=0.0000), Var(v=-0.0523, grad=0.0000), Var(v=-0.0750, grad=0.0000), Var(v=0.1076, grad=-0.1163), Var(v=-0.2288, grad=0.0000), Var(v=-0.0277, grad=0.0391), Var(v=-0.0568, grad=0.3512), Var(v=0.0289, grad=0.0000), Var(v=0.1140, grad=-0.2216), Var(v=0.0094, grad=0.0000), Var(v=-0.1035, grad=1.0461), Var(v=-0.0296, grad=0.0000), Var(v=-0.0917, grad=-0.1715), Var(v=0.1253, grad=0.4442), Var(v=-0.0674, grad=-0.1557), Var(v=0.0462, grad=0.0000), Var(v=0.0558, grad=0.0000), Var(v=0.0434, grad=0.0000), Var(v=-0.0422, grad=0.0000), Var(v=-0.0885, grad=0.0000), Var(v=-0.0326, grad=0.0000), Var(v=0.0879, grad=0.0000), Var(v=-0.0300, grad=-0.4066), Var(v=-0.0310, grad=0.0000), Var(v=0.0604, grad=0.7686), Var(v=-0.1720, grad=0.0000), Var(v=-0.0657, grad=0.3200), Var(v=0.0046, grad=0.0000), Var(v=-0.0535, grad=-0.3537), Var(v=0.0209, grad=0.0000), Var(v=-0.0519, grad=0.5012), Var(v=0.0920, grad=1.5128), Var(v=0.0635, grad=-0.4841), Var(v=-0.1090, grad=0.0000), Var(v=-0.0149, grad=0.9248), Var(v=-0.1845, grad=0.0033), Var(v=-0.1097, grad=0.0000), Var(v=0.0236, grad=0.3525), Var(v=-0.1045, grad=0.0000)], [Var(v=-0.0709, grad=0.8144), Var(v=-0.1247, grad=0.0000), Var(v=-0.0012, grad=0.0000), Var(v=0.1080, grad=-0.1462), Var(v=-0.0187, grad=0.0000), Var(v=0.1044, grad=0.6921), Var(v=-0.0270, grad=-0.1461), Var(v=-0.0700, grad=0.0000), Var(v=0.0403, grad=0.0449), Var(v=0.2092, grad=0.1752), Var(v=-0.0940, grad=0.9339), Var(v=-0.0125, grad=0.2015), Var(v=-0.0234, grad=0.0000), Var(v=-0.0868, grad=0.0000), Var(v=0.1332, grad=0.1060), Var(v=-0.0906, grad=-1.0036), Var(v=-0.1872, grad=-0.0356), Var(v=-0.0295, grad=-0.3200), Var(v=0.0224, grad=0.5122), Var(v=-0.2192, grad=0.0000), Var(v=0.1261, grad=-0.1715), Var(v=0.0133, grad=0.0000), Var(v=-0.1929, grad=0.0278), Var(v=0.0554, grad=0.0000), Var(v=-0.1926, grad=0.0000), Var(v=-0.0093, grad=0.0000), Var(v=0.0513, grad=0.4392), Var(v=-0.0610, grad=0.0000), Var(v=-0.0596, grad=0.1971), Var(v=0.2568, grad=0.2923), Var(v=0.0246, grad=0.0000), Var(v=-0.1338, grad=0.1891), Var(v=0.0122, grad=-1.0269), Var(v=-0.0072, grad=0.0000), Var(v=0.2511, grad=1.0503), Var(v=0.1030, grad=0.0000), Var(v=0.1179, grad=0.0000), Var(v=-0.0323, grad=-0.2915), Var(v=-0.0548, grad=-0.3496), Var(v=-0.0411, grad=0.0000), Var(v=0.0481, grad=-0.4600), Var(v=0.1972, grad=-0.4567), Var(v=0.0442, grad=0.0000), Var(v=-0.0376, grad=0.0000), Var(v=-0.0407, grad=0.5992), Var(v=-0.0067, grad=-0.8426), Var(v=0.1115, grad=-0.0030), Var(v=-0.1506, grad=0.0000), Var(v=0.0531, grad=-0.3212), Var(v=0.0438, grad=0.1580)], [Var(v=0.0594, grad=0.0071), Var(v=0.0029, grad=0.0000), Var(v=0.1086, grad=0.0000), Var(v=0.0253, grad=-0.0013), Var(v=0.0476, grad=0.0000), Var(v=0.0441, grad=0.0060), Var(v=0.0715, grad=-0.0013), Var(v=0.1826, grad=0.0000), Var(v=0.1623, grad=0.0004), Var(v=-0.0076, grad=0.0015), Var(v=-0.1184, grad=0.0081), Var(v=-0.1158, grad=0.0017), Var(v=-0.0951, grad=0.0000), Var(v=0.0223, grad=0.0000), Var(v=0.0492, grad=0.0009), Var(v=0.1642, grad=-0.0087), Var(v=-0.1325, grad=-0.0003), Var(v=-0.0324, grad=-0.0028), Var(v=-0.1291, grad=0.0044), Var(v=0.0130, grad=0.0000), Var(v=-0.1544, grad=-0.0015), Var(v=-0.0542, grad=0.0000), Var(v=-0.0361, grad=0.0002), Var(v=0.0006, grad=0.0000), Var(v=-0.1031, grad=0.0000), Var(v=0.0862, grad=0.0000), Var(v=0.0403, grad=0.0038), Var(v=-0.1752, grad=0.0000), Var(v=-0.1118, grad=0.0017), Var(v=-0.0419, grad=0.0025), Var(v=-0.0269, grad=0.0000), Var(v=0.0568, grad=0.0016), Var(v=-0.0954, grad=-0.0089), Var(v=0.1012, grad=0.0000), Var(v=-0.0016, grad=0.0091), Var(v=-0.0127, grad=0.0000), Var(v=-0.0572, grad=0.0000), Var(v=0.0075, grad=-0.0025), Var(v=-0.1396, grad=-0.0030), Var(v=-0.0553, grad=0.0000), Var(v=0.0918, grad=-0.0040), Var(v=-0.0433, grad=-0.0040), Var(v=0.1859, grad=0.0000), Var(v=0.1051, grad=0.0000), Var(v=0.0850, grad=0.0052), Var(v=0.1892, grad=-0.0073), Var(v=0.0734, grad=-0.0000), Var(v=-0.0663, grad=0.0000), Var(v=0.0317, grad=-0.0028), Var(v=0.1369, grad=0.0014)], [Var(v=-0.0005, grad=0.3079), Var(v=-0.0086, grad=0.0000), Var(v=-0.0736, grad=0.0000), Var(v=-0.1198, grad=-0.0553), Var(v=-0.0513, grad=0.0000), Var(v=0.0712, grad=0.2616), Var(v=0.0210, grad=-0.0552), Var(v=-0.0160, grad=0.0000), Var(v=-0.0624, grad=0.0170), Var(v=0.0154, grad=0.0662), Var(v=-0.1273, grad=0.3530), Var(v=-0.0205, grad=0.0762), Var(v=0.1709, grad=0.0000), Var(v=0.0618, grad=0.0000), Var(v=0.0573, grad=0.0401), Var(v=-0.0459, grad=-0.3794), Var(v=0.0804, grad=-0.0135), Var(v=-0.0351, grad=-0.1210), Var(v=0.0250, grad=0.1937), Var(v=-0.0765, grad=0.0000), Var(v=-0.1275, grad=-0.0648), Var(v=0.0063, grad=0.0000), Var(v=-0.0150, grad=0.0105), Var(v=0.0635, grad=0.0000), Var(v=-0.0425, grad=0.0000), Var(v=-0.0014, grad=0.0000), Var(v=-0.0377, grad=0.1660), Var(v=-0.0113, grad=0.0000), Var(v=-0.0284, grad=0.0745), Var(v=0.0487, grad=0.1105), Var(v=-0.0561, grad=0.0000), Var(v=0.0346, grad=0.0715), Var(v=-0.0885, grad=-0.3882), Var(v=-0.1296, grad=0.0000), Var(v=-0.0064, grad=0.3971), Var(v=0.0941, grad=0.0000), Var(v=0.0911, grad=0.0000), Var(v=0.1455, grad=-0.1102), Var(v=-0.0349, grad=-0.1322), Var(v=-0.0895, grad=0.0000), Var(v=0.0648, grad=-0.1739), Var(v=0.0483, grad=-0.1726), Var(v=-0.0005, grad=0.0000), Var(v=-0.1896, grad=0.0000), Var(v=-0.0295, grad=0.2265), Var(v=-0.0534, grad=-0.3185), Var(v=0.0352, grad=-0.0011), Var(v=-0.0039, grad=0.0000), Var(v=0.0650, grad=-0.1214), Var(v=0.1111, grad=0.0597)], [Var(v=0.0810, grad=-0.4205), Var(v=0.1288, grad=0.0000), Var(v=-0.2135, grad=0.0000), Var(v=-0.0217, grad=0.0755), Var(v=0.0335, grad=0.0000), Var(v=-0.1899, grad=-0.3573), Var(v=-0.0246, grad=0.0754), Var(v=-0.0314, grad=0.0000), Var(v=-0.1634, grad=0.0000), Var(v=0.0442, grad=-0.0904), Var(v=-0.0111, grad=-0.4821), Var(v=0.0038, grad=0.0000), Var(v=-0.1437, grad=0.0000), Var(v=0.1212, grad=0.0000), Var(v=0.0537, grad=-0.0547), Var(v=-0.1345, grad=0.0000), Var(v=0.2603, grad=0.0184), Var(v=0.0279, grad=0.1652), Var(v=0.0505, grad=0.0000), Var(v=0.0864, grad=-0.1043), Var(v=0.0973, grad=0.0000), Var(v=0.0678, grad=0.4921), Var(v=0.0158, grad=0.0000), Var(v=0.0539, grad=-0.0807), Var(v=-0.0596, grad=0.2090), Var(v=0.1119, grad=-0.0732), Var(v=-0.1388, grad=0.0000), Var(v=0.0342, grad=0.0000), Var(v=-0.0938, grad=0.0000), Var(v=-0.2149, grad=0.0000), Var(v=-0.1088, grad=0.0000), Var(v=0.0530, grad=0.0000), Var(v=-0.1442, grad=0.0000), Var(v=0.0351, grad=-0.1912), Var(v=-0.0611, grad=0.0000), Var(v=0.0049, grad=0.3616), Var(v=-0.0692, grad=0.0000), Var(v=-0.0343, grad=0.1505), Var(v=-0.0196, grad=0.0000), Var(v=-0.1085, grad=-0.1664), Var(v=0.0321, grad=0.0000), Var(v=-0.0532, grad=0.2358), Var(v=0.0398, grad=0.7116), Var(v=-0.1527, grad=-0.2277), Var(v=0.0772, grad=0.0000), Var(v=0.0070, grad=0.4350), Var(v=-0.1446, grad=0.0016), Var(v=0.1793, grad=0.0000), Var(v=-0.0549, grad=0.1658), Var(v=0.0521, grad=0.0000)], [Var(v=-0.1776, grad=-1.1547), Var(v=0.1327, grad=0.0000), Var(v=0.0936, grad=0.0000), Var(v=0.0154, grad=0.2072), Var(v=0.0360, grad=0.0000), Var(v=-0.0960, grad=-0.9812), Var(v=-0.1019, grad=0.2071), Var(v=0.0477, grad=0.0000), Var(v=0.1000, grad=0.0000), Var(v=-0.0285, grad=-0.2484), Var(v=-0.1470, grad=-1.3240), Var(v=-0.0265, grad=0.0000), Var(v=-0.0215, grad=0.0000), Var(v=-0.0669, grad=0.0000), Var(v=-0.0707, grad=-0.1502), Var(v=-0.0761, grad=0.0000), Var(v=0.1167, grad=0.0505), Var(v=0.0754, grad=0.4537), Var(v=-0.0334, grad=0.0000), Var(v=-0.0163, grad=-0.2863), Var(v=0.1096, grad=0.0000), Var(v=0.0210, grad=1.3513), Var(v=0.0548, grad=0.0000), Var(v=-0.0586, grad=-0.2216), Var(v=-0.0168, grad=0.5739), Var(v=-0.0181, grad=-0.2011), Var(v=-0.0459, grad=0.0000), Var(v=-0.0559, grad=0.0000), Var(v=0.1055, grad=0.0000), Var(v=-0.0563, grad=0.0000), Var(v=0.0055, grad=0.0000), Var(v=-0.0567, grad=0.0000), Var(v=-0.0864, grad=0.0000), Var(v=-0.0535, grad=-0.5252), Var(v=-0.1423, grad=0.0000), Var(v=0.0135, grad=0.9929), Var(v=0.1559, grad=0.0000), Var(v=-0.0353, grad=0.4133), Var(v=-0.1498, grad=0.0000), Var(v=0.0684, grad=-0.4568), Var(v=0.0476, grad=0.0000), Var(v=0.0107, grad=0.6474), Var(v=0.1312, grad=1.9542), Var(v=0.0105, grad=-0.6254), Var(v=-0.0236, grad=0.0000), Var(v=0.0206, grad=1.1946), Var(v=0.1488, grad=0.0043), Var(v=-0.0693, grad=0.0000), Var(v=0.3222, grad=0.4554), Var(v=-0.0649, grad=0.0000)], [Var(v=0.0513, grad=-3.5787), Var(v=-0.0538, grad=0.0000), Var(v=-0.1445, grad=0.0000), Var(v=-0.0381, grad=0.6423), Var(v=-0.0393, grad=0.0000), Var(v=0.0945, grad=-3.0409), Var(v=0.0982, grad=0.6419), Var(v=-0.0482, grad=0.0000), Var(v=-0.0106, grad=0.0000), Var(v=0.0231, grad=-0.7698), Var(v=0.1353, grad=-4.1034), Var(v=-0.0992, grad=0.0000), Var(v=-0.1414, grad=0.0000), Var(v=0.0139, grad=0.0000), Var(v=0.0031, grad=-0.4657), Var(v=-0.0732, grad=0.0000), Var(v=0.0310, grad=0.1565), Var(v=0.0927, grad=1.4062), Var(v=-0.0318, grad=0.0000), Var(v=0.0412, grad=-0.8873), Var(v=-0.1306, grad=0.0000), Var(v=0.0325, grad=4.1880), Var(v=-0.0633, grad=0.0000), Var(v=0.0318, grad=-0.6867), Var(v=0.1389, grad=1.7786), Var(v=0.2194, grad=-0.6232), Var(v=-0.2831, grad=0.0000), Var(v=-0.1492, grad=0.0000), Var(v=-0.0847, grad=0.0000), Var(v=-0.0983, grad=0.0000), Var(v=0.0473, grad=0.0000), Var(v=0.0366, grad=0.0000), Var(v=0.0873, grad=0.0000), Var(v=0.0660, grad=-1.6278), Var(v=0.0446, grad=0.0000), Var(v=0.1245, grad=3.0773), Var(v=-0.1008, grad=0.0000), Var(v=0.1181, grad=1.2810), Var(v=-0.0409, grad=0.0000), Var(v=0.1120, grad=-1.4159), Var(v=-0.0558, grad=0.0000), Var(v=0.1016, grad=2.0065), Var(v=0.1316, grad=6.0566), Var(v=-0.0361, grad=-1.9383), Var(v=-0.0713, grad=0.0000), Var(v=-0.0362, grad=3.7024), Var(v=0.1036, grad=0.0132), Var(v=-0.1186, grad=0.0000), Var(v=-0.0819, grad=1.4114), Var(v=0.0222, grad=0.0000)], [Var(v=-0.0282, grad=-0.8783), Var(v=-0.1499, grad=0.0000), Var(v=-0.2292, grad=0.0000), Var(v=0.0727, grad=0.1576), Var(v=0.0402, grad=0.0000), Var(v=0.0647, grad=-0.7463), Var(v=0.2280, grad=0.1575), Var(v=-0.0315, grad=0.0000), Var(v=-0.1485, grad=0.0000), Var(v=-0.0877, grad=-0.1889), Var(v=-0.0288, grad=-1.0070), Var(v=-0.1048, grad=0.0000), Var(v=0.0746, grad=0.0000), Var(v=0.0106, grad=0.0000), Var(v=0.0390, grad=-0.1143), Var(v=-0.0470, grad=0.0000), Var(v=-0.0254, grad=0.0384), Var(v=-0.0553, grad=0.3451), Var(v=0.0098, grad=0.0000), Var(v=-0.0168, grad=-0.2178), Var(v=-0.0047, grad=0.0000), Var(v=0.0086, grad=1.0278), Var(v=0.1679, grad=0.0000), Var(v=0.0366, grad=-0.1685), Var(v=0.0544, grad=0.4365), Var(v=-0.0791, grad=-0.1530), Var(v=0.0567, grad=0.0000), Var(v=0.1718, grad=0.0000), Var(v=0.1104, grad=0.0000), Var(v=0.0582, grad=0.0000), Var(v=0.0699, grad=0.0000), Var(v=0.0637, grad=0.0000), Var(v=-0.0646, grad=0.0000), Var(v=0.0176, grad=-0.3995), Var(v=0.0948, grad=0.0000), Var(v=-0.0870, grad=0.7552), Var(v=-0.0332, grad=0.0000), Var(v=-0.0211, grad=0.3144), Var(v=-0.0220, grad=0.0000), Var(v=-0.0226, grad=-0.3475), Var(v=-0.0803, grad=0.0000), Var(v=0.1672, grad=0.4924), Var(v=-0.0598, grad=1.4864), Var(v=0.1898, grad=-0.4757), Var(v=-0.0520, grad=0.0000), Var(v=-0.1213, grad=0.9086), Var(v=0.0157, grad=0.0032), Var(v=-0.0587, grad=0.0000), Var(v=-0.1664, grad=0.3464), Var(v=-0.0509, grad=0.0000)], [Var(v=-0.0534, grad=0.1800), Var(v=0.0418, grad=0.0000), Var(v=-0.1366, grad=0.0000), Var(v=-0.0704, grad=-0.0323), Var(v=-0.0096, grad=0.0000), Var(v=0.0363, grad=0.1529), Var(v=-0.0422, grad=-0.0323), Var(v=-0.0936, grad=0.0000), Var(v=-0.0010, grad=0.0099), Var(v=0.1289, grad=0.0387), Var(v=0.0149, grad=0.2064), Var(v=0.0457, grad=0.0445), Var(v=-0.0138, grad=0.0000), Var(v=-0.0007, grad=0.0000), Var(v=0.2201, grad=0.0234), Var(v=0.0711, grad=-0.2218), Var(v=-0.0051, grad=-0.0079), Var(v=0.0736, grad=-0.0707), Var(v=0.1219, grad=0.1132), Var(v=-0.0025, grad=0.0000), Var(v=0.0224, grad=-0.0379), Var(v=0.0685, grad=0.0000), Var(v=-0.0018, grad=0.0061), Var(v=-0.1429, grad=0.0000), Var(v=0.1061, grad=0.0000), Var(v=0.0938, grad=0.0000), Var(v=0.0052, grad=0.0970), Var(v=0.0397, grad=0.0000), Var(v=-0.1297, grad=0.0436), Var(v=0.0370, grad=0.0646), Var(v=-0.0656, grad=0.0000), Var(v=-0.0596, grad=0.0418), Var(v=0.2946, grad=-0.2269), Var(v=-0.0355, grad=0.0000), Var(v=-0.0911, grad=0.2321), Var(v=-0.0813, grad=0.0000), Var(v=-0.0003, grad=0.0000), Var(v=0.0115, grad=-0.0644), Var(v=0.0527, grad=-0.0773), Var(v=0.0150, grad=0.0000), Var(v=0.1051, grad=-0.1017), Var(v=-0.0681, grad=-0.1009), Var(v=-0.0300, grad=0.0000), Var(v=-0.0228, grad=0.0000), Var(v=-0.0425, grad=0.1324), Var(v=0.0719, grad=-0.1862), Var(v=0.0111, grad=-0.0007), Var(v=0.0538, grad=0.0000), Var(v=0.0463, grad=-0.0710), Var(v=0.0126, grad=0.0349)], [Var(v=0.0904, grad=-1.0641), Var(v=0.1601, grad=0.0000), Var(v=-0.0657, grad=0.0000), Var(v=0.0299, grad=0.1910), Var(v=0.0543, grad=0.0000), Var(v=-0.0917, grad=-0.9042), Var(v=-0.0673, grad=0.1909), Var(v=-0.0131, grad=0.0000), Var(v=-0.0273, grad=0.0000), Var(v=0.1244, grad=-0.2289), Var(v=-0.0052, grad=-1.2201), Var(v=0.0198, grad=0.0000), Var(v=-0.0759, grad=0.0000), Var(v=0.0058, grad=0.0000), Var(v=-0.0335, grad=-0.1385), Var(v=-0.0211, grad=0.0000), Var(v=-0.0888, grad=0.0465), Var(v=0.0327, grad=0.4181), Var(v=0.0940, grad=0.0000), Var(v=0.0804, grad=-0.2638), Var(v=0.0972, grad=0.0000), Var(v=0.0174, grad=1.2452), Var(v=-0.1533, grad=0.0000), Var(v=0.0887, grad=-0.2042), Var(v=-0.0812, grad=0.5288), Var(v=0.0054, grad=-0.1853), Var(v=0.0284, grad=0.0000), Var(v=0.0980, grad=0.0000), Var(v=0.0075, grad=0.0000), Var(v=0.0748, grad=0.0000), Var(v=-0.1079, grad=0.0000), Var(v=-0.1321, grad=0.0000), Var(v=0.1362, grad=0.0000), Var(v=-0.1450, grad=-0.4840), Var(v=0.0187, grad=0.0000), Var(v=-0.0683, grad=0.9150), Var(v=-0.1420, grad=0.0000), Var(v=-0.1064, grad=0.3809), Var(v=-0.1064, grad=0.0000), Var(v=0.1402, grad=-0.4210), Var(v=0.0388, grad=0.0000), Var(v=-0.1209, grad=0.5966), Var(v=-0.0193, grad=1.8008), Var(v=-0.1268, grad=-0.5763), Var(v=0.0211, grad=0.0000), Var(v=0.0406, grad=1.1008), Var(v=-0.0106, grad=0.0039), Var(v=-0.0136, grad=0.0000), Var(v=0.0133, grad=0.4197), Var(v=-0.1767, grad=0.0000)], [Var(v=0.1425, grad=-0.9364), Var(v=-0.1991, grad=0.0000), Var(v=0.1441, grad=0.0000), Var(v=0.1376, grad=0.1681), Var(v=0.0296, grad=0.0000), Var(v=0.2089, grad=-0.7957), Var(v=-0.0399, grad=0.1680), Var(v=0.1804, grad=0.0000), Var(v=0.0406, grad=0.0000), Var(v=0.0739, grad=-0.2014), Var(v=-0.0281, grad=-1.0737), Var(v=0.1596, grad=0.0000), Var(v=-0.0114, grad=0.0000), Var(v=-0.0858, grad=0.0000), Var(v=-0.0074, grad=-0.1218), Var(v=-0.1909, grad=0.0000), Var(v=0.0094, grad=0.0410), Var(v=-0.1550, grad=0.3679), Var(v=0.0380, grad=0.0000), Var(v=0.1156, grad=-0.2322), Var(v=0.0286, grad=0.0000), Var(v=0.2459, grad=1.0958), Var(v=0.0871, grad=0.0000), Var(v=-0.0574, grad=-0.1797), Var(v=0.1957, grad=0.4654), Var(v=-0.0575, grad=-0.1631), Var(v=-0.1230, grad=0.0000), Var(v=-0.0776, grad=0.0000), Var(v=-0.2130, grad=0.0000), Var(v=-0.1108, grad=0.0000), Var(v=-0.1163, grad=0.0000), Var(v=-0.1267, grad=0.0000), Var(v=-0.2344, grad=0.0000), Var(v=0.1701, grad=-0.4259), Var(v=-0.1694, grad=0.0000), Var(v=0.0894, grad=0.8052), Var(v=0.0421, grad=0.0000), Var(v=-0.1171, grad=0.3352), Var(v=0.1327, grad=0.0000), Var(v=0.0022, grad=-0.3705), Var(v=-0.1673, grad=0.0000), Var(v=0.0559, grad=0.5250), Var(v=0.0007, grad=1.5847), Var(v=0.1200, grad=-0.5072), Var(v=-0.0933, grad=0.0000), Var(v=0.1302, grad=0.9687), Var(v=0.1339, grad=0.0035), Var(v=-0.0814, grad=0.0000), Var(v=0.0653, grad=0.3693), Var(v=0.1336, grad=0.0000)]] Biases: [Var(v=0.0000, grad=-0.2124), Var(v=0.0000, grad=0.0000), Var(v=0.0000, grad=0.0000), Var(v=0.0000, grad=0.0381), Var(v=0.0000, grad=0.0000), Var(v=0.0000, grad=-0.1805), Var(v=0.0000, grad=0.0381), Var(v=0.0000, grad=0.0000), Var(v=0.0000, grad=0.7515), Var(v=0.0000, grad=-0.0457), Var(v=0.0000, grad=-0.2436), Var(v=0.0000, grad=3.3709), Var(v=0.0000, grad=0.0000), Var(v=0.0000, grad=0.0000), Var(v=0.0000, grad=-0.0276), Var(v=0.0000, grad=-16.7913), Var(v=0.0000, grad=0.0093), Var(v=0.0000, grad=0.0835), Var(v=0.0000, grad=8.5706), Var(v=0.0000, grad=-3.4315), Var(v=0.0000, grad=-2.8692), Var(v=0.0000, grad=16.1958), Var(v=0.0000, grad=0.4654), Var(v=0.0000, grad=-2.6557), Var(v=0.0000, grad=6.8781), Var(v=0.0000, grad=-2.4102), Var(v=0.0000, grad=7.3478), Var(v=0.0000, grad=0.0000), Var(v=0.0000, grad=3.2981), Var(v=0.0000, grad=4.8899), Var(v=0.0000, grad=0.0000), Var(v=0.0000, grad=3.1645), Var(v=0.0000, grad=-17.1811), Var(v=0.0000, grad=-6.2948), Var(v=0.0000, grad=17.5730), Var(v=0.0000, grad=11.9005), Var(v=0.0000, grad=0.0000), Var(v=0.0000, grad=0.0760), Var(v=0.0000, grad=-5.8497), Var(v=0.0000, grad=-5.4754), Var(v=0.0000, grad=-7.6965), Var(v=0.0000, grad=0.1191), Var(v=0.0000, grad=23.4220), Var(v=0.0000, grad=-7.4958), Var(v=0.0000, grad=10.0250), Var(v=0.0000, grad=0.2198), Var(v=0.0000, grad=0.0008), Var(v=0.0000, grad=0.0000), Var(v=0.0000, grad=0.0838), Var(v=0.0000, grad=2.6428)]\n",
      "Layer 2 \n",
      " DenseLayer(n_in = 50, n_out = 1):\n",
      "Weights and biases:\n",
      "Weights: [[Var(v=0.1562, grad=-2.2241)], [Var(v=-0.0341, grad=0.0000)], [Var(v=0.1255, grad=0.0000)], [Var(v=-0.0280, grad=-0.9527)], [Var(v=0.0693, grad=0.0000)], [Var(v=0.1327, grad=-0.7080)], [Var(v=-0.0280, grad=0.6052)], [Var(v=-0.2783, grad=0.0000)], [Var(v=0.0086, grad=2.5107)], [Var(v=0.0336, grad=0.1251)], [Var(v=0.1791, grad=2.6334)], [Var(v=0.0386, grad=1.2531)], [Var(v=-0.2025, grad=0.0000)], [Var(v=-0.0089, grad=0.0000)], [Var(v=0.0203, grad=2.8510)], [Var(v=-0.1925, grad=3.7066)], [Var(v=-0.0068, grad=-1.3214)], [Var(v=-0.0614, grad=-0.2150)], [Var(v=0.0983, grad=1.1819)], [Var(v=0.0387, grad=-2.5406)], [Var(v=-0.0329, grad=0.5253)], [Var(v=-0.1828, grad=-1.9871)], [Var(v=0.0053, grad=0.5347)], [Var(v=0.0300, grad=-1.0504)], [Var(v=-0.0776, grad=-5.0430)], [Var(v=0.0272, grad=-4.1105)], [Var(v=0.0842, grad=1.1938)], [Var(v=0.0731, grad=0.0000)], [Var(v=0.0378, grad=3.6821)], [Var(v=0.0561, grad=3.8847)], [Var(v=0.0787, grad=0.0000)], [Var(v=0.0363, grad=0.6273)], [Var(v=-0.1970, grad=2.9887)], [Var(v=0.0711, grad=-0.4609)], [Var(v=0.2015, grad=2.7755)], [Var(v=-0.1343, grad=-2.5895)], [Var(v=-0.1168, grad=0.0000)], [Var(v=-0.0559, grad=-0.2252)], [Var(v=-0.0671, grad=2.3891)], [Var(v=0.0618, grad=-3.0862)], [Var(v=-0.0882, grad=1.4520)], [Var(v=-0.0876, grad=-1.8110)], [Var(v=-0.2644, grad=-4.2914)], [Var(v=0.0846, grad=-0.4618)], [Var(v=0.1149, grad=1.6664)], [Var(v=-0.1616, grad=3.5838)], [Var(v=-0.0006, grad=-2.6844)], [Var(v=0.0855, grad=0.0000)], [Var(v=-0.0616, grad=-0.5008)], [Var(v=0.0303, grad=4.5084)]] Biases: [Var(v=0.0000, grad=-1.3597)]\n",
      "\n",
      "Network after update:\n",
      "Layer 0 \n",
      " DenseLayer(n_in = 1, n_out = 15):\n",
      "Weights and biases:\n",
      "Weights: [[Var(v=-0.1877, grad=2.3489), Var(v=-0.0214, grad=7.5223), Var(v=-0.0262, grad=-2.6858), Var(v=-0.1684, grad=-0.2559), Var(v=0.0778, grad=-2.2344), Var(v=-0.0073, grad=-4.7004), Var(v=-0.0430, grad=4.2553), Var(v=-0.0096, grad=-1.0950), Var(v=-0.0082, grad=3.4337), Var(v=-0.0677, grad=13.9331), Var(v=0.2037, grad=1.8334), Var(v=0.1002, grad=-4.5676), Var(v=-0.1094, grad=9.7369), Var(v=0.0911, grad=-2.5044), Var(v=0.0393, grad=1.8846)]] Biases: [Var(v=0.0213, grad=-2.1350), Var(v=-0.0646, grad=6.4598), Var(v=-0.0244, grad=2.4412), Var(v=-0.0023, grad=0.2326), Var(v=0.0192, grad=-1.9188), Var(v=-0.0427, grad=4.2724), Var(v=0.0387, grad=-3.8679), Var(v=-0.0100, grad=0.9953), Var(v=-0.0295, grad=2.9487), Var(v=-0.1197, grad=11.9651), Var(v=-0.0157, grad=1.5744), Var(v=0.0392, grad=-3.9224), Var(v=0.0885, grad=-8.8502), Var(v=0.0215, grad=-2.1507), Var(v=-0.0162, grad=1.6184)]\n",
      "Layer 1 \n",
      " DenseLayer(n_in = 15, n_out = 50):\n",
      "Weights and biases:\n",
      "Weights: [[Var(v=0.0180, grad=2.4617), Var(v=-0.0928, grad=0.0000), Var(v=-0.0792, grad=0.0000), Var(v=-0.0201, grad=-0.4418), Var(v=-0.1190, grad=0.0000), Var(v=0.0683, grad=2.0918), Var(v=0.0784, grad=-0.4416), Var(v=0.0943, grad=0.0000), Var(v=0.0847, grad=0.1358), Var(v=0.1342, grad=0.5295), Var(v=0.0123, grad=2.8227), Var(v=0.0389, grad=0.6090), Var(v=0.0000, grad=0.0000), Var(v=-0.1278, grad=0.0000), Var(v=-0.0534, grad=0.3203), Var(v=0.3493, grad=-3.0334), Var(v=-0.0816, grad=-0.1077), Var(v=0.0293, grad=-0.9673), Var(v=0.1003, grad=1.5483), Var(v=0.0648, grad=0.0000), Var(v=-0.0759, grad=-0.5183), Var(v=-0.0172, grad=0.0000), Var(v=0.0663, grad=0.0841), Var(v=-0.0576, grad=0.0000), Var(v=-0.0740, grad=0.0000), Var(v=-0.0377, grad=0.0000), Var(v=0.1070, grad=1.3274), Var(v=-0.2006, grad=0.0000), Var(v=0.1803, grad=0.5958), Var(v=0.0311, grad=0.8834), Var(v=-0.0910, grad=0.0000), Var(v=0.0263, grad=0.5717), Var(v=0.1269, grad=-3.1038), Var(v=0.0158, grad=0.0000), Var(v=0.0281, grad=3.1746), Var(v=-0.2052, grad=0.0000), Var(v=-0.1419, grad=0.0000), Var(v=0.0751, grad=-0.8812), Var(v=0.1393, grad=-1.0568), Var(v=-0.1168, grad=0.0000), Var(v=0.0249, grad=-1.3904), Var(v=0.0520, grad=-1.3803), Var(v=0.0703, grad=0.0000), Var(v=-0.1087, grad=0.0000), Var(v=0.1961, grad=1.8110), Var(v=0.2634, grad=-2.5468), Var(v=-0.0778, grad=-0.0091), Var(v=0.0266, grad=0.0000), Var(v=-0.0592, grad=-0.9709), Var(v=0.1626, grad=0.4774)], [Var(v=0.1158, grad=-0.8672), Var(v=-0.0195, grad=0.0000), Var(v=-0.1817, grad=0.0000), Var(v=0.1605, grad=0.1556), Var(v=-0.1543, grad=0.0000), Var(v=-0.0958, grad=-0.7369), Var(v=-0.1681, grad=0.1555), Var(v=0.0120, grad=0.0000), Var(v=-0.0275, grad=0.0000), Var(v=0.0454, grad=-0.1865), Var(v=-0.2496, grad=-0.9943), Var(v=0.0845, grad=0.0000), Var(v=-0.0971, grad=0.0000), Var(v=0.0403, grad=0.0000), Var(v=-0.0225, grad=-0.1128), Var(v=0.0620, grad=0.0000), Var(v=0.0063, grad=0.0379), Var(v=-0.1131, grad=0.3408), Var(v=-0.0486, grad=0.0000), Var(v=-0.0544, grad=-0.2150), Var(v=-0.0971, grad=0.0000), Var(v=-0.0358, grad=1.0148), Var(v=-0.0159, grad=0.0000), Var(v=0.1222, grad=-0.1664), Var(v=0.0864, grad=0.4310), Var(v=0.0117, grad=-0.1510), Var(v=-0.0138, grad=0.0000), Var(v=-0.1272, grad=0.0000), Var(v=-0.1302, grad=0.0000), Var(v=-0.0494, grad=0.0000), Var(v=-0.1615, grad=0.0000), Var(v=-0.0232, grad=0.0000), Var(v=-0.1442, grad=0.0000), Var(v=-0.1237, grad=-0.3944), Var(v=0.0728, grad=0.0000), Var(v=-0.0621, grad=0.7457), Var(v=0.2287, grad=0.0000), Var(v=0.0983, grad=0.3104), Var(v=0.1216, grad=0.0000), Var(v=-0.0375, grad=-0.3431), Var(v=-0.0718, grad=0.0000), Var(v=0.0203, grad=0.4862), Var(v=0.0099, grad=1.4676), Var(v=0.0650, grad=-0.4697), Var(v=0.1315, grad=0.0000), Var(v=0.0916, grad=0.8972), Var(v=0.0893, grad=0.0032), Var(v=0.0401, grad=0.0000), Var(v=0.1067, grad=0.3420), Var(v=-0.0759, grad=0.0000)], [Var(v=-0.0502, grad=0.7955), Var(v=-0.1946, grad=0.0000), Var(v=0.0542, grad=0.0000), Var(v=0.1284, grad=-0.1428), Var(v=-0.2100, grad=0.0000), Var(v=0.0225, grad=0.6760), Var(v=-0.1764, grad=-0.1427), Var(v=-0.0710, grad=0.0000), Var(v=-0.1799, grad=0.0439), Var(v=-0.0013, grad=0.1711), Var(v=0.1238, grad=0.9121), Var(v=0.1129, grad=0.1968), Var(v=-0.0516, grad=0.0000), Var(v=-0.0482, grad=0.0000), Var(v=0.0826, grad=0.1035), Var(v=-0.0871, grad=-0.9802), Var(v=-0.0712, grad=-0.0348), Var(v=-0.0895, grad=-0.3126), Var(v=-0.0533, grad=0.5003), Var(v=-0.0179, grad=0.0000), Var(v=0.0915, grad=-0.1675), Var(v=-0.0678, grad=0.0000), Var(v=-0.0311, grad=0.0272), Var(v=0.0226, grad=0.0000), Var(v=0.0640, grad=0.0000), Var(v=-0.2067, grad=0.0000), Var(v=-0.0966, grad=0.4289), Var(v=-0.1234, grad=0.0000), Var(v=0.0967, grad=0.1925), Var(v=0.0131, grad=0.2855), Var(v=0.2278, grad=0.0000), Var(v=0.0498, grad=0.1847), Var(v=0.0626, grad=-1.0030), Var(v=-0.1356, grad=0.0000), Var(v=0.0508, grad=1.0259), Var(v=0.0184, grad=0.0000), Var(v=-0.0332, grad=0.0000), Var(v=-0.1373, grad=-0.2848), Var(v=0.1854, grad=-0.3415), Var(v=-0.1168, grad=0.0000), Var(v=0.0815, grad=-0.4493), Var(v=-0.0303, grad=-0.4460), Var(v=-0.1868, grad=0.0000), Var(v=-0.0923, grad=0.0000), Var(v=0.1226, grad=0.5852), Var(v=0.1376, grad=-0.8230), Var(v=0.0696, grad=-0.0029), Var(v=0.1046, grad=0.0000), Var(v=0.0512, grad=-0.3137), Var(v=0.0140, grad=0.1543)], [Var(v=-0.0083, grad=2.5628), Var(v=-0.0101, grad=0.0000), Var(v=-0.0616, grad=0.0000), Var(v=0.0406, grad=-0.4600), Var(v=-0.0598, grad=0.0000), Var(v=-0.1354, grad=2.1777), Var(v=0.0677, grad=-0.4597), Var(v=-0.0628, grad=0.0000), Var(v=0.1190, grad=0.1413), Var(v=-0.0872, grad=0.5513), Var(v=0.1399, grad=2.9385), Var(v=-0.0052, grad=0.6340), Var(v=-0.0588, grad=0.0000), Var(v=-0.0156, grad=0.0000), Var(v=0.1354, grad=0.3335), Var(v=0.0101, grad=-3.1579), Var(v=0.1618, grad=-0.1121), Var(v=0.0645, grad=-1.0070), Var(v=-0.0586, grad=1.6119), Var(v=-0.0024, grad=0.0000), Var(v=0.0615, grad=-0.5396), Var(v=-0.0394, grad=0.0000), Var(v=0.0401, grad=0.0875), Var(v=-0.0794, grad=0.0000), Var(v=0.0786, grad=0.0000), Var(v=0.0547, grad=0.0000), Var(v=-0.0402, grad=1.3819), Var(v=0.1222, grad=0.0000), Var(v=0.0405, grad=0.6203), Var(v=0.0943, grad=0.9196), Var(v=-0.0452, grad=0.0000), Var(v=0.0279, grad=0.5951), Var(v=0.0925, grad=-3.2312), Var(v=-0.0291, grad=0.0000), Var(v=-0.0130, grad=3.3049), Var(v=-0.2253, grad=0.0000), Var(v=-0.1652, grad=0.0000), Var(v=0.0279, grad=-0.9174), Var(v=-0.0053, grad=-1.1001), Var(v=0.0171, grad=0.0000), Var(v=0.0379, grad=-1.4475), Var(v=-0.0296, grad=-1.4369), Var(v=-0.0754, grad=0.0000), Var(v=0.0841, grad=0.0000), Var(v=-0.1437, grad=1.8854), Var(v=-0.0092, grad=-2.6514), Var(v=0.0528, grad=-0.0095), Var(v=-0.0229, grad=0.0000), Var(v=0.0425, grad=-1.0107), Var(v=0.0757, grad=0.4970)], [Var(v=0.1046, grad=-0.8939), Var(v=0.1174, grad=0.0000), Var(v=-0.0607, grad=0.0000), Var(v=0.0912, grad=0.1604), Var(v=0.0468, grad=0.0000), Var(v=-0.0335, grad=-0.7595), Var(v=-0.0968, grad=0.1603), Var(v=-0.0418, grad=0.0000), Var(v=0.0403, grad=0.0000), Var(v=0.0944, grad=-0.1923), Var(v=0.1070, grad=-1.0249), Var(v=0.0368, grad=0.0000), Var(v=-0.0523, grad=0.0000), Var(v=-0.0750, grad=0.0000), Var(v=0.1088, grad=-0.1163), Var(v=-0.2288, grad=0.0000), Var(v=-0.0281, grad=0.0391), Var(v=-0.0603, grad=0.3512), Var(v=0.0289, grad=0.0000), Var(v=0.1162, grad=-0.2216), Var(v=0.0094, grad=0.0000), Var(v=-0.1140, grad=1.0461), Var(v=-0.0296, grad=0.0000), Var(v=-0.0900, grad=-0.1715), Var(v=0.1209, grad=0.4442), Var(v=-0.0659, grad=-0.1557), Var(v=0.0462, grad=0.0000), Var(v=0.0558, grad=0.0000), Var(v=0.0434, grad=0.0000), Var(v=-0.0422, grad=0.0000), Var(v=-0.0885, grad=0.0000), Var(v=-0.0326, grad=0.0000), Var(v=0.0879, grad=0.0000), Var(v=-0.0259, grad=-0.4066), Var(v=-0.0310, grad=0.0000), Var(v=0.0527, grad=0.7686), Var(v=-0.1720, grad=0.0000), Var(v=-0.0689, grad=0.3200), Var(v=0.0046, grad=0.0000), Var(v=-0.0500, grad=-0.3537), Var(v=0.0209, grad=0.0000), Var(v=-0.0569, grad=0.5012), Var(v=0.0769, grad=1.5128), Var(v=0.0683, grad=-0.4841), Var(v=-0.1090, grad=0.0000), Var(v=-0.0242, grad=0.9248), Var(v=-0.1845, grad=0.0033), Var(v=-0.1097, grad=0.0000), Var(v=0.0201, grad=0.3525), Var(v=-0.1045, grad=0.0000)], [Var(v=-0.0791, grad=0.8144), Var(v=-0.1247, grad=0.0000), Var(v=-0.0012, grad=0.0000), Var(v=0.1094, grad=-0.1462), Var(v=-0.0187, grad=0.0000), Var(v=0.0974, grad=0.6921), Var(v=-0.0256, grad=-0.1461), Var(v=-0.0700, grad=0.0000), Var(v=0.0398, grad=0.0449), Var(v=0.2075, grad=0.1752), Var(v=-0.1033, grad=0.9339), Var(v=-0.0145, grad=0.2015), Var(v=-0.0234, grad=0.0000), Var(v=-0.0868, grad=0.0000), Var(v=0.1322, grad=0.1060), Var(v=-0.0805, grad=-1.0036), Var(v=-0.1869, grad=-0.0356), Var(v=-0.0263, grad=-0.3200), Var(v=0.0173, grad=0.5122), Var(v=-0.2192, grad=0.0000), Var(v=0.1278, grad=-0.1715), Var(v=0.0133, grad=0.0000), Var(v=-0.1932, grad=0.0278), Var(v=0.0554, grad=0.0000), Var(v=-0.1926, grad=0.0000), Var(v=-0.0093, grad=0.0000), Var(v=0.0469, grad=0.4392), Var(v=-0.0610, grad=0.0000), Var(v=-0.0615, grad=0.1971), Var(v=0.2539, grad=0.2923), Var(v=0.0246, grad=0.0000), Var(v=-0.1357, grad=0.1891), Var(v=0.0225, grad=-1.0269), Var(v=-0.0072, grad=0.0000), Var(v=0.2406, grad=1.0503), Var(v=0.1030, grad=0.0000), Var(v=0.1179, grad=0.0000), Var(v=-0.0293, grad=-0.2915), Var(v=-0.0513, grad=-0.3496), Var(v=-0.0411, grad=0.0000), Var(v=0.0527, grad=-0.4600), Var(v=0.2018, grad=-0.4567), Var(v=0.0442, grad=0.0000), Var(v=-0.0376, grad=0.0000), Var(v=-0.0467, grad=0.5992), Var(v=0.0018, grad=-0.8426), Var(v=0.1116, grad=-0.0030), Var(v=-0.1506, grad=0.0000), Var(v=0.0563, grad=-0.3212), Var(v=0.0422, grad=0.1580)], [Var(v=0.0593, grad=0.0071), Var(v=0.0029, grad=0.0000), Var(v=0.1086, grad=0.0000), Var(v=0.0253, grad=-0.0013), Var(v=0.0476, grad=0.0000), Var(v=0.0440, grad=0.0060), Var(v=0.0716, grad=-0.0013), Var(v=0.1826, grad=0.0000), Var(v=0.1623, grad=0.0004), Var(v=-0.0076, grad=0.0015), Var(v=-0.1185, grad=0.0081), Var(v=-0.1158, grad=0.0017), Var(v=-0.0951, grad=0.0000), Var(v=0.0223, grad=0.0000), Var(v=0.0492, grad=0.0009), Var(v=0.1643, grad=-0.0087), Var(v=-0.1325, grad=-0.0003), Var(v=-0.0323, grad=-0.0028), Var(v=-0.1291, grad=0.0044), Var(v=0.0130, grad=0.0000), Var(v=-0.1543, grad=-0.0015), Var(v=-0.0542, grad=0.0000), Var(v=-0.0361, grad=0.0002), Var(v=0.0006, grad=0.0000), Var(v=-0.1031, grad=0.0000), Var(v=0.0862, grad=0.0000), Var(v=0.0402, grad=0.0038), Var(v=-0.1752, grad=0.0000), Var(v=-0.1118, grad=0.0017), Var(v=-0.0420, grad=0.0025), Var(v=-0.0269, grad=0.0000), Var(v=0.0568, grad=0.0016), Var(v=-0.0953, grad=-0.0089), Var(v=0.1012, grad=0.0000), Var(v=-0.0017, grad=0.0091), Var(v=-0.0127, grad=0.0000), Var(v=-0.0572, grad=0.0000), Var(v=0.0075, grad=-0.0025), Var(v=-0.1396, grad=-0.0030), Var(v=-0.0553, grad=0.0000), Var(v=0.0918, grad=-0.0040), Var(v=-0.0432, grad=-0.0040), Var(v=0.1859, grad=0.0000), Var(v=0.1051, grad=0.0000), Var(v=0.0849, grad=0.0052), Var(v=0.1892, grad=-0.0073), Var(v=0.0734, grad=-0.0000), Var(v=-0.0663, grad=0.0000), Var(v=0.0318, grad=-0.0028), Var(v=0.1369, grad=0.0014)], [Var(v=-0.0035, grad=0.3079), Var(v=-0.0086, grad=0.0000), Var(v=-0.0736, grad=0.0000), Var(v=-0.1192, grad=-0.0553), Var(v=-0.0513, grad=0.0000), Var(v=0.0686, grad=0.2616), Var(v=0.0216, grad=-0.0552), Var(v=-0.0160, grad=0.0000), Var(v=-0.0626, grad=0.0170), Var(v=0.0148, grad=0.0662), Var(v=-0.1309, grad=0.3530), Var(v=-0.0212, grad=0.0762), Var(v=0.1709, grad=0.0000), Var(v=0.0618, grad=0.0000), Var(v=0.0569, grad=0.0401), Var(v=-0.0421, grad=-0.3794), Var(v=0.0805, grad=-0.0135), Var(v=-0.0339, grad=-0.1210), Var(v=0.0231, grad=0.1937), Var(v=-0.0765, grad=0.0000), Var(v=-0.1269, grad=-0.0648), Var(v=0.0063, grad=0.0000), Var(v=-0.0151, grad=0.0105), Var(v=0.0635, grad=0.0000), Var(v=-0.0425, grad=0.0000), Var(v=-0.0014, grad=0.0000), Var(v=-0.0394, grad=0.1660), Var(v=-0.0113, grad=0.0000), Var(v=-0.0292, grad=0.0745), Var(v=0.0476, grad=0.1105), Var(v=-0.0561, grad=0.0000), Var(v=0.0339, grad=0.0715), Var(v=-0.0846, grad=-0.3882), Var(v=-0.1296, grad=0.0000), Var(v=-0.0104, grad=0.3971), Var(v=0.0941, grad=0.0000), Var(v=0.0911, grad=0.0000), Var(v=0.1466, grad=-0.1102), Var(v=-0.0335, grad=-0.1322), Var(v=-0.0895, grad=0.0000), Var(v=0.0665, grad=-0.1739), Var(v=0.0500, grad=-0.1726), Var(v=-0.0005, grad=0.0000), Var(v=-0.1896, grad=0.0000), Var(v=-0.0318, grad=0.2265), Var(v=-0.0502, grad=-0.3185), Var(v=0.0352, grad=-0.0011), Var(v=-0.0039, grad=0.0000), Var(v=0.0662, grad=-0.1214), Var(v=0.1105, grad=0.0597)], [Var(v=0.0852, grad=-0.4205), Var(v=0.1288, grad=0.0000), Var(v=-0.2135, grad=0.0000), Var(v=-0.0225, grad=0.0755), Var(v=0.0335, grad=0.0000), Var(v=-0.1863, grad=-0.3573), Var(v=-0.0254, grad=0.0754), Var(v=-0.0314, grad=0.0000), Var(v=-0.1634, grad=0.0000), Var(v=0.0451, grad=-0.0904), Var(v=-0.0062, grad=-0.4821), Var(v=0.0038, grad=0.0000), Var(v=-0.1437, grad=0.0000), Var(v=0.1212, grad=0.0000), Var(v=0.0543, grad=-0.0547), Var(v=-0.1345, grad=0.0000), Var(v=0.2602, grad=0.0184), Var(v=0.0262, grad=0.1652), Var(v=0.0505, grad=0.0000), Var(v=0.0874, grad=-0.1043), Var(v=0.0973, grad=0.0000), Var(v=0.0629, grad=0.4921), Var(v=0.0158, grad=0.0000), Var(v=0.0547, grad=-0.0807), Var(v=-0.0617, grad=0.2090), Var(v=0.1127, grad=-0.0732), Var(v=-0.1388, grad=0.0000), Var(v=0.0342, grad=0.0000), Var(v=-0.0938, grad=0.0000), Var(v=-0.2149, grad=0.0000), Var(v=-0.1088, grad=0.0000), Var(v=0.0530, grad=0.0000), Var(v=-0.1442, grad=0.0000), Var(v=0.0370, grad=-0.1912), Var(v=-0.0611, grad=0.0000), Var(v=0.0013, grad=0.3616), Var(v=-0.0692, grad=0.0000), Var(v=-0.0358, grad=0.1505), Var(v=-0.0196, grad=0.0000), Var(v=-0.1069, grad=-0.1664), Var(v=0.0321, grad=0.0000), Var(v=-0.0555, grad=0.2358), Var(v=0.0327, grad=0.7116), Var(v=-0.1504, grad=-0.2277), Var(v=0.0772, grad=0.0000), Var(v=0.0026, grad=0.4350), Var(v=-0.1446, grad=0.0016), Var(v=0.1793, grad=0.0000), Var(v=-0.0566, grad=0.1658), Var(v=0.0521, grad=0.0000)], [Var(v=-0.1661, grad=-1.1547), Var(v=0.1327, grad=0.0000), Var(v=0.0936, grad=0.0000), Var(v=0.0133, grad=0.2072), Var(v=0.0360, grad=0.0000), Var(v=-0.0862, grad=-0.9812), Var(v=-0.1040, grad=0.2071), Var(v=0.0477, grad=0.0000), Var(v=0.1000, grad=0.0000), Var(v=-0.0261, grad=-0.2484), Var(v=-0.1338, grad=-1.3240), Var(v=-0.0265, grad=0.0000), Var(v=-0.0215, grad=0.0000), Var(v=-0.0669, grad=0.0000), Var(v=-0.0692, grad=-0.1502), Var(v=-0.0761, grad=0.0000), Var(v=0.1162, grad=0.0505), Var(v=0.0709, grad=0.4537), Var(v=-0.0334, grad=0.0000), Var(v=-0.0134, grad=-0.2863), Var(v=0.1096, grad=0.0000), Var(v=0.0074, grad=1.3513), Var(v=0.0548, grad=0.0000), Var(v=-0.0564, grad=-0.2216), Var(v=-0.0225, grad=0.5739), Var(v=-0.0161, grad=-0.2011), Var(v=-0.0459, grad=0.0000), Var(v=-0.0559, grad=0.0000), Var(v=0.1055, grad=0.0000), Var(v=-0.0563, grad=0.0000), Var(v=0.0055, grad=0.0000), Var(v=-0.0567, grad=0.0000), Var(v=-0.0864, grad=0.0000), Var(v=-0.0483, grad=-0.5252), Var(v=-0.1423, grad=0.0000), Var(v=0.0036, grad=0.9929), Var(v=0.1559, grad=0.0000), Var(v=-0.0394, grad=0.4133), Var(v=-0.1498, grad=0.0000), Var(v=0.0730, grad=-0.4568), Var(v=0.0476, grad=0.0000), Var(v=0.0042, grad=0.6474), Var(v=0.1117, grad=1.9542), Var(v=0.0167, grad=-0.6254), Var(v=-0.0236, grad=0.0000), Var(v=0.0086, grad=1.1946), Var(v=0.1487, grad=0.0043), Var(v=-0.0693, grad=0.0000), Var(v=0.3177, grad=0.4554), Var(v=-0.0649, grad=0.0000)], [Var(v=0.0871, grad=-3.5787), Var(v=-0.0538, grad=0.0000), Var(v=-0.1445, grad=0.0000), Var(v=-0.0446, grad=0.6423), Var(v=-0.0393, grad=0.0000), Var(v=0.1249, grad=-3.0409), Var(v=0.0918, grad=0.6419), Var(v=-0.0482, grad=0.0000), Var(v=-0.0106, grad=0.0000), Var(v=0.0308, grad=-0.7698), Var(v=0.1764, grad=-4.1034), Var(v=-0.0992, grad=0.0000), Var(v=-0.1414, grad=0.0000), Var(v=0.0139, grad=0.0000), Var(v=0.0077, grad=-0.4657), Var(v=-0.0732, grad=0.0000), Var(v=0.0294, grad=0.1565), Var(v=0.0787, grad=1.4062), Var(v=-0.0318, grad=0.0000), Var(v=0.0500, grad=-0.8873), Var(v=-0.1306, grad=0.0000), Var(v=-0.0094, grad=4.1880), Var(v=-0.0633, grad=0.0000), Var(v=0.0387, grad=-0.6867), Var(v=0.1211, grad=1.7786), Var(v=0.2256, grad=-0.6232), Var(v=-0.2831, grad=0.0000), Var(v=-0.1492, grad=0.0000), Var(v=-0.0847, grad=0.0000), Var(v=-0.0983, grad=0.0000), Var(v=0.0473, grad=0.0000), Var(v=0.0366, grad=0.0000), Var(v=0.0873, grad=0.0000), Var(v=0.0822, grad=-1.6278), Var(v=0.0446, grad=0.0000), Var(v=0.0937, grad=3.0773), Var(v=-0.1008, grad=0.0000), Var(v=0.1053, grad=1.2810), Var(v=-0.0409, grad=0.0000), Var(v=0.1261, grad=-1.4159), Var(v=-0.0558, grad=0.0000), Var(v=0.0815, grad=2.0065), Var(v=0.0710, grad=6.0566), Var(v=-0.0167, grad=-1.9383), Var(v=-0.0713, grad=0.0000), Var(v=-0.0732, grad=3.7024), Var(v=0.1035, grad=0.0132), Var(v=-0.1186, grad=0.0000), Var(v=-0.0961, grad=1.4114), Var(v=0.0222, grad=0.0000)], [Var(v=-0.0194, grad=-0.8783), Var(v=-0.1499, grad=0.0000), Var(v=-0.2292, grad=0.0000), Var(v=0.0712, grad=0.1576), Var(v=0.0402, grad=0.0000), Var(v=0.0722, grad=-0.7463), Var(v=0.2264, grad=0.1575), Var(v=-0.0315, grad=0.0000), Var(v=-0.1485, grad=0.0000), Var(v=-0.0858, grad=-0.1889), Var(v=-0.0188, grad=-1.0070), Var(v=-0.1048, grad=0.0000), Var(v=0.0746, grad=0.0000), Var(v=0.0106, grad=0.0000), Var(v=0.0401, grad=-0.1143), Var(v=-0.0470, grad=0.0000), Var(v=-0.0258, grad=0.0384), Var(v=-0.0587, grad=0.3451), Var(v=0.0098, grad=0.0000), Var(v=-0.0146, grad=-0.2178), Var(v=-0.0047, grad=0.0000), Var(v=-0.0017, grad=1.0278), Var(v=0.1679, grad=0.0000), Var(v=0.0382, grad=-0.1685), Var(v=0.0501, grad=0.4365), Var(v=-0.0776, grad=-0.1530), Var(v=0.0567, grad=0.0000), Var(v=0.1718, grad=0.0000), Var(v=0.1104, grad=0.0000), Var(v=0.0582, grad=0.0000), Var(v=0.0699, grad=0.0000), Var(v=0.0637, grad=0.0000), Var(v=-0.0646, grad=0.0000), Var(v=0.0216, grad=-0.3995), Var(v=0.0948, grad=0.0000), Var(v=-0.0945, grad=0.7552), Var(v=-0.0332, grad=0.0000), Var(v=-0.0242, grad=0.3144), Var(v=-0.0220, grad=0.0000), Var(v=-0.0192, grad=-0.3475), Var(v=-0.0803, grad=0.0000), Var(v=0.1623, grad=0.4924), Var(v=-0.0746, grad=1.4864), Var(v=0.1946, grad=-0.4757), Var(v=-0.0520, grad=0.0000), Var(v=-0.1304, grad=0.9086), Var(v=0.0157, grad=0.0032), Var(v=-0.0587, grad=0.0000), Var(v=-0.1699, grad=0.3464), Var(v=-0.0509, grad=0.0000)], [Var(v=-0.0552, grad=0.1800), Var(v=0.0418, grad=0.0000), Var(v=-0.1366, grad=0.0000), Var(v=-0.0701, grad=-0.0323), Var(v=-0.0096, grad=0.0000), Var(v=0.0347, grad=0.1529), Var(v=-0.0419, grad=-0.0323), Var(v=-0.0936, grad=0.0000), Var(v=-0.0011, grad=0.0099), Var(v=0.1285, grad=0.0387), Var(v=0.0128, grad=0.2064), Var(v=0.0452, grad=0.0445), Var(v=-0.0138, grad=0.0000), Var(v=-0.0007, grad=0.0000), Var(v=0.2199, grad=0.0234), Var(v=0.0734, grad=-0.2218), Var(v=-0.0050, grad=-0.0079), Var(v=0.0743, grad=-0.0707), Var(v=0.1208, grad=0.1132), Var(v=-0.0025, grad=0.0000), Var(v=0.0228, grad=-0.0379), Var(v=0.0685, grad=0.0000), Var(v=-0.0019, grad=0.0061), Var(v=-0.1429, grad=0.0000), Var(v=0.1061, grad=0.0000), Var(v=0.0938, grad=0.0000), Var(v=0.0042, grad=0.0970), Var(v=0.0397, grad=0.0000), Var(v=-0.1301, grad=0.0436), Var(v=0.0364, grad=0.0646), Var(v=-0.0656, grad=0.0000), Var(v=-0.0600, grad=0.0418), Var(v=0.2968, grad=-0.2269), Var(v=-0.0355, grad=0.0000), Var(v=-0.0934, grad=0.2321), Var(v=-0.0813, grad=0.0000), Var(v=-0.0003, grad=0.0000), Var(v=0.0121, grad=-0.0644), Var(v=0.0535, grad=-0.0773), Var(v=0.0150, grad=0.0000), Var(v=0.1061, grad=-0.1017), Var(v=-0.0671, grad=-0.1009), Var(v=-0.0300, grad=0.0000), Var(v=-0.0228, grad=0.0000), Var(v=-0.0439, grad=0.1324), Var(v=0.0737, grad=-0.1862), Var(v=0.0111, grad=-0.0007), Var(v=0.0538, grad=0.0000), Var(v=0.0470, grad=-0.0710), Var(v=0.0123, grad=0.0349)], [Var(v=0.1011, grad=-1.0641), Var(v=0.1601, grad=0.0000), Var(v=-0.0657, grad=0.0000), Var(v=0.0280, grad=0.1910), Var(v=0.0543, grad=0.0000), Var(v=-0.0826, grad=-0.9042), Var(v=-0.0692, grad=0.1909), Var(v=-0.0131, grad=0.0000), Var(v=-0.0273, grad=0.0000), Var(v=0.1267, grad=-0.2289), Var(v=0.0070, grad=-1.2201), Var(v=0.0198, grad=0.0000), Var(v=-0.0759, grad=0.0000), Var(v=0.0058, grad=0.0000), Var(v=-0.0321, grad=-0.1385), Var(v=-0.0211, grad=0.0000), Var(v=-0.0893, grad=0.0465), Var(v=0.0285, grad=0.4181), Var(v=0.0940, grad=0.0000), Var(v=0.0831, grad=-0.2638), Var(v=0.0972, grad=0.0000), Var(v=0.0049, grad=1.2452), Var(v=-0.1533, grad=0.0000), Var(v=0.0907, grad=-0.2042), Var(v=-0.0865, grad=0.5288), Var(v=0.0072, grad=-0.1853), Var(v=0.0284, grad=0.0000), Var(v=0.0980, grad=0.0000), Var(v=0.0075, grad=0.0000), Var(v=0.0748, grad=0.0000), Var(v=-0.1079, grad=0.0000), Var(v=-0.1321, grad=0.0000), Var(v=0.1362, grad=0.0000), Var(v=-0.1402, grad=-0.4840), Var(v=0.0187, grad=0.0000), Var(v=-0.0774, grad=0.9150), Var(v=-0.1420, grad=0.0000), Var(v=-0.1102, grad=0.3809), Var(v=-0.1064, grad=0.0000), Var(v=0.1444, grad=-0.4210), Var(v=0.0388, grad=0.0000), Var(v=-0.1268, grad=0.5966), Var(v=-0.0373, grad=1.8008), Var(v=-0.1210, grad=-0.5763), Var(v=0.0211, grad=0.0000), Var(v=0.0296, grad=1.1008), Var(v=-0.0106, grad=0.0039), Var(v=-0.0136, grad=0.0000), Var(v=0.0091, grad=0.4197), Var(v=-0.1767, grad=0.0000)], [Var(v=0.1518, grad=-0.9364), Var(v=-0.1991, grad=0.0000), Var(v=0.1441, grad=0.0000), Var(v=0.1359, grad=0.1681), Var(v=0.0296, grad=0.0000), Var(v=0.2168, grad=-0.7957), Var(v=-0.0416, grad=0.1680), Var(v=0.1804, grad=0.0000), Var(v=0.0406, grad=0.0000), Var(v=0.0759, grad=-0.2014), Var(v=-0.0173, grad=-1.0737), Var(v=0.1596, grad=0.0000), Var(v=-0.0114, grad=0.0000), Var(v=-0.0858, grad=0.0000), Var(v=-0.0061, grad=-0.1218), Var(v=-0.1909, grad=0.0000), Var(v=0.0090, grad=0.0410), Var(v=-0.1586, grad=0.3679), Var(v=0.0380, grad=0.0000), Var(v=0.1179, grad=-0.2322), Var(v=0.0286, grad=0.0000), Var(v=0.2349, grad=1.0958), Var(v=0.0871, grad=0.0000), Var(v=-0.0556, grad=-0.1797), Var(v=0.1910, grad=0.4654), Var(v=-0.0559, grad=-0.1631), Var(v=-0.1230, grad=0.0000), Var(v=-0.0776, grad=0.0000), Var(v=-0.2130, grad=0.0000), Var(v=-0.1108, grad=0.0000), Var(v=-0.1163, grad=0.0000), Var(v=-0.1267, grad=0.0000), Var(v=-0.2344, grad=0.0000), Var(v=0.1744, grad=-0.4259), Var(v=-0.1694, grad=0.0000), Var(v=0.0814, grad=0.8052), Var(v=0.0421, grad=0.0000), Var(v=-0.1205, grad=0.3352), Var(v=0.1327, grad=0.0000), Var(v=0.0059, grad=-0.3705), Var(v=-0.1673, grad=0.0000), Var(v=0.0507, grad=0.5250), Var(v=-0.0151, grad=1.5847), Var(v=0.1251, grad=-0.5072), Var(v=-0.0933, grad=0.0000), Var(v=0.1205, grad=0.9687), Var(v=0.1338, grad=0.0035), Var(v=-0.0814, grad=0.0000), Var(v=0.0616, grad=0.3693), Var(v=0.1336, grad=0.0000)]] Biases: [Var(v=0.0021, grad=-0.2124), Var(v=0.0000, grad=0.0000), Var(v=0.0000, grad=0.0000), Var(v=-0.0004, grad=0.0381), Var(v=0.0000, grad=0.0000), Var(v=0.0018, grad=-0.1805), Var(v=-0.0004, grad=0.0381), Var(v=0.0000, grad=0.0000), Var(v=-0.0075, grad=0.7515), Var(v=0.0005, grad=-0.0457), Var(v=0.0024, grad=-0.2436), Var(v=-0.0337, grad=3.3709), Var(v=0.0000, grad=0.0000), Var(v=0.0000, grad=0.0000), Var(v=0.0003, grad=-0.0276), Var(v=0.1679, grad=-16.7913), Var(v=-0.0001, grad=0.0093), Var(v=-0.0008, grad=0.0835), Var(v=-0.0857, grad=8.5706), Var(v=0.0343, grad=-3.4315), Var(v=0.0287, grad=-2.8692), Var(v=-0.1620, grad=16.1958), Var(v=-0.0047, grad=0.4654), Var(v=0.0266, grad=-2.6557), Var(v=-0.0688, grad=6.8781), Var(v=0.0241, grad=-2.4102), Var(v=-0.0735, grad=7.3478), Var(v=0.0000, grad=0.0000), Var(v=-0.0330, grad=3.2981), Var(v=-0.0489, grad=4.8899), Var(v=0.0000, grad=0.0000), Var(v=-0.0316, grad=3.1645), Var(v=0.1718, grad=-17.1811), Var(v=0.0629, grad=-6.2948), Var(v=-0.1757, grad=17.5730), Var(v=-0.1190, grad=11.9005), Var(v=0.0000, grad=0.0000), Var(v=-0.0008, grad=0.0760), Var(v=0.0585, grad=-5.8497), Var(v=0.0548, grad=-5.4754), Var(v=0.0770, grad=-7.6965), Var(v=-0.0012, grad=0.1191), Var(v=-0.2342, grad=23.4220), Var(v=0.0750, grad=-7.4958), Var(v=-0.1002, grad=10.0250), Var(v=-0.0022, grad=0.2198), Var(v=-0.0000, grad=0.0008), Var(v=0.0000, grad=0.0000), Var(v=-0.0008, grad=0.0838), Var(v=-0.0264, grad=2.6428)]\n",
      "Layer 2 \n",
      " DenseLayer(n_in = 50, n_out = 1):\n",
      "Weights and biases:\n",
      "Weights: [[Var(v=0.1785, grad=-2.2241)], [Var(v=-0.0341, grad=0.0000)], [Var(v=0.1255, grad=0.0000)], [Var(v=-0.0185, grad=-0.9527)], [Var(v=0.0693, grad=0.0000)], [Var(v=0.1398, grad=-0.7080)], [Var(v=-0.0341, grad=0.6052)], [Var(v=-0.2783, grad=0.0000)], [Var(v=-0.0165, grad=2.5107)], [Var(v=0.0324, grad=0.1251)], [Var(v=0.1528, grad=2.6334)], [Var(v=0.0261, grad=1.2531)], [Var(v=-0.2025, grad=0.0000)], [Var(v=-0.0089, grad=0.0000)], [Var(v=-0.0082, grad=2.8510)], [Var(v=-0.2296, grad=3.7066)], [Var(v=0.0064, grad=-1.3214)], [Var(v=-0.0592, grad=-0.2150)], [Var(v=0.0864, grad=1.1819)], [Var(v=0.0641, grad=-2.5406)], [Var(v=-0.0381, grad=0.5253)], [Var(v=-0.1629, grad=-1.9871)], [Var(v=-0.0000, grad=0.5347)], [Var(v=0.0405, grad=-1.0504)], [Var(v=-0.0272, grad=-5.0430)], [Var(v=0.0683, grad=-4.1105)], [Var(v=0.0723, grad=1.1938)], [Var(v=0.0731, grad=0.0000)], [Var(v=0.0010, grad=3.6821)], [Var(v=0.0172, grad=3.8847)], [Var(v=0.0787, grad=0.0000)], [Var(v=0.0300, grad=0.6273)], [Var(v=-0.2269, grad=2.9887)], [Var(v=0.0757, grad=-0.4609)], [Var(v=0.1737, grad=2.7755)], [Var(v=-0.1084, grad=-2.5895)], [Var(v=-0.1168, grad=0.0000)], [Var(v=-0.0537, grad=-0.2252)], [Var(v=-0.0910, grad=2.3891)], [Var(v=0.0927, grad=-3.0862)], [Var(v=-0.1028, grad=1.4520)], [Var(v=-0.0695, grad=-1.8110)], [Var(v=-0.2215, grad=-4.2914)], [Var(v=0.0892, grad=-0.4618)], [Var(v=0.0983, grad=1.6664)], [Var(v=-0.1975, grad=3.5838)], [Var(v=0.0263, grad=-2.6844)], [Var(v=0.0855, grad=0.0000)], [Var(v=-0.0566, grad=-0.5008)], [Var(v=-0.0148, grad=4.5084)]] Biases: [Var(v=0.0136, grad=-1.3597)]\n",
      "\n",
      "Network after zeroing gradients:\n",
      "Layer 0 \n",
      " DenseLayer(n_in = 1, n_out = 15):\n",
      "Weights and biases:\n",
      "Weights: [[Var(v=-0.1877, grad=0.0000), Var(v=-0.0214, grad=0.0000), Var(v=-0.0262, grad=0.0000), Var(v=-0.1684, grad=0.0000), Var(v=0.0778, grad=0.0000), Var(v=-0.0073, grad=0.0000), Var(v=-0.0430, grad=0.0000), Var(v=-0.0096, grad=0.0000), Var(v=-0.0082, grad=0.0000), Var(v=-0.0677, grad=0.0000), Var(v=0.2037, grad=0.0000), Var(v=0.1002, grad=0.0000), Var(v=-0.1094, grad=0.0000), Var(v=0.0911, grad=0.0000), Var(v=0.0393, grad=0.0000)]] Biases: [Var(v=0.0213, grad=0.0000), Var(v=-0.0646, grad=0.0000), Var(v=-0.0244, grad=0.0000), Var(v=-0.0023, grad=0.0000), Var(v=0.0192, grad=0.0000), Var(v=-0.0427, grad=0.0000), Var(v=0.0387, grad=0.0000), Var(v=-0.0100, grad=0.0000), Var(v=-0.0295, grad=0.0000), Var(v=-0.1197, grad=0.0000), Var(v=-0.0157, grad=0.0000), Var(v=0.0392, grad=0.0000), Var(v=0.0885, grad=0.0000), Var(v=0.0215, grad=0.0000), Var(v=-0.0162, grad=0.0000)]\n",
      "Layer 1 \n",
      " DenseLayer(n_in = 15, n_out = 50):\n",
      "Weights and biases:\n",
      "Weights: [[Var(v=0.0180, grad=0.0000), Var(v=-0.0928, grad=0.0000), Var(v=-0.0792, grad=0.0000), Var(v=-0.0201, grad=0.0000), Var(v=-0.1190, grad=0.0000), Var(v=0.0683, grad=0.0000), Var(v=0.0784, grad=0.0000), Var(v=0.0943, grad=0.0000), Var(v=0.0847, grad=0.0000), Var(v=0.1342, grad=0.0000), Var(v=0.0123, grad=0.0000), Var(v=0.0389, grad=0.0000), Var(v=0.0000, grad=0.0000), Var(v=-0.1278, grad=0.0000), Var(v=-0.0534, grad=0.0000), Var(v=0.3493, grad=0.0000), Var(v=-0.0816, grad=0.0000), Var(v=0.0293, grad=0.0000), Var(v=0.1003, grad=0.0000), Var(v=0.0648, grad=0.0000), Var(v=-0.0759, grad=0.0000), Var(v=-0.0172, grad=0.0000), Var(v=0.0663, grad=0.0000), Var(v=-0.0576, grad=0.0000), Var(v=-0.0740, grad=0.0000), Var(v=-0.0377, grad=0.0000), Var(v=0.1070, grad=0.0000), Var(v=-0.2006, grad=0.0000), Var(v=0.1803, grad=0.0000), Var(v=0.0311, grad=0.0000), Var(v=-0.0910, grad=0.0000), Var(v=0.0263, grad=0.0000), Var(v=0.1269, grad=0.0000), Var(v=0.0158, grad=0.0000), Var(v=0.0281, grad=0.0000), Var(v=-0.2052, grad=0.0000), Var(v=-0.1419, grad=0.0000), Var(v=0.0751, grad=0.0000), Var(v=0.1393, grad=0.0000), Var(v=-0.1168, grad=0.0000), Var(v=0.0249, grad=0.0000), Var(v=0.0520, grad=0.0000), Var(v=0.0703, grad=0.0000), Var(v=-0.1087, grad=0.0000), Var(v=0.1961, grad=0.0000), Var(v=0.2634, grad=0.0000), Var(v=-0.0778, grad=0.0000), Var(v=0.0266, grad=0.0000), Var(v=-0.0592, grad=0.0000), Var(v=0.1626, grad=0.0000)], [Var(v=0.1158, grad=0.0000), Var(v=-0.0195, grad=0.0000), Var(v=-0.1817, grad=0.0000), Var(v=0.1605, grad=0.0000), Var(v=-0.1543, grad=0.0000), Var(v=-0.0958, grad=0.0000), Var(v=-0.1681, grad=0.0000), Var(v=0.0120, grad=0.0000), Var(v=-0.0275, grad=0.0000), Var(v=0.0454, grad=0.0000), Var(v=-0.2496, grad=0.0000), Var(v=0.0845, grad=0.0000), Var(v=-0.0971, grad=0.0000), Var(v=0.0403, grad=0.0000), Var(v=-0.0225, grad=0.0000), Var(v=0.0620, grad=0.0000), Var(v=0.0063, grad=0.0000), Var(v=-0.1131, grad=0.0000), Var(v=-0.0486, grad=0.0000), Var(v=-0.0544, grad=0.0000), Var(v=-0.0971, grad=0.0000), Var(v=-0.0358, grad=0.0000), Var(v=-0.0159, grad=0.0000), Var(v=0.1222, grad=0.0000), Var(v=0.0864, grad=0.0000), Var(v=0.0117, grad=0.0000), Var(v=-0.0138, grad=0.0000), Var(v=-0.1272, grad=0.0000), Var(v=-0.1302, grad=0.0000), Var(v=-0.0494, grad=0.0000), Var(v=-0.1615, grad=0.0000), Var(v=-0.0232, grad=0.0000), Var(v=-0.1442, grad=0.0000), Var(v=-0.1237, grad=0.0000), Var(v=0.0728, grad=0.0000), Var(v=-0.0621, grad=0.0000), Var(v=0.2287, grad=0.0000), Var(v=0.0983, grad=0.0000), Var(v=0.1216, grad=0.0000), Var(v=-0.0375, grad=0.0000), Var(v=-0.0718, grad=0.0000), Var(v=0.0203, grad=0.0000), Var(v=0.0099, grad=0.0000), Var(v=0.0650, grad=0.0000), Var(v=0.1315, grad=0.0000), Var(v=0.0916, grad=0.0000), Var(v=0.0893, grad=0.0000), Var(v=0.0401, grad=0.0000), Var(v=0.1067, grad=0.0000), Var(v=-0.0759, grad=0.0000)], [Var(v=-0.0502, grad=0.0000), Var(v=-0.1946, grad=0.0000), Var(v=0.0542, grad=0.0000), Var(v=0.1284, grad=0.0000), Var(v=-0.2100, grad=0.0000), Var(v=0.0225, grad=0.0000), Var(v=-0.1764, grad=0.0000), Var(v=-0.0710, grad=0.0000), Var(v=-0.1799, grad=0.0000), Var(v=-0.0013, grad=0.0000), Var(v=0.1238, grad=0.0000), Var(v=0.1129, grad=0.0000), Var(v=-0.0516, grad=0.0000), Var(v=-0.0482, grad=0.0000), Var(v=0.0826, grad=0.0000), Var(v=-0.0871, grad=0.0000), Var(v=-0.0712, grad=0.0000), Var(v=-0.0895, grad=0.0000), Var(v=-0.0533, grad=0.0000), Var(v=-0.0179, grad=0.0000), Var(v=0.0915, grad=0.0000), Var(v=-0.0678, grad=0.0000), Var(v=-0.0311, grad=0.0000), Var(v=0.0226, grad=0.0000), Var(v=0.0640, grad=0.0000), Var(v=-0.2067, grad=0.0000), Var(v=-0.0966, grad=0.0000), Var(v=-0.1234, grad=0.0000), Var(v=0.0967, grad=0.0000), Var(v=0.0131, grad=0.0000), Var(v=0.2278, grad=0.0000), Var(v=0.0498, grad=0.0000), Var(v=0.0626, grad=0.0000), Var(v=-0.1356, grad=0.0000), Var(v=0.0508, grad=0.0000), Var(v=0.0184, grad=0.0000), Var(v=-0.0332, grad=0.0000), Var(v=-0.1373, grad=0.0000), Var(v=0.1854, grad=0.0000), Var(v=-0.1168, grad=0.0000), Var(v=0.0815, grad=0.0000), Var(v=-0.0303, grad=0.0000), Var(v=-0.1868, grad=0.0000), Var(v=-0.0923, grad=0.0000), Var(v=0.1226, grad=0.0000), Var(v=0.1376, grad=0.0000), Var(v=0.0696, grad=0.0000), Var(v=0.1046, grad=0.0000), Var(v=0.0512, grad=0.0000), Var(v=0.0140, grad=0.0000)], [Var(v=-0.0083, grad=0.0000), Var(v=-0.0101, grad=0.0000), Var(v=-0.0616, grad=0.0000), Var(v=0.0406, grad=0.0000), Var(v=-0.0598, grad=0.0000), Var(v=-0.1354, grad=0.0000), Var(v=0.0677, grad=0.0000), Var(v=-0.0628, grad=0.0000), Var(v=0.1190, grad=0.0000), Var(v=-0.0872, grad=0.0000), Var(v=0.1399, grad=0.0000), Var(v=-0.0052, grad=0.0000), Var(v=-0.0588, grad=0.0000), Var(v=-0.0156, grad=0.0000), Var(v=0.1354, grad=0.0000), Var(v=0.0101, grad=0.0000), Var(v=0.1618, grad=0.0000), Var(v=0.0645, grad=0.0000), Var(v=-0.0586, grad=0.0000), Var(v=-0.0024, grad=0.0000), Var(v=0.0615, grad=0.0000), Var(v=-0.0394, grad=0.0000), Var(v=0.0401, grad=0.0000), Var(v=-0.0794, grad=0.0000), Var(v=0.0786, grad=0.0000), Var(v=0.0547, grad=0.0000), Var(v=-0.0402, grad=0.0000), Var(v=0.1222, grad=0.0000), Var(v=0.0405, grad=0.0000), Var(v=0.0943, grad=0.0000), Var(v=-0.0452, grad=0.0000), Var(v=0.0279, grad=0.0000), Var(v=0.0925, grad=0.0000), Var(v=-0.0291, grad=0.0000), Var(v=-0.0130, grad=0.0000), Var(v=-0.2253, grad=0.0000), Var(v=-0.1652, grad=0.0000), Var(v=0.0279, grad=0.0000), Var(v=-0.0053, grad=0.0000), Var(v=0.0171, grad=0.0000), Var(v=0.0379, grad=0.0000), Var(v=-0.0296, grad=0.0000), Var(v=-0.0754, grad=0.0000), Var(v=0.0841, grad=0.0000), Var(v=-0.1437, grad=0.0000), Var(v=-0.0092, grad=0.0000), Var(v=0.0528, grad=0.0000), Var(v=-0.0229, grad=0.0000), Var(v=0.0425, grad=0.0000), Var(v=0.0757, grad=0.0000)], [Var(v=0.1046, grad=0.0000), Var(v=0.1174, grad=0.0000), Var(v=-0.0607, grad=0.0000), Var(v=0.0912, grad=0.0000), Var(v=0.0468, grad=0.0000), Var(v=-0.0335, grad=0.0000), Var(v=-0.0968, grad=0.0000), Var(v=-0.0418, grad=0.0000), Var(v=0.0403, grad=0.0000), Var(v=0.0944, grad=0.0000), Var(v=0.1070, grad=0.0000), Var(v=0.0368, grad=0.0000), Var(v=-0.0523, grad=0.0000), Var(v=-0.0750, grad=0.0000), Var(v=0.1088, grad=0.0000), Var(v=-0.2288, grad=0.0000), Var(v=-0.0281, grad=0.0000), Var(v=-0.0603, grad=0.0000), Var(v=0.0289, grad=0.0000), Var(v=0.1162, grad=0.0000), Var(v=0.0094, grad=0.0000), Var(v=-0.1140, grad=0.0000), Var(v=-0.0296, grad=0.0000), Var(v=-0.0900, grad=0.0000), Var(v=0.1209, grad=0.0000), Var(v=-0.0659, grad=0.0000), Var(v=0.0462, grad=0.0000), Var(v=0.0558, grad=0.0000), Var(v=0.0434, grad=0.0000), Var(v=-0.0422, grad=0.0000), Var(v=-0.0885, grad=0.0000), Var(v=-0.0326, grad=0.0000), Var(v=0.0879, grad=0.0000), Var(v=-0.0259, grad=0.0000), Var(v=-0.0310, grad=0.0000), Var(v=0.0527, grad=0.0000), Var(v=-0.1720, grad=0.0000), Var(v=-0.0689, grad=0.0000), Var(v=0.0046, grad=0.0000), Var(v=-0.0500, grad=0.0000), Var(v=0.0209, grad=0.0000), Var(v=-0.0569, grad=0.0000), Var(v=0.0769, grad=0.0000), Var(v=0.0683, grad=0.0000), Var(v=-0.1090, grad=0.0000), Var(v=-0.0242, grad=0.0000), Var(v=-0.1845, grad=0.0000), Var(v=-0.1097, grad=0.0000), Var(v=0.0201, grad=0.0000), Var(v=-0.1045, grad=0.0000)], [Var(v=-0.0791, grad=0.0000), Var(v=-0.1247, grad=0.0000), Var(v=-0.0012, grad=0.0000), Var(v=0.1094, grad=0.0000), Var(v=-0.0187, grad=0.0000), Var(v=0.0974, grad=0.0000), Var(v=-0.0256, grad=0.0000), Var(v=-0.0700, grad=0.0000), Var(v=0.0398, grad=0.0000), Var(v=0.2075, grad=0.0000), Var(v=-0.1033, grad=0.0000), Var(v=-0.0145, grad=0.0000), Var(v=-0.0234, grad=0.0000), Var(v=-0.0868, grad=0.0000), Var(v=0.1322, grad=0.0000), Var(v=-0.0805, grad=0.0000), Var(v=-0.1869, grad=0.0000), Var(v=-0.0263, grad=0.0000), Var(v=0.0173, grad=0.0000), Var(v=-0.2192, grad=0.0000), Var(v=0.1278, grad=0.0000), Var(v=0.0133, grad=0.0000), Var(v=-0.1932, grad=0.0000), Var(v=0.0554, grad=0.0000), Var(v=-0.1926, grad=0.0000), Var(v=-0.0093, grad=0.0000), Var(v=0.0469, grad=0.0000), Var(v=-0.0610, grad=0.0000), Var(v=-0.0615, grad=0.0000), Var(v=0.2539, grad=0.0000), Var(v=0.0246, grad=0.0000), Var(v=-0.1357, grad=0.0000), Var(v=0.0225, grad=0.0000), Var(v=-0.0072, grad=0.0000), Var(v=0.2406, grad=0.0000), Var(v=0.1030, grad=0.0000), Var(v=0.1179, grad=0.0000), Var(v=-0.0293, grad=0.0000), Var(v=-0.0513, grad=0.0000), Var(v=-0.0411, grad=0.0000), Var(v=0.0527, grad=0.0000), Var(v=0.2018, grad=0.0000), Var(v=0.0442, grad=0.0000), Var(v=-0.0376, grad=0.0000), Var(v=-0.0467, grad=0.0000), Var(v=0.0018, grad=0.0000), Var(v=0.1116, grad=0.0000), Var(v=-0.1506, grad=0.0000), Var(v=0.0563, grad=0.0000), Var(v=0.0422, grad=0.0000)], [Var(v=0.0593, grad=0.0000), Var(v=0.0029, grad=0.0000), Var(v=0.1086, grad=0.0000), Var(v=0.0253, grad=0.0000), Var(v=0.0476, grad=0.0000), Var(v=0.0440, grad=0.0000), Var(v=0.0716, grad=0.0000), Var(v=0.1826, grad=0.0000), Var(v=0.1623, grad=0.0000), Var(v=-0.0076, grad=0.0000), Var(v=-0.1185, grad=0.0000), Var(v=-0.1158, grad=0.0000), Var(v=-0.0951, grad=0.0000), Var(v=0.0223, grad=0.0000), Var(v=0.0492, grad=0.0000), Var(v=0.1643, grad=0.0000), Var(v=-0.1325, grad=0.0000), Var(v=-0.0323, grad=0.0000), Var(v=-0.1291, grad=0.0000), Var(v=0.0130, grad=0.0000), Var(v=-0.1543, grad=0.0000), Var(v=-0.0542, grad=0.0000), Var(v=-0.0361, grad=0.0000), Var(v=0.0006, grad=0.0000), Var(v=-0.1031, grad=0.0000), Var(v=0.0862, grad=0.0000), Var(v=0.0402, grad=0.0000), Var(v=-0.1752, grad=0.0000), Var(v=-0.1118, grad=0.0000), Var(v=-0.0420, grad=0.0000), Var(v=-0.0269, grad=0.0000), Var(v=0.0568, grad=0.0000), Var(v=-0.0953, grad=0.0000), Var(v=0.1012, grad=0.0000), Var(v=-0.0017, grad=0.0000), Var(v=-0.0127, grad=0.0000), Var(v=-0.0572, grad=0.0000), Var(v=0.0075, grad=0.0000), Var(v=-0.1396, grad=0.0000), Var(v=-0.0553, grad=0.0000), Var(v=0.0918, grad=0.0000), Var(v=-0.0432, grad=0.0000), Var(v=0.1859, grad=0.0000), Var(v=0.1051, grad=0.0000), Var(v=0.0849, grad=0.0000), Var(v=0.1892, grad=0.0000), Var(v=0.0734, grad=0.0000), Var(v=-0.0663, grad=0.0000), Var(v=0.0318, grad=0.0000), Var(v=0.1369, grad=0.0000)], [Var(v=-0.0035, grad=0.0000), Var(v=-0.0086, grad=0.0000), Var(v=-0.0736, grad=0.0000), Var(v=-0.1192, grad=0.0000), Var(v=-0.0513, grad=0.0000), Var(v=0.0686, grad=0.0000), Var(v=0.0216, grad=0.0000), Var(v=-0.0160, grad=0.0000), Var(v=-0.0626, grad=0.0000), Var(v=0.0148, grad=0.0000), Var(v=-0.1309, grad=0.0000), Var(v=-0.0212, grad=0.0000), Var(v=0.1709, grad=0.0000), Var(v=0.0618, grad=0.0000), Var(v=0.0569, grad=0.0000), Var(v=-0.0421, grad=0.0000), Var(v=0.0805, grad=0.0000), Var(v=-0.0339, grad=0.0000), Var(v=0.0231, grad=0.0000), Var(v=-0.0765, grad=0.0000), Var(v=-0.1269, grad=0.0000), Var(v=0.0063, grad=0.0000), Var(v=-0.0151, grad=0.0000), Var(v=0.0635, grad=0.0000), Var(v=-0.0425, grad=0.0000), Var(v=-0.0014, grad=0.0000), Var(v=-0.0394, grad=0.0000), Var(v=-0.0113, grad=0.0000), Var(v=-0.0292, grad=0.0000), Var(v=0.0476, grad=0.0000), Var(v=-0.0561, grad=0.0000), Var(v=0.0339, grad=0.0000), Var(v=-0.0846, grad=0.0000), Var(v=-0.1296, grad=0.0000), Var(v=-0.0104, grad=0.0000), Var(v=0.0941, grad=0.0000), Var(v=0.0911, grad=0.0000), Var(v=0.1466, grad=0.0000), Var(v=-0.0335, grad=0.0000), Var(v=-0.0895, grad=0.0000), Var(v=0.0665, grad=0.0000), Var(v=0.0500, grad=0.0000), Var(v=-0.0005, grad=0.0000), Var(v=-0.1896, grad=0.0000), Var(v=-0.0318, grad=0.0000), Var(v=-0.0502, grad=0.0000), Var(v=0.0352, grad=0.0000), Var(v=-0.0039, grad=0.0000), Var(v=0.0662, grad=0.0000), Var(v=0.1105, grad=0.0000)], [Var(v=0.0852, grad=0.0000), Var(v=0.1288, grad=0.0000), Var(v=-0.2135, grad=0.0000), Var(v=-0.0225, grad=0.0000), Var(v=0.0335, grad=0.0000), Var(v=-0.1863, grad=0.0000), Var(v=-0.0254, grad=0.0000), Var(v=-0.0314, grad=0.0000), Var(v=-0.1634, grad=0.0000), Var(v=0.0451, grad=0.0000), Var(v=-0.0062, grad=0.0000), Var(v=0.0038, grad=0.0000), Var(v=-0.1437, grad=0.0000), Var(v=0.1212, grad=0.0000), Var(v=0.0543, grad=0.0000), Var(v=-0.1345, grad=0.0000), Var(v=0.2602, grad=0.0000), Var(v=0.0262, grad=0.0000), Var(v=0.0505, grad=0.0000), Var(v=0.0874, grad=0.0000), Var(v=0.0973, grad=0.0000), Var(v=0.0629, grad=0.0000), Var(v=0.0158, grad=0.0000), Var(v=0.0547, grad=0.0000), Var(v=-0.0617, grad=0.0000), Var(v=0.1127, grad=0.0000), Var(v=-0.1388, grad=0.0000), Var(v=0.0342, grad=0.0000), Var(v=-0.0938, grad=0.0000), Var(v=-0.2149, grad=0.0000), Var(v=-0.1088, grad=0.0000), Var(v=0.0530, grad=0.0000), Var(v=-0.1442, grad=0.0000), Var(v=0.0370, grad=0.0000), Var(v=-0.0611, grad=0.0000), Var(v=0.0013, grad=0.0000), Var(v=-0.0692, grad=0.0000), Var(v=-0.0358, grad=0.0000), Var(v=-0.0196, grad=0.0000), Var(v=-0.1069, grad=0.0000), Var(v=0.0321, grad=0.0000), Var(v=-0.0555, grad=0.0000), Var(v=0.0327, grad=0.0000), Var(v=-0.1504, grad=0.0000), Var(v=0.0772, grad=0.0000), Var(v=0.0026, grad=0.0000), Var(v=-0.1446, grad=0.0000), Var(v=0.1793, grad=0.0000), Var(v=-0.0566, grad=0.0000), Var(v=0.0521, grad=0.0000)], [Var(v=-0.1661, grad=0.0000), Var(v=0.1327, grad=0.0000), Var(v=0.0936, grad=0.0000), Var(v=0.0133, grad=0.0000), Var(v=0.0360, grad=0.0000), Var(v=-0.0862, grad=0.0000), Var(v=-0.1040, grad=0.0000), Var(v=0.0477, grad=0.0000), Var(v=0.1000, grad=0.0000), Var(v=-0.0261, grad=0.0000), Var(v=-0.1338, grad=0.0000), Var(v=-0.0265, grad=0.0000), Var(v=-0.0215, grad=0.0000), Var(v=-0.0669, grad=0.0000), Var(v=-0.0692, grad=0.0000), Var(v=-0.0761, grad=0.0000), Var(v=0.1162, grad=0.0000), Var(v=0.0709, grad=0.0000), Var(v=-0.0334, grad=0.0000), Var(v=-0.0134, grad=0.0000), Var(v=0.1096, grad=0.0000), Var(v=0.0074, grad=0.0000), Var(v=0.0548, grad=0.0000), Var(v=-0.0564, grad=0.0000), Var(v=-0.0225, grad=0.0000), Var(v=-0.0161, grad=0.0000), Var(v=-0.0459, grad=0.0000), Var(v=-0.0559, grad=0.0000), Var(v=0.1055, grad=0.0000), Var(v=-0.0563, grad=0.0000), Var(v=0.0055, grad=0.0000), Var(v=-0.0567, grad=0.0000), Var(v=-0.0864, grad=0.0000), Var(v=-0.0483, grad=0.0000), Var(v=-0.1423, grad=0.0000), Var(v=0.0036, grad=0.0000), Var(v=0.1559, grad=0.0000), Var(v=-0.0394, grad=0.0000), Var(v=-0.1498, grad=0.0000), Var(v=0.0730, grad=0.0000), Var(v=0.0476, grad=0.0000), Var(v=0.0042, grad=0.0000), Var(v=0.1117, grad=0.0000), Var(v=0.0167, grad=0.0000), Var(v=-0.0236, grad=0.0000), Var(v=0.0086, grad=0.0000), Var(v=0.1487, grad=0.0000), Var(v=-0.0693, grad=0.0000), Var(v=0.3177, grad=0.0000), Var(v=-0.0649, grad=0.0000)], [Var(v=0.0871, grad=0.0000), Var(v=-0.0538, grad=0.0000), Var(v=-0.1445, grad=0.0000), Var(v=-0.0446, grad=0.0000), Var(v=-0.0393, grad=0.0000), Var(v=0.1249, grad=0.0000), Var(v=0.0918, grad=0.0000), Var(v=-0.0482, grad=0.0000), Var(v=-0.0106, grad=0.0000), Var(v=0.0308, grad=0.0000), Var(v=0.1764, grad=0.0000), Var(v=-0.0992, grad=0.0000), Var(v=-0.1414, grad=0.0000), Var(v=0.0139, grad=0.0000), Var(v=0.0077, grad=0.0000), Var(v=-0.0732, grad=0.0000), Var(v=0.0294, grad=0.0000), Var(v=0.0787, grad=0.0000), Var(v=-0.0318, grad=0.0000), Var(v=0.0500, grad=0.0000), Var(v=-0.1306, grad=0.0000), Var(v=-0.0094, grad=0.0000), Var(v=-0.0633, grad=0.0000), Var(v=0.0387, grad=0.0000), Var(v=0.1211, grad=0.0000), Var(v=0.2256, grad=0.0000), Var(v=-0.2831, grad=0.0000), Var(v=-0.1492, grad=0.0000), Var(v=-0.0847, grad=0.0000), Var(v=-0.0983, grad=0.0000), Var(v=0.0473, grad=0.0000), Var(v=0.0366, grad=0.0000), Var(v=0.0873, grad=0.0000), Var(v=0.0822, grad=0.0000), Var(v=0.0446, grad=0.0000), Var(v=0.0937, grad=0.0000), Var(v=-0.1008, grad=0.0000), Var(v=0.1053, grad=0.0000), Var(v=-0.0409, grad=0.0000), Var(v=0.1261, grad=0.0000), Var(v=-0.0558, grad=0.0000), Var(v=0.0815, grad=0.0000), Var(v=0.0710, grad=0.0000), Var(v=-0.0167, grad=0.0000), Var(v=-0.0713, grad=0.0000), Var(v=-0.0732, grad=0.0000), Var(v=0.1035, grad=0.0000), Var(v=-0.1186, grad=0.0000), Var(v=-0.0961, grad=0.0000), Var(v=0.0222, grad=0.0000)], [Var(v=-0.0194, grad=0.0000), Var(v=-0.1499, grad=0.0000), Var(v=-0.2292, grad=0.0000), Var(v=0.0712, grad=0.0000), Var(v=0.0402, grad=0.0000), Var(v=0.0722, grad=0.0000), Var(v=0.2264, grad=0.0000), Var(v=-0.0315, grad=0.0000), Var(v=-0.1485, grad=0.0000), Var(v=-0.0858, grad=0.0000), Var(v=-0.0188, grad=0.0000), Var(v=-0.1048, grad=0.0000), Var(v=0.0746, grad=0.0000), Var(v=0.0106, grad=0.0000), Var(v=0.0401, grad=0.0000), Var(v=-0.0470, grad=0.0000), Var(v=-0.0258, grad=0.0000), Var(v=-0.0587, grad=0.0000), Var(v=0.0098, grad=0.0000), Var(v=-0.0146, grad=0.0000), Var(v=-0.0047, grad=0.0000), Var(v=-0.0017, grad=0.0000), Var(v=0.1679, grad=0.0000), Var(v=0.0382, grad=0.0000), Var(v=0.0501, grad=0.0000), Var(v=-0.0776, grad=0.0000), Var(v=0.0567, grad=0.0000), Var(v=0.1718, grad=0.0000), Var(v=0.1104, grad=0.0000), Var(v=0.0582, grad=0.0000), Var(v=0.0699, grad=0.0000), Var(v=0.0637, grad=0.0000), Var(v=-0.0646, grad=0.0000), Var(v=0.0216, grad=0.0000), Var(v=0.0948, grad=0.0000), Var(v=-0.0945, grad=0.0000), Var(v=-0.0332, grad=0.0000), Var(v=-0.0242, grad=0.0000), Var(v=-0.0220, grad=0.0000), Var(v=-0.0192, grad=0.0000), Var(v=-0.0803, grad=0.0000), Var(v=0.1623, grad=0.0000), Var(v=-0.0746, grad=0.0000), Var(v=0.1946, grad=0.0000), Var(v=-0.0520, grad=0.0000), Var(v=-0.1304, grad=0.0000), Var(v=0.0157, grad=0.0000), Var(v=-0.0587, grad=0.0000), Var(v=-0.1699, grad=0.0000), Var(v=-0.0509, grad=0.0000)], [Var(v=-0.0552, grad=0.0000), Var(v=0.0418, grad=0.0000), Var(v=-0.1366, grad=0.0000), Var(v=-0.0701, grad=0.0000), Var(v=-0.0096, grad=0.0000), Var(v=0.0347, grad=0.0000), Var(v=-0.0419, grad=0.0000), Var(v=-0.0936, grad=0.0000), Var(v=-0.0011, grad=0.0000), Var(v=0.1285, grad=0.0000), Var(v=0.0128, grad=0.0000), Var(v=0.0452, grad=0.0000), Var(v=-0.0138, grad=0.0000), Var(v=-0.0007, grad=0.0000), Var(v=0.2199, grad=0.0000), Var(v=0.0734, grad=0.0000), Var(v=-0.0050, grad=0.0000), Var(v=0.0743, grad=0.0000), Var(v=0.1208, grad=0.0000), Var(v=-0.0025, grad=0.0000), Var(v=0.0228, grad=0.0000), Var(v=0.0685, grad=0.0000), Var(v=-0.0019, grad=0.0000), Var(v=-0.1429, grad=0.0000), Var(v=0.1061, grad=0.0000), Var(v=0.0938, grad=0.0000), Var(v=0.0042, grad=0.0000), Var(v=0.0397, grad=0.0000), Var(v=-0.1301, grad=0.0000), Var(v=0.0364, grad=0.0000), Var(v=-0.0656, grad=0.0000), Var(v=-0.0600, grad=0.0000), Var(v=0.2968, grad=0.0000), Var(v=-0.0355, grad=0.0000), Var(v=-0.0934, grad=0.0000), Var(v=-0.0813, grad=0.0000), Var(v=-0.0003, grad=0.0000), Var(v=0.0121, grad=0.0000), Var(v=0.0535, grad=0.0000), Var(v=0.0150, grad=0.0000), Var(v=0.1061, grad=0.0000), Var(v=-0.0671, grad=0.0000), Var(v=-0.0300, grad=0.0000), Var(v=-0.0228, grad=0.0000), Var(v=-0.0439, grad=0.0000), Var(v=0.0737, grad=0.0000), Var(v=0.0111, grad=0.0000), Var(v=0.0538, grad=0.0000), Var(v=0.0470, grad=0.0000), Var(v=0.0123, grad=0.0000)], [Var(v=0.1011, grad=0.0000), Var(v=0.1601, grad=0.0000), Var(v=-0.0657, grad=0.0000), Var(v=0.0280, grad=0.0000), Var(v=0.0543, grad=0.0000), Var(v=-0.0826, grad=0.0000), Var(v=-0.0692, grad=0.0000), Var(v=-0.0131, grad=0.0000), Var(v=-0.0273, grad=0.0000), Var(v=0.1267, grad=0.0000), Var(v=0.0070, grad=0.0000), Var(v=0.0198, grad=0.0000), Var(v=-0.0759, grad=0.0000), Var(v=0.0058, grad=0.0000), Var(v=-0.0321, grad=0.0000), Var(v=-0.0211, grad=0.0000), Var(v=-0.0893, grad=0.0000), Var(v=0.0285, grad=0.0000), Var(v=0.0940, grad=0.0000), Var(v=0.0831, grad=0.0000), Var(v=0.0972, grad=0.0000), Var(v=0.0049, grad=0.0000), Var(v=-0.1533, grad=0.0000), Var(v=0.0907, grad=0.0000), Var(v=-0.0865, grad=0.0000), Var(v=0.0072, grad=0.0000), Var(v=0.0284, grad=0.0000), Var(v=0.0980, grad=0.0000), Var(v=0.0075, grad=0.0000), Var(v=0.0748, grad=0.0000), Var(v=-0.1079, grad=0.0000), Var(v=-0.1321, grad=0.0000), Var(v=0.1362, grad=0.0000), Var(v=-0.1402, grad=0.0000), Var(v=0.0187, grad=0.0000), Var(v=-0.0774, grad=0.0000), Var(v=-0.1420, grad=0.0000), Var(v=-0.1102, grad=0.0000), Var(v=-0.1064, grad=0.0000), Var(v=0.1444, grad=0.0000), Var(v=0.0388, grad=0.0000), Var(v=-0.1268, grad=0.0000), Var(v=-0.0373, grad=0.0000), Var(v=-0.1210, grad=0.0000), Var(v=0.0211, grad=0.0000), Var(v=0.0296, grad=0.0000), Var(v=-0.0106, grad=0.0000), Var(v=-0.0136, grad=0.0000), Var(v=0.0091, grad=0.0000), Var(v=-0.1767, grad=0.0000)], [Var(v=0.1518, grad=0.0000), Var(v=-0.1991, grad=0.0000), Var(v=0.1441, grad=0.0000), Var(v=0.1359, grad=0.0000), Var(v=0.0296, grad=0.0000), Var(v=0.2168, grad=0.0000), Var(v=-0.0416, grad=0.0000), Var(v=0.1804, grad=0.0000), Var(v=0.0406, grad=0.0000), Var(v=0.0759, grad=0.0000), Var(v=-0.0173, grad=0.0000), Var(v=0.1596, grad=0.0000), Var(v=-0.0114, grad=0.0000), Var(v=-0.0858, grad=0.0000), Var(v=-0.0061, grad=0.0000), Var(v=-0.1909, grad=0.0000), Var(v=0.0090, grad=0.0000), Var(v=-0.1586, grad=0.0000), Var(v=0.0380, grad=0.0000), Var(v=0.1179, grad=0.0000), Var(v=0.0286, grad=0.0000), Var(v=0.2349, grad=0.0000), Var(v=0.0871, grad=0.0000), Var(v=-0.0556, grad=0.0000), Var(v=0.1910, grad=0.0000), Var(v=-0.0559, grad=0.0000), Var(v=-0.1230, grad=0.0000), Var(v=-0.0776, grad=0.0000), Var(v=-0.2130, grad=0.0000), Var(v=-0.1108, grad=0.0000), Var(v=-0.1163, grad=0.0000), Var(v=-0.1267, grad=0.0000), Var(v=-0.2344, grad=0.0000), Var(v=0.1744, grad=0.0000), Var(v=-0.1694, grad=0.0000), Var(v=0.0814, grad=0.0000), Var(v=0.0421, grad=0.0000), Var(v=-0.1205, grad=0.0000), Var(v=0.1327, grad=0.0000), Var(v=0.0059, grad=0.0000), Var(v=-0.1673, grad=0.0000), Var(v=0.0507, grad=0.0000), Var(v=-0.0151, grad=0.0000), Var(v=0.1251, grad=0.0000), Var(v=-0.0933, grad=0.0000), Var(v=0.1205, grad=0.0000), Var(v=0.1338, grad=0.0000), Var(v=-0.0814, grad=0.0000), Var(v=0.0616, grad=0.0000), Var(v=0.1336, grad=0.0000)]] Biases: [Var(v=0.0021, grad=0.0000), Var(v=0.0000, grad=0.0000), Var(v=0.0000, grad=0.0000), Var(v=-0.0004, grad=0.0000), Var(v=0.0000, grad=0.0000), Var(v=0.0018, grad=0.0000), Var(v=-0.0004, grad=0.0000), Var(v=0.0000, grad=0.0000), Var(v=-0.0075, grad=0.0000), Var(v=0.0005, grad=0.0000), Var(v=0.0024, grad=0.0000), Var(v=-0.0337, grad=0.0000), Var(v=0.0000, grad=0.0000), Var(v=0.0000, grad=0.0000), Var(v=0.0003, grad=0.0000), Var(v=0.1679, grad=0.0000), Var(v=-0.0001, grad=0.0000), Var(v=-0.0008, grad=0.0000), Var(v=-0.0857, grad=0.0000), Var(v=0.0343, grad=0.0000), Var(v=0.0287, grad=0.0000), Var(v=-0.1620, grad=0.0000), Var(v=-0.0047, grad=0.0000), Var(v=0.0266, grad=0.0000), Var(v=-0.0688, grad=0.0000), Var(v=0.0241, grad=0.0000), Var(v=-0.0735, grad=0.0000), Var(v=0.0000, grad=0.0000), Var(v=-0.0330, grad=0.0000), Var(v=-0.0489, grad=0.0000), Var(v=0.0000, grad=0.0000), Var(v=-0.0316, grad=0.0000), Var(v=0.1718, grad=0.0000), Var(v=0.0629, grad=0.0000), Var(v=-0.1757, grad=0.0000), Var(v=-0.1190, grad=0.0000), Var(v=0.0000, grad=0.0000), Var(v=-0.0008, grad=0.0000), Var(v=0.0585, grad=0.0000), Var(v=0.0548, grad=0.0000), Var(v=0.0770, grad=0.0000), Var(v=-0.0012, grad=0.0000), Var(v=-0.2342, grad=0.0000), Var(v=0.0750, grad=0.0000), Var(v=-0.1002, grad=0.0000), Var(v=-0.0022, grad=0.0000), Var(v=-0.0000, grad=0.0000), Var(v=0.0000, grad=0.0000), Var(v=-0.0008, grad=0.0000), Var(v=-0.0264, grad=0.0000)]\n",
      "Layer 2 \n",
      " DenseLayer(n_in = 50, n_out = 1):\n",
      "Weights and biases:\n",
      "Weights: [[Var(v=0.1785, grad=0.0000)], [Var(v=-0.0341, grad=0.0000)], [Var(v=0.1255, grad=0.0000)], [Var(v=-0.0185, grad=0.0000)], [Var(v=0.0693, grad=0.0000)], [Var(v=0.1398, grad=0.0000)], [Var(v=-0.0341, grad=0.0000)], [Var(v=-0.2783, grad=0.0000)], [Var(v=-0.0165, grad=0.0000)], [Var(v=0.0324, grad=0.0000)], [Var(v=0.1528, grad=0.0000)], [Var(v=0.0261, grad=0.0000)], [Var(v=-0.2025, grad=0.0000)], [Var(v=-0.0089, grad=0.0000)], [Var(v=-0.0082, grad=0.0000)], [Var(v=-0.2296, grad=0.0000)], [Var(v=0.0064, grad=0.0000)], [Var(v=-0.0592, grad=0.0000)], [Var(v=0.0864, grad=0.0000)], [Var(v=0.0641, grad=0.0000)], [Var(v=-0.0381, grad=0.0000)], [Var(v=-0.1629, grad=0.0000)], [Var(v=-0.0000, grad=0.0000)], [Var(v=0.0405, grad=0.0000)], [Var(v=-0.0272, grad=0.0000)], [Var(v=0.0683, grad=0.0000)], [Var(v=0.0723, grad=0.0000)], [Var(v=0.0731, grad=0.0000)], [Var(v=0.0010, grad=0.0000)], [Var(v=0.0172, grad=0.0000)], [Var(v=0.0787, grad=0.0000)], [Var(v=0.0300, grad=0.0000)], [Var(v=-0.2269, grad=0.0000)], [Var(v=0.0757, grad=0.0000)], [Var(v=0.1737, grad=0.0000)], [Var(v=-0.1084, grad=0.0000)], [Var(v=-0.1168, grad=0.0000)], [Var(v=-0.0537, grad=0.0000)], [Var(v=-0.0910, grad=0.0000)], [Var(v=0.0927, grad=0.0000)], [Var(v=-0.1028, grad=0.0000)], [Var(v=-0.0695, grad=0.0000)], [Var(v=-0.2215, grad=0.0000)], [Var(v=0.0892, grad=0.0000)], [Var(v=0.0983, grad=0.0000)], [Var(v=-0.1975, grad=0.0000)], [Var(v=0.0263, grad=0.0000)], [Var(v=0.0855, grad=0.0000)], [Var(v=-0.0566, grad=0.0000)], [Var(v=-0.0148, grad=0.0000)]] Biases: [Var(v=0.0136, grad=0.0000)]\n"
     ]
    },
    {
     "data": {
      "text/plain": [
       "[None, None, None]"
      ]
     },
     "execution_count": 166,
     "metadata": {},
     "output_type": "execute_result"
    }
   ],
   "source": [
    "print('Network before update:')\n",
    "[print('Layer', i, '\\n', NN[i]) for i in range(len(NN))] \n",
    "\n",
    "def parameters(network):\n",
    "  params = []\n",
    "  for layer in range(len(network)):\n",
    "    params += network[layer].parameters()\n",
    "  return params\n",
    "\n",
    "def update_parameters(params, learning_rate=0.01):\n",
    "  for p in params:\n",
    "    p.v -= learning_rate*p.grad\n",
    "\n",
    "def zero_gradients(params):\n",
    "  for p in params:\n",
    "    p.grad = 0.0\n",
    "\n",
    "update_parameters(parameters(NN))\n",
    "\n",
    "print('\\nNetwork after update:')\n",
    "[print('Layer', i, '\\n', NN[i]) for i in range(len(NN))] \n",
    "\n",
    "zero_gradients(parameters(NN))\n",
    "\n",
    "print('\\nNetwork after zeroing gradients:')\n",
    "[print('Layer', i, '\\n', NN[i]) for i in range(len(NN))] "
   ]
  },
  {
   "cell_type": "code",
   "execution_count": 167,
   "metadata": {
    "id": "woWYpdw6FtIO"
   },
   "outputs": [],
   "source": [
    "# Initialize an arbitrary neural network\n",
    "NN = [\n",
    "    DenseLayer(1, 8, lambda x: x.relu()),\n",
    "    DenseLayer(8, 1, lambda x: x.identity())\n",
    "]\n",
    "\n",
    "# Recommended hyper-parameters for 3-D: \n",
    "#NN = [\n",
    "#    DenseLayer(3, 16, lambda x: x.relu()),\n",
    "#    DenseLayer(16, 1, lambda x: x.identity())\n",
    "#]\n",
    "\n",
    "\n",
    "### Notice that, when we switch from tanh to relu activation, we decrease the learning rate. This is due the stability of the gradients \n",
    "## of the activation functions."
   ]
  },
  {
   "cell_type": "code",
   "execution_count": 168,
   "metadata": {
    "id": "mdqaqYBVFtIR"
   },
   "outputs": [],
   "source": [
    "# Initialize training hyperparameters\n",
    "EPOCHS = 200\n",
    "LEARN_R = 2e-3 "
   ]
  },
  {
   "cell_type": "code",
   "execution_count": 169,
   "metadata": {
    "colab": {
     "base_uri": "https://localhost:8080/"
    },
    "id": "5kfg76GMFtIW",
    "outputId": "e30cf68a-31f2-42b4-cc5e-860c297c0f04",
    "scrolled": true
   },
   "outputs": [
    {
     "name": "stdout",
     "output_type": "stream",
     "text": [
      "   0 ( 0.00%) Train loss: 107.951 \t Validation loss: 105.164\n",
      "  10 ( 5.00%) Train loss: 41.143 \t Validation loss: 30.050\n",
      "  20 (10.00%) Train loss: 16.109 \t Validation loss: 12.001\n",
      "  30 (15.00%) Train loss: 14.936 \t Validation loss: 10.900\n",
      "  40 (20.00%) Train loss: 13.276 \t Validation loss: 10.209\n",
      "  50 (25.00%) Train loss: 12.528 \t Validation loss: 9.719\n",
      "  60 (30.00%) Train loss: 12.308 \t Validation loss: 9.422\n",
      "  70 (35.00%) Train loss: 12.208 \t Validation loss: 9.273\n",
      "  80 (40.00%) Train loss: 12.158 \t Validation loss: 9.168\n",
      "  90 (45.00%) Train loss: 12.120 \t Validation loss: 9.066\n",
      " 100 (50.00%) Train loss: 12.090 \t Validation loss: 9.006\n",
      " 110 (55.00%) Train loss: 12.066 \t Validation loss: 8.972\n",
      " 120 (60.00%) Train loss: 12.046 \t Validation loss: 8.951\n",
      " 130 (65.00%) Train loss: 12.029 \t Validation loss: 8.941\n",
      " 140 (70.00%) Train loss: 12.014 \t Validation loss: 8.940\n",
      " 150 (75.00%) Train loss: 12.002 \t Validation loss: 8.940\n",
      " 160 (80.00%) Train loss: 11.991 \t Validation loss: 8.939\n",
      " 170 (85.00%) Train loss: 11.983 \t Validation loss: 8.938\n",
      " 180 (90.00%) Train loss: 11.973 \t Validation loss: 8.939\n",
      " 190 (95.00%) Train loss: 11.964 \t Validation loss: 8.941\n"
     ]
    }
   ],
   "source": [
    "train_loss = []\n",
    "val_loss = []\n",
    "\n",
    "for e in range(EPOCHS):\n",
    "     \n",
    "    # Forward pass and loss computation\n",
    "    Loss = squared_loss(y_train, forward(x_train, NN))\n",
    "\n",
    "    # Backward pass\n",
    "    Loss.backward()\n",
    "    \n",
    "    # gradient descent update\n",
    "    update_parameters(parameters(NN), LEARN_R)\n",
    "    zero_gradients(parameters(NN))\n",
    "    \n",
    "    # Training loss\n",
    "    train_loss.append(Loss.v)\n",
    "    \n",
    "    # Validation\n",
    "    Loss_validation = squared_loss(y_validation, forward(x_validation, NN))\n",
    "    val_loss.append(Loss_validation.v)\n",
    "    \n",
    "    if e%10==0:\n",
    "        print(\"{:4d}\".format(e),\n",
    "              \"({:5.2f}%)\".format(e/EPOCHS*100), \n",
    "              \"Train loss: {:4.3f} \\t Validation loss: {:4.3f}\".format(train_loss[-1], val_loss[-1]))\n",
    "        \n"
   ]
  },
  {
   "cell_type": "code",
   "execution_count": 170,
   "metadata": {
    "colab": {
     "base_uri": "https://localhost:8080/",
     "height": 265
    },
    "id": "VetyRWFwFtIY",
    "outputId": "344e490d-6d7d-455a-fa6f-88dd11eb957e"
   },
   "outputs": [
    {
     "data": {
      "image/png": "[encoded data removed]",
      "text/plain": [
       "<Figure size 640x480 with 1 Axes>"
      ]
     },
     "metadata": {},
     "output_type": "display_data"
    }
   ],
   "source": [
    "plt.plot(range(len(train_loss)), train_loss);\n",
    "plt.plot(range(len(val_loss)), val_loss);"
   ]
  },
  {
   "cell_type": "markdown",
   "metadata": {
    "id": "8OgmIrM9FtIb"
   },
   "source": [
    "# Testing\n",
    "\n",
    "We have kept the calculation of the test error separate in order to emphasize that you should not use the test set in optimization."
   ]
  },
  {
   "cell_type": "code",
   "execution_count": 171,
   "metadata": {
    "id": "HmNi7S-vFtIc"
   },
   "outputs": [],
   "source": [
    "output_test = forward(x_test, NN)"
   ]
  },
  {
   "cell_type": "code",
   "execution_count": 172,
   "metadata": {
    "colab": {
     "base_uri": "https://localhost:8080/",
     "height": 316
    },
    "id": "7mmJOTSEFtIf",
    "outputId": "e3264095-cefe-4aee-893d-bf152438e332"
   },
   "outputs": [
    {
     "name": "stdout",
     "output_type": "stream",
     "text": [
      "Test loss:  9.899\n"
     ]
    },
    {
     "data": {
      "image/png": "[encoded data removed]",
      "text/plain": [
       "<Figure size 640x480 with 1 Axes>"
      ]
     },
     "metadata": {},
     "output_type": "display_data"
    }
   ],
   "source": [
    "y_test_np = Var_to_nparray(y_test)\n",
    "plt.scatter(y_test_np, Var_to_nparray(output_test));\n",
    "plt.plot([np.min(y_test_np), np.max(y_test_np)], [np.min(y_test_np), np.max(y_test_np)], color='k');\n",
    "plt.xlabel(\"y\");\n",
    "plt.ylabel(\"$\\hat{y}$\");\n",
    "plt.title(\"Model prediction vs real in the test set, the close to the line the better\")\n",
    "plt.grid(True);\n",
    "plt.axis('equal');\n",
    "plt.tight_layout();\n",
    "\n",
    "Loss_test = squared_loss(y_test, forward(x_test, NN))\n",
    "\n",
    "print(\"Test loss:  {:4.3f}\".format(Loss_test.v))"
   ]
  },
  {
   "cell_type": "code",
   "execution_count": 173,
   "metadata": {
    "colab": {
     "base_uri": "https://localhost:8080/",
     "height": 279
    },
    "id": "ODi0WlmQFtIh",
    "outputId": "d1ab874f-0717-4987-87bf-1f0c7c8e7148"
   },
   "outputs": [
    {
     "data": {
      "image/png": "[encoded data removed]",
      "text/plain": [
       "<Figure size 640x480 with 1 Axes>"
      ]
     },
     "metadata": {},
     "output_type": "display_data"
    }
   ],
   "source": [
    "x_test_np = Var_to_nparray(x_test)\n",
    "x_train_np = Var_to_nparray(x_train)\n",
    "y_train_np = Var_to_nparray(y_train)\n",
    "if D1:\n",
    "    plt.scatter(x_train_np, y_train_np, label=\"train data\");\n",
    "    plt.scatter(x_test_np, Var_to_nparray(output_test), label=\"test prediction\");\n",
    "    plt.scatter(x_test_np, y_test_np, label=\"test data\");\n",
    "    plt.legend();\n",
    "    plt.xlabel(\"x\");\n",
    "    plt.ylabel(\"y\");\n",
    "else:\n",
    "    plt.scatter(x_train_np[:,1], y_train, label=\"train data\");\n",
    "    plt.scatter(x_test_np[:,1], Var_to_nparray(output_test), label=\"test data prediction\");\n",
    "    plt.scatter(x_test_np[:,1], y_test_np, label=\"test data\");\n",
    "    plt.legend();\n",
    "    plt.xlabel(\"x\");\n",
    "    plt.ylabel(\"y\");"
   ]
  },
  {
   "cell_type": "markdown",
   "metadata": {
    "id": "zTBAmjsAFtIk"
   },
   "source": [
    "## Exercise l) Show overfitting, underfitting and just right fitting\n",
    "\n",
    "Vary the architecture and other things to show clear signs of overfitting (=training loss significantly lower than test loss) and underfitting (=not fitting enoung to training data so that test performance is also hurt).\n",
    "\n",
    "See also if you can get a good compromise which leads to a low validation loss. \n",
    "\n",
    "For this problem do you see any big difference between validation and test loss? The answer here will probably be no. Discuss cases where it is important to keep the two separate.\n",
    "\n",
    "_Insert written answer here._\n"
   ]
  },
  {
   "cell_type": "code",
   "execution_count": null,
   "metadata": {
    "id": "tQZCn2dxFtIl"
   },
   "outputs": [],
   "source": [
    "# Insert your code for getting overfitting, underfitting and just right fitting"
   ]
  },
  {
   "cell_type": "markdown",
   "metadata": {
    "id": "fYPZP-eTFtIo"
   },
   "source": [
    "# Next steps - classification\n",
    "\n",
    "It is straight forward to extend what we have done to classification. \n",
    "\n",
    "For numerical stability it is better to make softmax and cross-entropy as one function so we write the cross entropy loss as a function of the logits we talked about last week. \n",
    "\n",
    "Next week we will see how to perform classification in PyTorch."
   ]
  },
  {
   "cell_type": "markdown",
   "metadata": {
    "id": "qsVPul3QFtIo"
   },
   "source": [
    "## Exercise m) optional - Implement backpropagation for classification\n",
    "\n",
    "Should be possible with very few lines of code. :-)"
   ]
  },
  {
   "cell_type": "code",
   "execution_count": null,
   "metadata": {
    "id": "oC8QrI2tFtIp"
   },
   "outputs": [],
   "source": [
    "# Just add code."
   ]
  },
  {
   "cell_type": "markdown",
   "metadata": {
    "id": "APqhJv3tta1O"
   },
   "source": [
    "## Exercise n) optional - Introduce a NeuralNetwork class\n",
    "\n",
    "The functions we applied on the neural network (parameters, update_parameters and zero_gradients) can more naturally be included as methods in a NeuralNetwork class. Make such a class and modify the code to use it. "
   ]
  },
  {
   "cell_type": "code",
   "execution_count": null,
   "metadata": {
    "id": "Dqfnor1ouMLq"
   },
   "outputs": [],
   "source": [
    "# just add some code"
   ]
  }
 ],
 "metadata": {
  "anaconda-cloud": {},
  "colab": {
   "collapsed_sections": [
    "U4057_ljNvWB",
    "p_8n_SKnIW2F",
    "oLrGJytZFtGm",
    "jpIZPBpNI0pO",
    "_79HOAXrFtHK",
    "mqeyab9qFtGs",
    "-XyXBD37FtHk",
    "SrwSJ2UWFtHu",
    "zTBAmjsAFtIk",
    "qsVPul3QFtIo",
    "APqhJv3tta1O"
   ],
   "name": "2.1-EXE-FNN-AutoDif-Nanograd.ipynb",
   "provenance": []
  },
  "kernelspec": {
   "display_name": "Python 3",
   "language": "python",
   "name": "python3"
  },
  "language_info": {
   "codemirror_mode": {
    "name": "ipython",
    "version": 3
   },
   "file_extension": ".py",
   "mimetype": "text/x-python",
   "name": "python",
   "nbconvert_exporter": "python",
   "pygments_lexer": "ipython3",
   "version": "3.10.4"
  }
 },
 "nbformat": 4,
 "nbformat_minor": 1
}
