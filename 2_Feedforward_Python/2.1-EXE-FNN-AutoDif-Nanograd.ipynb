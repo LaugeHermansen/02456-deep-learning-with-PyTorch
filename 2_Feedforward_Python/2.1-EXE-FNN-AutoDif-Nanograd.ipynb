{
 "cells": [
  {
   "cell_type": "markdown",
   "metadata": {
    "id": "HAva8TnYFtFu"
   },
   "source": [
    "# Contents and why we need this lab\n",
    "\n",
    "This lab is about implementing neural networks yourself before we start using other frameworks that hide some of the computation from you. It builds on the first lab, where you derived the equations for neural network forward and backward propagation and gradient descent parameter updates. \n",
    "\n",
    "All the frameworks for deep learning you will meet from now on use automatic differentiation (autodiff), so you do not have to code the backward step yourself. In this version of this lab, you will develop your own autodif implementation. We also have an optional [version](https://github.com/DeepLearningDTU/02456-deep-learning-with-PyTorch/blob/master/2_Feedforward_Python/2.2-FNN-NumPy.ipynb) of this lab where you have to code the backward pass explicitly in Numpy."
   ]
  },
  {
   "cell_type": "markdown",
   "metadata": {
    "id": "sCa7HzwpFtFy"
   },
   "source": [
    "# External sources of information\n",
    "\n",
    "1. Jupyter notebook. You can find more information about Jupyter notebooks [here](https://jupyter.org/). It will come as part of the [Anaconda](https://www.anaconda.com/) Python installation. \n",
    "2. [NumPy](https://numpy.org/). Part of Anaconda distribution.  If you already know how to program, most things about Python and NumPy can be found with Google searches.\n",
    "3. [Nanograd](https://github.com/rasmusbergpalm/nanograd) is a minimalistic version of autodiff developed by Rasmus Berg Palm that we use for our framework.\n"
   ]
  },
  {
   "cell_type": "markdown",
   "metadata": {
    "id": "1SjiIp-TFtF0"
   },
   "source": [
    "# This notebook will follow the next steps:\n",
    "\n",
    "1. Nanograd automatic differentiation framework\n",
    "2. Finite difference method\n",
    "3. Data generation\n",
    "4. Defining and initializing the network\n",
    "5. Forward pass\n",
    "6. Training loop \n",
    "7. Testing your model\n",
    "8. Further extensions"
   ]
  },
  {
   "cell_type": "markdown",
   "metadata": {
    "id": "OyXeAA-HuT7s"
   },
   "source": [
    "# Nanograd automatic differention framework"
   ]
  },
  {
   "cell_type": "markdown",
   "metadata": {
    "id": "k6UWKCLKubgA"
   },
   "source": [
    "The [Nanograd](https://github.com/rasmusbergpalm/nanograd) framework defines a class Var which both holds a value and gradient value that we can use to store the intermediate values when we apply the chain rule of differentiation."
   ]
  },
  {
   "cell_type": "code",
   "execution_count": 69,
   "metadata": {
    "id": "Jd4CoEBNzNWS"
   },
   "outputs": [],
   "source": [
    "# Copy and pasted from https://github.com/rasmusbergpalm/nanograd/blob/3a1bf9e9e724da813bfccf91a6f309abdade9f39/nanograd.py\n",
    "\n",
    "from math import exp, log\n",
    "\n",
    "class Var:\n",
    "    \"\"\"\n",
    "    A variable which holds a float and enables gradient computations.\n",
    "    \"\"\"\n",
    "\n",
    "    def __init__(self, val: float, grad_fn=lambda: []):\n",
    "        assert isinstance(val, float) or isinstance(val, int)\n",
    "        self.v = val\n",
    "        self.grad_fn = grad_fn\n",
    "        self.grad = 0.0\n",
    "\n",
    "    def backprop(self, bp):\n",
    "        self.grad += bp\n",
    "        for input, grad in self.grad_fn():\n",
    "            input.backprop(grad * bp)\n",
    "\n",
    "    def backward(self):\n",
    "        self.backprop(1.0)\n",
    "\n",
    "    def __add__(self: 'Var', other: 'Var') -> 'Var':\n",
    "        return Var(self.v + other.v, lambda: [(self, 1.0), (other, 1.0)])\n",
    "\n",
    "    def __mul__(self: 'Var', other: 'Var') -> 'Var':\n",
    "        return Var(self.v * other.v, lambda: [(self, other.v), (other, self.v)])\n",
    "\n",
    "    def __pow__(self, power):\n",
    "        assert type(power) in {float, int}, \"power must be float or int\"\n",
    "        return Var(self.v ** power, lambda: [(self, power * self.v ** (power - 1))])\n",
    "\n",
    "    def __neg__(self: 'Var') -> 'Var':\n",
    "        return Var(-1.0) * self\n",
    "\n",
    "    def __sub__(self: 'Var', other: 'Var') -> 'Var':\n",
    "        return self + (-other)\n",
    "\n",
    "    def __truediv__(self: 'Var', other: 'Var') -> 'Var':\n",
    "        return self * other ** -1\n",
    "\n",
    "    def __repr__(self):\n",
    "        return \"Var(v=%.4f, grad=%.4f)\" % (self.v, self.grad)\n",
    "\n",
    "    def relu(self):\n",
    "        return Var(self.v if self.v > 0.0 else 0.0, lambda: [(self, 1.0 if self.v > 0.0 else 0.0)])\n",
    "    \n",
    "    def identity(self):\n",
    "        return Var(self.v, lambda: [(self, 1.0)])\n",
    "\n",
    "    def tanh(self):\n",
    "        v = self.v\n",
    "        tanh_v = (exp(v) - exp(-v))/(exp(v)+exp(-v))\n",
    "        return Var(tanh_v, lambda: [(self, 1-tanh_v**2)])\n",
    "    \n",
    "    def sigmoid(self):\n",
    "        sigmoid_v = 1/(1+exp(-self.v))\n",
    "        sigmoid_v_diff = sigmoid_v*(1-sigmoid_v)\n",
    "        return Var(sigmoid_v, lambda: [(self, sigmoid_v_diff)])\n",
    "\n",
    "    def exp(self):\n",
    "        return Var(exp(self.v), lambda: [(self, exp(self.v))])\n",
    "    \n",
    "    def log(self):\n",
    "        return Var(log(self.v), lambda: [(self, self.v ** -1)])\n",
    "        "
   ]
  },
  {
   "cell_type": "markdown",
   "metadata": {
    "id": "yDX67D6jzcte"
   },
   "source": [
    "A few examples illustrate how we can use this:"
   ]
  },
  {
   "cell_type": "code",
   "execution_count": 32,
   "metadata": {
    "colab": {
     "base_uri": "https://localhost:8080/"
    },
    "id": "xk6PeLc3zwPT",
    "outputId": "47e431b2-07ba-4cb1-ea21-997769641c67"
   },
   "outputs": [
    {
     "name": "stdout",
     "output_type": "stream",
     "text": [
      "Var(v=3.0000, grad=5.0000)\n",
      "Var(v=5.0000, grad=3.0000)\n",
      "Var(v=15.0000, grad=1.0000)\n"
     ]
    }
   ],
   "source": [
    "a = Var(3.0)\n",
    "b = Var(5.0)\n",
    "f = a * b\n",
    "\n",
    "f.backward()\n",
    "\n",
    "for v in [a, b, f]:\n",
    "    print(v)"
   ]
  },
  {
   "cell_type": "code",
   "execution_count": 33,
   "metadata": {
    "colab": {
     "base_uri": "https://localhost:8080/"
    },
    "id": "JmKhYgsY0g_o",
    "outputId": "06c1b1df-c33c-40d3-922a-624612a591c7"
   },
   "outputs": [
    {
     "name": "stdout",
     "output_type": "stream",
     "text": [
      "Var(v=3.0000, grad=14.0000)\n",
      "Var(v=5.0000, grad=3.0000)\n",
      "Var(v=15.0000, grad=1.0000)\n",
      "Var(v=9.0000, grad=3.0000)\n",
      "Var(v=27.0000, grad=1.0000)\n",
      "Var(v=42.0000, grad=1.0000)\n"
     ]
    }
   ],
   "source": [
    "a = Var(3.0)\n",
    "b = Var(5.0)\n",
    "c = a * b\n",
    "d = Var(9.0)\n",
    "e = a * d\n",
    "f = c + e\n",
    "\n",
    "f.backward()\n",
    "\n",
    "for v in [a, b, c, d, e, f]:\n",
    "    print(v)"
   ]
  },
  {
   "cell_type": "markdown",
   "metadata": {
    "id": "Fe3B6uEH140p"
   },
   "source": [
    "## Exercise a) What is being calculated?\n",
    "\n",
    "Explain briefly the output of the code? What is the expression we differentiate and with respect to what variables?\n",
    "\n",
    "## Answer\n",
    "We differentiate the function f with respect to the different variables, so v is the value of a Var object, and grad is the gradient of f wrt that instance."
   ]
  },
  {
   "cell_type": "markdown",
   "metadata": {
    "id": "q8_Q0t2I3Ruj"
   },
   "source": [
    "## Exercise b) How does the backward function work?\n",
    "\n",
    "You need to understand how the backward function calculates the gradients. We can use the two examples above to help with that.\n",
    "\n",
    "Go through the following four steps and answer the questions on the way:\n",
    "\n",
    "1. We represent the two expressions as graphs as shown below. Fill in the missing expressions for the different derivatives.\n",
    "\n",
    "2. In the remainder consider the first expression. Make a schematic of the data structure which is generated when we define the expression for f. \n",
    "\n",
    "3. Then execute the backward function by hand to convince yourself that it indeed calculates the gradients with respect to the variables. \n",
    "\n",
    "4. Write down the sequence of calls to backprop."
   ]
  },
  {
   "cell_type": "markdown",
   "metadata": {},
   "source": [
    "## Answer\n",
    "### Expression 1\n",
    "\n",
    "f contains the two variablse that it is a function of, and each of these variables contain the variables they are functions of and so on. In the table below where we show recursive call tree to the backprob function, the structure appears as well.\n",
    "\n",
    "\n",
    "All gradients are initialized to zero\n",
    "\n",
    "f.backward()\n",
    "  * f.backprob(1)\n",
    "    * f.grad += 1\n",
    "    * a.backprob(5) $(b*bp = 5*1=5)$\n",
    "      * a.grad += 5\n",
    "    * b.packprob(3)\n",
    "      * b.grad += 3\n",
    "\n",
    "### Expression 2\n",
    "f.backward()\n",
    "  * f.backprob(1)\n",
    "    * f.grad += 1\n",
    "    * c.backprob(1)\n",
    "      * c.grad += 1\n",
    "      * a.backprob(5)\n",
    "        * a.grad += 5\n",
    "      * b.backprob(3)\n",
    "        * b.grad += 3\n",
    "    * e.backprob(1)\n",
    "      * e.grad += 1\n",
    "      * a.backprob(9)\n",
    "        * a.grad += 9 (a.grad = 14)\n",
    "      * d.backprob(3)\n",
    "        * d.grad += 3"
   ]
  },
  {
   "cell_type": "code",
   "execution_count": 34,
   "metadata": {
    "id": "idGr71jYXl26"
   },
   "outputs": [],
   "source": [
    "# import logging\n",
    "import graphviz\n",
    "\n",
    "# logging.basicConfig(format='[%(levelname)s@%(name)s] %(message)s', level=logging.DEBUG)\n",
    "\n",
    "# graphviz.__version__, graphviz.version()"
   ]
  },
  {
   "cell_type": "code",
   "execution_count": 35,
   "metadata": {
    "colab": {
     "base_uri": "https://localhost:8080/",
     "height": 152
    },
    "id": "KPe30Q2QXzeG",
    "outputId": "7fa002cd-a018-4dbb-ddf1-28ed5e99ee19"
   },
   "outputs": [
    {
     "data": {
      "image/svg+xml": "<?xml version=\"1.0\" encoding=\"UTF-8\" standalone=\"no\"?>\n<!DOCTYPE svg PUBLIC \"-//W3C//DTD SVG 1.1//EN\"\n \"http://www.w3.org/Graphics/SVG/1.1/DTD/svg11.dtd\">\n<!-- Generated by graphviz version 2.50.0 (0)\n -->\n<!-- Title: first expression Pages: 1 -->\n<svg width=\"159pt\" height=\"98pt\"\n viewBox=\"0.00 0.00 159.00 98.00\" xmlns=\"http://www.w3.org/2000/svg\" xmlns:xlink=\"http://www.w3.org/1999/xlink\">\n<g id=\"graph0\" class=\"graph\" transform=\"scale(1 1) rotate(0) translate(4 94)\">\n<title>first expression</title>\n<polygon fill=\"white\" stroke=\"transparent\" points=\"-4,4 -4,-94 155,-94 155,4 -4,4\"/>\n<!-- a -->\n<g id=\"node1\" class=\"node\">\n<title>a</title>\n<ellipse fill=\"none\" stroke=\"black\" cx=\"18\" cy=\"-72\" rx=\"18\" ry=\"18\"/>\n<text text-anchor=\"middle\" x=\"18\" y=\"-68.3\" font-family=\"Times New Roman,serif\" font-size=\"14.00\">a</text>\n</g>\n<!-- f -->\n<g id=\"node2\" class=\"node\">\n<title>f</title>\n<ellipse fill=\"none\" stroke=\"black\" cx=\"133\" cy=\"-45\" rx=\"18\" ry=\"18\"/>\n<text text-anchor=\"middle\" x=\"133\" y=\"-41.3\" font-family=\"Times New Roman,serif\" font-size=\"14.00\">f</text>\n</g>\n<!-- a&#45;&gt;f -->\n<g id=\"edge1\" class=\"edge\">\n<title>a&#45;&gt;f</title>\n<path fill=\"none\" stroke=\"black\" d=\"M35.67,-68.02C54.03,-63.63 83.81,-56.51 105.4,-51.36\"/>\n<polygon fill=\"black\" stroke=\"black\" points=\"106.35,-54.73 115.26,-49 104.72,-47.92 106.35,-54.73\"/>\n<text text-anchor=\"middle\" x=\"75.5\" y=\"-66.8\" font-family=\"Times New Roman,serif\" font-size=\"14.00\">df/da=b</text>\n</g>\n<!-- b -->\n<g id=\"node3\" class=\"node\">\n<title>b</title>\n<ellipse fill=\"none\" stroke=\"black\" cx=\"18\" cy=\"-18\" rx=\"18\" ry=\"18\"/>\n<text text-anchor=\"middle\" x=\"18\" y=\"-14.3\" font-family=\"Times New Roman,serif\" font-size=\"14.00\">b</text>\n</g>\n<!-- b&#45;&gt;f -->\n<g id=\"edge2\" class=\"edge\">\n<title>b&#45;&gt;f</title>\n<path fill=\"none\" stroke=\"black\" d=\"M35.85,-20.94C51.73,-23.83 76.12,-28.59 97,-34 99.89,-34.75 102.9,-35.59 105.88,-36.47\"/>\n<polygon fill=\"black\" stroke=\"black\" points=\"105.13,-39.9 115.72,-39.5 107.19,-33.21 105.13,-39.9\"/>\n<text text-anchor=\"middle\" x=\"75.5\" y=\"-37.8\" font-family=\"Times New Roman,serif\" font-size=\"14.00\">df/db=a</text>\n</g>\n</g>\n</svg>\n",
      "text/plain": [
       "<graphviz.graphs.Digraph at 0x258610853f0>"
      ]
     },
     "execution_count": 35,
     "metadata": {},
     "output_type": "execute_result"
    }
   ],
   "source": [
    "e1 = graphviz.Digraph('first expression', filename='fsm.gv')\n",
    "\n",
    "e1.attr(rankdir='LR', size='8,5')\n",
    "\n",
    "e1.attr('node', shape='circle')\n",
    "e1.edge('a', 'f', label='df/da=b')\n",
    "e1.edge('b', 'f', label='df/db=a')\n",
    "e1"
   ]
  },
  {
   "cell_type": "code",
   "execution_count": 36,
   "metadata": {
    "colab": {
     "base_uri": "https://localhost:8080/",
     "height": 232
    },
    "id": "0nittR-mZFeX",
    "outputId": "fa3656a3-732c-4abe-8084-98a492b0d6be"
   },
   "outputs": [
    {
     "data": {
      "image/svg+xml": "<?xml version=\"1.0\" encoding=\"UTF-8\" standalone=\"no\"?>\n<!DOCTYPE svg PUBLIC \"-//W3C//DTD SVG 1.1//EN\"\n \"http://www.w3.org/Graphics/SVG/1.1/DTD/svg11.dtd\">\n<!-- Generated by graphviz version 2.50.0 (0)\n -->\n<!-- Title: second expression Pages: 1 -->\n<svg width=\"276pt\" height=\"158pt\"\n viewBox=\"0.00 0.00 276.00 158.00\" xmlns=\"http://www.w3.org/2000/svg\" xmlns:xlink=\"http://www.w3.org/1999/xlink\">\n<g id=\"graph0\" class=\"graph\" transform=\"scale(1 1) rotate(0) translate(4 154)\">\n<title>second expression</title>\n<polygon fill=\"white\" stroke=\"transparent\" points=\"-4,4 -4,-154 272,-154 272,4 -4,4\"/>\n<!-- a -->\n<g id=\"node1\" class=\"node\">\n<title>a</title>\n<ellipse fill=\"none\" stroke=\"black\" cx=\"18\" cy=\"-75\" rx=\"18\" ry=\"18\"/>\n<text text-anchor=\"middle\" x=\"18\" y=\"-71.3\" font-family=\"Times New Roman,serif\" font-size=\"14.00\">a</text>\n</g>\n<!-- c -->\n<g id=\"node2\" class=\"node\">\n<title>c</title>\n<ellipse fill=\"none\" stroke=\"black\" cx=\"135\" cy=\"-102\" rx=\"18\" ry=\"18\"/>\n<text text-anchor=\"middle\" x=\"135\" y=\"-98.3\" font-family=\"Times New Roman,serif\" font-size=\"14.00\">c</text>\n</g>\n<!-- a&#45;&gt;c -->\n<g id=\"edge1\" class=\"edge\">\n<title>a&#45;&gt;c</title>\n<path fill=\"none\" stroke=\"black\" d=\"M35.97,-78.98C54.76,-83.4 85.31,-90.57 107.31,-95.73\"/>\n<polygon fill=\"black\" stroke=\"black\" points=\"106.8,-99.21 117.34,-98.09 108.4,-92.39 106.8,-99.21\"/>\n<text text-anchor=\"middle\" x=\"76.5\" y=\"-96.8\" font-family=\"Times New Roman,serif\" font-size=\"14.00\">dc/da=b</text>\n</g>\n<!-- e -->\n<g id=\"node4\" class=\"node\">\n<title>e</title>\n<ellipse fill=\"none\" stroke=\"black\" cx=\"135\" cy=\"-48\" rx=\"18\" ry=\"18\"/>\n<text text-anchor=\"middle\" x=\"135\" y=\"-44.3\" font-family=\"Times New Roman,serif\" font-size=\"14.00\">e</text>\n</g>\n<!-- a&#45;&gt;e -->\n<g id=\"edge3\" class=\"edge\">\n<title>a&#45;&gt;e</title>\n<path fill=\"none\" stroke=\"black\" d=\"M35.28,-69.49C41.14,-67.61 47.83,-65.58 54,-64 71.5,-59.51 91.43,-55.53 107.01,-52.65\"/>\n<polygon fill=\"black\" stroke=\"black\" points=\"107.8,-56.07 117.03,-50.85 106.56,-49.18 107.8,-56.07\"/>\n<text text-anchor=\"middle\" x=\"76.5\" y=\"-67.8\" font-family=\"Times New Roman,serif\" font-size=\"14.00\">de/da=d</text>\n</g>\n<!-- f -->\n<g id=\"node6\" class=\"node\">\n<title>f</title>\n<ellipse fill=\"none\" stroke=\"black\" cx=\"250\" cy=\"-75\" rx=\"18\" ry=\"18\"/>\n<text text-anchor=\"middle\" x=\"250\" y=\"-71.3\" font-family=\"Times New Roman,serif\" font-size=\"14.00\">f</text>\n</g>\n<!-- c&#45;&gt;f -->\n<g id=\"edge5\" class=\"edge\">\n<title>c&#45;&gt;f</title>\n<path fill=\"none\" stroke=\"black\" d=\"M152.67,-98.02C171.03,-93.63 200.81,-86.51 222.4,-81.36\"/>\n<polygon fill=\"black\" stroke=\"black\" points=\"223.35,-84.73 232.26,-79 221.72,-77.92 223.35,-84.73\"/>\n<text text-anchor=\"middle\" x=\"192.5\" y=\"-96.8\" font-family=\"Times New Roman,serif\" font-size=\"14.00\">df/dc=e</text>\n</g>\n<!-- b -->\n<g id=\"node3\" class=\"node\">\n<title>b</title>\n<ellipse fill=\"none\" stroke=\"black\" cx=\"18\" cy=\"-132\" rx=\"18\" ry=\"18\"/>\n<text text-anchor=\"middle\" x=\"18\" y=\"-128.3\" font-family=\"Times New Roman,serif\" font-size=\"14.00\">b</text>\n</g>\n<!-- b&#45;&gt;c -->\n<g id=\"edge2\" class=\"edge\">\n<title>b&#45;&gt;c</title>\n<path fill=\"none\" stroke=\"black\" d=\"M35.97,-127.57C54.85,-122.65 85.58,-114.63 107.61,-108.88\"/>\n<polygon fill=\"black\" stroke=\"black\" points=\"108.54,-112.26 117.34,-106.35 106.78,-105.48 108.54,-112.26\"/>\n<text text-anchor=\"middle\" x=\"76.5\" y=\"-125.8\" font-family=\"Times New Roman,serif\" font-size=\"14.00\">dc/db=a</text>\n</g>\n<!-- e&#45;&gt;f -->\n<g id=\"edge6\" class=\"edge\">\n<title>e&#45;&gt;f</title>\n<path fill=\"none\" stroke=\"black\" d=\"M152.85,-50.94C168.73,-53.83 193.12,-58.59 214,-64 216.89,-64.75 219.9,-65.59 222.88,-66.47\"/>\n<polygon fill=\"black\" stroke=\"black\" points=\"222.13,-69.9 232.72,-69.5 224.19,-63.21 222.13,-69.9\"/>\n<text text-anchor=\"middle\" x=\"192.5\" y=\"-67.8\" font-family=\"Times New Roman,serif\" font-size=\"14.00\">df/de=c</text>\n</g>\n<!-- d -->\n<g id=\"node5\" class=\"node\">\n<title>d</title>\n<ellipse fill=\"none\" stroke=\"black\" cx=\"18\" cy=\"-18\" rx=\"18\" ry=\"18\"/>\n<text text-anchor=\"middle\" x=\"18\" y=\"-14.3\" font-family=\"Times New Roman,serif\" font-size=\"14.00\">d</text>\n</g>\n<!-- d&#45;&gt;e -->\n<g id=\"edge4\" class=\"edge\">\n<title>d&#45;&gt;e</title>\n<path fill=\"none\" stroke=\"black\" d=\"M36.03,-20.87C52.35,-23.8 77.59,-28.79 99,-35 102.17,-35.92 105.47,-36.99 108.72,-38.12\"/>\n<polygon fill=\"black\" stroke=\"black\" points=\"107.54,-41.41 118.13,-41.55 109.94,-34.83 107.54,-41.41\"/>\n<text text-anchor=\"middle\" x=\"76.5\" y=\"-38.8\" font-family=\"Times New Roman,serif\" font-size=\"14.00\">de/dd=a</text>\n</g>\n</g>\n</svg>\n",
      "text/plain": [
       "<graphviz.graphs.Digraph at 0x2586125f460>"
      ]
     },
     "execution_count": 36,
     "metadata": {},
     "output_type": "execute_result"
    }
   ],
   "source": [
    "e2 = graphviz.Digraph('second expression', filename='fsm.gv')\n",
    "\n",
    "e2.attr(rankdir='LR', size='8,5')\n",
    "\n",
    "e2.attr('node', shape='circle')\n",
    "e2.edge('a', 'c', label='dc/da=b')\n",
    "e2.edge('b', 'c', label='dc/db=a')\n",
    "e2.edge('a', 'e', label='de/da=d')\n",
    "e2.edge('d', 'e', label='de/dd=a')\n",
    "e2.edge('c', 'f', label='df/dc=e')\n",
    "e2.edge('e', 'f', label='df/de=c')\n",
    "\n",
    "e2"
   ]
  },
  {
   "cell_type": "code",
   "execution_count": null,
   "metadata": {},
   "outputs": [],
   "source": []
  },
  {
   "cell_type": "markdown",
   "metadata": {
    "id": "A5oi21W4gpeM"
   },
   "source": [
    "## Exercise c) What happens if we run backward again?\n",
    "\n",
    "Try to execute the code below. Explain what happens."
   ]
  },
  {
   "cell_type": "code",
   "execution_count": 37,
   "metadata": {
    "colab": {
     "base_uri": "https://localhost:8080/"
    },
    "id": "DCtpJyr-gyX1",
    "outputId": "d014bcfa-c9ae-49c3-d268-91cc6ca94ea5"
   },
   "outputs": [
    {
     "name": "stdout",
     "output_type": "stream",
     "text": [
      "Var(v=3.0000, grad=28.0000)\n",
      "Var(v=5.0000, grad=6.0000)\n",
      "Var(v=15.0000, grad=2.0000)\n",
      "Var(v=9.0000, grad=6.0000)\n",
      "Var(v=27.0000, grad=2.0000)\n",
      "Var(v=42.0000, grad=2.0000)\n"
     ]
    }
   ],
   "source": [
    "f.backward()\n",
    "\n",
    "for v in [a, b, c, d, e, f]:\n",
    "    print(v)"
   ]
  },
  {
   "cell_type": "markdown",
   "metadata": {},
   "source": [
    "## Answer\n",
    "The gradients are just incremeneted with each backward pass, as a function of the last forward pass - Therefore it will just keep growing, regardless of how many times it has been called before.\n"
   ]
  },
  {
   "cell_type": "markdown",
   "metadata": {
    "id": "e8bPVq2VhsP-"
   },
   "source": [
    "## Exercise d) Zero gradient\n",
    "\n",
    "We can zero the gradient by backpropagating a -1.0 as is shown in the example below. (If you have run backward multiple time then you also have to run the cell below an equal amount of times.) Explain what is going on."
   ]
  },
  {
   "cell_type": "code",
   "execution_count": 38,
   "metadata": {
    "colab": {
     "base_uri": "https://localhost:8080/"
    },
    "id": "OnyPDQx9lJe0",
    "outputId": "7a125fdc-60c4-4340-a580-8b82aea5b0db"
   },
   "outputs": [
    {
     "name": "stdout",
     "output_type": "stream",
     "text": [
      "Var(v=2.0000, grad=0.0000)\n",
      "Var(v=5.0000, grad=6.0000)\n",
      "Var(v=15.0000, grad=2.0000)\n",
      "Var(v=9.0000, grad=6.0000)\n",
      "Var(v=27.0000, grad=2.0000)\n",
      "Var(v=42.0000, grad=2.0000)\n",
      "Var(v=2.0000, grad=0.0000)\n",
      "Var(v=5.0000, grad=3.0000)\n",
      "Var(v=15.0000, grad=1.0000)\n",
      "Var(v=9.0000, grad=3.0000)\n",
      "Var(v=27.0000, grad=1.0000)\n",
      "Var(v=42.0000, grad=1.0000)\n"
     ]
    }
   ],
   "source": [
    "a = Var(2.0)\n",
    "\n",
    "for v in [a, b, c, d, e, f]:\n",
    "    print(v)\n",
    "\n",
    "f.backprop(-1.0)\n",
    "\n",
    "for v in [a, b, c, d, e, f]:\n",
    "    print(v)"
   ]
  },
  {
   "cell_type": "markdown",
   "metadata": {},
   "source": [
    "## Answer\n",
    "Same thing as in c), only this time everything is negated, so it will be subtracted instead of added - and we will end back at 0."
   ]
  },
  {
   "cell_type": "markdown",
   "metadata": {
    "id": "U4057_ljNvWB"
   },
   "source": [
    "## Exercise e) Test correctness of derivatives with the finite difference method\n",
    "\n",
    "Write a small function that uses [the finite difference method](https://en.wikipedia.org/wiki/Finite_difference_method) to numerically test that backpropation implementation is working. In short we will use\n",
    "$$\n",
    "\\frac{\\partial f(a)}{\\partial a} \\approx \\frac{f(a+da)-f(a)}{da}\n",
    "$$\n",
    "for $da \\ll 1$.\n",
    "\n",
    "As an example, we could approximate the derivative of the function $f(a)=a^2$ in e.g. the value $a=4$ using the finite difference method. This amounts to inserting the relevant values and approximating the gradient $f'(4)$ with the fraction above. \n"
   ]
  },
  {
   "cell_type": "code",
   "execution_count": 39,
   "metadata": {
    "colab": {
     "base_uri": "https://localhost:8080/"
    },
    "id": "9TGil92lSXDN",
    "outputId": "7ef5489b-b525-4132-ab08-0b1109c07f4d"
   },
   "outputs": [
    {
     "name": "stdout",
     "output_type": "stream",
     "text": [
      "Var(v=3.0000, grad=5.0000)\n",
      "Var(v=5.0000, grad=3.0000)\n",
      "Var(v=15.0000, grad=1.0000)\n",
      "5.000018177270249\n"
     ]
    }
   ],
   "source": [
    "# f function - try to change the code to test other types of functions as well (such as different polynomials etc.)\n",
    "def f_function(a):\n",
    "  a = Var(a)\n",
    "  b = Var(5.0)\n",
    "  f = a * b\n",
    "  f.backward()\n",
    "  return a,b,f\n",
    "\n",
    "for v in f_function(3.0):\n",
    "  print(v)\n",
    "\n",
    "# Insert your finite difference code here\n",
    "def finite_difference(da=1e-10):\n",
    "    \"\"\"\n",
    "    This function compute the finite difference between\n",
    "    \n",
    "    Input:\n",
    "    da:          The finite difference                           (float)\n",
    "    \n",
    "    Output:\n",
    "    finite_difference: numerical approximation to the derivative (float) \n",
    "    \"\"\"\n",
    "    \n",
    "    fa_da = f_function(4. + da)[2].v           # <- Insert correct expression\n",
    "    fa = f_function(4.)[2].v                   # <- Insert correct expression\n",
    "\n",
    "    finite_difference = (fa_da - fa) / da\n",
    "    \n",
    "    return finite_difference\n",
    "\n",
    "print(\"estimated gradient: \",finite_difference())"
   ]
  },
  {
   "cell_type": "markdown",
   "metadata": {
    "id": "6pZar5RKaUkg"
   },
   "source": [
    "# Create an artificial dataset to play with\n",
    "\n",
    "We create a non-linear 1d regression task. The generator supports various noise levels and it creates train, validation and test sets. You can modify it yourself if you want more or less challenging tasks."
   ]
  },
  {
   "cell_type": "code",
   "execution_count": 40,
   "metadata": {
    "id": "Y6yfMAQ8aduj"
   },
   "outputs": [],
   "source": [
    "import numpy as np\n",
    "import matplotlib.pyplot as plt\n",
    "\n",
    "np.random.seed(42)"
   ]
  },
  {
   "cell_type": "code",
   "execution_count": 41,
   "metadata": {
    "id": "4YabfD43ajNh"
   },
   "outputs": [],
   "source": [
    "def data_generator(noise=0.1, n_samples=300, D1=True):\n",
    "    # Create covariates and response variable\n",
    "    if D1:\n",
    "        X = np.linspace(-3, 3, num=n_samples).reshape(-1,1) # 1-D\n",
    "        np.random.shuffle(X)\n",
    "        y = np.random.normal((0.5*np.sin(X[:,0]*3) + X[:,0]), noise) # 1-D with trend\n",
    "    else:\n",
    "        X = np.random.multivariate_normal(np.zeros(3), noise*np.eye(3), size = n_samples) # 3-D\n",
    "        np.random.shuffle(X)    \n",
    "        y = np.sin(X[:,0]) - 5*(X[:,1]**2) + 0.5*X[:,2] # 3-D\n",
    "\n",
    "    # Stack them together vertically to split data set\n",
    "    data_set = np.vstack((X.T,y)).T\n",
    "    \n",
    "    train, validation, test = np.split(data_set, [int(0.35*n_samples), int(0.7*n_samples)], axis=0)\n",
    "    \n",
    "    # Standardization of the data, remember we do the standardization with the training set mean and standard deviation\n",
    "    train_mu = np.mean(train, axis=0)\n",
    "    train_sigma = np.std(train, axis=0)\n",
    "    \n",
    "    train = (train-train_mu)/train_sigma\n",
    "    validation = (validation-train_mu)/train_sigma\n",
    "    test = (test-train_mu)/train_sigma\n",
    "    \n",
    "    x_train, x_validation, x_test = train[:,:-1], validation[:,:-1], test[:,:-1]\n",
    "    y_train, y_validation, y_test = train[:,-1], validation[:,-1], test[:,-1]\n",
    "\n",
    "    return x_train, y_train,  x_validation, y_validation, x_test, y_test"
   ]
  },
  {
   "cell_type": "code",
   "execution_count": 42,
   "metadata": {
    "id": "u1oDngHLapIz"
   },
   "outputs": [],
   "source": [
    "D1 = True\n",
    "x_train, y_train,  x_validation, y_validation, x_test, y_test = data_generator(noise=0.5, D1=D1)"
   ]
  },
  {
   "cell_type": "code",
   "execution_count": 43,
   "metadata": {
    "colab": {
     "base_uri": "https://localhost:8080/",
     "height": 265
    },
    "id": "Ysfa3FsBavlm",
    "outputId": "399e5382-ae7d-48f6-9774-7ea4c73e7d95"
   },
   "outputs": [
    {
     "data": {
      "image/png": "[encoded data removed]",
      "text/plain": [
       "<Figure size 640x480 with 1 Axes>"
      ]
     },
     "metadata": {},
     "output_type": "display_data"
    }
   ],
   "source": [
    "if D1:\n",
    "    plt.scatter(x_train[:,0], y_train);\n",
    "    plt.scatter(x_validation[:,0], y_validation);\n",
    "    plt.scatter(x_test[:,0], y_test);\n",
    "else:\n",
    "    plt.scatter(x_train[:,1], y_train);\n",
    "    plt.scatter(x_validation[:,1], y_validation);\n",
    "    plt.scatter(x_test[:,1], y_test);\n",
    "plt.show()"
   ]
  },
  {
   "cell_type": "code",
   "execution_count": 44,
   "metadata": {
    "id": "zac2HHNlgbpm"
   },
   "outputs": [],
   "source": [
    "# convert from nparray to Var\n",
    "def nparray_to_Var(x):\n",
    "  if x.ndim==1:\n",
    "    y = [[Var(float(x[i]))] for i in range(x.shape[0])] # always work with list of list\n",
    "  else:\n",
    "    y = [[Var(float(x[i,j])) for j in range(x.shape[1])] for i in range(x.shape[0])]\n",
    "  return y\n",
    "   \n",
    "x_train = nparray_to_Var(x_train)\n",
    "y_train = nparray_to_Var(y_train)\n",
    "x_validation = nparray_to_Var(x_validation)\n",
    "y_validation = nparray_to_Var(y_validation)\n",
    "x_test = nparray_to_Var(x_test)\n",
    "y_test = nparray_to_Var(y_test)\n"
   ]
  },
  {
   "cell_type": "markdown",
   "metadata": {
    "id": "VbjrqcpVFtGe"
   },
   "source": [
    "# Defining and initializing the network\n",
    "\n",
    "The steps to create a feed forward neural network are the following:\n",
    "\n",
    "1. **Number of hidden layer and hidden units**. We have to define the number of hidden units in each layer. The number of features in X and the output dimensionality (the size of Y) are given but the numbers in between are set by the researcher. Remember that for each unit in each layer beside in the input has a bias term.\n",
    "2. **Activation functions** for each hidden layer. Each hidden layer in your list must have an activation function (it can also be the linear activation which is equivalent to identity function). The power of neural networks comes from non-linear activation functions that learn representations (features) from the data allowing us to learn from it. \n",
    "3. **Parameter initialization**. We will initialize the weights to have random values. This is done in practice by drawing pseudo random numbers from a Gaussian or uniform distribution. It turns out that for deeper models we have to be careful about how we scale the random numbers. This will be the topic of the exercise below. For now we will just use unit variance Gaussians.  \n",
    "\n",
    "In order to make life easier for ourselves we define a DenseLayer class that takes care of initialization and the forward pass. We can also extend it later with print and advanced initialization capabilities. For the latter we have introduced a Initializer class.\n",
    "\n",
    "Note that we use Sequence in the code below. A Sequence is an ordered list. This means the order we insert and access items are the same."
   ]
  },
  {
   "cell_type": "code",
   "execution_count": 45,
   "metadata": {
    "id": "ij_ieRsAt7Xt"
   },
   "outputs": [],
   "source": [
    "class Initializer:\n",
    "\n",
    "  def init_weights(self, n_in, n_out):\n",
    "    raise NotImplementedError\n",
    "\n",
    "  def init_bias(self, n_out):\n",
    "    raise NotImplementedError"
   ]
  },
  {
   "cell_type": "code",
   "execution_count": 46,
   "metadata": {
    "id": "eb18N5phuIha"
   },
   "outputs": [],
   "source": [
    "import random\n",
    "\n",
    "class NormalInitializer(Initializer):\n",
    "\n",
    "  def __init__(self, mean=0, std=0.1):\n",
    "    self.mean = mean\n",
    "    self.std = std\n",
    "\n",
    "  def init_weights(self, n_in, n_out):\n",
    "    return [[Var(random.gauss(self.mean, self.std)) for _ in range(n_out)] for _ in range(n_in)]\n",
    "\n",
    "  def init_bias(self, n_out):\n",
    "    return [Var(0.0) for _ in range(n_out)]\n",
    "\n",
    "class ConstantInitializer(Initializer):\n",
    "\n",
    "  def __init__(self, weight=1.0, bias=0.0):\n",
    "    self.weight = weight\n",
    "    self.bias = bias\n",
    "\n",
    "  def init_weights(self, n_in, n_out):\n",
    "    return [[Var(self.weight) for _ in range(n_out)] for _ in range(n_in)]\n",
    "\n",
    "  def init_bias(self, n_out):\n",
    "    return [Var(self.bias) for _ in range(n_out)]"
   ]
  },
  {
   "cell_type": "code",
   "execution_count": 47,
   "metadata": {
    "id": "jOLYGnZKuM6W"
   },
   "outputs": [],
   "source": [
    "from typing import Sequence\n",
    "\n",
    "class DenseLayer:\n",
    "    def __init__(self, n_in: int, n_out: int, act_fn, initializer = NormalInitializer()):\n",
    "        self.weights = initializer.init_weights(n_in, n_out)\n",
    "        self.bias = initializer.init_bias(n_out)\n",
    "        self.act_fn = act_fn\n",
    "    \n",
    "    def __repr__(self):    \n",
    "        return 'Weights: ' + repr(self.weights) + ' Biases: ' + repr(self.bias)\n",
    "\n",
    "    def parameters(self) -> Sequence[Var]:\n",
    "      params = []\n",
    "      for r in self.weights:\n",
    "        params += r\n",
    "\n",
    "      return params + self.bias\n",
    "\n",
    "    def forward(self, single_input: Sequence[Var]) -> Sequence[Var]:\n",
    "        # self.weights is a matrix with dimension n_in x n_out. We check that the dimensionality of the input \n",
    "        # to the current layer matches the number of nodes in the current layer\n",
    "        assert len(self.weights) == len(single_input), \"weights and single_input must match in first dimension\"\n",
    "        weights = self.weights\n",
    "        out = []\n",
    "        # For some given data point single_input, we now want to calculate the resulting value in each node in the current layer\n",
    "        # We therefore loop over the (number of) nodes in the current layer:\n",
    "        for j in range(len(weights[0])): \n",
    "            # Initialize the node value depending on its corresponding parameters.\n",
    "            node = self.bias[j] # <- Insert code\n",
    "            # We now finish the linear transformation corresponding to the parameters of the currently considered node.\n",
    "            for i in range(len(single_input)):\n",
    "                node += single_input[i]*weights[i][j]  # <- Insert code\n",
    "            node = self.act_fn(node)\n",
    "            out.append(node)\n",
    "\n",
    "        return out\n",
    "    \n",
    "    def __str__(self):\n",
    "        return f\"DenseLayer(n_in = {len(self.weights)}, n_out = {len(self.weights[0])}):\\nWeights and biases:\\n{self.__repr__()}\"\n"
   ]
  },
  {
   "cell_type": "markdown",
   "metadata": {
    "id": "jpIZPBpNI0pO"
   },
   "source": [
    "## Exercise f) Add more activation functions\n",
    "\n",
    "To have a full definition of the neural network, we must define an activation function for every layer. Several activation functions have been proposed and have different characteristics. In the Var class we have already defined the rectified linear init (relu). \n",
    " \n",
    "Implement the following activation functions in the Var class:\n",
    "\n",
    "* Identity: $$\\mathrm{identity}(x) = x$$\n",
    "* Hyperbolic tangent: $$\\tanh(x)$$\n",
    "* Sigmoid (or logistic function): $$\\mathrm{sigmoid}(x) = \\frac{1}{1.0 + \\exp(-x ) }$$  Hint: $\\mathrm{sigmoid}'(x)= \\mathrm{sigmoid}(x)(1-\\mathrm{sigmoid}(x))$.  \n",
    "\n",
    "Hint: You can seek inspiration in the relu method in the Var class."
   ]
  },
  {
   "cell_type": "markdown",
   "metadata": {
    "id": "p_8n_SKnIW2F"
   },
   "source": [
    "## Exercise g) Complete the forward pass\n",
    "\n",
    "In the code below we initialize a 1-5-1 network and pass the training set through it. *The forward method in DenseLayer is **not** complete*. It just outputs zeros right now. The method forward should perform an [affine transformation](https://en.wikipedia.org/wiki/Affine_transformation) on the input followed by an application of the activation function."
   ]
  },
  {
   "cell_type": "code",
   "execution_count": 48,
   "metadata": {
    "colab": {
     "base_uri": "https://localhost:8080/",
     "height": 337
    },
    "id": "xDEjtePxE7Mv",
    "outputId": "753406cd-d8a1-4282-ce03-25ad959b0e11"
   },
   "outputs": [
    {
     "name": "stdout",
     "output_type": "stream",
     "text": [
      "[[Var(v=0.0315, grad=0.0000)], [Var(v=0.0633, grad=0.0000)], [Var(v=0.0057, grad=0.0000)], [Var(v=-0.0258, grad=0.0000)], [Var(v=0.0466, grad=0.0000)], [Var(v=0.0431, grad=0.0000)], [Var(v=0.0280, grad=0.0000)], [Var(v=-0.0062, grad=0.0000)], [Var(v=-0.0266, grad=0.0000)], [Var(v=0.0174, grad=0.0000)], [Var(v=0.0487, grad=0.0000)], [Var(v=-0.0164, grad=0.0000)], [Var(v=0.0391, grad=0.0000)], [Var(v=-0.0188, grad=0.0000)], [Var(v=0.0209, grad=0.0000)], [Var(v=0.0406, grad=0.0000)], [Var(v=0.0749, grad=0.0000)], [Var(v=0.0355, grad=0.0000)], [Var(v=0.0037, grad=0.0000)], [Var(v=0.0123, grad=0.0000)], [Var(v=-0.0123, grad=0.0000)], [Var(v=-0.0054, grad=0.0000)], [Var(v=0.0547, grad=0.0000)], [Var(v=0.0552, grad=0.0000)], [Var(v=-0.0072, grad=0.0000)], [Var(v=-0.0193, grad=0.0000)], [Var(v=0.0709, grad=0.0000)], [Var(v=0.0779, grad=0.0000)], [Var(v=0.0083, grad=0.0000)], [Var(v=0.0492, grad=0.0000)], [Var(v=-0.0242, grad=0.0000)], [Var(v=0.0118, grad=0.0000)], [Var(v=-0.0211, grad=0.0000)], [Var(v=-0.0229, grad=0.0000)], [Var(v=0.0375, grad=0.0000)], [Var(v=-0.0042, grad=0.0000)], [Var(v=-0.0262, grad=0.0000)], [Var(v=-0.0099, grad=0.0000)], [Var(v=-0.0186, grad=0.0000)], [Var(v=-0.0133, grad=0.0000)], [Var(v=-0.0093, grad=0.0000)], [Var(v=-0.0127, grad=0.0000)], [Var(v=0.0734, grad=0.0000)], [Var(v=-0.0158, grad=0.0000)], [Var(v=-0.0125, grad=0.0000)], [Var(v=-0.0152, grad=0.0000)], [Var(v=0.0471, grad=0.0000)], [Var(v=0.0446, grad=0.0000)], [Var(v=-0.0058, grad=0.0000)], [Var(v=0.0456, grad=0.0000)], [Var(v=0.0199, grad=0.0000)], [Var(v=0.0017, grad=0.0000)], [Var(v=0.0497, grad=0.0000)], [Var(v=-0.0129, grad=0.0000)], [Var(v=0.0789, grad=0.0000)], [Var(v=0.0693, grad=0.0000)], [Var(v=-0.0086, grad=0.0000)], [Var(v=-0.0095, grad=0.0000)], [Var(v=0.0259, grad=0.0000)], [Var(v=-0.0227, grad=0.0000)], [Var(v=0.0461, grad=0.0000)], [Var(v=-0.0160, grad=0.0000)], [Var(v=-0.0264, grad=0.0000)], [Var(v=0.0224, grad=0.0000)], [Var(v=0.0163, grad=0.0000)], [Var(v=-0.0217, grad=0.0000)], [Var(v=-0.0233, grad=0.0000)], [Var(v=0.0582, grad=0.0000)], [Var(v=-0.0166, grad=0.0000)], [Var(v=0.0229, grad=0.0000)], [Var(v=-0.0064, grad=0.0000)], [Var(v=-0.0029, grad=0.0000)], [Var(v=0.0451, grad=0.0000)], [Var(v=0.0264, grad=0.0000)], [Var(v=-0.0023, grad=0.0000)], [Var(v=0.0714, grad=0.0000)], [Var(v=-0.0115, grad=0.0000)], [Var(v=-0.0111, grad=0.0000)], [Var(v=-0.0146, grad=0.0000)], [Var(v=0.0744, grad=0.0000)], [Var(v=0.0113, grad=0.0000)], [Var(v=0.0068, grad=0.0000)], [Var(v=-0.0238, grad=0.0000)], [Var(v=-0.0033, grad=0.0000)], [Var(v=-0.0121, grad=0.0000)], [Var(v=-0.0052, grad=0.0000)], [Var(v=-0.0044, grad=0.0000)], [Var(v=-0.0135, grad=0.0000)], [Var(v=-0.0246, grad=0.0000)], [Var(v=-0.0256, grad=0.0000)], [Var(v=0.0269, grad=0.0000)], [Var(v=-0.0078, grad=0.0000)], [Var(v=-0.0142, grad=0.0000)], [Var(v=0.0421, grad=0.0000)], [Var(v=-0.0203, grad=0.0000)], [Var(v=-0.0244, grad=0.0000)], [Var(v=0.0194, grad=0.0000)], [Var(v=0.0032, grad=0.0000)], [Var(v=0.0673, grad=0.0000)], [Var(v=-0.0144, grad=0.0000)], [Var(v=0.0441, grad=0.0000)], [Var(v=-0.0140, grad=0.0000)], [Var(v=-0.0215, grad=0.0000)], [Var(v=0.0214, grad=0.0000)], [Var(v=0.0628, grad=0.0000)]]\n"
     ]
    }
   ],
   "source": [
    "NN = [\n",
    "    DenseLayer(1, 5, lambda x: x.relu()),\n",
    "    DenseLayer(5, 1, lambda x: x.identity())\n",
    "]\n",
    "\n",
    "def forward(input, network):\n",
    "\n",
    "  def forward_single(x, network):\n",
    "    for layer in network:\n",
    "        x = layer.forward(x)\n",
    "    return x\n",
    "\n",
    "  output = [ forward_single(input[n], network) for n in range(len(input))]\n",
    "  return output\n",
    "\n",
    "print(forward(x_train, NN))\n"
   ]
  },
  {
   "cell_type": "markdown",
   "metadata": {
    "id": "oLrGJytZFtGm"
   },
   "source": [
    "## Exercise h) Print all network parameters\n",
    "\n",
    "Make a function that prints all the parameters of the network (weights and biases) with information about in which layer the appear. In the object oriented spirit you should introduce a method in the DenseLayer class to print the parameters of a layer. Hint: You can take inspiration from the corresponding method in Var. "
   ]
  },
  {
   "cell_type": "code",
   "execution_count": 49,
   "metadata": {
    "id": "iac-VwYGFtGm"
   },
   "outputs": [
    {
     "name": "stdout",
     "output_type": "stream",
     "text": [
      "DenseLayer(n_in = 1, n_out = 5):\n",
      "Weights and biases:\n",
      "Weights: [[Var(v=-0.1239, grad=0.0000), Var(v=0.1027, grad=0.0000), Var(v=-0.0673, grad=0.0000), Var(v=0.1381, grad=0.0000), Var(v=0.1235, grad=0.0000)]] Biases: [Var(v=0.0000, grad=0.0000), Var(v=0.0000, grad=0.0000), Var(v=0.0000, grad=0.0000), Var(v=0.0000, grad=0.0000), Var(v=0.0000, grad=0.0000)]\n",
      "DenseLayer(n_in = 5, n_out = 1):\n",
      "Weights and biases:\n",
      "Weights: [[Var(v=-0.1177, grad=0.0000)], [Var(v=0.1146, grad=0.0000)], [Var(v=-0.0353, grad=0.0000)], [Var(v=0.1146, grad=0.0000)], [Var(v=0.1301, grad=0.0000)]] Biases: [Var(v=0.0000, grad=0.0000)]\n"
     ]
    }
   ],
   "source": [
    "# Insert code here and in the DenseLayer class\n",
    "def print_network(NN):\n",
    "    for layer in NN:\n",
    "        print(layer)\n",
    "\n",
    "print_network(NN)"
   ]
  },
  {
   "cell_type": "markdown",
   "metadata": {
    "id": "_79HOAXrFtHK"
   },
   "source": [
    "## Visualization\n",
    "\n",
    "Now that we have defined our activation functions we can visualize them to see what they look like:"
   ]
  },
  {
   "cell_type": "code",
   "execution_count": 50,
   "metadata": {
    "id": "1FcylHqLTl-Z"
   },
   "outputs": [
    {
     "data": {
      "text/plain": [
       "[<matplotlib.lines.Line2D at 0x2586125d690>]"
      ]
     },
     "execution_count": 50,
     "metadata": {},
     "output_type": "execute_result"
    },
    {
     "data": {
      "image/png": "[encoded data removed]",
      "text/plain": [
       "<Figure size 640x480 with 1 Axes>"
      ]
     },
     "metadata": {},
     "output_type": "display_data"
    }
   ],
   "source": [
    "x = np.linspace(-6, 6, 100)\n",
    "\n",
    "# convert from Var to ndarray  \n",
    "def Var_to_nparray(x):\n",
    "  y = np.zeros((len(x),len(x[0])))\n",
    "  for i in range(len(x)):\n",
    "    for j in range(len(x[0])):\n",
    "      y[i,j] = x[i][j].v\n",
    "  return y\n",
    "\n",
    "# define 1-1 network with weight = 1 and relu activation \n",
    "NN = [ DenseLayer(1, 1, lambda x: x.relu(), initializer = ConstantInitializer(1.0)) ] \n",
    "y = Var_to_nparray(forward(nparray_to_Var(x), NN))\n",
    "\n",
    "#y = Var_to_nparray(relu(nparray_to_Var(x)))\n",
    "plt.plot(x,y)"
   ]
  },
  {
   "cell_type": "code",
   "execution_count": 51,
   "metadata": {
    "id": "oOL2UolJFtHL"
   },
   "outputs": [
    {
     "data": {
      "image/png": "[encoded data removed]",
      "text/plain": [
       "<Figure size 500x500 with 1 Axes>"
      ]
     },
     "metadata": {},
     "output_type": "display_data"
    }
   ],
   "source": [
    "# Testing all activation layers\n",
    "\n",
    "x = np.linspace(-6, 6, 100)\n",
    "units = {\n",
    "    \"identity\": lambda x: x.identity(),\n",
    "    \"sigmoid\": lambda x: x.sigmoid(),\n",
    "    \"relu\": lambda x: x.relu(),\n",
    "    \"tanh\": lambda x: x.tanh()\n",
    "}\n",
    "\n",
    "plt.figure(figsize=(5, 5))\n",
    "[plt.plot(x, Var_to_nparray(forward(nparray_to_Var(x), [DenseLayer(1, 1, unit, initializer = ConstantInitializer(1.0))]) ), label=unit_name, lw=2) for unit_name, unit in units.items()] # unit(nparray_to_Var(x))), label=unit_name, lw=2) for unit_name, unit in units.items()]\n",
    "plt.legend(loc=2, fontsize=16)\n",
    "plt.title('Our activation functions', fontsize=20)\n",
    "plt.ylim([-2, 5])\n",
    "plt.xlim([-6, 6])\n",
    "plt.show()"
   ]
  },
  {
   "cell_type": "markdown",
   "metadata": {
    "id": "b-jdEl-7FtGs"
   },
   "source": [
    "# Advanced initialization schemes\n",
    "\n",
    "If we are not careful with initialization, the signals we propagate forward ($a^{(l)}$, $l=1,\\ldots,L$) and backward ($\\delta^l$, $l=L,L-1,\\ldots,1$) can blow up or shrink to zero. A statistical analysis of the variance of the signals for different activation functions can be found in these two papers: [Glorot initialization](http://proceedings.mlr.press/v9/glorot10a/glorot10a.pdf) and [He initialization](https://arxiv.org/pdf/1502.01852v1.pdf). \n",
    "\n",
    "The result of the analyses are proposals for how to make the initialization such that the variance of the signals (forward and backward) are kept approxmimatly constant when propagating from layer to layer. The exact expressions depend upon the non-linear activation function used. In Glorot initialization, the aim is to keep both the forward and backward variances constant whereas He only aims at keeping the variance in the forward pass constant.\n",
    "\n",
    "We define $n_{in}$ and $n_{out}$ as the number of input units and output units of a particular layer. \n",
    "\n",
    "The Glorot initialization has the form: \n",
    "\n",
    "$$w_{ij} \\sim N \\bigg( 0, \\, \\frac{2 \\alpha }{n_{in} + n_{out}} \\bigg) \\ . $$\n",
    "\n",
    "where $N(\\mu,\\sigma^2)$ is a Gaussian distribution with mean $\\mu$ and variance $\\sigma^2$ and $\\alpha$ is a parameter that depends upon the activation function used. For $\\tanh$, $\\alpha=1$ and for Rectified Linear Unit (ReLU) activations, $\\alpha=2$. (It is also possible to use a uniform distribution for initialization, see [this blog post](https://mmuratarat.github.io/2019-02-25/xavier-glorot-he-weight-init).) \n",
    "\n",
    "The He initialization is very similar\n",
    "\n",
    "$$w_{ij} \\sim N \\bigg( 0, \\, \\frac{\\alpha}{n_{in}} \\bigg) \\ . $$"
   ]
  },
  {
   "cell_type": "markdown",
   "metadata": {
    "id": "mqeyab9qFtGs"
   },
   "source": [
    "## Exercise i) Glorot and He initialization\n",
    " \n",
    "Using the Initializer class, implement functions that implement Glorot and He \n",
    "\n",
    "Explain briefly how you would test numerically that these initializations have the sought after property. Hint: See plots in Glorot paper.\n",
    "\n",
    "Comment: If you want to be more advanced then try to make a universal initializer taking both the activation function and type (Glorot or He) as argument."
   ]
  },
  {
   "cell_type": "code",
   "execution_count": 52,
   "metadata": {
    "id": "Qyk01CgaFtGt"
   },
   "outputs": [],
   "source": [
    "## Glorot\n",
    "def DenseLayer_Glorot_tanh(n_in: int, n_out: int):\n",
    "  std = (2/(n_in + n_out))**0.5 #0.0 # <- replace with proper initialization\n",
    "  return DenseLayer(n_in, n_out, lambda x: x.tanh(), initializer = NormalInitializer(std))\n",
    "\n",
    "## He\n",
    "def DenseLayer_He_relu(n_in: int, n_out: int):\n",
    "  std = (2/n_in)**0.5 #0.0 # <- replace with proper initialization\n",
    "  return DenseLayer(n_in, n_out, lambda x: x.relu(), initializer = NormalInitializer(std))"
   ]
  },
  {
   "cell_type": "markdown",
   "metadata": {
    "id": "-XyXBD37FtHk"
   },
   "source": [
    "## Exercise j) Forward pass unit test\n",
    "\n",
    "Write a bit of code to make a unit test that the forward pass works. This can be done by defining a simple network with for example all weights equal to one (using the ConstantInitializer method) and identity activation functions. \n",
    "\n",
    "Hints: Use the [assert](https://www.w3schools.com/python/ref_keyword_assert.asp), the nparray_to_Var and the Var_to_nparray commands. "
   ]
  },
  {
   "cell_type": "code",
   "execution_count": 58,
   "metadata": {
    "id": "k0miqRUAFtHl"
   },
   "outputs": [],
   "source": [
    "# Insert code here\n",
    "simple_newtork = [\n",
    "    DenseLayer(3, 5, lambda x: x.identity(), ConstantInitializer(1., 10.)),\n",
    "    DenseLayer(5, 2, lambda x: x.identity(), ConstantInitializer(1., 10.))\n",
    "]\n",
    "\n",
    "x = np.array([[j]*3 for j in range(4)])\n",
    "x = nparray_to_Var(x)\n",
    "\n",
    "test = lambda k: (3*k + 10)*5 + 10\n",
    "\n",
    "output = Var_to_nparray(forward(x, simple_newtork))\n",
    "\n",
    "assert np.all([output[i] == test(i) for i in range(4)])\n",
    "\n",
    "\n"
   ]
  },
  {
   "cell_type": "markdown",
   "metadata": {
    "id": "faCxhfFnFtHp"
   },
   "source": [
    "# Loss functions\n",
    "\n",
    "We are only missing a loss function to we need to define a loss function and its derivative with respect to the output of the neural network $y$"
   ]
  },
  {
   "cell_type": "code",
   "execution_count": 70,
   "metadata": {
    "id": "I2eDYKvAFtHq"
   },
   "outputs": [],
   "source": [
    "def squared_loss(t, y):\n",
    "  \n",
    "  # add check that sizes agree\n",
    "  \n",
    "  def squared_loss_single(t, y):\n",
    "    Loss = Var(0.0)\n",
    "    for i in range(len(t)): # sum over outputs\n",
    "      Loss += (t[i]-y[i]) ** 2\n",
    "    return Loss\n",
    "\n",
    "  Loss = Var(0.0)\n",
    "  for n in range(len(t)): # sum over training data\n",
    "    Loss += squared_loss_single(t[n],y[n])\n",
    "  \n",
    "  return Loss/Var(len(t))"
   ]
  },
  {
   "cell_type": "markdown",
   "metadata": {
    "id": "SrwSJ2UWFtHu"
   },
   "source": [
    "## Exercise k) Implement cross entropy loss\n",
    "\n",
    "Insert code below to implement cross-entropy loss for general dimensionality of $t$. Use a logits formulation:\n",
    "$$\n",
    "\\rm{Loss} = - \\sum_i t_i \\, log \\, p_i \n",
    "$$\n",
    "with $p$ given by the the softmax function in terms of the logits $h$:\n",
    "$$\n",
    "p_i = \\frac{\\exp(h_i)}{\\sum_{i'} \\exp(h_{i'})} .\n",
    "$$\n",
    "Inserting $p$ in the expression for the loss gives\n",
    "$$\n",
    "\\rm{Loss} = - \\sum_i t_i h_i + \\rm{LogSumExp}(h) \\ ,\n",
    "$$\n",
    "where \n",
    "$$\n",
    "\\rm{LogSumExp}(h) = \\log \\sum_i \\exp h_i \\ .\n",
    "$$\n",
    "This is true for $t$ being a one-hot vector. \n",
    "\n",
    "Call the function to convince yourself it works. \n",
    "\n",
    "In practice you want to implement a [numerically stable](https://leimao.github.io/blog/LogSumExp/) version of LogSumExp. But we will not bother about that here.\n",
    "\n",
    "Help: You can add these methods in the Var class:\n",
    "\n",
    "    def exp(self):\n",
    "        return Var(exp(self.v), lambda: [(self, exp(self.v))])\n",
    "    \n",
    "    def log(self):\n",
    "        return Var(log(self.v), lambda: [(self, self.v ** -1)])"
   ]
  },
  {
   "cell_type": "code",
   "execution_count": 71,
   "metadata": {
    "id": "6nMuxyfzFtHv"
   },
   "outputs": [],
   "source": [
    "def cross_entropy_loss(t, h):\n",
    "     \n",
    "    Loss = Var(0.0)\n",
    "\n",
    "    def cross_entropy_loss_single(t, h):\n",
    "        logsumexp = Var(0.0)\n",
    "        for i in range(len(h)):\n",
    "            logsumexp += h[i].exp()\n",
    "        logsumexp = logsumexp.log()\n",
    "\n",
    "        Loss = Var(0.0)\n",
    "        for i in range(len(t)): # sum over outputs\n",
    "            Loss -= t[i]*h[i]\n",
    "        return Loss + logsumexp\n",
    "\n",
    "    Loss = Var(0.0)\n",
    "    \n",
    "    for n in range(len(t)): # sum over training data\n",
    "        Loss += cross_entropy_loss_single(t[n],h[n])\n",
    "\n",
    "    return Loss/Var(len(t))"
   ]
  },
  {
   "cell_type": "markdown",
   "metadata": {
    "id": "8fAF5ew4FtHy"
   },
   "source": [
    "# Backward pass\n",
    "\n",
    "Now the magic happens! We get the calculation of the gradients for free. Just do:"
   ]
  },
  {
   "cell_type": "code",
   "execution_count": 72,
   "metadata": {
    "id": "iHyfPPI9Qqwu"
   },
   "outputs": [],
   "source": [
    "NN = [\n",
    "    DenseLayer(1, 5, lambda x: x.relu()),\n",
    "    DenseLayer(5, 1, lambda x: x.identity())\n",
    "]\n",
    "\n",
    "output = forward(x_train, NN)\n",
    "\n",
    "Loss = squared_loss(y_train,output)\n",
    "Loss.backward()"
   ]
  },
  {
   "cell_type": "markdown",
   "metadata": {
    "id": "49biIAYKQ1oG"
   },
   "source": [
    "and the gradients will be calculated:"
   ]
  },
  {
   "cell_type": "code",
   "execution_count": 73,
   "metadata": {
    "id": "_rGt1bq_Q7uk"
   },
   "outputs": [
    {
     "name": "stdout",
     "output_type": "stream",
     "text": [
      "Layer 0 \n",
      " DenseLayer(n_in = 1, n_out = 5):\n",
      "Weights and biases:\n",
      "Weights: [[Var(v=-0.0919, grad=0.0542), Var(v=-0.1525, grad=-0.0806), Var(v=0.0311, grad=0.2200), Var(v=0.0090, grad=-0.1341), Var(v=-0.0215, grad=0.0576)]] Biases: [Var(v=0.0000, grad=-0.0492), Var(v=0.0000, grad=0.0733), Var(v=0.0000, grad=0.1890), Var(v=0.0000, grad=-0.1152), Var(v=0.0000, grad=-0.0524)]\n",
      "Layer 1 \n",
      " DenseLayer(n_in = 5, n_out = 1):\n",
      "Weights and biases:\n",
      "Weights: [[Var(v=-0.0588, grad=0.0846)], [Var(v=0.0875, grad=0.1404)], [Var(v=-0.2260, grad=-0.0303)], [Var(v=0.1378, grad=-0.0087)], [Var(v=-0.0626, grad=0.0197)]] Biases: [Var(v=0.0000, grad=0.0007)]\n"
     ]
    },
    {
     "data": {
      "text/plain": [
       "[None, None]"
      ]
     },
     "execution_count": 73,
     "metadata": {},
     "output_type": "execute_result"
    }
   ],
   "source": [
    "[print('Layer', i, '\\n', NN[i]) for i in range(len(NN))] "
   ]
  },
  {
   "cell_type": "markdown",
   "metadata": {
    "id": "D7d7qK0uFtH9"
   },
   "source": [
    "# Backward pass unit test\n",
    "\n",
    "Above we used finite differences to test that Nanograd is actually doing what it is supposed to do. We can in principle try the same for the neural network. But we will trust that the test above is enough."
   ]
  },
  {
   "cell_type": "markdown",
   "metadata": {
    "id": "WgBi8GOSFtIN"
   },
   "source": [
    "# Training and validation\n",
    "\n",
    "We are ready to train some neural networks!\n",
    "\n",
    "We initialize again:"
   ]
  },
  {
   "cell_type": "code",
   "execution_count": 74,
   "metadata": {
    "id": "01ePmzBzRtdh"
   },
   "outputs": [],
   "source": [
    "NN = [\n",
    "    DenseLayer(1, 15, lambda x: x.relu()),\n",
    "    DenseLayer(15, 50, lambda x: x.relu()),\n",
    "    DenseLayer(50, 1, lambda x: x.identity())\n",
    "]\n",
    "\n",
    "output = forward(x_train, NN)\n",
    "\n",
    "Loss = squared_loss(y_train,output)\n",
    "Loss.backward()"
   ]
  },
  {
   "cell_type": "markdown",
   "metadata": {
    "id": "10iRPiQ1ISHw"
   },
   "source": [
    "and make an update:\n",
    "\n",
    "We introduce a help function parameters to have a handle in all parameters in the network."
   ]
  },
  {
   "cell_type": "code",
   "execution_count": 76,
   "metadata": {
    "id": "dhAI7eyeznia"
   },
   "outputs": [
    {
     "name": "stdout",
     "output_type": "stream",
     "text": [
      "Network before update:\n",
      "Layer 0 \n",
      " DenseLayer(n_in = 1, n_out = 15):\n",
      "Weights and biases:\n",
      "Weights: [[Var(v=0.0661, grad=0.0000), Var(v=-0.1402, grad=0.0000), Var(v=-0.1196, grad=0.0000), Var(v=0.2036, grad=0.0000), Var(v=0.1363, grad=0.0000), Var(v=-0.0722, grad=0.0000), Var(v=-0.0883, grad=0.0000), Var(v=-0.0891, grad=0.0000), Var(v=0.0139, grad=0.0000), Var(v=-0.0719, grad=0.0000), Var(v=-0.0662, grad=0.0000), Var(v=0.0520, grad=0.0000), Var(v=-0.2404, grad=0.0000), Var(v=-0.1288, grad=0.0000), Var(v=-0.0399, grad=0.0000)]] Biases: [Var(v=0.0000, grad=0.0000), Var(v=0.0005, grad=0.0000), Var(v=-0.0004, grad=0.0000), Var(v=-0.0000, grad=0.0000), Var(v=0.0002, grad=0.0000), Var(v=-0.0003, grad=0.0000), Var(v=0.0001, grad=0.0000), Var(v=-0.0003, grad=0.0000), Var(v=0.0001, grad=0.0000), Var(v=-0.0000, grad=0.0000), Var(v=-0.0005, grad=0.0000), Var(v=-0.0002, grad=0.0000), Var(v=0.0005, grad=0.0000), Var(v=-0.0006, grad=0.0000), Var(v=0.0001, grad=0.0000)]\n",
      "Layer 1 \n",
      " DenseLayer(n_in = 15, n_out = 50):\n",
      "Weights and biases:\n",
      "Weights: [[Var(v=-0.1311, grad=0.0000), Var(v=0.0157, grad=0.0000), Var(v=0.0245, grad=0.0000), Var(v=0.1868, grad=0.0000), Var(v=0.0371, grad=0.0000), Var(v=-0.1295, grad=0.0000), Var(v=0.0424, grad=0.0000), Var(v=-0.1956, grad=0.0000), Var(v=-0.0822, grad=0.0000), Var(v=0.0156, grad=0.0000), Var(v=0.0130, grad=0.0000), Var(v=-0.1137, grad=0.0000), Var(v=-0.1127, grad=0.0000), Var(v=0.1329, grad=0.0000), Var(v=-0.1384, grad=0.0000), Var(v=0.0530, grad=0.0000), Var(v=-0.0321, grad=0.0000), Var(v=-0.1125, grad=0.0000), Var(v=0.0558, grad=0.0000), Var(v=-0.0580, grad=0.0000), Var(v=0.0700, grad=0.0000), Var(v=0.1436, grad=0.0000), Var(v=-0.2564, grad=0.0000), Var(v=0.0317, grad=0.0000), Var(v=0.0450, grad=0.0000), Var(v=-0.2260, grad=0.0000), Var(v=0.0722, grad=0.0000), Var(v=0.0319, grad=0.0000), Var(v=-0.0064, grad=0.0000), Var(v=0.1075, grad=0.0000), Var(v=0.0609, grad=0.0000), Var(v=0.0896, grad=0.0000), Var(v=-0.0577, grad=0.0000), Var(v=-0.1437, grad=0.0000), Var(v=-0.1159, grad=0.0000), Var(v=0.0609, grad=0.0000), Var(v=0.0522, grad=0.0000), Var(v=0.0086, grad=0.0000), Var(v=-0.1043, grad=0.0000), Var(v=0.0761, grad=0.0000), Var(v=0.0703, grad=0.0000), Var(v=0.1475, grad=0.0000), Var(v=0.1222, grad=0.0000), Var(v=-0.0402, grad=0.0000), Var(v=-0.0598, grad=0.0000), Var(v=-0.0422, grad=0.0000), Var(v=-0.0323, grad=0.0000), Var(v=-0.0202, grad=0.0000), Var(v=-0.0542, grad=0.0000), Var(v=-0.0315, grad=0.0000)], [Var(v=0.0913, grad=0.0000), Var(v=0.1062, grad=0.0000), Var(v=0.0938, grad=0.0000), Var(v=-0.0414, grad=0.0000), Var(v=0.0977, grad=0.0000), Var(v=-0.0319, grad=0.0000), Var(v=0.0140, grad=0.0000), Var(v=0.0528, grad=0.0000), Var(v=0.0668, grad=0.0000), Var(v=0.0015, grad=0.0000), Var(v=0.0180, grad=0.0000), Var(v=0.2797, grad=0.0000), Var(v=-0.1610, grad=0.0000), Var(v=-0.0258, grad=0.0000), Var(v=-0.0814, grad=0.0000), Var(v=0.0011, grad=0.0000), Var(v=0.0656, grad=0.0000), Var(v=0.0904, grad=0.0000), Var(v=0.0988, grad=0.0000), Var(v=-0.1040, grad=0.0000), Var(v=-0.0401, grad=0.0000), Var(v=0.1047, grad=0.0000), Var(v=0.1101, grad=0.0000), Var(v=0.0771, grad=0.0000), Var(v=0.0149, grad=0.0000), Var(v=-0.0201, grad=0.0000), Var(v=0.0288, grad=0.0000), Var(v=-0.0860, grad=0.0000), Var(v=0.0886, grad=0.0000), Var(v=0.0234, grad=0.0000), Var(v=0.1090, grad=0.0000), Var(v=-0.1794, grad=0.0000), Var(v=0.0263, grad=0.0000), Var(v=0.0608, grad=0.0000), Var(v=0.0134, grad=0.0000), Var(v=-0.0457, grad=0.0000), Var(v=-0.1265, grad=0.0000), Var(v=0.0236, grad=0.0000), Var(v=-0.0260, grad=0.0000), Var(v=0.0364, grad=0.0000), Var(v=-0.0936, grad=0.0000), Var(v=-0.0243, grad=0.0000), Var(v=-0.0745, grad=0.0000), Var(v=0.0396, grad=0.0000), Var(v=-0.0106, grad=0.0000), Var(v=0.0077, grad=0.0000), Var(v=0.0814, grad=0.0000), Var(v=0.0255, grad=0.0000), Var(v=0.0670, grad=0.0000), Var(v=-0.0337, grad=0.0000)], [Var(v=-0.0725, grad=0.0000), Var(v=0.0515, grad=0.0000), Var(v=0.1457, grad=0.0000), Var(v=-0.0597, grad=0.0000), Var(v=-0.0876, grad=0.0000), Var(v=0.0684, grad=0.0000), Var(v=-0.1167, grad=0.0000), Var(v=0.1648, grad=0.0000), Var(v=0.0215, grad=0.0000), Var(v=0.0038, grad=0.0000), Var(v=-0.1101, grad=0.0000), Var(v=-0.0421, grad=0.0000), Var(v=-0.1197, grad=0.0000), Var(v=0.0440, grad=0.0000), Var(v=0.1542, grad=0.0000), Var(v=0.1651, grad=0.0000), Var(v=-0.0279, grad=0.0000), Var(v=-0.0715, grad=0.0000), Var(v=0.0892, grad=0.0000), Var(v=-0.0095, grad=0.0000), Var(v=0.0898, grad=0.0000), Var(v=-0.1455, grad=0.0000), Var(v=0.0568, grad=0.0000), Var(v=0.0558, grad=0.0000), Var(v=-0.0040, grad=0.0000), Var(v=-0.0233, grad=0.0000), Var(v=-0.0467, grad=0.0000), Var(v=0.1824, grad=0.0000), Var(v=0.0421, grad=0.0000), Var(v=-0.1109, grad=0.0000), Var(v=0.1996, grad=0.0000), Var(v=0.0345, grad=0.0000), Var(v=0.2173, grad=0.0000), Var(v=0.0251, grad=0.0000), Var(v=0.1052, grad=0.0000), Var(v=0.1656, grad=0.0000), Var(v=-0.2321, grad=0.0000), Var(v=0.0913, grad=0.0000), Var(v=0.0719, grad=0.0000), Var(v=0.0312, grad=0.0000), Var(v=0.1105, grad=0.0000), Var(v=0.0107, grad=0.0000), Var(v=-0.0467, grad=0.0000), Var(v=-0.0491, grad=0.0000), Var(v=0.0224, grad=0.0000), Var(v=-0.0095, grad=0.0000), Var(v=-0.1589, grad=0.0000), Var(v=-0.1190, grad=0.0000), Var(v=0.0064, grad=0.0000), Var(v=-0.0364, grad=0.0000)], [Var(v=-0.0287, grad=0.0000), Var(v=0.1284, grad=0.0000), Var(v=0.0822, grad=0.0000), Var(v=0.0409, grad=0.0000), Var(v=0.1795, grad=0.0000), Var(v=-0.0058, grad=0.0000), Var(v=-0.0344, grad=0.0000), Var(v=-0.0045, grad=0.0000), Var(v=-0.0129, grad=0.0000), Var(v=-0.0195, grad=0.0000), Var(v=0.0079, grad=0.0000), Var(v=-0.2157, grad=0.0000), Var(v=-0.0662, grad=0.0000), Var(v=-0.0473, grad=0.0000), Var(v=0.0552, grad=0.0000), Var(v=0.0999, grad=0.0000), Var(v=-0.0257, grad=0.0000), Var(v=0.0869, grad=0.0000), Var(v=0.0851, grad=0.0000), Var(v=-0.0017, grad=0.0000), Var(v=0.0577, grad=0.0000), Var(v=0.0705, grad=0.0000), Var(v=-0.1913, grad=0.0000), Var(v=-0.0274, grad=0.0000), Var(v=0.0092, grad=0.0000), Var(v=0.0260, grad=0.0000), Var(v=0.0333, grad=0.0000), Var(v=0.1687, grad=0.0000), Var(v=-0.0296, grad=0.0000), Var(v=0.0613, grad=0.0000), Var(v=0.0901, grad=0.0000), Var(v=-0.2280, grad=0.0000), Var(v=-0.1838, grad=0.0000), Var(v=-0.0515, grad=0.0000), Var(v=-0.1226, grad=0.0000), Var(v=0.0475, grad=0.0000), Var(v=-0.1457, grad=0.0000), Var(v=-0.0645, grad=0.0000), Var(v=0.0667, grad=0.0000), Var(v=0.0566, grad=0.0000), Var(v=0.0195, grad=0.0000), Var(v=-0.1292, grad=0.0000), Var(v=0.0120, grad=0.0000), Var(v=-0.1549, grad=0.0000), Var(v=0.0884, grad=0.0000), Var(v=0.0465, grad=0.0000), Var(v=-0.0784, grad=0.0000), Var(v=0.0786, grad=0.0000), Var(v=-0.0967, grad=0.0000), Var(v=-0.1351, grad=0.0000)], [Var(v=0.0633, grad=0.0000), Var(v=-0.0195, grad=0.0000), Var(v=-0.0121, grad=0.0000), Var(v=-0.0865, grad=0.0000), Var(v=0.0935, grad=0.0000), Var(v=0.0243, grad=0.0000), Var(v=-0.1604, grad=0.0000), Var(v=0.0059, grad=0.0000), Var(v=0.0463, grad=0.0000), Var(v=-0.1228, grad=0.0000), Var(v=-0.0939, grad=0.0000), Var(v=-0.2025, grad=0.0000), Var(v=-0.1057, grad=0.0000), Var(v=0.1409, grad=0.0000), Var(v=-0.0071, grad=0.0000), Var(v=-0.0860, grad=0.0000), Var(v=0.0417, grad=0.0000), Var(v=0.0431, grad=0.0000), Var(v=0.0672, grad=0.0000), Var(v=-0.0416, grad=0.0000), Var(v=-0.1396, grad=0.0000), Var(v=-0.1612, grad=0.0000), Var(v=0.0107, grad=0.0000), Var(v=-0.0702, grad=0.0000), Var(v=-0.0535, grad=0.0000), Var(v=-0.0859, grad=0.0000), Var(v=-0.0147, grad=0.0000), Var(v=0.0449, grad=0.0000), Var(v=0.0057, grad=0.0000), Var(v=0.0683, grad=0.0000), Var(v=0.0162, grad=0.0000), Var(v=0.1035, grad=0.0000), Var(v=-0.0098, grad=0.0000), Var(v=0.0485, grad=0.0000), Var(v=-0.0969, grad=0.0000), Var(v=-0.1285, grad=0.0000), Var(v=0.0365, grad=0.0000), Var(v=0.1023, grad=0.0000), Var(v=0.0646, grad=0.0000), Var(v=-0.0628, grad=0.0000), Var(v=-0.0276, grad=0.0000), Var(v=0.0309, grad=0.0000), Var(v=-0.2114, grad=0.0000), Var(v=0.1815, grad=0.0000), Var(v=0.0004, grad=0.0000), Var(v=0.0115, grad=0.0000), Var(v=-0.0733, grad=0.0000), Var(v=0.0781, grad=0.0000), Var(v=-0.0340, grad=0.0000), Var(v=-0.0209, grad=0.0000)], [Var(v=0.1333, grad=0.0000), Var(v=-0.1063, grad=0.0000), Var(v=-0.1157, grad=0.0000), Var(v=0.0969, grad=0.0000), Var(v=-0.0401, grad=0.0000), Var(v=0.1206, grad=0.0000), Var(v=-0.0313, grad=0.0000), Var(v=-0.0651, grad=0.0000), Var(v=0.1104, grad=0.0000), Var(v=0.0423, grad=0.0000), Var(v=0.1200, grad=0.0000), Var(v=-0.0249, grad=0.0000), Var(v=-0.0668, grad=0.0000), Var(v=0.0764, grad=0.0000), Var(v=-0.1791, grad=0.0000), Var(v=-0.0638, grad=0.0000), Var(v=0.0022, grad=0.0000), Var(v=0.0428, grad=0.0000), Var(v=-0.0408, grad=0.0000), Var(v=-0.0054, grad=0.0000), Var(v=0.2127, grad=0.0000), Var(v=-0.1292, grad=0.0000), Var(v=0.0154, grad=0.0000), Var(v=0.0340, grad=0.0000), Var(v=-0.1053, grad=0.0000), Var(v=-0.1235, grad=0.0000), Var(v=-0.0893, grad=0.0000), Var(v=-0.0664, grad=0.0000), Var(v=-0.0658, grad=0.0000), Var(v=0.0524, grad=0.0000), Var(v=0.0344, grad=0.0000), Var(v=0.1444, grad=0.0000), Var(v=-0.0241, grad=0.0000), Var(v=-0.0399, grad=0.0000), Var(v=-0.2642, grad=0.0000), Var(v=0.1004, grad=0.0000), Var(v=0.1810, grad=0.0000), Var(v=0.0450, grad=0.0000), Var(v=0.0165, grad=0.0000), Var(v=-0.0244, grad=0.0000), Var(v=-0.0357, grad=0.0000), Var(v=0.0354, grad=0.0000), Var(v=-0.1051, grad=0.0000), Var(v=0.0848, grad=0.0000), Var(v=0.0164, grad=0.0000), Var(v=-0.0023, grad=0.0000), Var(v=0.0286, grad=0.0000), Var(v=-0.2042, grad=0.0000), Var(v=0.0249, grad=0.0000), Var(v=0.0961, grad=0.0000)], [Var(v=0.0612, grad=0.0000), Var(v=-0.0300, grad=0.0000), Var(v=0.0013, grad=0.0000), Var(v=-0.1044, grad=0.0000), Var(v=0.0195, grad=0.0000), Var(v=0.1412, grad=0.0000), Var(v=0.1300, grad=0.0000), Var(v=0.1046, grad=0.0000), Var(v=0.0091, grad=0.0000), Var(v=0.0972, grad=0.0000), Var(v=0.1642, grad=0.0000), Var(v=-0.0854, grad=0.0000), Var(v=-0.0727, grad=0.0000), Var(v=-0.0035, grad=0.0000), Var(v=-0.0478, grad=0.0000), Var(v=0.0972, grad=0.0000), Var(v=0.1059, grad=0.0000), Var(v=-0.1235, grad=0.0000), Var(v=-0.0093, grad=0.0000), Var(v=0.0456, grad=0.0000), Var(v=-0.0469, grad=0.0000), Var(v=0.0191, grad=0.0000), Var(v=0.0863, grad=0.0000), Var(v=0.0389, grad=0.0000), Var(v=0.0398, grad=0.0000), Var(v=-0.0515, grad=0.0000), Var(v=0.0283, grad=0.0000), Var(v=0.0752, grad=0.0000), Var(v=0.0225, grad=0.0000), Var(v=0.0226, grad=0.0000), Var(v=-0.0154, grad=0.0000), Var(v=0.0326, grad=0.0000), Var(v=-0.0650, grad=0.0000), Var(v=0.0215, grad=0.0000), Var(v=0.0239, grad=0.0000), Var(v=0.0844, grad=0.0000), Var(v=-0.0834, grad=0.0000), Var(v=0.0467, grad=0.0000), Var(v=0.0801, grad=0.0000), Var(v=0.0890, grad=0.0000), Var(v=-0.1300, grad=0.0000), Var(v=-0.1250, grad=0.0000), Var(v=-0.1783, grad=0.0000), Var(v=-0.0449, grad=0.0000), Var(v=0.1864, grad=0.0000), Var(v=0.1240, grad=0.0000), Var(v=-0.0321, grad=0.0000), Var(v=0.0577, grad=0.0000), Var(v=0.0680, grad=0.0000), Var(v=-0.0554, grad=0.0000)], [Var(v=-0.1925, grad=0.0000), Var(v=0.1771, grad=0.0000), Var(v=0.0576, grad=0.0000), Var(v=-0.1599, grad=0.0000), Var(v=-0.0026, grad=0.0000), Var(v=-0.0430, grad=0.0000), Var(v=0.1209, grad=0.0000), Var(v=0.0564, grad=0.0000), Var(v=-0.0044, grad=0.0000), Var(v=0.0540, grad=0.0000), Var(v=-0.0310, grad=0.0000), Var(v=0.0448, grad=0.0000), Var(v=-0.1460, grad=0.0000), Var(v=0.1284, grad=0.0000), Var(v=-0.0091, grad=0.0000), Var(v=0.0120, grad=0.0000), Var(v=-0.0650, grad=0.0000), Var(v=-0.0208, grad=0.0000), Var(v=0.0274, grad=0.0000), Var(v=-0.0550, grad=0.0000), Var(v=-0.0706, grad=0.0000), Var(v=-0.1183, grad=0.0000), Var(v=-0.1224, grad=0.0000), Var(v=-0.1334, grad=0.0000), Var(v=0.1539, grad=0.0000), Var(v=-0.2411, grad=0.0000), Var(v=0.0565, grad=0.0000), Var(v=0.0361, grad=0.0000), Var(v=0.0682, grad=0.0000), Var(v=-0.1864, grad=0.0000), Var(v=0.0908, grad=0.0000), Var(v=-0.0471, grad=0.0000), Var(v=-0.0037, grad=0.0000), Var(v=0.0779, grad=0.0000), Var(v=0.0635, grad=0.0000), Var(v=-0.0195, grad=0.0000), Var(v=-0.0134, grad=0.0000), Var(v=-0.0805, grad=0.0000), Var(v=0.0814, grad=0.0000), Var(v=0.0115, grad=0.0000), Var(v=0.1181, grad=0.0000), Var(v=0.1094, grad=0.0000), Var(v=-0.1475, grad=0.0000), Var(v=-0.1198, grad=0.0000), Var(v=0.0035, grad=0.0000), Var(v=0.0015, grad=0.0000), Var(v=-0.1480, grad=0.0000), Var(v=-0.0623, grad=0.0000), Var(v=-0.0811, grad=0.0000), Var(v=-0.1913, grad=0.0000)], [Var(v=-0.1199, grad=0.0000), Var(v=0.0334, grad=0.0000), Var(v=0.0108, grad=0.0000), Var(v=-0.0189, grad=0.0000), Var(v=-0.1272, grad=0.0000), Var(v=-0.1758, grad=0.0000), Var(v=0.0704, grad=0.0000), Var(v=-0.1038, grad=0.0000), Var(v=-0.1375, grad=0.0000), Var(v=0.0668, grad=0.0000), Var(v=0.0606, grad=0.0000), Var(v=0.0528, grad=0.0000), Var(v=0.0131, grad=0.0000), Var(v=0.2347, grad=0.0000), Var(v=-0.0383, grad=0.0000), Var(v=-0.0320, grad=0.0000), Var(v=-0.0132, grad=0.0000), Var(v=-0.0772, grad=0.0000), Var(v=-0.0552, grad=0.0000), Var(v=-0.0294, grad=0.0000), Var(v=-0.0238, grad=0.0000), Var(v=0.0194, grad=0.0000), Var(v=-0.1854, grad=0.0000), Var(v=0.0542, grad=0.0000), Var(v=-0.0463, grad=0.0000), Var(v=0.0002, grad=0.0000), Var(v=0.0476, grad=0.0000), Var(v=-0.2488, grad=0.0000), Var(v=-0.1431, grad=0.0000), Var(v=0.1122, grad=0.0000), Var(v=-0.0134, grad=0.0000), Var(v=0.0654, grad=0.0000), Var(v=-0.1236, grad=0.0000), Var(v=-0.1289, grad=0.0000), Var(v=0.0986, grad=0.0000), Var(v=-0.0826, grad=0.0000), Var(v=0.0786, grad=0.0000), Var(v=0.1054, grad=0.0000), Var(v=0.1565, grad=0.0000), Var(v=-0.0525, grad=0.0000), Var(v=0.0002, grad=0.0000), Var(v=0.0038, grad=0.0000), Var(v=-0.0290, grad=0.0000), Var(v=-0.0120, grad=0.0000), Var(v=0.2083, grad=0.0000), Var(v=0.0255, grad=0.0000), Var(v=-0.0884, grad=0.0000), Var(v=0.1413, grad=0.0000), Var(v=-0.1293, grad=0.0000), Var(v=0.0984, grad=0.0000)], [Var(v=-0.0983, grad=0.0000), Var(v=0.0418, grad=0.0000), Var(v=0.1864, grad=0.0000), Var(v=-0.0048, grad=0.0000), Var(v=0.1587, grad=0.0000), Var(v=-0.1855, grad=0.0000), Var(v=-0.0668, grad=0.0000), Var(v=0.0698, grad=0.0000), Var(v=0.0156, grad=0.0000), Var(v=0.0141, grad=0.0000), Var(v=0.0460, grad=0.0000), Var(v=-0.1260, grad=0.0000), Var(v=-0.0851, grad=0.0000), Var(v=0.0176, grad=0.0000), Var(v=0.0704, grad=0.0000), Var(v=-0.1036, grad=0.0000), Var(v=0.1478, grad=0.0000), Var(v=-0.0593, grad=0.0000), Var(v=0.1804, grad=0.0000), Var(v=-0.1122, grad=0.0000), Var(v=-0.0294, grad=0.0000), Var(v=-0.0944, grad=0.0000), Var(v=-0.1127, grad=0.0000), Var(v=0.1118, grad=0.0000), Var(v=0.0159, grad=0.0000), Var(v=-0.0501, grad=0.0000), Var(v=0.0268, grad=0.0000), Var(v=-0.0244, grad=0.0000), Var(v=0.2013, grad=0.0000), Var(v=-0.0232, grad=0.0000), Var(v=-0.0510, grad=0.0000), Var(v=-0.2176, grad=0.0000), Var(v=0.1004, grad=0.0000), Var(v=-0.0830, grad=0.0000), Var(v=-0.0733, grad=0.0000), Var(v=-0.0302, grad=0.0000), Var(v=-0.2728, grad=0.0000), Var(v=-0.0452, grad=0.0000), Var(v=-0.0347, grad=0.0000), Var(v=-0.0464, grad=0.0000), Var(v=0.0513, grad=0.0000), Var(v=-0.0415, grad=0.0000), Var(v=-0.1853, grad=0.0000), Var(v=0.0300, grad=0.0000), Var(v=-0.0466, grad=0.0000), Var(v=-0.0067, grad=0.0000), Var(v=0.0476, grad=0.0000), Var(v=-0.0395, grad=0.0000), Var(v=-0.0810, grad=0.0000), Var(v=0.1557, grad=0.0000)], [Var(v=-0.2589, grad=0.0000), Var(v=0.0185, grad=0.0000), Var(v=-0.0838, grad=0.0000), Var(v=-0.1982, grad=0.0000), Var(v=0.0514, grad=0.0000), Var(v=-0.1000, grad=0.0000), Var(v=-0.1765, grad=0.0000), Var(v=0.1889, grad=0.0000), Var(v=0.0678, grad=0.0000), Var(v=0.1401, grad=0.0000), Var(v=0.0906, grad=0.0000), Var(v=-0.0988, grad=0.0000), Var(v=0.0088, grad=0.0000), Var(v=-0.0722, grad=0.0000), Var(v=0.1185, grad=0.0000), Var(v=-0.0564, grad=0.0000), Var(v=0.0291, grad=0.0000), Var(v=0.0174, grad=0.0000), Var(v=-0.0082, grad=0.0000), Var(v=0.1107, grad=0.0000), Var(v=0.1713, grad=0.0000), Var(v=-0.0667, grad=0.0000), Var(v=0.0270, grad=0.0000), Var(v=-0.0891, grad=0.0000), Var(v=0.0390, grad=0.0000), Var(v=0.1108, grad=0.0000), Var(v=0.0538, grad=0.0000), Var(v=-0.0033, grad=0.0000), Var(v=-0.0562, grad=0.0000), Var(v=0.1292, grad=0.0000), Var(v=-0.0089, grad=0.0000), Var(v=-0.2198, grad=0.0000), Var(v=0.0028, grad=0.0000), Var(v=0.0222, grad=0.0000), Var(v=0.1631, grad=0.0000), Var(v=0.1383, grad=0.0000), Var(v=0.1471, grad=0.0000), Var(v=0.0567, grad=0.0000), Var(v=0.2378, grad=0.0000), Var(v=0.0351, grad=0.0000), Var(v=-0.0014, grad=0.0000), Var(v=-0.0772, grad=0.0000), Var(v=-0.0326, grad=0.0000), Var(v=-0.0459, grad=0.0000), Var(v=0.1561, grad=0.0000), Var(v=-0.0900, grad=0.0000), Var(v=-0.0064, grad=0.0000), Var(v=-0.0298, grad=0.0000), Var(v=-0.0867, grad=0.0000), Var(v=-0.0038, grad=0.0000)], [Var(v=-0.0759, grad=0.0000), Var(v=0.0810, grad=0.0000), Var(v=-0.0760, grad=0.0000), Var(v=0.1628, grad=0.0000), Var(v=-0.0320, grad=0.0000), Var(v=0.0194, grad=0.0000), Var(v=0.0585, grad=0.0000), Var(v=0.0711, grad=0.0000), Var(v=0.0518, grad=0.0000), Var(v=0.0134, grad=0.0000), Var(v=-0.0362, grad=0.0000), Var(v=0.0307, grad=0.0000), Var(v=-0.1390, grad=0.0000), Var(v=-0.2090, grad=0.0000), Var(v=-0.0143, grad=0.0000), Var(v=-0.0427, grad=0.0000), Var(v=-0.0885, grad=0.0000), Var(v=-0.0108, grad=0.0000), Var(v=0.1525, grad=0.0000), Var(v=-0.1172, grad=0.0000), Var(v=-0.0126, grad=0.0000), Var(v=0.0623, grad=0.0000), Var(v=0.0263, grad=0.0000), Var(v=-0.0690, grad=0.0000), Var(v=-0.0949, grad=0.0000), Var(v=-0.0877, grad=0.0000), Var(v=0.1263, grad=0.0000), Var(v=0.0555, grad=0.0000), Var(v=-0.0732, grad=0.0000), Var(v=0.0107, grad=0.0000), Var(v=-0.0763, grad=0.0000), Var(v=0.1639, grad=0.0000), Var(v=-0.1077, grad=0.0000), Var(v=0.1959, grad=0.0000), Var(v=-0.1171, grad=0.0000), Var(v=-0.1113, grad=0.0000), Var(v=-0.1151, grad=0.0000), Var(v=-0.2052, grad=0.0000), Var(v=0.0321, grad=0.0000), Var(v=0.0529, grad=0.0000), Var(v=-0.1434, grad=0.0000), Var(v=0.0033, grad=0.0000), Var(v=-0.1102, grad=0.0000), Var(v=0.0802, grad=0.0000), Var(v=-0.0331, grad=0.0000), Var(v=0.0304, grad=0.0000), Var(v=-0.2188, grad=0.0000), Var(v=0.1203, grad=0.0000), Var(v=0.1411, grad=0.0000), Var(v=0.1898, grad=0.0000)], [Var(v=-0.0305, grad=0.0000), Var(v=-0.0664, grad=0.0000), Var(v=0.1054, grad=0.0000), Var(v=0.0819, grad=0.0000), Var(v=0.1375, grad=0.0000), Var(v=-0.0654, grad=0.0000), Var(v=-0.0442, grad=0.0000), Var(v=0.1030, grad=0.0000), Var(v=0.0558, grad=0.0000), Var(v=0.0126, grad=0.0000), Var(v=-0.0604, grad=0.0000), Var(v=0.2358, grad=0.0000), Var(v=0.1372, grad=0.0000), Var(v=0.0141, grad=0.0000), Var(v=-0.0921, grad=0.0000), Var(v=0.0782, grad=0.0000), Var(v=0.1023, grad=0.0000), Var(v=-0.0047, grad=0.0000), Var(v=0.1118, grad=0.0000), Var(v=-0.0878, grad=0.0000), Var(v=-0.0229, grad=0.0000), Var(v=0.2072, grad=0.0000), Var(v=-0.0739, grad=0.0000), Var(v=0.0556, grad=0.0000), Var(v=0.1125, grad=0.0000), Var(v=0.0873, grad=0.0000), Var(v=0.0571, grad=0.0000), Var(v=-0.1917, grad=0.0000), Var(v=0.0037, grad=0.0000), Var(v=0.0283, grad=0.0000), Var(v=-0.1697, grad=0.0000), Var(v=-0.3526, grad=0.0000), Var(v=0.0266, grad=0.0000), Var(v=-0.2579, grad=0.0000), Var(v=-0.1639, grad=0.0000), Var(v=-0.0998, grad=0.0000), Var(v=-0.0227, grad=0.0000), Var(v=-0.0631, grad=0.0000), Var(v=-0.1213, grad=0.0000), Var(v=-0.0853, grad=0.0000), Var(v=0.0782, grad=0.0000), Var(v=0.0457, grad=0.0000), Var(v=-0.0026, grad=0.0000), Var(v=0.0153, grad=0.0000), Var(v=0.1806, grad=0.0000), Var(v=0.0689, grad=0.0000), Var(v=-0.0092, grad=0.0000), Var(v=0.0390, grad=0.0000), Var(v=0.1938, grad=0.0000), Var(v=0.1715, grad=0.0000)], [Var(v=0.0035, grad=0.0000), Var(v=-0.0105, grad=0.0000), Var(v=0.0706, grad=0.0000), Var(v=-0.0107, grad=0.0000), Var(v=-0.0297, grad=0.0000), Var(v=-0.0468, grad=0.0000), Var(v=-0.0741, grad=0.0000), Var(v=-0.0531, grad=0.0000), Var(v=-0.0027, grad=0.0000), Var(v=-0.1556, grad=0.0000), Var(v=0.1122, grad=0.0000), Var(v=-0.1060, grad=0.0000), Var(v=-0.0913, grad=0.0000), Var(v=-0.0832, grad=0.0000), Var(v=0.0299, grad=0.0000), Var(v=-0.0434, grad=0.0000), Var(v=0.1292, grad=0.0000), Var(v=-0.0004, grad=0.0000), Var(v=-0.0220, grad=0.0000), Var(v=0.1450, grad=0.0000), Var(v=-0.0442, grad=0.0000), Var(v=-0.1271, grad=0.0000), Var(v=0.0186, grad=0.0000), Var(v=0.1136, grad=0.0000), Var(v=0.1538, grad=0.0000), Var(v=-0.1363, grad=0.0000), Var(v=0.2151, grad=0.0000), Var(v=0.0192, grad=0.0000), Var(v=-0.0545, grad=0.0000), Var(v=0.1348, grad=0.0000), Var(v=0.1319, grad=0.0000), Var(v=0.0867, grad=0.0000), Var(v=0.0029, grad=0.0000), Var(v=0.1075, grad=0.0000), Var(v=-0.1641, grad=0.0000), Var(v=0.0626, grad=0.0000), Var(v=0.0611, grad=0.0000), Var(v=-0.0254, grad=0.0000), Var(v=0.0366, grad=0.0000), Var(v=-0.0529, grad=0.0000), Var(v=-0.0053, grad=0.0000), Var(v=0.0548, grad=0.0000), Var(v=0.0650, grad=0.0000), Var(v=0.0135, grad=0.0000), Var(v=0.0390, grad=0.0000), Var(v=-0.2008, grad=0.0000), Var(v=0.0338, grad=0.0000), Var(v=-0.0477, grad=0.0000), Var(v=-0.0730, grad=0.0000), Var(v=0.0251, grad=0.0000)], [Var(v=-0.0758, grad=0.0000), Var(v=-0.0260, grad=0.0000), Var(v=0.0020, grad=0.0000), Var(v=0.0377, grad=0.0000), Var(v=0.0660, grad=0.0000), Var(v=0.0563, grad=0.0000), Var(v=-0.0764, grad=0.0000), Var(v=0.0515, grad=0.0000), Var(v=0.0684, grad=0.0000), Var(v=0.0091, grad=0.0000), Var(v=0.0198, grad=0.0000), Var(v=-0.1215, grad=0.0000), Var(v=-0.2501, grad=0.0000), Var(v=-0.0950, grad=0.0000), Var(v=-0.1718, grad=0.0000), Var(v=-0.1725, grad=0.0000), Var(v=-0.0657, grad=0.0000), Var(v=0.0388, grad=0.0000), Var(v=0.0684, grad=0.0000), Var(v=0.0221, grad=0.0000), Var(v=-0.0549, grad=0.0000), Var(v=0.0232, grad=0.0000), Var(v=0.0760, grad=0.0000), Var(v=-0.0773, grad=0.0000), Var(v=0.0443, grad=0.0000), Var(v=-0.0556, grad=0.0000), Var(v=-0.1747, grad=0.0000), Var(v=-0.0244, grad=0.0000), Var(v=0.1255, grad=0.0000), Var(v=-0.0263, grad=0.0000), Var(v=-0.0417, grad=0.0000), Var(v=-0.0816, grad=0.0000), Var(v=0.0944, grad=0.0000), Var(v=0.1602, grad=0.0000), Var(v=-0.1571, grad=0.0000), Var(v=-0.1779, grad=0.0000), Var(v=0.0636, grad=0.0000), Var(v=-0.0945, grad=0.0000), Var(v=-0.0401, grad=0.0000), Var(v=-0.0299, grad=0.0000), Var(v=-0.1057, grad=0.0000), Var(v=0.0088, grad=0.0000), Var(v=-0.0413, grad=0.0000), Var(v=0.0650, grad=0.0000), Var(v=-0.1090, grad=0.0000), Var(v=-0.1081, grad=0.0000), Var(v=-0.1345, grad=0.0000), Var(v=0.0178, grad=0.0000), Var(v=0.0964, grad=0.0000), Var(v=-0.0800, grad=0.0000)]] Biases: [Var(v=0.0000, grad=0.0000), Var(v=-0.0000, grad=0.0000), Var(v=-0.0000, grad=0.0000), Var(v=-0.0003, grad=0.0000), Var(v=0.0000, grad=0.0000), Var(v=0.0000, grad=0.0000), Var(v=0.0000, grad=0.0000), Var(v=-0.0011, grad=0.0000), Var(v=0.0006, grad=0.0000), Var(v=0.0001, grad=0.0000), Var(v=-0.0008, grad=0.0000), Var(v=0.0007, grad=0.0000), Var(v=0.0000, grad=0.0000), Var(v=-0.0000, grad=0.0000), Var(v=0.0000, grad=0.0000), Var(v=0.0000, grad=0.0000), Var(v=0.0003, grad=0.0000), Var(v=0.0001, grad=0.0000), Var(v=0.0000, grad=0.0000), Var(v=0.0000, grad=0.0000), Var(v=0.0001, grad=0.0000), Var(v=0.0000, grad=0.0000), Var(v=-0.0002, grad=0.0000), Var(v=0.0015, grad=0.0000), Var(v=-0.0002, grad=0.0000), Var(v=0.0000, grad=0.0000), Var(v=-0.0000, grad=0.0000), Var(v=0.0002, grad=0.0000), Var(v=0.0005, grad=0.0000), Var(v=-0.0000, grad=0.0000), Var(v=-0.0000, grad=0.0000), Var(v=0.0000, grad=0.0000), Var(v=-0.0004, grad=0.0000), Var(v=0.0000, grad=0.0000), Var(v=0.0000, grad=0.0000), Var(v=-0.0005, grad=0.0000), Var(v=0.0000, grad=0.0000), Var(v=0.0000, grad=0.0000), Var(v=0.0000, grad=0.0000), Var(v=0.0011, grad=0.0000), Var(v=-0.0008, grad=0.0000), Var(v=-0.0008, grad=0.0000), Var(v=0.0000, grad=0.0000), Var(v=0.0000, grad=0.0000), Var(v=-0.0000, grad=0.0000), Var(v=0.0003, grad=0.0000), Var(v=0.0000, grad=0.0000), Var(v=0.0000, grad=0.0000), Var(v=0.0001, grad=0.0000), Var(v=-0.0007, grad=0.0000)]\n",
      "Layer 2 \n",
      " DenseLayer(n_in = 50, n_out = 1):\n",
      "Weights and biases:\n",
      "Weights: [[Var(v=0.0054, grad=0.0000)], [Var(v=0.0116, grad=0.0000)], [Var(v=0.0421, grad=0.0000)], [Var(v=-0.0404, grad=0.0000)], [Var(v=-0.0433, grad=0.0000)], [Var(v=0.1060, grad=0.0000)], [Var(v=0.0502, grad=0.0000)], [Var(v=0.1310, grad=0.0000)], [Var(v=-0.0745, grad=0.0000)], [Var(v=-0.0127, grad=0.0000)], [Var(v=0.0927, grad=0.0000)], [Var(v=-0.0855, grad=0.0000)], [Var(v=-0.0855, grad=0.0000)], [Var(v=0.0319, grad=0.0000)], [Var(v=-0.0623, grad=0.0000)], [Var(v=-0.0579, grad=0.0000)], [Var(v=-0.0356, grad=0.0000)], [Var(v=0.0180, grad=0.0000)], [Var(v=-0.0813, grad=0.0000)], [Var(v=0.1732, grad=0.0000)], [Var(v=-0.0079, grad=0.0000)], [Var(v=-0.1594, grad=0.0000)], [Var(v=0.0183, grad=0.0000)], [Var(v=-0.1791, grad=0.0000)], [Var(v=0.0218, grad=0.0000)], [Var(v=0.1665, grad=0.0000)], [Var(v=0.0404, grad=0.0000)], [Var(v=0.0296, grad=0.0000)], [Var(v=-0.0641, grad=0.0000)], [Var(v=0.1350, grad=0.0000)], [Var(v=0.0986, grad=0.0000)], [Var(v=0.1058, grad=0.0000)], [Var(v=0.0523, grad=0.0000)], [Var(v=0.0208, grad=0.0000)], [Var(v=-0.1495, grad=0.0000)], [Var(v=0.0607, grad=0.0000)], [Var(v=0.1233, grad=0.0000)], [Var(v=-0.0410, grad=0.0000)], [Var(v=-0.0886, grad=0.0000)], [Var(v=0.1280, grad=0.0000)], [Var(v=0.0907, grad=0.0000)], [Var(v=0.0962, grad=0.0000)], [Var(v=0.0510, grad=0.0000)], [Var(v=0.0605, grad=0.0000)], [Var(v=0.0088, grad=0.0000)], [Var(v=0.0326, grad=0.0000)], [Var(v=-0.0097, grad=0.0000)], [Var(v=0.0043, grad=0.0000)], [Var(v=-0.0172, grad=0.0000)], [Var(v=0.0824, grad=0.0000)]] Biases: [Var(v=-0.0000, grad=0.0000)]\n",
      "\n",
      "Network after update:\n",
      "Layer 0 \n",
      " DenseLayer(n_in = 1, n_out = 15):\n",
      "Weights and biases:\n",
      "Weights: [[Var(v=0.0661, grad=0.0000), Var(v=-0.1402, grad=0.0000), Var(v=-0.1196, grad=0.0000), Var(v=0.2036, grad=0.0000), Var(v=0.1363, grad=0.0000), Var(v=-0.0722, grad=0.0000), Var(v=-0.0883, grad=0.0000), Var(v=-0.0891, grad=0.0000), Var(v=0.0139, grad=0.0000), Var(v=-0.0719, grad=0.0000), Var(v=-0.0662, grad=0.0000), Var(v=0.0520, grad=0.0000), Var(v=-0.2404, grad=0.0000), Var(v=-0.1288, grad=0.0000), Var(v=-0.0399, grad=0.0000)]] Biases: [Var(v=0.0000, grad=0.0000), Var(v=0.0005, grad=0.0000), Var(v=-0.0004, grad=0.0000), Var(v=-0.0000, grad=0.0000), Var(v=0.0002, grad=0.0000), Var(v=-0.0003, grad=0.0000), Var(v=0.0001, grad=0.0000), Var(v=-0.0003, grad=0.0000), Var(v=0.0001, grad=0.0000), Var(v=-0.0000, grad=0.0000), Var(v=-0.0005, grad=0.0000), Var(v=-0.0002, grad=0.0000), Var(v=0.0005, grad=0.0000), Var(v=-0.0006, grad=0.0000), Var(v=0.0001, grad=0.0000)]\n",
      "Layer 1 \n",
      " DenseLayer(n_in = 15, n_out = 50):\n",
      "Weights and biases:\n",
      "Weights: [[Var(v=-0.1311, grad=0.0000), Var(v=0.0157, grad=0.0000), Var(v=0.0245, grad=0.0000), Var(v=0.1868, grad=0.0000), Var(v=0.0371, grad=0.0000), Var(v=-0.1295, grad=0.0000), Var(v=0.0424, grad=0.0000), Var(v=-0.1956, grad=0.0000), Var(v=-0.0822, grad=0.0000), Var(v=0.0156, grad=0.0000), Var(v=0.0130, grad=0.0000), Var(v=-0.1137, grad=0.0000), Var(v=-0.1127, grad=0.0000), Var(v=0.1329, grad=0.0000), Var(v=-0.1384, grad=0.0000), Var(v=0.0530, grad=0.0000), Var(v=-0.0321, grad=0.0000), Var(v=-0.1125, grad=0.0000), Var(v=0.0558, grad=0.0000), Var(v=-0.0580, grad=0.0000), Var(v=0.0700, grad=0.0000), Var(v=0.1436, grad=0.0000), Var(v=-0.2564, grad=0.0000), Var(v=0.0317, grad=0.0000), Var(v=0.0450, grad=0.0000), Var(v=-0.2260, grad=0.0000), Var(v=0.0722, grad=0.0000), Var(v=0.0319, grad=0.0000), Var(v=-0.0064, grad=0.0000), Var(v=0.1075, grad=0.0000), Var(v=0.0609, grad=0.0000), Var(v=0.0896, grad=0.0000), Var(v=-0.0577, grad=0.0000), Var(v=-0.1437, grad=0.0000), Var(v=-0.1159, grad=0.0000), Var(v=0.0609, grad=0.0000), Var(v=0.0522, grad=0.0000), Var(v=0.0086, grad=0.0000), Var(v=-0.1043, grad=0.0000), Var(v=0.0761, grad=0.0000), Var(v=0.0703, grad=0.0000), Var(v=0.1475, grad=0.0000), Var(v=0.1222, grad=0.0000), Var(v=-0.0402, grad=0.0000), Var(v=-0.0598, grad=0.0000), Var(v=-0.0422, grad=0.0000), Var(v=-0.0323, grad=0.0000), Var(v=-0.0202, grad=0.0000), Var(v=-0.0542, grad=0.0000), Var(v=-0.0315, grad=0.0000)], [Var(v=0.0913, grad=0.0000), Var(v=0.1062, grad=0.0000), Var(v=0.0938, grad=0.0000), Var(v=-0.0414, grad=0.0000), Var(v=0.0977, grad=0.0000), Var(v=-0.0319, grad=0.0000), Var(v=0.0140, grad=0.0000), Var(v=0.0528, grad=0.0000), Var(v=0.0668, grad=0.0000), Var(v=0.0015, grad=0.0000), Var(v=0.0180, grad=0.0000), Var(v=0.2797, grad=0.0000), Var(v=-0.1610, grad=0.0000), Var(v=-0.0258, grad=0.0000), Var(v=-0.0814, grad=0.0000), Var(v=0.0011, grad=0.0000), Var(v=0.0656, grad=0.0000), Var(v=0.0904, grad=0.0000), Var(v=0.0988, grad=0.0000), Var(v=-0.1040, grad=0.0000), Var(v=-0.0401, grad=0.0000), Var(v=0.1047, grad=0.0000), Var(v=0.1101, grad=0.0000), Var(v=0.0771, grad=0.0000), Var(v=0.0149, grad=0.0000), Var(v=-0.0201, grad=0.0000), Var(v=0.0288, grad=0.0000), Var(v=-0.0860, grad=0.0000), Var(v=0.0886, grad=0.0000), Var(v=0.0234, grad=0.0000), Var(v=0.1090, grad=0.0000), Var(v=-0.1794, grad=0.0000), Var(v=0.0263, grad=0.0000), Var(v=0.0608, grad=0.0000), Var(v=0.0134, grad=0.0000), Var(v=-0.0457, grad=0.0000), Var(v=-0.1265, grad=0.0000), Var(v=0.0236, grad=0.0000), Var(v=-0.0260, grad=0.0000), Var(v=0.0364, grad=0.0000), Var(v=-0.0936, grad=0.0000), Var(v=-0.0243, grad=0.0000), Var(v=-0.0745, grad=0.0000), Var(v=0.0396, grad=0.0000), Var(v=-0.0106, grad=0.0000), Var(v=0.0077, grad=0.0000), Var(v=0.0814, grad=0.0000), Var(v=0.0255, grad=0.0000), Var(v=0.0670, grad=0.0000), Var(v=-0.0337, grad=0.0000)], [Var(v=-0.0725, grad=0.0000), Var(v=0.0515, grad=0.0000), Var(v=0.1457, grad=0.0000), Var(v=-0.0597, grad=0.0000), Var(v=-0.0876, grad=0.0000), Var(v=0.0684, grad=0.0000), Var(v=-0.1167, grad=0.0000), Var(v=0.1648, grad=0.0000), Var(v=0.0215, grad=0.0000), Var(v=0.0038, grad=0.0000), Var(v=-0.1101, grad=0.0000), Var(v=-0.0421, grad=0.0000), Var(v=-0.1197, grad=0.0000), Var(v=0.0440, grad=0.0000), Var(v=0.1542, grad=0.0000), Var(v=0.1651, grad=0.0000), Var(v=-0.0279, grad=0.0000), Var(v=-0.0715, grad=0.0000), Var(v=0.0892, grad=0.0000), Var(v=-0.0095, grad=0.0000), Var(v=0.0898, grad=0.0000), Var(v=-0.1455, grad=0.0000), Var(v=0.0568, grad=0.0000), Var(v=0.0558, grad=0.0000), Var(v=-0.0040, grad=0.0000), Var(v=-0.0233, grad=0.0000), Var(v=-0.0467, grad=0.0000), Var(v=0.1824, grad=0.0000), Var(v=0.0421, grad=0.0000), Var(v=-0.1109, grad=0.0000), Var(v=0.1996, grad=0.0000), Var(v=0.0345, grad=0.0000), Var(v=0.2173, grad=0.0000), Var(v=0.0251, grad=0.0000), Var(v=0.1052, grad=0.0000), Var(v=0.1656, grad=0.0000), Var(v=-0.2321, grad=0.0000), Var(v=0.0913, grad=0.0000), Var(v=0.0719, grad=0.0000), Var(v=0.0312, grad=0.0000), Var(v=0.1105, grad=0.0000), Var(v=0.0107, grad=0.0000), Var(v=-0.0467, grad=0.0000), Var(v=-0.0491, grad=0.0000), Var(v=0.0224, grad=0.0000), Var(v=-0.0095, grad=0.0000), Var(v=-0.1589, grad=0.0000), Var(v=-0.1190, grad=0.0000), Var(v=0.0064, grad=0.0000), Var(v=-0.0364, grad=0.0000)], [Var(v=-0.0287, grad=0.0000), Var(v=0.1284, grad=0.0000), Var(v=0.0822, grad=0.0000), Var(v=0.0409, grad=0.0000), Var(v=0.1795, grad=0.0000), Var(v=-0.0058, grad=0.0000), Var(v=-0.0344, grad=0.0000), Var(v=-0.0045, grad=0.0000), Var(v=-0.0129, grad=0.0000), Var(v=-0.0195, grad=0.0000), Var(v=0.0079, grad=0.0000), Var(v=-0.2157, grad=0.0000), Var(v=-0.0662, grad=0.0000), Var(v=-0.0473, grad=0.0000), Var(v=0.0552, grad=0.0000), Var(v=0.0999, grad=0.0000), Var(v=-0.0257, grad=0.0000), Var(v=0.0869, grad=0.0000), Var(v=0.0851, grad=0.0000), Var(v=-0.0017, grad=0.0000), Var(v=0.0577, grad=0.0000), Var(v=0.0705, grad=0.0000), Var(v=-0.1913, grad=0.0000), Var(v=-0.0274, grad=0.0000), Var(v=0.0092, grad=0.0000), Var(v=0.0260, grad=0.0000), Var(v=0.0333, grad=0.0000), Var(v=0.1687, grad=0.0000), Var(v=-0.0296, grad=0.0000), Var(v=0.0613, grad=0.0000), Var(v=0.0901, grad=0.0000), Var(v=-0.2280, grad=0.0000), Var(v=-0.1838, grad=0.0000), Var(v=-0.0515, grad=0.0000), Var(v=-0.1226, grad=0.0000), Var(v=0.0475, grad=0.0000), Var(v=-0.1457, grad=0.0000), Var(v=-0.0645, grad=0.0000), Var(v=0.0667, grad=0.0000), Var(v=0.0566, grad=0.0000), Var(v=0.0195, grad=0.0000), Var(v=-0.1292, grad=0.0000), Var(v=0.0120, grad=0.0000), Var(v=-0.1549, grad=0.0000), Var(v=0.0884, grad=0.0000), Var(v=0.0465, grad=0.0000), Var(v=-0.0784, grad=0.0000), Var(v=0.0786, grad=0.0000), Var(v=-0.0967, grad=0.0000), Var(v=-0.1351, grad=0.0000)], [Var(v=0.0633, grad=0.0000), Var(v=-0.0195, grad=0.0000), Var(v=-0.0121, grad=0.0000), Var(v=-0.0865, grad=0.0000), Var(v=0.0935, grad=0.0000), Var(v=0.0243, grad=0.0000), Var(v=-0.1604, grad=0.0000), Var(v=0.0059, grad=0.0000), Var(v=0.0463, grad=0.0000), Var(v=-0.1228, grad=0.0000), Var(v=-0.0939, grad=0.0000), Var(v=-0.2025, grad=0.0000), Var(v=-0.1057, grad=0.0000), Var(v=0.1409, grad=0.0000), Var(v=-0.0071, grad=0.0000), Var(v=-0.0860, grad=0.0000), Var(v=0.0417, grad=0.0000), Var(v=0.0431, grad=0.0000), Var(v=0.0672, grad=0.0000), Var(v=-0.0416, grad=0.0000), Var(v=-0.1396, grad=0.0000), Var(v=-0.1612, grad=0.0000), Var(v=0.0107, grad=0.0000), Var(v=-0.0702, grad=0.0000), Var(v=-0.0535, grad=0.0000), Var(v=-0.0859, grad=0.0000), Var(v=-0.0147, grad=0.0000), Var(v=0.0449, grad=0.0000), Var(v=0.0057, grad=0.0000), Var(v=0.0683, grad=0.0000), Var(v=0.0162, grad=0.0000), Var(v=0.1035, grad=0.0000), Var(v=-0.0098, grad=0.0000), Var(v=0.0485, grad=0.0000), Var(v=-0.0969, grad=0.0000), Var(v=-0.1285, grad=0.0000), Var(v=0.0365, grad=0.0000), Var(v=0.1023, grad=0.0000), Var(v=0.0646, grad=0.0000), Var(v=-0.0628, grad=0.0000), Var(v=-0.0276, grad=0.0000), Var(v=0.0309, grad=0.0000), Var(v=-0.2114, grad=0.0000), Var(v=0.1815, grad=0.0000), Var(v=0.0004, grad=0.0000), Var(v=0.0115, grad=0.0000), Var(v=-0.0733, grad=0.0000), Var(v=0.0781, grad=0.0000), Var(v=-0.0340, grad=0.0000), Var(v=-0.0209, grad=0.0000)], [Var(v=0.1333, grad=0.0000), Var(v=-0.1063, grad=0.0000), Var(v=-0.1157, grad=0.0000), Var(v=0.0969, grad=0.0000), Var(v=-0.0401, grad=0.0000), Var(v=0.1206, grad=0.0000), Var(v=-0.0313, grad=0.0000), Var(v=-0.0651, grad=0.0000), Var(v=0.1104, grad=0.0000), Var(v=0.0423, grad=0.0000), Var(v=0.1200, grad=0.0000), Var(v=-0.0249, grad=0.0000), Var(v=-0.0668, grad=0.0000), Var(v=0.0764, grad=0.0000), Var(v=-0.1791, grad=0.0000), Var(v=-0.0638, grad=0.0000), Var(v=0.0022, grad=0.0000), Var(v=0.0428, grad=0.0000), Var(v=-0.0408, grad=0.0000), Var(v=-0.0054, grad=0.0000), Var(v=0.2127, grad=0.0000), Var(v=-0.1292, grad=0.0000), Var(v=0.0154, grad=0.0000), Var(v=0.0340, grad=0.0000), Var(v=-0.1053, grad=0.0000), Var(v=-0.1235, grad=0.0000), Var(v=-0.0893, grad=0.0000), Var(v=-0.0664, grad=0.0000), Var(v=-0.0658, grad=0.0000), Var(v=0.0524, grad=0.0000), Var(v=0.0344, grad=0.0000), Var(v=0.1444, grad=0.0000), Var(v=-0.0241, grad=0.0000), Var(v=-0.0399, grad=0.0000), Var(v=-0.2642, grad=0.0000), Var(v=0.1004, grad=0.0000), Var(v=0.1810, grad=0.0000), Var(v=0.0450, grad=0.0000), Var(v=0.0165, grad=0.0000), Var(v=-0.0244, grad=0.0000), Var(v=-0.0357, grad=0.0000), Var(v=0.0354, grad=0.0000), Var(v=-0.1051, grad=0.0000), Var(v=0.0848, grad=0.0000), Var(v=0.0164, grad=0.0000), Var(v=-0.0023, grad=0.0000), Var(v=0.0286, grad=0.0000), Var(v=-0.2042, grad=0.0000), Var(v=0.0249, grad=0.0000), Var(v=0.0961, grad=0.0000)], [Var(v=0.0612, grad=0.0000), Var(v=-0.0300, grad=0.0000), Var(v=0.0013, grad=0.0000), Var(v=-0.1044, grad=0.0000), Var(v=0.0195, grad=0.0000), Var(v=0.1412, grad=0.0000), Var(v=0.1300, grad=0.0000), Var(v=0.1046, grad=0.0000), Var(v=0.0091, grad=0.0000), Var(v=0.0972, grad=0.0000), Var(v=0.1642, grad=0.0000), Var(v=-0.0854, grad=0.0000), Var(v=-0.0727, grad=0.0000), Var(v=-0.0035, grad=0.0000), Var(v=-0.0478, grad=0.0000), Var(v=0.0972, grad=0.0000), Var(v=0.1059, grad=0.0000), Var(v=-0.1235, grad=0.0000), Var(v=-0.0093, grad=0.0000), Var(v=0.0456, grad=0.0000), Var(v=-0.0469, grad=0.0000), Var(v=0.0191, grad=0.0000), Var(v=0.0863, grad=0.0000), Var(v=0.0389, grad=0.0000), Var(v=0.0398, grad=0.0000), Var(v=-0.0515, grad=0.0000), Var(v=0.0283, grad=0.0000), Var(v=0.0752, grad=0.0000), Var(v=0.0225, grad=0.0000), Var(v=0.0226, grad=0.0000), Var(v=-0.0154, grad=0.0000), Var(v=0.0326, grad=0.0000), Var(v=-0.0650, grad=0.0000), Var(v=0.0215, grad=0.0000), Var(v=0.0239, grad=0.0000), Var(v=0.0844, grad=0.0000), Var(v=-0.0834, grad=0.0000), Var(v=0.0467, grad=0.0000), Var(v=0.0801, grad=0.0000), Var(v=0.0890, grad=0.0000), Var(v=-0.1300, grad=0.0000), Var(v=-0.1250, grad=0.0000), Var(v=-0.1783, grad=0.0000), Var(v=-0.0449, grad=0.0000), Var(v=0.1864, grad=0.0000), Var(v=0.1240, grad=0.0000), Var(v=-0.0321, grad=0.0000), Var(v=0.0577, grad=0.0000), Var(v=0.0680, grad=0.0000), Var(v=-0.0554, grad=0.0000)], [Var(v=-0.1925, grad=0.0000), Var(v=0.1771, grad=0.0000), Var(v=0.0576, grad=0.0000), Var(v=-0.1599, grad=0.0000), Var(v=-0.0026, grad=0.0000), Var(v=-0.0430, grad=0.0000), Var(v=0.1209, grad=0.0000), Var(v=0.0564, grad=0.0000), Var(v=-0.0044, grad=0.0000), Var(v=0.0540, grad=0.0000), Var(v=-0.0310, grad=0.0000), Var(v=0.0448, grad=0.0000), Var(v=-0.1460, grad=0.0000), Var(v=0.1284, grad=0.0000), Var(v=-0.0091, grad=0.0000), Var(v=0.0120, grad=0.0000), Var(v=-0.0650, grad=0.0000), Var(v=-0.0208, grad=0.0000), Var(v=0.0274, grad=0.0000), Var(v=-0.0550, grad=0.0000), Var(v=-0.0706, grad=0.0000), Var(v=-0.1183, grad=0.0000), Var(v=-0.1224, grad=0.0000), Var(v=-0.1334, grad=0.0000), Var(v=0.1539, grad=0.0000), Var(v=-0.2411, grad=0.0000), Var(v=0.0565, grad=0.0000), Var(v=0.0361, grad=0.0000), Var(v=0.0682, grad=0.0000), Var(v=-0.1864, grad=0.0000), Var(v=0.0908, grad=0.0000), Var(v=-0.0471, grad=0.0000), Var(v=-0.0037, grad=0.0000), Var(v=0.0779, grad=0.0000), Var(v=0.0635, grad=0.0000), Var(v=-0.0195, grad=0.0000), Var(v=-0.0134, grad=0.0000), Var(v=-0.0805, grad=0.0000), Var(v=0.0814, grad=0.0000), Var(v=0.0115, grad=0.0000), Var(v=0.1181, grad=0.0000), Var(v=0.1094, grad=0.0000), Var(v=-0.1475, grad=0.0000), Var(v=-0.1198, grad=0.0000), Var(v=0.0035, grad=0.0000), Var(v=0.0015, grad=0.0000), Var(v=-0.1480, grad=0.0000), Var(v=-0.0623, grad=0.0000), Var(v=-0.0811, grad=0.0000), Var(v=-0.1913, grad=0.0000)], [Var(v=-0.1199, grad=0.0000), Var(v=0.0334, grad=0.0000), Var(v=0.0108, grad=0.0000), Var(v=-0.0189, grad=0.0000), Var(v=-0.1272, grad=0.0000), Var(v=-0.1758, grad=0.0000), Var(v=0.0704, grad=0.0000), Var(v=-0.1038, grad=0.0000), Var(v=-0.1375, grad=0.0000), Var(v=0.0668, grad=0.0000), Var(v=0.0606, grad=0.0000), Var(v=0.0528, grad=0.0000), Var(v=0.0131, grad=0.0000), Var(v=0.2347, grad=0.0000), Var(v=-0.0383, grad=0.0000), Var(v=-0.0320, grad=0.0000), Var(v=-0.0132, grad=0.0000), Var(v=-0.0772, grad=0.0000), Var(v=-0.0552, grad=0.0000), Var(v=-0.0294, grad=0.0000), Var(v=-0.0238, grad=0.0000), Var(v=0.0194, grad=0.0000), Var(v=-0.1854, grad=0.0000), Var(v=0.0542, grad=0.0000), Var(v=-0.0463, grad=0.0000), Var(v=0.0002, grad=0.0000), Var(v=0.0476, grad=0.0000), Var(v=-0.2488, grad=0.0000), Var(v=-0.1431, grad=0.0000), Var(v=0.1122, grad=0.0000), Var(v=-0.0134, grad=0.0000), Var(v=0.0654, grad=0.0000), Var(v=-0.1236, grad=0.0000), Var(v=-0.1289, grad=0.0000), Var(v=0.0986, grad=0.0000), Var(v=-0.0826, grad=0.0000), Var(v=0.0786, grad=0.0000), Var(v=0.1054, grad=0.0000), Var(v=0.1565, grad=0.0000), Var(v=-0.0525, grad=0.0000), Var(v=0.0002, grad=0.0000), Var(v=0.0038, grad=0.0000), Var(v=-0.0290, grad=0.0000), Var(v=-0.0120, grad=0.0000), Var(v=0.2083, grad=0.0000), Var(v=0.0255, grad=0.0000), Var(v=-0.0884, grad=0.0000), Var(v=0.1413, grad=0.0000), Var(v=-0.1293, grad=0.0000), Var(v=0.0984, grad=0.0000)], [Var(v=-0.0983, grad=0.0000), Var(v=0.0418, grad=0.0000), Var(v=0.1864, grad=0.0000), Var(v=-0.0048, grad=0.0000), Var(v=0.1587, grad=0.0000), Var(v=-0.1855, grad=0.0000), Var(v=-0.0668, grad=0.0000), Var(v=0.0698, grad=0.0000), Var(v=0.0156, grad=0.0000), Var(v=0.0141, grad=0.0000), Var(v=0.0460, grad=0.0000), Var(v=-0.1260, grad=0.0000), Var(v=-0.0851, grad=0.0000), Var(v=0.0176, grad=0.0000), Var(v=0.0704, grad=0.0000), Var(v=-0.1036, grad=0.0000), Var(v=0.1478, grad=0.0000), Var(v=-0.0593, grad=0.0000), Var(v=0.1804, grad=0.0000), Var(v=-0.1122, grad=0.0000), Var(v=-0.0294, grad=0.0000), Var(v=-0.0944, grad=0.0000), Var(v=-0.1127, grad=0.0000), Var(v=0.1118, grad=0.0000), Var(v=0.0159, grad=0.0000), Var(v=-0.0501, grad=0.0000), Var(v=0.0268, grad=0.0000), Var(v=-0.0244, grad=0.0000), Var(v=0.2013, grad=0.0000), Var(v=-0.0232, grad=0.0000), Var(v=-0.0510, grad=0.0000), Var(v=-0.2176, grad=0.0000), Var(v=0.1004, grad=0.0000), Var(v=-0.0830, grad=0.0000), Var(v=-0.0733, grad=0.0000), Var(v=-0.0302, grad=0.0000), Var(v=-0.2728, grad=0.0000), Var(v=-0.0452, grad=0.0000), Var(v=-0.0347, grad=0.0000), Var(v=-0.0464, grad=0.0000), Var(v=0.0513, grad=0.0000), Var(v=-0.0415, grad=0.0000), Var(v=-0.1853, grad=0.0000), Var(v=0.0300, grad=0.0000), Var(v=-0.0466, grad=0.0000), Var(v=-0.0067, grad=0.0000), Var(v=0.0476, grad=0.0000), Var(v=-0.0395, grad=0.0000), Var(v=-0.0810, grad=0.0000), Var(v=0.1557, grad=0.0000)], [Var(v=-0.2589, grad=0.0000), Var(v=0.0185, grad=0.0000), Var(v=-0.0838, grad=0.0000), Var(v=-0.1982, grad=0.0000), Var(v=0.0514, grad=0.0000), Var(v=-0.1000, grad=0.0000), Var(v=-0.1765, grad=0.0000), Var(v=0.1889, grad=0.0000), Var(v=0.0678, grad=0.0000), Var(v=0.1401, grad=0.0000), Var(v=0.0906, grad=0.0000), Var(v=-0.0988, grad=0.0000), Var(v=0.0088, grad=0.0000), Var(v=-0.0722, grad=0.0000), Var(v=0.1185, grad=0.0000), Var(v=-0.0564, grad=0.0000), Var(v=0.0291, grad=0.0000), Var(v=0.0174, grad=0.0000), Var(v=-0.0082, grad=0.0000), Var(v=0.1107, grad=0.0000), Var(v=0.1713, grad=0.0000), Var(v=-0.0667, grad=0.0000), Var(v=0.0270, grad=0.0000), Var(v=-0.0891, grad=0.0000), Var(v=0.0390, grad=0.0000), Var(v=0.1108, grad=0.0000), Var(v=0.0538, grad=0.0000), Var(v=-0.0033, grad=0.0000), Var(v=-0.0562, grad=0.0000), Var(v=0.1292, grad=0.0000), Var(v=-0.0089, grad=0.0000), Var(v=-0.2198, grad=0.0000), Var(v=0.0028, grad=0.0000), Var(v=0.0222, grad=0.0000), Var(v=0.1631, grad=0.0000), Var(v=0.1383, grad=0.0000), Var(v=0.1471, grad=0.0000), Var(v=0.0567, grad=0.0000), Var(v=0.2378, grad=0.0000), Var(v=0.0351, grad=0.0000), Var(v=-0.0014, grad=0.0000), Var(v=-0.0772, grad=0.0000), Var(v=-0.0326, grad=0.0000), Var(v=-0.0459, grad=0.0000), Var(v=0.1561, grad=0.0000), Var(v=-0.0900, grad=0.0000), Var(v=-0.0064, grad=0.0000), Var(v=-0.0298, grad=0.0000), Var(v=-0.0867, grad=0.0000), Var(v=-0.0038, grad=0.0000)], [Var(v=-0.0759, grad=0.0000), Var(v=0.0810, grad=0.0000), Var(v=-0.0760, grad=0.0000), Var(v=0.1628, grad=0.0000), Var(v=-0.0320, grad=0.0000), Var(v=0.0194, grad=0.0000), Var(v=0.0585, grad=0.0000), Var(v=0.0711, grad=0.0000), Var(v=0.0518, grad=0.0000), Var(v=0.0134, grad=0.0000), Var(v=-0.0362, grad=0.0000), Var(v=0.0307, grad=0.0000), Var(v=-0.1390, grad=0.0000), Var(v=-0.2090, grad=0.0000), Var(v=-0.0143, grad=0.0000), Var(v=-0.0427, grad=0.0000), Var(v=-0.0885, grad=0.0000), Var(v=-0.0108, grad=0.0000), Var(v=0.1525, grad=0.0000), Var(v=-0.1172, grad=0.0000), Var(v=-0.0126, grad=0.0000), Var(v=0.0623, grad=0.0000), Var(v=0.0263, grad=0.0000), Var(v=-0.0690, grad=0.0000), Var(v=-0.0949, grad=0.0000), Var(v=-0.0877, grad=0.0000), Var(v=0.1263, grad=0.0000), Var(v=0.0555, grad=0.0000), Var(v=-0.0732, grad=0.0000), Var(v=0.0107, grad=0.0000), Var(v=-0.0763, grad=0.0000), Var(v=0.1639, grad=0.0000), Var(v=-0.1077, grad=0.0000), Var(v=0.1959, grad=0.0000), Var(v=-0.1171, grad=0.0000), Var(v=-0.1113, grad=0.0000), Var(v=-0.1151, grad=0.0000), Var(v=-0.2052, grad=0.0000), Var(v=0.0321, grad=0.0000), Var(v=0.0529, grad=0.0000), Var(v=-0.1434, grad=0.0000), Var(v=0.0033, grad=0.0000), Var(v=-0.1102, grad=0.0000), Var(v=0.0802, grad=0.0000), Var(v=-0.0331, grad=0.0000), Var(v=0.0304, grad=0.0000), Var(v=-0.2188, grad=0.0000), Var(v=0.1203, grad=0.0000), Var(v=0.1411, grad=0.0000), Var(v=0.1898, grad=0.0000)], [Var(v=-0.0305, grad=0.0000), Var(v=-0.0664, grad=0.0000), Var(v=0.1054, grad=0.0000), Var(v=0.0819, grad=0.0000), Var(v=0.1375, grad=0.0000), Var(v=-0.0654, grad=0.0000), Var(v=-0.0442, grad=0.0000), Var(v=0.1030, grad=0.0000), Var(v=0.0558, grad=0.0000), Var(v=0.0126, grad=0.0000), Var(v=-0.0604, grad=0.0000), Var(v=0.2358, grad=0.0000), Var(v=0.1372, grad=0.0000), Var(v=0.0141, grad=0.0000), Var(v=-0.0921, grad=0.0000), Var(v=0.0782, grad=0.0000), Var(v=0.1023, grad=0.0000), Var(v=-0.0047, grad=0.0000), Var(v=0.1118, grad=0.0000), Var(v=-0.0878, grad=0.0000), Var(v=-0.0229, grad=0.0000), Var(v=0.2072, grad=0.0000), Var(v=-0.0739, grad=0.0000), Var(v=0.0556, grad=0.0000), Var(v=0.1125, grad=0.0000), Var(v=0.0873, grad=0.0000), Var(v=0.0571, grad=0.0000), Var(v=-0.1917, grad=0.0000), Var(v=0.0037, grad=0.0000), Var(v=0.0283, grad=0.0000), Var(v=-0.1697, grad=0.0000), Var(v=-0.3526, grad=0.0000), Var(v=0.0266, grad=0.0000), Var(v=-0.2579, grad=0.0000), Var(v=-0.1639, grad=0.0000), Var(v=-0.0998, grad=0.0000), Var(v=-0.0227, grad=0.0000), Var(v=-0.0631, grad=0.0000), Var(v=-0.1213, grad=0.0000), Var(v=-0.0853, grad=0.0000), Var(v=0.0782, grad=0.0000), Var(v=0.0457, grad=0.0000), Var(v=-0.0026, grad=0.0000), Var(v=0.0153, grad=0.0000), Var(v=0.1806, grad=0.0000), Var(v=0.0689, grad=0.0000), Var(v=-0.0092, grad=0.0000), Var(v=0.0390, grad=0.0000), Var(v=0.1938, grad=0.0000), Var(v=0.1715, grad=0.0000)], [Var(v=0.0035, grad=0.0000), Var(v=-0.0105, grad=0.0000), Var(v=0.0706, grad=0.0000), Var(v=-0.0107, grad=0.0000), Var(v=-0.0297, grad=0.0000), Var(v=-0.0468, grad=0.0000), Var(v=-0.0741, grad=0.0000), Var(v=-0.0531, grad=0.0000), Var(v=-0.0027, grad=0.0000), Var(v=-0.1556, grad=0.0000), Var(v=0.1122, grad=0.0000), Var(v=-0.1060, grad=0.0000), Var(v=-0.0913, grad=0.0000), Var(v=-0.0832, grad=0.0000), Var(v=0.0299, grad=0.0000), Var(v=-0.0434, grad=0.0000), Var(v=0.1292, grad=0.0000), Var(v=-0.0004, grad=0.0000), Var(v=-0.0220, grad=0.0000), Var(v=0.1450, grad=0.0000), Var(v=-0.0442, grad=0.0000), Var(v=-0.1271, grad=0.0000), Var(v=0.0186, grad=0.0000), Var(v=0.1136, grad=0.0000), Var(v=0.1538, grad=0.0000), Var(v=-0.1363, grad=0.0000), Var(v=0.2151, grad=0.0000), Var(v=0.0192, grad=0.0000), Var(v=-0.0545, grad=0.0000), Var(v=0.1348, grad=0.0000), Var(v=0.1319, grad=0.0000), Var(v=0.0867, grad=0.0000), Var(v=0.0029, grad=0.0000), Var(v=0.1075, grad=0.0000), Var(v=-0.1641, grad=0.0000), Var(v=0.0626, grad=0.0000), Var(v=0.0611, grad=0.0000), Var(v=-0.0254, grad=0.0000), Var(v=0.0366, grad=0.0000), Var(v=-0.0529, grad=0.0000), Var(v=-0.0053, grad=0.0000), Var(v=0.0548, grad=0.0000), Var(v=0.0650, grad=0.0000), Var(v=0.0135, grad=0.0000), Var(v=0.0390, grad=0.0000), Var(v=-0.2008, grad=0.0000), Var(v=0.0338, grad=0.0000), Var(v=-0.0477, grad=0.0000), Var(v=-0.0730, grad=0.0000), Var(v=0.0251, grad=0.0000)], [Var(v=-0.0758, grad=0.0000), Var(v=-0.0260, grad=0.0000), Var(v=0.0020, grad=0.0000), Var(v=0.0377, grad=0.0000), Var(v=0.0660, grad=0.0000), Var(v=0.0563, grad=0.0000), Var(v=-0.0764, grad=0.0000), Var(v=0.0515, grad=0.0000), Var(v=0.0684, grad=0.0000), Var(v=0.0091, grad=0.0000), Var(v=0.0198, grad=0.0000), Var(v=-0.1215, grad=0.0000), Var(v=-0.2501, grad=0.0000), Var(v=-0.0950, grad=0.0000), Var(v=-0.1718, grad=0.0000), Var(v=-0.1725, grad=0.0000), Var(v=-0.0657, grad=0.0000), Var(v=0.0388, grad=0.0000), Var(v=0.0684, grad=0.0000), Var(v=0.0221, grad=0.0000), Var(v=-0.0549, grad=0.0000), Var(v=0.0232, grad=0.0000), Var(v=0.0760, grad=0.0000), Var(v=-0.0773, grad=0.0000), Var(v=0.0443, grad=0.0000), Var(v=-0.0556, grad=0.0000), Var(v=-0.1747, grad=0.0000), Var(v=-0.0244, grad=0.0000), Var(v=0.1255, grad=0.0000), Var(v=-0.0263, grad=0.0000), Var(v=-0.0417, grad=0.0000), Var(v=-0.0816, grad=0.0000), Var(v=0.0944, grad=0.0000), Var(v=0.1602, grad=0.0000), Var(v=-0.1571, grad=0.0000), Var(v=-0.1779, grad=0.0000), Var(v=0.0636, grad=0.0000), Var(v=-0.0945, grad=0.0000), Var(v=-0.0401, grad=0.0000), Var(v=-0.0299, grad=0.0000), Var(v=-0.1057, grad=0.0000), Var(v=0.0088, grad=0.0000), Var(v=-0.0413, grad=0.0000), Var(v=0.0650, grad=0.0000), Var(v=-0.1090, grad=0.0000), Var(v=-0.1081, grad=0.0000), Var(v=-0.1345, grad=0.0000), Var(v=0.0178, grad=0.0000), Var(v=0.0964, grad=0.0000), Var(v=-0.0800, grad=0.0000)]] Biases: [Var(v=0.0000, grad=0.0000), Var(v=-0.0000, grad=0.0000), Var(v=-0.0000, grad=0.0000), Var(v=-0.0003, grad=0.0000), Var(v=0.0000, grad=0.0000), Var(v=0.0000, grad=0.0000), Var(v=0.0000, grad=0.0000), Var(v=-0.0011, grad=0.0000), Var(v=0.0006, grad=0.0000), Var(v=0.0001, grad=0.0000), Var(v=-0.0008, grad=0.0000), Var(v=0.0007, grad=0.0000), Var(v=0.0000, grad=0.0000), Var(v=-0.0000, grad=0.0000), Var(v=0.0000, grad=0.0000), Var(v=0.0000, grad=0.0000), Var(v=0.0003, grad=0.0000), Var(v=0.0001, grad=0.0000), Var(v=0.0000, grad=0.0000), Var(v=0.0000, grad=0.0000), Var(v=0.0001, grad=0.0000), Var(v=0.0000, grad=0.0000), Var(v=-0.0002, grad=0.0000), Var(v=0.0015, grad=0.0000), Var(v=-0.0002, grad=0.0000), Var(v=0.0000, grad=0.0000), Var(v=-0.0000, grad=0.0000), Var(v=0.0002, grad=0.0000), Var(v=0.0005, grad=0.0000), Var(v=-0.0000, grad=0.0000), Var(v=-0.0000, grad=0.0000), Var(v=0.0000, grad=0.0000), Var(v=-0.0004, grad=0.0000), Var(v=0.0000, grad=0.0000), Var(v=0.0000, grad=0.0000), Var(v=-0.0005, grad=0.0000), Var(v=0.0000, grad=0.0000), Var(v=0.0000, grad=0.0000), Var(v=0.0000, grad=0.0000), Var(v=0.0011, grad=0.0000), Var(v=-0.0008, grad=0.0000), Var(v=-0.0008, grad=0.0000), Var(v=0.0000, grad=0.0000), Var(v=0.0000, grad=0.0000), Var(v=-0.0000, grad=0.0000), Var(v=0.0003, grad=0.0000), Var(v=0.0000, grad=0.0000), Var(v=0.0000, grad=0.0000), Var(v=0.0001, grad=0.0000), Var(v=-0.0007, grad=0.0000)]\n",
      "Layer 2 \n",
      " DenseLayer(n_in = 50, n_out = 1):\n",
      "Weights and biases:\n",
      "Weights: [[Var(v=0.0054, grad=0.0000)], [Var(v=0.0116, grad=0.0000)], [Var(v=0.0421, grad=0.0000)], [Var(v=-0.0404, grad=0.0000)], [Var(v=-0.0433, grad=0.0000)], [Var(v=0.1060, grad=0.0000)], [Var(v=0.0502, grad=0.0000)], [Var(v=0.1310, grad=0.0000)], [Var(v=-0.0745, grad=0.0000)], [Var(v=-0.0127, grad=0.0000)], [Var(v=0.0927, grad=0.0000)], [Var(v=-0.0855, grad=0.0000)], [Var(v=-0.0855, grad=0.0000)], [Var(v=0.0319, grad=0.0000)], [Var(v=-0.0623, grad=0.0000)], [Var(v=-0.0579, grad=0.0000)], [Var(v=-0.0356, grad=0.0000)], [Var(v=0.0180, grad=0.0000)], [Var(v=-0.0813, grad=0.0000)], [Var(v=0.1732, grad=0.0000)], [Var(v=-0.0079, grad=0.0000)], [Var(v=-0.1594, grad=0.0000)], [Var(v=0.0183, grad=0.0000)], [Var(v=-0.1791, grad=0.0000)], [Var(v=0.0218, grad=0.0000)], [Var(v=0.1665, grad=0.0000)], [Var(v=0.0404, grad=0.0000)], [Var(v=0.0296, grad=0.0000)], [Var(v=-0.0641, grad=0.0000)], [Var(v=0.1350, grad=0.0000)], [Var(v=0.0986, grad=0.0000)], [Var(v=0.1058, grad=0.0000)], [Var(v=0.0523, grad=0.0000)], [Var(v=0.0208, grad=0.0000)], [Var(v=-0.1495, grad=0.0000)], [Var(v=0.0607, grad=0.0000)], [Var(v=0.1233, grad=0.0000)], [Var(v=-0.0410, grad=0.0000)], [Var(v=-0.0886, grad=0.0000)], [Var(v=0.1280, grad=0.0000)], [Var(v=0.0907, grad=0.0000)], [Var(v=0.0962, grad=0.0000)], [Var(v=0.0510, grad=0.0000)], [Var(v=0.0605, grad=0.0000)], [Var(v=0.0088, grad=0.0000)], [Var(v=0.0326, grad=0.0000)], [Var(v=-0.0097, grad=0.0000)], [Var(v=0.0043, grad=0.0000)], [Var(v=-0.0172, grad=0.0000)], [Var(v=0.0824, grad=0.0000)]] Biases: [Var(v=-0.0000, grad=0.0000)]\n",
      "\n",
      "Network after zeroing gradients:\n",
      "Layer 0 \n",
      " DenseLayer(n_in = 1, n_out = 15):\n",
      "Weights and biases:\n",
      "Weights: [[Var(v=0.0661, grad=0.0000), Var(v=-0.1402, grad=0.0000), Var(v=-0.1196, grad=0.0000), Var(v=0.2036, grad=0.0000), Var(v=0.1363, grad=0.0000), Var(v=-0.0722, grad=0.0000), Var(v=-0.0883, grad=0.0000), Var(v=-0.0891, grad=0.0000), Var(v=0.0139, grad=0.0000), Var(v=-0.0719, grad=0.0000), Var(v=-0.0662, grad=0.0000), Var(v=0.0520, grad=0.0000), Var(v=-0.2404, grad=0.0000), Var(v=-0.1288, grad=0.0000), Var(v=-0.0399, grad=0.0000)]] Biases: [Var(v=0.0000, grad=0.0000), Var(v=0.0005, grad=0.0000), Var(v=-0.0004, grad=0.0000), Var(v=-0.0000, grad=0.0000), Var(v=0.0002, grad=0.0000), Var(v=-0.0003, grad=0.0000), Var(v=0.0001, grad=0.0000), Var(v=-0.0003, grad=0.0000), Var(v=0.0001, grad=0.0000), Var(v=-0.0000, grad=0.0000), Var(v=-0.0005, grad=0.0000), Var(v=-0.0002, grad=0.0000), Var(v=0.0005, grad=0.0000), Var(v=-0.0006, grad=0.0000), Var(v=0.0001, grad=0.0000)]\n",
      "Layer 1 \n",
      " DenseLayer(n_in = 15, n_out = 50):\n",
      "Weights and biases:\n",
      "Weights: [[Var(v=-0.1311, grad=0.0000), Var(v=0.0157, grad=0.0000), Var(v=0.0245, grad=0.0000), Var(v=0.1868, grad=0.0000), Var(v=0.0371, grad=0.0000), Var(v=-0.1295, grad=0.0000), Var(v=0.0424, grad=0.0000), Var(v=-0.1956, grad=0.0000), Var(v=-0.0822, grad=0.0000), Var(v=0.0156, grad=0.0000), Var(v=0.0130, grad=0.0000), Var(v=-0.1137, grad=0.0000), Var(v=-0.1127, grad=0.0000), Var(v=0.1329, grad=0.0000), Var(v=-0.1384, grad=0.0000), Var(v=0.0530, grad=0.0000), Var(v=-0.0321, grad=0.0000), Var(v=-0.1125, grad=0.0000), Var(v=0.0558, grad=0.0000), Var(v=-0.0580, grad=0.0000), Var(v=0.0700, grad=0.0000), Var(v=0.1436, grad=0.0000), Var(v=-0.2564, grad=0.0000), Var(v=0.0317, grad=0.0000), Var(v=0.0450, grad=0.0000), Var(v=-0.2260, grad=0.0000), Var(v=0.0722, grad=0.0000), Var(v=0.0319, grad=0.0000), Var(v=-0.0064, grad=0.0000), Var(v=0.1075, grad=0.0000), Var(v=0.0609, grad=0.0000), Var(v=0.0896, grad=0.0000), Var(v=-0.0577, grad=0.0000), Var(v=-0.1437, grad=0.0000), Var(v=-0.1159, grad=0.0000), Var(v=0.0609, grad=0.0000), Var(v=0.0522, grad=0.0000), Var(v=0.0086, grad=0.0000), Var(v=-0.1043, grad=0.0000), Var(v=0.0761, grad=0.0000), Var(v=0.0703, grad=0.0000), Var(v=0.1475, grad=0.0000), Var(v=0.1222, grad=0.0000), Var(v=-0.0402, grad=0.0000), Var(v=-0.0598, grad=0.0000), Var(v=-0.0422, grad=0.0000), Var(v=-0.0323, grad=0.0000), Var(v=-0.0202, grad=0.0000), Var(v=-0.0542, grad=0.0000), Var(v=-0.0315, grad=0.0000)], [Var(v=0.0913, grad=0.0000), Var(v=0.1062, grad=0.0000), Var(v=0.0938, grad=0.0000), Var(v=-0.0414, grad=0.0000), Var(v=0.0977, grad=0.0000), Var(v=-0.0319, grad=0.0000), Var(v=0.0140, grad=0.0000), Var(v=0.0528, grad=0.0000), Var(v=0.0668, grad=0.0000), Var(v=0.0015, grad=0.0000), Var(v=0.0180, grad=0.0000), Var(v=0.2797, grad=0.0000), Var(v=-0.1610, grad=0.0000), Var(v=-0.0258, grad=0.0000), Var(v=-0.0814, grad=0.0000), Var(v=0.0011, grad=0.0000), Var(v=0.0656, grad=0.0000), Var(v=0.0904, grad=0.0000), Var(v=0.0988, grad=0.0000), Var(v=-0.1040, grad=0.0000), Var(v=-0.0401, grad=0.0000), Var(v=0.1047, grad=0.0000), Var(v=0.1101, grad=0.0000), Var(v=0.0771, grad=0.0000), Var(v=0.0149, grad=0.0000), Var(v=-0.0201, grad=0.0000), Var(v=0.0288, grad=0.0000), Var(v=-0.0860, grad=0.0000), Var(v=0.0886, grad=0.0000), Var(v=0.0234, grad=0.0000), Var(v=0.1090, grad=0.0000), Var(v=-0.1794, grad=0.0000), Var(v=0.0263, grad=0.0000), Var(v=0.0608, grad=0.0000), Var(v=0.0134, grad=0.0000), Var(v=-0.0457, grad=0.0000), Var(v=-0.1265, grad=0.0000), Var(v=0.0236, grad=0.0000), Var(v=-0.0260, grad=0.0000), Var(v=0.0364, grad=0.0000), Var(v=-0.0936, grad=0.0000), Var(v=-0.0243, grad=0.0000), Var(v=-0.0745, grad=0.0000), Var(v=0.0396, grad=0.0000), Var(v=-0.0106, grad=0.0000), Var(v=0.0077, grad=0.0000), Var(v=0.0814, grad=0.0000), Var(v=0.0255, grad=0.0000), Var(v=0.0670, grad=0.0000), Var(v=-0.0337, grad=0.0000)], [Var(v=-0.0725, grad=0.0000), Var(v=0.0515, grad=0.0000), Var(v=0.1457, grad=0.0000), Var(v=-0.0597, grad=0.0000), Var(v=-0.0876, grad=0.0000), Var(v=0.0684, grad=0.0000), Var(v=-0.1167, grad=0.0000), Var(v=0.1648, grad=0.0000), Var(v=0.0215, grad=0.0000), Var(v=0.0038, grad=0.0000), Var(v=-0.1101, grad=0.0000), Var(v=-0.0421, grad=0.0000), Var(v=-0.1197, grad=0.0000), Var(v=0.0440, grad=0.0000), Var(v=0.1542, grad=0.0000), Var(v=0.1651, grad=0.0000), Var(v=-0.0279, grad=0.0000), Var(v=-0.0715, grad=0.0000), Var(v=0.0892, grad=0.0000), Var(v=-0.0095, grad=0.0000), Var(v=0.0898, grad=0.0000), Var(v=-0.1455, grad=0.0000), Var(v=0.0568, grad=0.0000), Var(v=0.0558, grad=0.0000), Var(v=-0.0040, grad=0.0000), Var(v=-0.0233, grad=0.0000), Var(v=-0.0467, grad=0.0000), Var(v=0.1824, grad=0.0000), Var(v=0.0421, grad=0.0000), Var(v=-0.1109, grad=0.0000), Var(v=0.1996, grad=0.0000), Var(v=0.0345, grad=0.0000), Var(v=0.2173, grad=0.0000), Var(v=0.0251, grad=0.0000), Var(v=0.1052, grad=0.0000), Var(v=0.1656, grad=0.0000), Var(v=-0.2321, grad=0.0000), Var(v=0.0913, grad=0.0000), Var(v=0.0719, grad=0.0000), Var(v=0.0312, grad=0.0000), Var(v=0.1105, grad=0.0000), Var(v=0.0107, grad=0.0000), Var(v=-0.0467, grad=0.0000), Var(v=-0.0491, grad=0.0000), Var(v=0.0224, grad=0.0000), Var(v=-0.0095, grad=0.0000), Var(v=-0.1589, grad=0.0000), Var(v=-0.1190, grad=0.0000), Var(v=0.0064, grad=0.0000), Var(v=-0.0364, grad=0.0000)], [Var(v=-0.0287, grad=0.0000), Var(v=0.1284, grad=0.0000), Var(v=0.0822, grad=0.0000), Var(v=0.0409, grad=0.0000), Var(v=0.1795, grad=0.0000), Var(v=-0.0058, grad=0.0000), Var(v=-0.0344, grad=0.0000), Var(v=-0.0045, grad=0.0000), Var(v=-0.0129, grad=0.0000), Var(v=-0.0195, grad=0.0000), Var(v=0.0079, grad=0.0000), Var(v=-0.2157, grad=0.0000), Var(v=-0.0662, grad=0.0000), Var(v=-0.0473, grad=0.0000), Var(v=0.0552, grad=0.0000), Var(v=0.0999, grad=0.0000), Var(v=-0.0257, grad=0.0000), Var(v=0.0869, grad=0.0000), Var(v=0.0851, grad=0.0000), Var(v=-0.0017, grad=0.0000), Var(v=0.0577, grad=0.0000), Var(v=0.0705, grad=0.0000), Var(v=-0.1913, grad=0.0000), Var(v=-0.0274, grad=0.0000), Var(v=0.0092, grad=0.0000), Var(v=0.0260, grad=0.0000), Var(v=0.0333, grad=0.0000), Var(v=0.1687, grad=0.0000), Var(v=-0.0296, grad=0.0000), Var(v=0.0613, grad=0.0000), Var(v=0.0901, grad=0.0000), Var(v=-0.2280, grad=0.0000), Var(v=-0.1838, grad=0.0000), Var(v=-0.0515, grad=0.0000), Var(v=-0.1226, grad=0.0000), Var(v=0.0475, grad=0.0000), Var(v=-0.1457, grad=0.0000), Var(v=-0.0645, grad=0.0000), Var(v=0.0667, grad=0.0000), Var(v=0.0566, grad=0.0000), Var(v=0.0195, grad=0.0000), Var(v=-0.1292, grad=0.0000), Var(v=0.0120, grad=0.0000), Var(v=-0.1549, grad=0.0000), Var(v=0.0884, grad=0.0000), Var(v=0.0465, grad=0.0000), Var(v=-0.0784, grad=0.0000), Var(v=0.0786, grad=0.0000), Var(v=-0.0967, grad=0.0000), Var(v=-0.1351, grad=0.0000)], [Var(v=0.0633, grad=0.0000), Var(v=-0.0195, grad=0.0000), Var(v=-0.0121, grad=0.0000), Var(v=-0.0865, grad=0.0000), Var(v=0.0935, grad=0.0000), Var(v=0.0243, grad=0.0000), Var(v=-0.1604, grad=0.0000), Var(v=0.0059, grad=0.0000), Var(v=0.0463, grad=0.0000), Var(v=-0.1228, grad=0.0000), Var(v=-0.0939, grad=0.0000), Var(v=-0.2025, grad=0.0000), Var(v=-0.1057, grad=0.0000), Var(v=0.1409, grad=0.0000), Var(v=-0.0071, grad=0.0000), Var(v=-0.0860, grad=0.0000), Var(v=0.0417, grad=0.0000), Var(v=0.0431, grad=0.0000), Var(v=0.0672, grad=0.0000), Var(v=-0.0416, grad=0.0000), Var(v=-0.1396, grad=0.0000), Var(v=-0.1612, grad=0.0000), Var(v=0.0107, grad=0.0000), Var(v=-0.0702, grad=0.0000), Var(v=-0.0535, grad=0.0000), Var(v=-0.0859, grad=0.0000), Var(v=-0.0147, grad=0.0000), Var(v=0.0449, grad=0.0000), Var(v=0.0057, grad=0.0000), Var(v=0.0683, grad=0.0000), Var(v=0.0162, grad=0.0000), Var(v=0.1035, grad=0.0000), Var(v=-0.0098, grad=0.0000), Var(v=0.0485, grad=0.0000), Var(v=-0.0969, grad=0.0000), Var(v=-0.1285, grad=0.0000), Var(v=0.0365, grad=0.0000), Var(v=0.1023, grad=0.0000), Var(v=0.0646, grad=0.0000), Var(v=-0.0628, grad=0.0000), Var(v=-0.0276, grad=0.0000), Var(v=0.0309, grad=0.0000), Var(v=-0.2114, grad=0.0000), Var(v=0.1815, grad=0.0000), Var(v=0.0004, grad=0.0000), Var(v=0.0115, grad=0.0000), Var(v=-0.0733, grad=0.0000), Var(v=0.0781, grad=0.0000), Var(v=-0.0340, grad=0.0000), Var(v=-0.0209, grad=0.0000)], [Var(v=0.1333, grad=0.0000), Var(v=-0.1063, grad=0.0000), Var(v=-0.1157, grad=0.0000), Var(v=0.0969, grad=0.0000), Var(v=-0.0401, grad=0.0000), Var(v=0.1206, grad=0.0000), Var(v=-0.0313, grad=0.0000), Var(v=-0.0651, grad=0.0000), Var(v=0.1104, grad=0.0000), Var(v=0.0423, grad=0.0000), Var(v=0.1200, grad=0.0000), Var(v=-0.0249, grad=0.0000), Var(v=-0.0668, grad=0.0000), Var(v=0.0764, grad=0.0000), Var(v=-0.1791, grad=0.0000), Var(v=-0.0638, grad=0.0000), Var(v=0.0022, grad=0.0000), Var(v=0.0428, grad=0.0000), Var(v=-0.0408, grad=0.0000), Var(v=-0.0054, grad=0.0000), Var(v=0.2127, grad=0.0000), Var(v=-0.1292, grad=0.0000), Var(v=0.0154, grad=0.0000), Var(v=0.0340, grad=0.0000), Var(v=-0.1053, grad=0.0000), Var(v=-0.1235, grad=0.0000), Var(v=-0.0893, grad=0.0000), Var(v=-0.0664, grad=0.0000), Var(v=-0.0658, grad=0.0000), Var(v=0.0524, grad=0.0000), Var(v=0.0344, grad=0.0000), Var(v=0.1444, grad=0.0000), Var(v=-0.0241, grad=0.0000), Var(v=-0.0399, grad=0.0000), Var(v=-0.2642, grad=0.0000), Var(v=0.1004, grad=0.0000), Var(v=0.1810, grad=0.0000), Var(v=0.0450, grad=0.0000), Var(v=0.0165, grad=0.0000), Var(v=-0.0244, grad=0.0000), Var(v=-0.0357, grad=0.0000), Var(v=0.0354, grad=0.0000), Var(v=-0.1051, grad=0.0000), Var(v=0.0848, grad=0.0000), Var(v=0.0164, grad=0.0000), Var(v=-0.0023, grad=0.0000), Var(v=0.0286, grad=0.0000), Var(v=-0.2042, grad=0.0000), Var(v=0.0249, grad=0.0000), Var(v=0.0961, grad=0.0000)], [Var(v=0.0612, grad=0.0000), Var(v=-0.0300, grad=0.0000), Var(v=0.0013, grad=0.0000), Var(v=-0.1044, grad=0.0000), Var(v=0.0195, grad=0.0000), Var(v=0.1412, grad=0.0000), Var(v=0.1300, grad=0.0000), Var(v=0.1046, grad=0.0000), Var(v=0.0091, grad=0.0000), Var(v=0.0972, grad=0.0000), Var(v=0.1642, grad=0.0000), Var(v=-0.0854, grad=0.0000), Var(v=-0.0727, grad=0.0000), Var(v=-0.0035, grad=0.0000), Var(v=-0.0478, grad=0.0000), Var(v=0.0972, grad=0.0000), Var(v=0.1059, grad=0.0000), Var(v=-0.1235, grad=0.0000), Var(v=-0.0093, grad=0.0000), Var(v=0.0456, grad=0.0000), Var(v=-0.0469, grad=0.0000), Var(v=0.0191, grad=0.0000), Var(v=0.0863, grad=0.0000), Var(v=0.0389, grad=0.0000), Var(v=0.0398, grad=0.0000), Var(v=-0.0515, grad=0.0000), Var(v=0.0283, grad=0.0000), Var(v=0.0752, grad=0.0000), Var(v=0.0225, grad=0.0000), Var(v=0.0226, grad=0.0000), Var(v=-0.0154, grad=0.0000), Var(v=0.0326, grad=0.0000), Var(v=-0.0650, grad=0.0000), Var(v=0.0215, grad=0.0000), Var(v=0.0239, grad=0.0000), Var(v=0.0844, grad=0.0000), Var(v=-0.0834, grad=0.0000), Var(v=0.0467, grad=0.0000), Var(v=0.0801, grad=0.0000), Var(v=0.0890, grad=0.0000), Var(v=-0.1300, grad=0.0000), Var(v=-0.1250, grad=0.0000), Var(v=-0.1783, grad=0.0000), Var(v=-0.0449, grad=0.0000), Var(v=0.1864, grad=0.0000), Var(v=0.1240, grad=0.0000), Var(v=-0.0321, grad=0.0000), Var(v=0.0577, grad=0.0000), Var(v=0.0680, grad=0.0000), Var(v=-0.0554, grad=0.0000)], [Var(v=-0.1925, grad=0.0000), Var(v=0.1771, grad=0.0000), Var(v=0.0576, grad=0.0000), Var(v=-0.1599, grad=0.0000), Var(v=-0.0026, grad=0.0000), Var(v=-0.0430, grad=0.0000), Var(v=0.1209, grad=0.0000), Var(v=0.0564, grad=0.0000), Var(v=-0.0044, grad=0.0000), Var(v=0.0540, grad=0.0000), Var(v=-0.0310, grad=0.0000), Var(v=0.0448, grad=0.0000), Var(v=-0.1460, grad=0.0000), Var(v=0.1284, grad=0.0000), Var(v=-0.0091, grad=0.0000), Var(v=0.0120, grad=0.0000), Var(v=-0.0650, grad=0.0000), Var(v=-0.0208, grad=0.0000), Var(v=0.0274, grad=0.0000), Var(v=-0.0550, grad=0.0000), Var(v=-0.0706, grad=0.0000), Var(v=-0.1183, grad=0.0000), Var(v=-0.1224, grad=0.0000), Var(v=-0.1334, grad=0.0000), Var(v=0.1539, grad=0.0000), Var(v=-0.2411, grad=0.0000), Var(v=0.0565, grad=0.0000), Var(v=0.0361, grad=0.0000), Var(v=0.0682, grad=0.0000), Var(v=-0.1864, grad=0.0000), Var(v=0.0908, grad=0.0000), Var(v=-0.0471, grad=0.0000), Var(v=-0.0037, grad=0.0000), Var(v=0.0779, grad=0.0000), Var(v=0.0635, grad=0.0000), Var(v=-0.0195, grad=0.0000), Var(v=-0.0134, grad=0.0000), Var(v=-0.0805, grad=0.0000), Var(v=0.0814, grad=0.0000), Var(v=0.0115, grad=0.0000), Var(v=0.1181, grad=0.0000), Var(v=0.1094, grad=0.0000), Var(v=-0.1475, grad=0.0000), Var(v=-0.1198, grad=0.0000), Var(v=0.0035, grad=0.0000), Var(v=0.0015, grad=0.0000), Var(v=-0.1480, grad=0.0000), Var(v=-0.0623, grad=0.0000), Var(v=-0.0811, grad=0.0000), Var(v=-0.1913, grad=0.0000)], [Var(v=-0.1199, grad=0.0000), Var(v=0.0334, grad=0.0000), Var(v=0.0108, grad=0.0000), Var(v=-0.0189, grad=0.0000), Var(v=-0.1272, grad=0.0000), Var(v=-0.1758, grad=0.0000), Var(v=0.0704, grad=0.0000), Var(v=-0.1038, grad=0.0000), Var(v=-0.1375, grad=0.0000), Var(v=0.0668, grad=0.0000), Var(v=0.0606, grad=0.0000), Var(v=0.0528, grad=0.0000), Var(v=0.0131, grad=0.0000), Var(v=0.2347, grad=0.0000), Var(v=-0.0383, grad=0.0000), Var(v=-0.0320, grad=0.0000), Var(v=-0.0132, grad=0.0000), Var(v=-0.0772, grad=0.0000), Var(v=-0.0552, grad=0.0000), Var(v=-0.0294, grad=0.0000), Var(v=-0.0238, grad=0.0000), Var(v=0.0194, grad=0.0000), Var(v=-0.1854, grad=0.0000), Var(v=0.0542, grad=0.0000), Var(v=-0.0463, grad=0.0000), Var(v=0.0002, grad=0.0000), Var(v=0.0476, grad=0.0000), Var(v=-0.2488, grad=0.0000), Var(v=-0.1431, grad=0.0000), Var(v=0.1122, grad=0.0000), Var(v=-0.0134, grad=0.0000), Var(v=0.0654, grad=0.0000), Var(v=-0.1236, grad=0.0000), Var(v=-0.1289, grad=0.0000), Var(v=0.0986, grad=0.0000), Var(v=-0.0826, grad=0.0000), Var(v=0.0786, grad=0.0000), Var(v=0.1054, grad=0.0000), Var(v=0.1565, grad=0.0000), Var(v=-0.0525, grad=0.0000), Var(v=0.0002, grad=0.0000), Var(v=0.0038, grad=0.0000), Var(v=-0.0290, grad=0.0000), Var(v=-0.0120, grad=0.0000), Var(v=0.2083, grad=0.0000), Var(v=0.0255, grad=0.0000), Var(v=-0.0884, grad=0.0000), Var(v=0.1413, grad=0.0000), Var(v=-0.1293, grad=0.0000), Var(v=0.0984, grad=0.0000)], [Var(v=-0.0983, grad=0.0000), Var(v=0.0418, grad=0.0000), Var(v=0.1864, grad=0.0000), Var(v=-0.0048, grad=0.0000), Var(v=0.1587, grad=0.0000), Var(v=-0.1855, grad=0.0000), Var(v=-0.0668, grad=0.0000), Var(v=0.0698, grad=0.0000), Var(v=0.0156, grad=0.0000), Var(v=0.0141, grad=0.0000), Var(v=0.0460, grad=0.0000), Var(v=-0.1260, grad=0.0000), Var(v=-0.0851, grad=0.0000), Var(v=0.0176, grad=0.0000), Var(v=0.0704, grad=0.0000), Var(v=-0.1036, grad=0.0000), Var(v=0.1478, grad=0.0000), Var(v=-0.0593, grad=0.0000), Var(v=0.1804, grad=0.0000), Var(v=-0.1122, grad=0.0000), Var(v=-0.0294, grad=0.0000), Var(v=-0.0944, grad=0.0000), Var(v=-0.1127, grad=0.0000), Var(v=0.1118, grad=0.0000), Var(v=0.0159, grad=0.0000), Var(v=-0.0501, grad=0.0000), Var(v=0.0268, grad=0.0000), Var(v=-0.0244, grad=0.0000), Var(v=0.2013, grad=0.0000), Var(v=-0.0232, grad=0.0000), Var(v=-0.0510, grad=0.0000), Var(v=-0.2176, grad=0.0000), Var(v=0.1004, grad=0.0000), Var(v=-0.0830, grad=0.0000), Var(v=-0.0733, grad=0.0000), Var(v=-0.0302, grad=0.0000), Var(v=-0.2728, grad=0.0000), Var(v=-0.0452, grad=0.0000), Var(v=-0.0347, grad=0.0000), Var(v=-0.0464, grad=0.0000), Var(v=0.0513, grad=0.0000), Var(v=-0.0415, grad=0.0000), Var(v=-0.1853, grad=0.0000), Var(v=0.0300, grad=0.0000), Var(v=-0.0466, grad=0.0000), Var(v=-0.0067, grad=0.0000), Var(v=0.0476, grad=0.0000), Var(v=-0.0395, grad=0.0000), Var(v=-0.0810, grad=0.0000), Var(v=0.1557, grad=0.0000)], [Var(v=-0.2589, grad=0.0000), Var(v=0.0185, grad=0.0000), Var(v=-0.0838, grad=0.0000), Var(v=-0.1982, grad=0.0000), Var(v=0.0514, grad=0.0000), Var(v=-0.1000, grad=0.0000), Var(v=-0.1765, grad=0.0000), Var(v=0.1889, grad=0.0000), Var(v=0.0678, grad=0.0000), Var(v=0.1401, grad=0.0000), Var(v=0.0906, grad=0.0000), Var(v=-0.0988, grad=0.0000), Var(v=0.0088, grad=0.0000), Var(v=-0.0722, grad=0.0000), Var(v=0.1185, grad=0.0000), Var(v=-0.0564, grad=0.0000), Var(v=0.0291, grad=0.0000), Var(v=0.0174, grad=0.0000), Var(v=-0.0082, grad=0.0000), Var(v=0.1107, grad=0.0000), Var(v=0.1713, grad=0.0000), Var(v=-0.0667, grad=0.0000), Var(v=0.0270, grad=0.0000), Var(v=-0.0891, grad=0.0000), Var(v=0.0390, grad=0.0000), Var(v=0.1108, grad=0.0000), Var(v=0.0538, grad=0.0000), Var(v=-0.0033, grad=0.0000), Var(v=-0.0562, grad=0.0000), Var(v=0.1292, grad=0.0000), Var(v=-0.0089, grad=0.0000), Var(v=-0.2198, grad=0.0000), Var(v=0.0028, grad=0.0000), Var(v=0.0222, grad=0.0000), Var(v=0.1631, grad=0.0000), Var(v=0.1383, grad=0.0000), Var(v=0.1471, grad=0.0000), Var(v=0.0567, grad=0.0000), Var(v=0.2378, grad=0.0000), Var(v=0.0351, grad=0.0000), Var(v=-0.0014, grad=0.0000), Var(v=-0.0772, grad=0.0000), Var(v=-0.0326, grad=0.0000), Var(v=-0.0459, grad=0.0000), Var(v=0.1561, grad=0.0000), Var(v=-0.0900, grad=0.0000), Var(v=-0.0064, grad=0.0000), Var(v=-0.0298, grad=0.0000), Var(v=-0.0867, grad=0.0000), Var(v=-0.0038, grad=0.0000)], [Var(v=-0.0759, grad=0.0000), Var(v=0.0810, grad=0.0000), Var(v=-0.0760, grad=0.0000), Var(v=0.1628, grad=0.0000), Var(v=-0.0320, grad=0.0000), Var(v=0.0194, grad=0.0000), Var(v=0.0585, grad=0.0000), Var(v=0.0711, grad=0.0000), Var(v=0.0518, grad=0.0000), Var(v=0.0134, grad=0.0000), Var(v=-0.0362, grad=0.0000), Var(v=0.0307, grad=0.0000), Var(v=-0.1390, grad=0.0000), Var(v=-0.2090, grad=0.0000), Var(v=-0.0143, grad=0.0000), Var(v=-0.0427, grad=0.0000), Var(v=-0.0885, grad=0.0000), Var(v=-0.0108, grad=0.0000), Var(v=0.1525, grad=0.0000), Var(v=-0.1172, grad=0.0000), Var(v=-0.0126, grad=0.0000), Var(v=0.0623, grad=0.0000), Var(v=0.0263, grad=0.0000), Var(v=-0.0690, grad=0.0000), Var(v=-0.0949, grad=0.0000), Var(v=-0.0877, grad=0.0000), Var(v=0.1263, grad=0.0000), Var(v=0.0555, grad=0.0000), Var(v=-0.0732, grad=0.0000), Var(v=0.0107, grad=0.0000), Var(v=-0.0763, grad=0.0000), Var(v=0.1639, grad=0.0000), Var(v=-0.1077, grad=0.0000), Var(v=0.1959, grad=0.0000), Var(v=-0.1171, grad=0.0000), Var(v=-0.1113, grad=0.0000), Var(v=-0.1151, grad=0.0000), Var(v=-0.2052, grad=0.0000), Var(v=0.0321, grad=0.0000), Var(v=0.0529, grad=0.0000), Var(v=-0.1434, grad=0.0000), Var(v=0.0033, grad=0.0000), Var(v=-0.1102, grad=0.0000), Var(v=0.0802, grad=0.0000), Var(v=-0.0331, grad=0.0000), Var(v=0.0304, grad=0.0000), Var(v=-0.2188, grad=0.0000), Var(v=0.1203, grad=0.0000), Var(v=0.1411, grad=0.0000), Var(v=0.1898, grad=0.0000)], [Var(v=-0.0305, grad=0.0000), Var(v=-0.0664, grad=0.0000), Var(v=0.1054, grad=0.0000), Var(v=0.0819, grad=0.0000), Var(v=0.1375, grad=0.0000), Var(v=-0.0654, grad=0.0000), Var(v=-0.0442, grad=0.0000), Var(v=0.1030, grad=0.0000), Var(v=0.0558, grad=0.0000), Var(v=0.0126, grad=0.0000), Var(v=-0.0604, grad=0.0000), Var(v=0.2358, grad=0.0000), Var(v=0.1372, grad=0.0000), Var(v=0.0141, grad=0.0000), Var(v=-0.0921, grad=0.0000), Var(v=0.0782, grad=0.0000), Var(v=0.1023, grad=0.0000), Var(v=-0.0047, grad=0.0000), Var(v=0.1118, grad=0.0000), Var(v=-0.0878, grad=0.0000), Var(v=-0.0229, grad=0.0000), Var(v=0.2072, grad=0.0000), Var(v=-0.0739, grad=0.0000), Var(v=0.0556, grad=0.0000), Var(v=0.1125, grad=0.0000), Var(v=0.0873, grad=0.0000), Var(v=0.0571, grad=0.0000), Var(v=-0.1917, grad=0.0000), Var(v=0.0037, grad=0.0000), Var(v=0.0283, grad=0.0000), Var(v=-0.1697, grad=0.0000), Var(v=-0.3526, grad=0.0000), Var(v=0.0266, grad=0.0000), Var(v=-0.2579, grad=0.0000), Var(v=-0.1639, grad=0.0000), Var(v=-0.0998, grad=0.0000), Var(v=-0.0227, grad=0.0000), Var(v=-0.0631, grad=0.0000), Var(v=-0.1213, grad=0.0000), Var(v=-0.0853, grad=0.0000), Var(v=0.0782, grad=0.0000), Var(v=0.0457, grad=0.0000), Var(v=-0.0026, grad=0.0000), Var(v=0.0153, grad=0.0000), Var(v=0.1806, grad=0.0000), Var(v=0.0689, grad=0.0000), Var(v=-0.0092, grad=0.0000), Var(v=0.0390, grad=0.0000), Var(v=0.1938, grad=0.0000), Var(v=0.1715, grad=0.0000)], [Var(v=0.0035, grad=0.0000), Var(v=-0.0105, grad=0.0000), Var(v=0.0706, grad=0.0000), Var(v=-0.0107, grad=0.0000), Var(v=-0.0297, grad=0.0000), Var(v=-0.0468, grad=0.0000), Var(v=-0.0741, grad=0.0000), Var(v=-0.0531, grad=0.0000), Var(v=-0.0027, grad=0.0000), Var(v=-0.1556, grad=0.0000), Var(v=0.1122, grad=0.0000), Var(v=-0.1060, grad=0.0000), Var(v=-0.0913, grad=0.0000), Var(v=-0.0832, grad=0.0000), Var(v=0.0299, grad=0.0000), Var(v=-0.0434, grad=0.0000), Var(v=0.1292, grad=0.0000), Var(v=-0.0004, grad=0.0000), Var(v=-0.0220, grad=0.0000), Var(v=0.1450, grad=0.0000), Var(v=-0.0442, grad=0.0000), Var(v=-0.1271, grad=0.0000), Var(v=0.0186, grad=0.0000), Var(v=0.1136, grad=0.0000), Var(v=0.1538, grad=0.0000), Var(v=-0.1363, grad=0.0000), Var(v=0.2151, grad=0.0000), Var(v=0.0192, grad=0.0000), Var(v=-0.0545, grad=0.0000), Var(v=0.1348, grad=0.0000), Var(v=0.1319, grad=0.0000), Var(v=0.0867, grad=0.0000), Var(v=0.0029, grad=0.0000), Var(v=0.1075, grad=0.0000), Var(v=-0.1641, grad=0.0000), Var(v=0.0626, grad=0.0000), Var(v=0.0611, grad=0.0000), Var(v=-0.0254, grad=0.0000), Var(v=0.0366, grad=0.0000), Var(v=-0.0529, grad=0.0000), Var(v=-0.0053, grad=0.0000), Var(v=0.0548, grad=0.0000), Var(v=0.0650, grad=0.0000), Var(v=0.0135, grad=0.0000), Var(v=0.0390, grad=0.0000), Var(v=-0.2008, grad=0.0000), Var(v=0.0338, grad=0.0000), Var(v=-0.0477, grad=0.0000), Var(v=-0.0730, grad=0.0000), Var(v=0.0251, grad=0.0000)], [Var(v=-0.0758, grad=0.0000), Var(v=-0.0260, grad=0.0000), Var(v=0.0020, grad=0.0000), Var(v=0.0377, grad=0.0000), Var(v=0.0660, grad=0.0000), Var(v=0.0563, grad=0.0000), Var(v=-0.0764, grad=0.0000), Var(v=0.0515, grad=0.0000), Var(v=0.0684, grad=0.0000), Var(v=0.0091, grad=0.0000), Var(v=0.0198, grad=0.0000), Var(v=-0.1215, grad=0.0000), Var(v=-0.2501, grad=0.0000), Var(v=-0.0950, grad=0.0000), Var(v=-0.1718, grad=0.0000), Var(v=-0.1725, grad=0.0000), Var(v=-0.0657, grad=0.0000), Var(v=0.0388, grad=0.0000), Var(v=0.0684, grad=0.0000), Var(v=0.0221, grad=0.0000), Var(v=-0.0549, grad=0.0000), Var(v=0.0232, grad=0.0000), Var(v=0.0760, grad=0.0000), Var(v=-0.0773, grad=0.0000), Var(v=0.0443, grad=0.0000), Var(v=-0.0556, grad=0.0000), Var(v=-0.1747, grad=0.0000), Var(v=-0.0244, grad=0.0000), Var(v=0.1255, grad=0.0000), Var(v=-0.0263, grad=0.0000), Var(v=-0.0417, grad=0.0000), Var(v=-0.0816, grad=0.0000), Var(v=0.0944, grad=0.0000), Var(v=0.1602, grad=0.0000), Var(v=-0.1571, grad=0.0000), Var(v=-0.1779, grad=0.0000), Var(v=0.0636, grad=0.0000), Var(v=-0.0945, grad=0.0000), Var(v=-0.0401, grad=0.0000), Var(v=-0.0299, grad=0.0000), Var(v=-0.1057, grad=0.0000), Var(v=0.0088, grad=0.0000), Var(v=-0.0413, grad=0.0000), Var(v=0.0650, grad=0.0000), Var(v=-0.1090, grad=0.0000), Var(v=-0.1081, grad=0.0000), Var(v=-0.1345, grad=0.0000), Var(v=0.0178, grad=0.0000), Var(v=0.0964, grad=0.0000), Var(v=-0.0800, grad=0.0000)]] Biases: [Var(v=0.0000, grad=0.0000), Var(v=-0.0000, grad=0.0000), Var(v=-0.0000, grad=0.0000), Var(v=-0.0003, grad=0.0000), Var(v=0.0000, grad=0.0000), Var(v=0.0000, grad=0.0000), Var(v=0.0000, grad=0.0000), Var(v=-0.0011, grad=0.0000), Var(v=0.0006, grad=0.0000), Var(v=0.0001, grad=0.0000), Var(v=-0.0008, grad=0.0000), Var(v=0.0007, grad=0.0000), Var(v=0.0000, grad=0.0000), Var(v=-0.0000, grad=0.0000), Var(v=0.0000, grad=0.0000), Var(v=0.0000, grad=0.0000), Var(v=0.0003, grad=0.0000), Var(v=0.0001, grad=0.0000), Var(v=0.0000, grad=0.0000), Var(v=0.0000, grad=0.0000), Var(v=0.0001, grad=0.0000), Var(v=0.0000, grad=0.0000), Var(v=-0.0002, grad=0.0000), Var(v=0.0015, grad=0.0000), Var(v=-0.0002, grad=0.0000), Var(v=0.0000, grad=0.0000), Var(v=-0.0000, grad=0.0000), Var(v=0.0002, grad=0.0000), Var(v=0.0005, grad=0.0000), Var(v=-0.0000, grad=0.0000), Var(v=-0.0000, grad=0.0000), Var(v=0.0000, grad=0.0000), Var(v=-0.0004, grad=0.0000), Var(v=0.0000, grad=0.0000), Var(v=0.0000, grad=0.0000), Var(v=-0.0005, grad=0.0000), Var(v=0.0000, grad=0.0000), Var(v=0.0000, grad=0.0000), Var(v=0.0000, grad=0.0000), Var(v=0.0011, grad=0.0000), Var(v=-0.0008, grad=0.0000), Var(v=-0.0008, grad=0.0000), Var(v=0.0000, grad=0.0000), Var(v=0.0000, grad=0.0000), Var(v=-0.0000, grad=0.0000), Var(v=0.0003, grad=0.0000), Var(v=0.0000, grad=0.0000), Var(v=0.0000, grad=0.0000), Var(v=0.0001, grad=0.0000), Var(v=-0.0007, grad=0.0000)]\n",
      "Layer 2 \n",
      " DenseLayer(n_in = 50, n_out = 1):\n",
      "Weights and biases:\n",
      "Weights: [[Var(v=0.0054, grad=0.0000)], [Var(v=0.0116, grad=0.0000)], [Var(v=0.0421, grad=0.0000)], [Var(v=-0.0404, grad=0.0000)], [Var(v=-0.0433, grad=0.0000)], [Var(v=0.1060, grad=0.0000)], [Var(v=0.0502, grad=0.0000)], [Var(v=0.1310, grad=0.0000)], [Var(v=-0.0745, grad=0.0000)], [Var(v=-0.0127, grad=0.0000)], [Var(v=0.0927, grad=0.0000)], [Var(v=-0.0855, grad=0.0000)], [Var(v=-0.0855, grad=0.0000)], [Var(v=0.0319, grad=0.0000)], [Var(v=-0.0623, grad=0.0000)], [Var(v=-0.0579, grad=0.0000)], [Var(v=-0.0356, grad=0.0000)], [Var(v=0.0180, grad=0.0000)], [Var(v=-0.0813, grad=0.0000)], [Var(v=0.1732, grad=0.0000)], [Var(v=-0.0079, grad=0.0000)], [Var(v=-0.1594, grad=0.0000)], [Var(v=0.0183, grad=0.0000)], [Var(v=-0.1791, grad=0.0000)], [Var(v=0.0218, grad=0.0000)], [Var(v=0.1665, grad=0.0000)], [Var(v=0.0404, grad=0.0000)], [Var(v=0.0296, grad=0.0000)], [Var(v=-0.0641, grad=0.0000)], [Var(v=0.1350, grad=0.0000)], [Var(v=0.0986, grad=0.0000)], [Var(v=0.1058, grad=0.0000)], [Var(v=0.0523, grad=0.0000)], [Var(v=0.0208, grad=0.0000)], [Var(v=-0.1495, grad=0.0000)], [Var(v=0.0607, grad=0.0000)], [Var(v=0.1233, grad=0.0000)], [Var(v=-0.0410, grad=0.0000)], [Var(v=-0.0886, grad=0.0000)], [Var(v=0.1280, grad=0.0000)], [Var(v=0.0907, grad=0.0000)], [Var(v=0.0962, grad=0.0000)], [Var(v=0.0510, grad=0.0000)], [Var(v=0.0605, grad=0.0000)], [Var(v=0.0088, grad=0.0000)], [Var(v=0.0326, grad=0.0000)], [Var(v=-0.0097, grad=0.0000)], [Var(v=0.0043, grad=0.0000)], [Var(v=-0.0172, grad=0.0000)], [Var(v=0.0824, grad=0.0000)]] Biases: [Var(v=-0.0000, grad=0.0000)]\n"
     ]
    },
    {
     "data": {
      "text/plain": [
       "[None, None, None]"
      ]
     },
     "execution_count": 76,
     "metadata": {},
     "output_type": "execute_result"
    }
   ],
   "source": [
    "print('Network before update:')\n",
    "[print('Layer', i, '\\n', NN[i]) for i in range(len(NN))] \n",
    "\n",
    "def parameters(network):\n",
    "  params = []\n",
    "  for layer in range(len(network)):\n",
    "    params += network[layer].parameters()\n",
    "  return params\n",
    "\n",
    "def update_parameters(params, learning_rate=0.01):\n",
    "  for p in params:\n",
    "    p.v -= learning_rate*p.grad\n",
    "\n",
    "def zero_gradients(params):\n",
    "  for p in params:\n",
    "    p.grad = 0.0\n",
    "\n",
    "update_parameters(parameters(NN))\n",
    "\n",
    "print('\\nNetwork after update:')\n",
    "[print('Layer', i, '\\n', NN[i]) for i in range(len(NN))] \n",
    "\n",
    "zero_gradients(parameters(NN))\n",
    "\n",
    "print('\\nNetwork after zeroing gradients:')\n",
    "[print('Layer', i, '\\n', NN[i]) for i in range(len(NN))] "
   ]
  },
  {
   "cell_type": "code",
   "execution_count": 123,
   "metadata": {
    "id": "woWYpdw6FtIO"
   },
   "outputs": [],
   "source": [
    "# Initialize an arbitrary neural network\n",
    "NN = [\n",
    "    DenseLayer(1, 8, lambda x: x.relu()),\n",
    "    DenseLayer(8, 1, lambda x: x.identity())\n",
    "]\n",
    "\n",
    "\n",
    "train_loss = []\n",
    "val_loss = []\n",
    "\n",
    "# Recommended hyper-parameters for 3-D: \n",
    "#NN = [\n",
    "#    DenseLayer(3, 16, lambda x: x.relu()),\n",
    "#    DenseLayer(16, 1, lambda x: x.identity())\n",
    "#]\n",
    "\n",
    "\n",
    "### Notice that, when we switch from tanh to relu activation, we decrease the learning rate. This is due the stability of the gradients \n",
    "## of the activation functions."
   ]
  },
  {
   "cell_type": "code",
   "execution_count": 82,
   "metadata": {
    "id": "mdqaqYBVFtIR"
   },
   "outputs": [],
   "source": [
    "# Initialize training hyperparameters\n",
    "EPOCHS = 200\n",
    "LEARN_R = 2e-2"
   ]
  },
  {
   "cell_type": "code",
   "execution_count": 122,
   "metadata": {
    "colab": {
     "base_uri": "https://localhost:8080/"
    },
    "id": "5kfg76GMFtIW",
    "outputId": "e30cf68a-31f2-42b4-cc5e-860c297c0f04",
    "scrolled": true
   },
   "outputs": [
    {
     "name": "stdout",
     "output_type": "stream",
     "text": [
      "  10 ( 5.00%) Train loss: 0.136 \t Validation loss: 0.102\n",
      "  20 (10.00%) Train loss: 0.136 \t Validation loss: 0.102\n",
      "  30 (15.00%) Train loss: 0.135 \t Validation loss: 0.101\n",
      "  40 (20.00%) Train loss: 0.135 \t Validation loss: 0.101\n",
      "  50 (25.00%) Train loss: 0.135 \t Validation loss: 0.101\n",
      "  60 (30.00%) Train loss: 0.134 \t Validation loss: 0.100\n",
      "  70 (35.00%) Train loss: 0.134 \t Validation loss: 0.100\n",
      "  80 (40.00%) Train loss: 0.133 \t Validation loss: 0.100\n",
      "  90 (45.00%) Train loss: 0.133 \t Validation loss: 0.099\n",
      " 100 (50.00%) Train loss: 0.133 \t Validation loss: 0.099\n",
      " 110 (55.00%) Train loss: 0.132 \t Validation loss: 0.099\n",
      " 120 (60.00%) Train loss: 0.132 \t Validation loss: 0.099\n",
      " 130 (65.00%) Train loss: 0.132 \t Validation loss: 0.099\n",
      " 140 (70.00%) Train loss: 0.131 \t Validation loss: 0.098\n",
      " 150 (75.00%) Train loss: 0.131 \t Validation loss: 0.098\n",
      " 160 (80.00%) Train loss: 0.131 \t Validation loss: 0.098\n",
      " 170 (85.00%) Train loss: 0.130 \t Validation loss: 0.098\n",
      " 180 (90.00%) Train loss: 0.130 \t Validation loss: 0.098\n",
      " 190 (95.00%) Train loss: 0.130 \t Validation loss: 0.097\n",
      " 200 (100.00%) Train loss: 0.129 \t Validation loss: 0.097\n"
     ]
    }
   ],
   "source": [
    "params = parameters(NN)\n",
    "\n",
    "for e in range(EPOCHS):\n",
    "     \n",
    "    # Forward pass and loss computation\n",
    "    Loss = squared_loss(y_train, forward(x_train, NN))\n",
    "\n",
    "    # Backward pass\n",
    "    Loss.backward()\n",
    "    \n",
    "    # gradient descent update\n",
    "    update_parameters(params, LEARN_R)\n",
    "    zero_gradients(params)\n",
    "    \n",
    "    # Training loss\n",
    "    train_loss.append(Loss.v)\n",
    "    \n",
    "    # Validation\n",
    "    Loss_validation = squared_loss(y_validation, forward(x_validation, NN))\n",
    "    val_loss.append(Loss_validation.v)\n",
    "    \n",
    "    if (e+1)%10==0:\n",
    "        print(\"{:4d}\".format(e+1),\n",
    "              \"({:5.2f}%)\".format((e+1)/EPOCHS*100), \n",
    "              \"Train loss: {:4.3f} \\t Validation loss: {:4.3f}\".format(train_loss[-1], val_loss[-1]))\n",
    "        \n"
   ]
  },
  {
   "cell_type": "code",
   "execution_count": 98,
   "metadata": {
    "colab": {
     "base_uri": "https://localhost:8080/",
     "height": 265
    },
    "id": "VetyRWFwFtIY",
    "outputId": "344e490d-6d7d-455a-fa6f-88dd11eb957e"
   },
   "outputs": [
    {
     "data": {
      "image/png": "[encoded data removed]",
      "text/plain": [
       "<Figure size 640x480 with 1 Axes>"
      ]
     },
     "metadata": {},
     "output_type": "display_data"
    }
   ],
   "source": [
    "plt.plot(range(len(train_loss)), train_loss);\n",
    "plt.plot(range(len(val_loss)), val_loss);\n",
    "plt.legend([\"train loss\",\"test loss\"]);"
   ]
  },
  {
   "cell_type": "markdown",
   "metadata": {
    "id": "8OgmIrM9FtIb"
   },
   "source": [
    "# Testing\n",
    "\n",
    "We have kept the calculation of the test error separate in order to emphasize that you should not use the test set in optimization."
   ]
  },
  {
   "cell_type": "code",
   "execution_count": 99,
   "metadata": {
    "id": "HmNi7S-vFtIc"
   },
   "outputs": [],
   "source": [
    "output_test = forward(x_test, NN)"
   ]
  },
  {
   "cell_type": "code",
   "execution_count": 100,
   "metadata": {
    "colab": {
     "base_uri": "https://localhost:8080/",
     "height": 316
    },
    "id": "7mmJOTSEFtIf",
    "outputId": "e3264095-cefe-4aee-893d-bf152438e332"
   },
   "outputs": [
    {
     "name": "stdout",
     "output_type": "stream",
     "text": [
      "Test loss:  0.122\n"
     ]
    },
    {
     "data": {
      "image/png": "[encoded data removed]",
      "text/plain": [
       "<Figure size 640x480 with 1 Axes>"
      ]
     },
     "metadata": {},
     "output_type": "display_data"
    }
   ],
   "source": [
    "y_test_np = Var_to_nparray(y_test)\n",
    "plt.scatter(y_test_np, Var_to_nparray(output_test));\n",
    "plt.plot([np.min(y_test_np), np.max(y_test_np)], [np.min(y_test_np), np.max(y_test_np)], color='k');\n",
    "plt.xlabel(\"y\");\n",
    "plt.ylabel(\"$\\hat{y}$\");\n",
    "plt.title(\"Model prediction vs real in the test set, the close to the line the better\")\n",
    "plt.grid(True);\n",
    "plt.axis('equal');\n",
    "plt.tight_layout();\n",
    "\n",
    "Loss_test = squared_loss(y_test, forward(x_test, NN))\n",
    "\n",
    "print(\"Test loss:  {:4.3f}\".format(Loss_test.v))"
   ]
  },
  {
   "cell_type": "code",
   "execution_count": 101,
   "metadata": {
    "colab": {
     "base_uri": "https://localhost:8080/",
     "height": 279
    },
    "id": "ODi0WlmQFtIh",
    "outputId": "d1ab874f-0717-4987-87bf-1f0c7c8e7148"
   },
   "outputs": [
    {
     "data": {
      "image/png": "[encoded data removed]",
      "text/plain": [
       "<Figure size 640x480 with 1 Axes>"
      ]
     },
     "metadata": {},
     "output_type": "display_data"
    }
   ],
   "source": [
    "x_test_np = Var_to_nparray(x_test)\n",
    "x_train_np = Var_to_nparray(x_train)\n",
    "y_train_np = Var_to_nparray(y_train)\n",
    "if D1:\n",
    "    plt.scatter(x_train_np, y_train_np, label=\"train data\");\n",
    "    plt.scatter(x_test_np, Var_to_nparray(output_test), label=\"test prediction\");\n",
    "    plt.scatter(x_test_np, y_test_np, label=\"test data\");\n",
    "    plt.legend();\n",
    "    plt.xlabel(\"x\");\n",
    "    plt.ylabel(\"y\");\n",
    "else:\n",
    "    plt.scatter(x_train_np[:,1], y_train, label=\"train data\");\n",
    "    plt.scatter(x_test_np[:,1], Var_to_nparray(output_test), label=\"test data prediction\");\n",
    "    plt.scatter(x_test_np[:,1], y_test_np, label=\"test data\");\n",
    "    plt.legend();\n",
    "    plt.xlabel(\"x\");\n",
    "    plt.ylabel(\"y\");"
   ]
  },
  {
   "cell_type": "markdown",
   "metadata": {
    "id": "zTBAmjsAFtIk"
   },
   "source": [
    "## Exercise l) Show overfitting, underfitting and just right fitting\n",
    "\n",
    "Vary the architecture and other things to show clear signs of overfitting (=training loss significantly lower than test loss) and underfitting (=not fitting enoung to training data so that test performance is also hurt).\n",
    "\n",
    "See also if you can get a good compromise which leads to a low validation loss. \n",
    "\n",
    "For this problem do you see any big difference between validation and test loss? The answer here will probably be no. Discuss cases where it is important to keep the two separate.\n",
    "\n",
    "_Insert written answer here._\n",
    "\n",
    "Overfitting happens when the complexity of the model is too flexible compared to the number of data points and complexity of the true function. This is because, the flexible model will fit the training data very well, and since there are few data points, it will be able to fit all data points well, simply by \"remembering\" each data point, rather than learning the structures of the data. Therefore, in order to achieve overfitting I reduce the size of the training data set.\n",
    "\n",
    "For the compromise where we get just right fitting, we don't see any differences between validation and test loss. However, one does have to be careful with minimizing validation loss wrt the hyperparameters (learning rate, activation function, number of layers, dimensionality of layers, etc.,). This is because, there is a risk that these hyperparameters will overfit to the validation set, just as the parameters (weights) of the network overfit to the training data. Here, we don't see a difference, because the problem is very small, and we haven't done a lot of experimenting"
   ]
  },
  {
   "cell_type": "code",
   "execution_count": 152,
   "metadata": {},
   "outputs": [
    {
     "name": "stdout",
     "output_type": "stream",
     "text": [
      "Training overfitting network\n"
     ]
    }
   ],
   "source": [
    "# Insert your code for getting overfitting, underfitting and just right fitting\n",
    "\n",
    "# I chose to implement the neural network class in exercise n, as it would make this exercise much easier\n",
    "# Therefore, this cell contains an implementation of a class NeuralNetwork, and the next one will \n",
    "# contain code for overfitting, underfitting and just-right-fitting\n",
    "\n",
    "class NeuralNetwork:\n",
    "    def __init__(self, dimensions, activation = \"relu\", loss_fn = squared_loss):\n",
    "\n",
    "        activation_selection = {\"tanh\": lambda x: x.tanh(),\n",
    "                                \"relu\": lambda x: x.relu()}\n",
    "\n",
    "        self.dimensions = dimensions\n",
    "        self.activation = activation_selection[activation]\n",
    "        self.activation_string = activation\n",
    "\n",
    "        self.loss_fn = loss_fn\n",
    "        \n",
    "        self.L = len(dimensions) - 1\n",
    "        self.l_iter = lambda: list(range(1,self.L+1))\n",
    "\n",
    "        self.layers = [DenseLayer(n_in=self.dimensions[l-1], n_out=self.dimensions[l], act_fn=self.activation) for l in self.l_iter()[:-1]] + [DenseLayer(self.dimensions[self.L-1], self.dimensions[self.L], lambda x: x.identity())]\n",
    "\n",
    "        # self.layers = [\n",
    "        #     DenseLayer(1, 8, self.activation),\n",
    "        #     DenseLayer(8, 1, lambda x: x.identity())\n",
    "        # ]\n",
    "\n",
    "        self.train_loss = []\n",
    "        self.val_loss = []\n",
    "\n",
    "    def reset(self):\n",
    "        self.__init__(self.dimensions, self.activation_string)\n",
    "\n",
    "    def train(self, x_train, x_validation, y_train, y_validation, n_epochs, learning_rate, epochs_pr_print = 10):\n",
    "        \n",
    "        params = parameters(self.layers)\n",
    "        \n",
    "        for e in range(n_epochs):\n",
    "            \n",
    "            # Forward pass and loss computation\n",
    "            # Loss = squared_loss(y_train, forward(x_train, self.layers))\n",
    "            Loss = self.loss_fn(y_train, forward(x_train, self.layers))\n",
    "\n",
    "            # Backward pass\n",
    "            Loss.backward()\n",
    "            \n",
    "            # gradient descent update\n",
    "            update_parameters(params, learning_rate)\n",
    "            zero_gradients(params)\n",
    "            \n",
    "            # Training loss\n",
    "            self.train_loss.append(Loss.v)\n",
    "            \n",
    "            # Validation\n",
    "            # Loss_validation = squared_loss(y_validation, forward(x_validation, self.layers))\n",
    "            Loss_validation = self.loss_fn(y_validation, forward(x_validation, self.layers))\n",
    "            self.val_loss.append(Loss_validation.v)\n",
    "            \n",
    "            if (e+1)%epochs_pr_print==0:\n",
    "                print(\"{:4d}\".format(e+1),\n",
    "                    \"({:5.2f}%)\".format((e+1)/n_epochs*100), \n",
    "                    \"Train loss: {:4.3f} \\t Validation loss: {:4.3f}\".format(self.train_loss[-1], self.val_loss[-1]))\n",
    "\n",
    "# params = parameters(NN)\n",
    "def dont_run_this():\n",
    "    for e in range(EPOCHS):\n",
    "        \n",
    "        # Forward pass and loss computation\n",
    "        Loss = squared_loss(y_train, forward(x_train, NN))\n",
    "\n",
    "        # Backward pass\n",
    "        Loss.backward()\n",
    "        \n",
    "        # gradient descent update\n",
    "        update_parameters(params, LEARN_R)\n",
    "        zero_gradients(params)\n",
    "        \n",
    "        # Training loss\n",
    "        train_loss.append(Loss.v)\n",
    "        \n",
    "        # Validation\n",
    "        Loss_validation = squared_loss(y_validation, forward(x_validation, NN))\n",
    "        val_loss.append(Loss_validation.v)\n",
    "        \n",
    "        if (e+1)%10==0:\n",
    "            print(\"{:4d}\".format(e+1),\n",
    "                \"({:5.2f}%)\".format((e+1)/EPOCHS*100), \n",
    "                \"Train loss: {:4.3f} \\t Validation loss: {:4.3f}\".format(train_loss[-1], val_loss[-1]))\n",
    "\n",
    "\n",
    "# x_train, y_train,  x_validation, y_validation, x_test, y_test\n",
    "\n",
    "N = len(x_train)\n",
    "input_dim = len(x_train[0])\n",
    "output_dim = len(y_train[0])\n",
    "\n",
    "overfitting_network  = NeuralNetwork((input_dim, 100, 100, output_dim))\n",
    "underfitting_network = NeuralNetwork((input_dim, 1,   output_dim))\n",
    "rightfitting_network = NeuralNetwork((input_dim, 10,  20, output_dim))\n",
    "\n",
    "print(\"Training overfitting network\")\n",
    "overfitting_network.train(x_train, x_validation, y_train, y_validation, EPOCHS, LEARN_R)\n",
    "\n",
    "print(\"Training underfitting network\")\n",
    "\n",
    "\n",
    "print(\"Training rightfitting network\")\n",
    "\n"
   ]
  },
  {
   "cell_type": "markdown",
   "metadata": {
    "id": "fYPZP-eTFtIo"
   },
   "source": [
    "# Next steps - classification\n",
    "\n",
    "It is straight forward to extend what we have done to classification. \n",
    "\n",
    "For numerical stability it is better to make softmax and cross-entropy as one function so we write the cross entropy loss as a function of the logits we talked about last week. \n",
    "\n",
    "Next week we will see how to perform classification in PyTorch."
   ]
  },
  {
   "cell_type": "markdown",
   "metadata": {
    "id": "qsVPul3QFtIo"
   },
   "source": [
    "## Exercise m) optional - Implement backpropagation for classification\n",
    "\n",
    "Should be possible with very few lines of code. :-)"
   ]
  },
  {
   "cell_type": "code",
   "execution_count": null,
   "metadata": {
    "id": "oC8QrI2tFtIp"
   },
   "outputs": [],
   "source": [
    "# Just add code."
   ]
  },
  {
   "cell_type": "markdown",
   "metadata": {
    "id": "APqhJv3tta1O"
   },
   "source": [
    "## Exercise n) optional - Introduce a NeuralNetwork class\n",
    "\n",
    "The functions we applied on the neural network (parameters, update_parameters and zero_gradients) can more naturally be included as methods in a NeuralNetwork class. Make such a class and modify the code to use it. "
   ]
  },
  {
   "cell_type": "code",
   "execution_count": 108,
   "metadata": {
    "id": "Dqfnor1ouMLq"
   },
   "outputs": [],
   "source": [
    "# just add some code\n",
    "\n"
   ]
  }
 ],
 "metadata": {
  "anaconda-cloud": {},
  "colab": {
   "collapsed_sections": [
    "U4057_ljNvWB",
    "p_8n_SKnIW2F",
    "oLrGJytZFtGm",
    "jpIZPBpNI0pO",
    "_79HOAXrFtHK",
    "mqeyab9qFtGs",
    "-XyXBD37FtHk",
    "SrwSJ2UWFtHu",
    "zTBAmjsAFtIk",
    "qsVPul3QFtIo",
    "APqhJv3tta1O"
   ],
   "name": "2.1-EXE-FNN-AutoDif-Nanograd.ipynb",
   "provenance": []
  },
  "kernelspec": {
   "display_name": "Python 3.9.7 ('base')",
   "language": "python",
   "name": "python3"
  },
  "language_info": {
   "codemirror_mode": {
    "name": "ipython",
    "version": 3
   },
   "file_extension": ".py",
   "mimetype": "text/x-python",
   "name": "python",
   "nbconvert_exporter": "python",
   "pygments_lexer": "ipython3",
   "version": "3.10.4"
  },
  "vscode": {
   "interpreter": {
    "hash": "b7d9d7a826aaf529949f93dbc5083e36972e3d619d8bbc4acbca4d93d50dda7f"
   }
  }
 },
 "nbformat": 4,
 "nbformat_minor": 1
}
