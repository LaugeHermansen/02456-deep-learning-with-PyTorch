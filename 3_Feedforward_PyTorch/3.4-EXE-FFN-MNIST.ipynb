{
  "cells": [
    {
      "cell_type": "markdown",
      "metadata": {
        "id": "P_4TPVIrYAWN"
      },
      "source": [
        "# Credits\n",
        "> This code is a slight modification to a translation (TensorFlow --> PyTorch) of a previous version of the [02456](http://kurser.dtu.dk/course/02456) course material. \n",
        "> [Original repo link (TensorFlow)](https://github.com/DeepLearningDTU/02456-deep-learning).\n",
        "> [Translated repo link (PyTorch)](https://github.com/munkai/pytorch-tutorial/tree/master/2_intermediate)."
      ]
    },
    {
      "cell_type": "code",
      "execution_count": 2,
      "metadata": {
        "id": "Yv-FtIeoYAWQ"
      },
      "outputs": [],
      "source": [
        "import torch\n",
        "from torch import nn\n",
        "import torch.nn.functional as F\n",
        "import torch.optim as optim\n",
        "import torch.nn.init as init\n",
        "\n",
        "%matplotlib inline\n",
        "import matplotlib\n",
        "import numpy as np\n",
        "import matplotlib.pyplot as plt\n",
        "\n",
        "from torch.nn.parameter import Parameter\n",
        "from torchvision.datasets import MNIST"
      ]
    },
    {
      "cell_type": "markdown",
      "metadata": {
        "id": "3vKOK1h4YAWS"
      },
      "source": [
        "# MNIST dataset\n",
        "MNIST is a dataset that is often used for benchmarking. The MNIST dataset consists of 70,000 images of handwritten digits from 0-9. The dataset is split into a 50,000 images training set, 10,000 images validation set and 10,000 images test set. The images are 28x28 pixels, where each pixel represents a normalised value between 0-255 (0=black and 255=white).\n",
        "\n",
        "![MNIST.Exampel](https://github.com/LaugeHermansen/02456-deep-learning-with-PyTorch/blob/master/static_files/mnist.png?raw=1)\n",
        "\n",
        "\n",
        "## Primer\n",
        "We use a feedforward neural network to classify the 28x28 mnist images. `num_features` is therefore $28 * 28=784$, i.e. we represent each image as a vector. The ordering of the pixels in the vector does not matter, so we could permutate all images using the same permutation and still get the same performance. (You are of course encouraged to try this using ``numpy.random.permutation`` to get a random permutation. This task is therefore called the _permutation invariant_ MNIST. Obviously this throws away a lot of structure in the data. In the next module we'll fix this with the convolutional neural network wich encodes prior knowledgde about data that has either spatial or temporal structure.  "
      ]
    },
    {
      "cell_type": "markdown",
      "metadata": {
        "collapsed": true,
        "id": "1KBMWStGYAWT"
      },
      "source": [
        "## MNIST\n",
        "First let's load the MNIST dataset and plot a few examples:"
      ]
    },
    {
      "cell_type": "code",
      "execution_count": 3,
      "metadata": {
        "id": "hSK-BanAYAWT",
        "outputId": "5843b4ae-f43a-40aa-ef1d-b5fcc022c6e7",
        "colab": {
          "base_uri": "https://localhost:8080/",
          "height": 423,
          "referenced_widgets": [
            "4eee762067cf4303ac4ba73c0b4cf3c9",
            "c23e17f0e65b4c338419205dc4f74cad",
            "0afa975254834e1bba608562607c870e",
            "d61a79f996a2449b97768f49251dd667",
            "edfad7e78e744becb3f8791c5d2eeacb",
            "17266e21d0f4490ba5a535b2e8e1f55e",
            "8207e6f671524bf3b5896f4745d4676e",
            "4c5bf9358aa042349de3f472ecf9ed57",
            "cca282eb58874d51ac7865acd97dadc7",
            "00a29d08016b4d91a0700890007204c0",
            "1828fda2c4ef41c080e9230c99466c82",
            "92d3cc21e29b47d587a3978c7eb8ced2",
            "1c796108a33349ab8e42123c8a34dcfa",
            "dd9caf7fe8f341fb84522288f0f08c6b",
            "c7e98971767a4a038ce36820fe919661",
            "6ce84d1046b74092ab573d89d9b75335",
            "6389ca9ac8344e458837e9ea0d07acec",
            "75aa63733d6840b88d1194e056f10e3f",
            "16e014fae6474fdda7f78cd3804c85c3",
            "05db60adea3e423ea598f21eb3199e6d",
            "7fe1038a2f0c43ef896e0c90ca7c1f81",
            "34fafd9b7611438c98458e330efbcf67",
            "ba2352a7726549c3bc1b29b44636eb36",
            "46a67157be314ddd8ca5efe646af4e05",
            "2d4dcdd544da4490bfb5f0d878b83ac6",
            "7bb728383df24150b2539e0df7835bfe",
            "ecabe7f95b5643b5bd4529d19da3d40c",
            "638ff7bcbc66490a9bfb28bd352629bb",
            "146dbe77a451437fa3e1b98f8ab3b265",
            "a71bddcceb0a481a933d9f52c5010730",
            "f9d447a523bf4b19ab54a5ed66c8f576",
            "7e78bfa38f3c48409ebd378015380371",
            "f3dc9307f5db4b6cab58434c7ce75be7",
            "29a4b4bbdf354e7fba9ec18723fcdb23",
            "243ac62e76264e49b7fb91a68970565b",
            "8d08f8590f584974a88c2e51935eb482",
            "b9932282d4884a93913caf2a59e8eca1",
            "2476315ea5114004abd829faf84be2c9",
            "6301b1fb2e4247e090d8069809c61129",
            "74ecc8406b394b4181646f8cd3222082",
            "cbd0755f576540fd92c3a30163ae2d11",
            "4ffce209e5974bd680ba16598b2986e6",
            "7df44f255ac941bda8daa8f17f5be7d5",
            "0d684c59103f414191f6b7d1f4bce5fe"
          ]
        }
      },
      "outputs": [
        {
          "output_type": "stream",
          "name": "stdout",
          "text": [
            "Downloading http://yann.lecun.com/exdb/mnist/train-images-idx3-ubyte.gz\n",
            "Downloading http://yann.lecun.com/exdb/mnist/train-images-idx3-ubyte.gz to ./temp/MNIST/raw/train-images-idx3-ubyte.gz\n"
          ]
        },
        {
          "output_type": "display_data",
          "data": {
            "text/plain": [
              "  0%|          | 0/9912422 [00:00<?, ?it/s]"
            ],
            "application/vnd.jupyter.widget-view+json": {
              "version_major": 2,
              "version_minor": 0,
              "model_id": "4eee762067cf4303ac4ba73c0b4cf3c9"
            }
          },
          "metadata": {}
        },
        {
          "output_type": "stream",
          "name": "stdout",
          "text": [
            "Extracting ./temp/MNIST/raw/train-images-idx3-ubyte.gz to ./temp/MNIST/raw\n",
            "\n",
            "Downloading http://yann.lecun.com/exdb/mnist/train-labels-idx1-ubyte.gz\n",
            "Downloading http://yann.lecun.com/exdb/mnist/train-labels-idx1-ubyte.gz to ./temp/MNIST/raw/train-labels-idx1-ubyte.gz\n"
          ]
        },
        {
          "output_type": "display_data",
          "data": {
            "text/plain": [
              "  0%|          | 0/28881 [00:00<?, ?it/s]"
            ],
            "application/vnd.jupyter.widget-view+json": {
              "version_major": 2,
              "version_minor": 0,
              "model_id": "92d3cc21e29b47d587a3978c7eb8ced2"
            }
          },
          "metadata": {}
        },
        {
          "output_type": "stream",
          "name": "stdout",
          "text": [
            "Extracting ./temp/MNIST/raw/train-labels-idx1-ubyte.gz to ./temp/MNIST/raw\n",
            "\n",
            "Downloading http://yann.lecun.com/exdb/mnist/t10k-images-idx3-ubyte.gz\n",
            "Downloading http://yann.lecun.com/exdb/mnist/t10k-images-idx3-ubyte.gz to ./temp/MNIST/raw/t10k-images-idx3-ubyte.gz\n"
          ]
        },
        {
          "output_type": "display_data",
          "data": {
            "text/plain": [
              "  0%|          | 0/1648877 [00:00<?, ?it/s]"
            ],
            "application/vnd.jupyter.widget-view+json": {
              "version_major": 2,
              "version_minor": 0,
              "model_id": "ba2352a7726549c3bc1b29b44636eb36"
            }
          },
          "metadata": {}
        },
        {
          "output_type": "stream",
          "name": "stdout",
          "text": [
            "Extracting ./temp/MNIST/raw/t10k-images-idx3-ubyte.gz to ./temp/MNIST/raw\n",
            "\n",
            "Downloading http://yann.lecun.com/exdb/mnist/t10k-labels-idx1-ubyte.gz\n",
            "Downloading http://yann.lecun.com/exdb/mnist/t10k-labels-idx1-ubyte.gz to ./temp/MNIST/raw/t10k-labels-idx1-ubyte.gz\n"
          ]
        },
        {
          "output_type": "display_data",
          "data": {
            "text/plain": [
              "  0%|          | 0/4542 [00:00<?, ?it/s]"
            ],
            "application/vnd.jupyter.widget-view+json": {
              "version_major": 2,
              "version_minor": 0,
              "model_id": "29a4b4bbdf354e7fba9ec18723fcdb23"
            }
          },
          "metadata": {}
        },
        {
          "output_type": "stream",
          "name": "stdout",
          "text": [
            "Extracting ./temp/MNIST/raw/t10k-labels-idx1-ubyte.gz to ./temp/MNIST/raw\n",
            "\n"
          ]
        }
      ],
      "source": [
        "mnist_trainset = MNIST(\"./temp/\", train=True, download=True)\n",
        "mnist_testset = MNIST(\"./temp/\", train=False, download=True)"
      ]
    },
    {
      "cell_type": "code",
      "execution_count": 4,
      "metadata": {
        "id": "cvzPJFQNYAWU",
        "outputId": "24b74e69-574b-49d7-ed35-fe31e49a5b47",
        "colab": {
          "base_uri": "https://localhost:8080/"
        }
      },
      "outputs": [
        {
          "output_type": "stream",
          "name": "stdout",
          "text": [
            "Information on dataset\n",
            "x_train torch.Size([1000, 784])\n",
            "targets_train torch.Size([1000])\n",
            "x_valid torch.Size([500, 784])\n",
            "targets_valid torch.Size([500])\n",
            "x_test torch.Size([500, 784])\n",
            "targets_test torch.Size([500])\n"
          ]
        }
      ],
      "source": [
        "# To speed up training we'll only work on a subset of the data\n",
        "x_train = mnist_trainset.data[:1000].view(-1, 784).float().div_(255)\n",
        "targets_train = mnist_trainset.targets[:1000]\n",
        "\n",
        "x_valid = mnist_trainset.data[1000:1500].view(-1, 784).float().div_(255)\n",
        "targets_valid = mnist_trainset.targets[1000:1500]\n",
        "\n",
        "x_test = mnist_testset.data[:500].view(-1, 784).float().div_(255)\n",
        "targets_test = mnist_testset.targets[:500]\n",
        "\n",
        "print(\"Information on dataset\")\n",
        "print(\"x_train\", x_train.shape)\n",
        "print(\"targets_train\", targets_train.shape)\n",
        "print(\"x_valid\", x_valid.shape)\n",
        "print(\"targets_valid\", targets_valid.shape)\n",
        "print(\"x_test\", x_test.shape)\n",
        "print(\"targets_test\", targets_test.shape)"
      ]
    },
    {
      "cell_type": "code",
      "execution_count": 5,
      "metadata": {
        "scrolled": false,
        "id": "nvsS2gUNYAWV",
        "outputId": "ef9dd64d-935e-4f5a-db7b-69ee33ba4a25",
        "colab": {
          "base_uri": "https://localhost:8080/",
          "height": 264
        }
      },
      "outputs": [
        {
          "output_type": "display_data",
          "data": {
            "text/plain": [
              "<Figure size 288x288 with 1 Axes>"
            ],
            "image/png": "[encoded data removed]"
          },
          "metadata": {
            "needs_background": "light"
          }
        }
      ],
      "source": [
        "# plot a few MNIST examples\n",
        "idx, dim, classes = 0, 28, 10\n",
        "# create empty canvas\n",
        "canvas = np.zeros((dim*classes, classes*dim))\n",
        "\n",
        "# fill with tensors\n",
        "for i in range(classes):\n",
        "    for j in range(classes):\n",
        "        canvas[i*dim:(i+1)*dim, j*dim:(j+1)*dim] = x_train[idx].reshape((dim, dim))\n",
        "        idx += 1\n",
        "\n",
        "# visualize matrix of tensors as gray scale image\n",
        "plt.figure(figsize=(4, 4))\n",
        "plt.axis('off')\n",
        "plt.imshow(canvas, cmap='gray')\n",
        "plt.title('MNIST handwritten digits')\n",
        "plt.show()"
      ]
    },
    {
      "cell_type": "markdown",
      "metadata": {
        "id": "8VSTuzaeYAWV"
      },
      "source": [
        "## Model\n",
        "\n",
        "One of the large challenges in deep learning is the amount of hyperparameters that needs to be selected, and the lack of a good principled way of selecting them.\n",
        "Hyperparameters can be found by experience (guessing) or some search procedure (often quite slow).\n",
        "Random search is easy to implement and performs decent: http://www.jmlr.org/papers/volume13/bergstra12a/bergstra12a.pdf . \n",
        "More advanced search procedures include [Spearmint](https://github.com/JasperSnoek/spearmint) and many others.\n",
        "\n",
        "**In practice a lot of trial and error is almost always involved.** This can be frustrating and time consuming, but the best thing to do is to think as a scientist, and go about it in a ordered manner --> monitor as much as you can, take notes, and be deliberate!\n",
        "\n",
        "Below are some guidelines that you can use as a starting point to some of the most important hyperparameters. \n",
        "(*regularization* is also very important, but will be covered later.)\n",
        "\n",
        "\n",
        "### Ballpark estimates of hyperparameters\n",
        "__Number of hidden units and network structure:__\n",
        "You'll have to experiment. One rarely goes below 512 units for feedforward networks (unless your are training on CPU...).\n",
        "There's some research into stochastic depth networks: https://arxiv.org/pdf/1603.09382v2.pdf, but in general this is trial and error.\n",
        "\n",
        "__Parameter initialization:__\n",
        "Parameter initialization is extremely important.\n",
        "PyTorch has a lot of different initializers, check the [PyTorch API](http://pytorch.org/docs/master/nn.html#torch-nn-init). Often used initializer are\n",
        "1. Kaiming He\n",
        "2. Xavier Glorot\n",
        "3. Uniform or Normal with small scale (0.1 - 0.01)\n",
        "4. Orthogonal (this usually works very well for RNNs)\n",
        "\n",
        "Bias is nearly always initialized to zero using the [torch.nn.init.constant(tensor, val)](http://pytorch.org/docs/master/nn.html#torch.nn.init.constant)\n",
        "\n",
        "__Mini-batch size:__\n",
        "Usually people use 16-256. Bigger is not allways better. With smaller mini-batch size you get more updates and your model might converge faster. Also small batch sizes use less memory, which means you can train a model with more parameters.\n",
        "\n",
        "__Nonlinearity:__ [The most commonly used nonliearities are](http://pytorch.org/docs/master/nn.html#non-linear-activations)\n",
        "1. ReLU\n",
        "2. Leaky ReLU\n",
        "3. ELU\n",
        "3. Sigmoid (rarely, if ever, used in hidden layers anymore, squashes the output to the interval [0, 1] - appropriate if the targets are binary.\n",
        "4. Tanh is similar to the sigmoid, but squashes to [-1, 1]. Rarely used any more.\n",
        "4. Softmax normalizes the output to 1, usrful if you have a multi-class classification problem.\n",
        "\n",
        "See the plot below.\n",
        "\n",
        "__Optimizer and learning rate:__\n",
        "1. SGD + Momentum: learning rate 0.01 - 0.1 \n",
        "2. ADAM: learning rate 3e-4 - 1e-5\n",
        "3. RMSPROP: somewhere between SGD and ADAM\n"
      ]
    },
    {
      "cell_type": "code",
      "execution_count": 6,
      "metadata": {
        "id": "MK5hri8kYAWX",
        "outputId": "4288fcdb-41bf-4712-93f0-fc15e3e40bc9",
        "colab": {
          "base_uri": "https://localhost:8080/",
          "height": 358
        }
      },
      "outputs": [
        {
          "output_type": "stream",
          "name": "stdout",
          "text": [
            "softmax should sum to one (approxiamtely): 1.0\n"
          ]
        },
        {
          "output_type": "display_data",
          "data": {
            "text/plain": [
              "<Figure size 360x360 with 1 Axes>"
            ],
            "image/png": "[encoded data removed]"
          },
          "metadata": {
            "needs_background": "light"
          }
        }
      ],
      "source": [
        "# Illustrate different output units\n",
        "x = np.linspace(-6, 6, 100)\n",
        "units = {\n",
        "    \"ReLU\": lambda x: np.maximum(0, x),\n",
        "    \"Leaky ReLU\": lambda x: np.maximum(0, x) + 0.1 * np.minimum(0, x),\n",
        "    \"Elu\": lambda x: (x > 0) * x + (1 - (x > 0)) * (np.exp(x) - 1),\n",
        "    \"Sigmoid\": lambda x: (1 + np.exp(-x))**(-1),\n",
        "    \"tanh\": lambda x: (np.exp(x) - np.exp(-x)) / (np.exp(x) + np.exp(-x))\n",
        "}\n",
        "\n",
        "plt.figure(figsize=(5, 5))\n",
        "[plt.plot(x, unit(x), label=unit_name, lw=2) for unit_name, unit in units.items()]\n",
        "plt.legend(loc=2, fontsize=16)\n",
        "plt.title('Non-linearities', fontsize=20)\n",
        "plt.ylim([-2, 5])\n",
        "plt.xlim([-6, 6])\n",
        "\n",
        "# assert that all class probablities sum to one\n",
        "softmax = lambda x: np.exp(x) / np.sum(np.exp(x))\n",
        "print(\"softmax should sum to one (approxiamtely):\", np.sum(softmax(x)))"
      ]
    },
    {
      "cell_type": "code",
      "execution_count": 7,
      "metadata": {
        "id": "LXu0ZoacYAWY"
      },
      "outputs": [],
      "source": [
        "#Hyperparameters\n",
        "num_classes = 10\n",
        "num_l1 = 512\n",
        "num_features = x_train.shape[1]\n",
        "\n",
        "# define network\n",
        "class Net(nn.Module):\n",
        "\n",
        "    def __init__(self, num_features, num_hidden, num_output):\n",
        "        super(Net, self).__init__()  \n",
        "        # input layer\n",
        "        self.W_1 = Parameter(init.xavier_normal_(torch.Tensor(num_hidden, num_features)))\n",
        "        self.b_1 = Parameter(init.constant_(torch.Tensor(num_hidden), 0))\n",
        "        # hidden layer\n",
        "        self.W_2 = Parameter(init.xavier_normal_(torch.Tensor(num_output, num_hidden)))\n",
        "        self.b_2 = Parameter(init.constant_(torch.Tensor(num_output), 0))\n",
        "        # define activation function in constructor\n",
        "        self.activation = torch.nn.ELU()\n",
        "\n",
        "    def forward(self, x):\n",
        "        x = F.linear(x, self.W_1, self.b_1)\n",
        "        x = self.activation(x)\n",
        "        x = F.linear(x, self.W_2, self.b_2)\n",
        "        return x\n",
        "\n",
        "\n",
        "net = Net(num_features, num_l1, num_classes)"
      ]
    },
    {
      "cell_type": "code",
      "execution_count": 8,
      "metadata": {
        "id": "Ch-7CKxeYAWY"
      },
      "outputs": [],
      "source": [
        "optimizer = optim.SGD(net.parameters(), lr=0.01)\n",
        "criterion = nn.CrossEntropyLoss()"
      ]
    },
    {
      "cell_type": "code",
      "execution_count": 9,
      "metadata": {
        "id": "eY5ujNDGYAWZ",
        "outputId": "e4ef4389-1a4e-4515-8e80-e58429d40f5f",
        "colab": {
          "base_uri": "https://localhost:8080/"
        }
      },
      "outputs": [
        {
          "output_type": "stream",
          "name": "stdout",
          "text": [
            "torch.Size([45, 10])\n"
          ]
        }
      ],
      "source": [
        "# Test the forward pass with dummy data\n",
        "x = np.random.normal(0, 1, (45, dim*dim)).astype('float32')\n",
        "\n",
        "print(net(torch.from_numpy(x)).size())"
      ]
    },
    {
      "cell_type": "markdown",
      "metadata": {
        "id": "DvPr_ox8YAWZ"
      },
      "source": [
        "# Build the training loop\n",
        "\n",
        "We train the network by calculating the gradient w.r.t the cost function and update the parameters in direction of the negative gradient. \n",
        "\n",
        "\n",
        "When training neural network you always use mini batches. Instead of calculating the average gradient using the entire dataset you approximate the gradient using a mini-batch of typically 16 to 256 samples. The paramters are updated after each mini batch. Networks converge much faster using mini batches because the parameters are updated more often.\n",
        "\n",
        "We build a loop that iterates over the training data. Remember that the parameters are updated each time ``optimizer.step()`` is called."
      ]
    },
    {
      "cell_type": "code",
      "execution_count": 10,
      "metadata": {
        "id": "cySaoGw3YAWa",
        "outputId": "e24f894e-089b-409f-8661-ace6e650e1b2",
        "colab": {
          "base_uri": "https://localhost:8080/",
          "height": 643
        }
      },
      "outputs": [
        {
          "output_type": "stream",
          "name": "stdout",
          "text": [
            "Epoch  1 : Train Loss 0.229962 , Train acc 0.287000, Valid acc 0.200000\n",
            "Epoch 11 : Train Loss 0.108327 , Train acc 0.793000, Valid acc 0.746000\n",
            "Epoch 21 : Train Loss 0.075448 , Train acc 0.845000, Valid acc 0.794000\n",
            "Epoch 31 : Train Loss 0.060964 , Train acc 0.866000, Valid acc 0.812000\n",
            "Epoch 41 : Train Loss 0.052546 , Train acc 0.885000, Valid acc 0.822000\n",
            "Epoch 51 : Train Loss 0.046869 , Train acc 0.897000, Valid acc 0.826000\n",
            "Epoch 61 : Train Loss 0.042685 , Train acc 0.899000, Valid acc 0.832000\n",
            "Epoch 71 : Train Loss 0.039416 , Train acc 0.907000, Valid acc 0.836000\n",
            "Epoch 81 : Train Loss 0.036753 , Train acc 0.917000, Valid acc 0.838000\n",
            "Epoch 91 : Train Loss 0.034515 , Train acc 0.920000, Valid acc 0.844000\n",
            "Epoch 101 : Train Loss 0.032590 , Train acc 0.923000, Valid acc 0.846000\n",
            "Epoch 111 : Train Loss 0.030902 , Train acc 0.926000, Valid acc 0.848000\n",
            "Epoch 121 : Train Loss 0.029400 , Train acc 0.933000, Valid acc 0.850000\n",
            "Epoch 131 : Train Loss 0.028046 , Train acc 0.934000, Valid acc 0.850000\n",
            "Epoch 141 : Train Loss 0.026814 , Train acc 0.936000, Valid acc 0.850000\n",
            "Epoch 151 : Train Loss 0.025683 , Train acc 0.940000, Valid acc 0.852000\n",
            "Epoch 161 : Train Loss 0.024638 , Train acc 0.942000, Valid acc 0.854000\n",
            "Epoch 171 : Train Loss 0.023667 , Train acc 0.944000, Valid acc 0.852000\n",
            "Epoch 181 : Train Loss 0.022760 , Train acc 0.945000, Valid acc 0.848000\n",
            "Epoch 191 : Train Loss 0.021910 , Train acc 0.945000, Valid acc 0.848000\n"
          ]
        },
        {
          "output_type": "execute_result",
          "data": {
            "text/plain": [
              "(Text(0.5, 0, 'Updates'), Text(0, 0.5, 'Acc'))"
            ]
          },
          "metadata": {},
          "execution_count": 10
        },
        {
          "output_type": "display_data",
          "data": {
            "text/plain": [
              "<Figure size 432x288 with 1 Axes>"
            ],
            "image/png": "[encoded data removed]"
          },
          "metadata": {
            "needs_background": "light"
          }
        }
      ],
      "source": [
        "# we could have done this ourselves,\n",
        "# but we should be aware of sklearn and its tools\n",
        "from sklearn.metrics import accuracy_score\n",
        "\n",
        "# normalize the inputs\n",
        "# x_train.div_(255)\n",
        "# x_valid.div_(255)\n",
        "# x_test.div_(255)\n",
        "\n",
        "# setting hyperparameters and gettings epoch sizes\n",
        "batch_size = 100\n",
        "num_epochs = 200\n",
        "num_samples_train = x_train.shape[0]\n",
        "num_batches_train = num_samples_train // batch_size\n",
        "num_samples_valid = x_valid.shape[0]\n",
        "num_batches_valid = num_samples_valid // batch_size\n",
        "\n",
        "# setting up lists for handling loss/accuracy\n",
        "train_acc, train_loss = [], []\n",
        "valid_acc, valid_loss = [], []\n",
        "test_acc, test_loss = [], []\n",
        "cur_loss = 0\n",
        "losses = []\n",
        "\n",
        "get_slice = lambda i, size: range(i * size, (i + 1) * size)\n",
        "\n",
        "for epoch in range(num_epochs):\n",
        "    # Forward -> Backprob -> Update params\n",
        "    ## Train\n",
        "    cur_loss = 0\n",
        "    net.train()\n",
        "    for i in range(num_batches_train):\n",
        "        optimizer.zero_grad()\n",
        "        slce = get_slice(i, batch_size)\n",
        "        output = net(x_train[slce])\n",
        "        \n",
        "        # compute gradients given loss\n",
        "        target_batch = targets_train[slce]\n",
        "        batch_loss = criterion(output, target_batch)\n",
        "        batch_loss.backward()\n",
        "        optimizer.step()\n",
        "        \n",
        "        cur_loss += batch_loss   \n",
        "    losses.append(cur_loss / batch_size)\n",
        "\n",
        "    net.eval()\n",
        "    ### Evaluate training\n",
        "    train_preds, train_targs = [], []\n",
        "    for i in range(num_batches_train):\n",
        "        slce = get_slice(i, batch_size)\n",
        "        output = net(x_train[slce])\n",
        "        \n",
        "        preds = torch.max(output, 1)[1]\n",
        "        \n",
        "        train_targs += list(targets_train[slce].numpy())\n",
        "        train_preds += list(preds.data.numpy())\n",
        "    \n",
        "    ### Evaluate validation\n",
        "    val_preds, val_targs = [], []\n",
        "    for i in range(num_batches_valid):\n",
        "        slce = get_slice(i, batch_size)\n",
        "        \n",
        "        output = net(x_valid[slce])\n",
        "        preds = torch.max(output, 1)[1]\n",
        "        val_targs += list(targets_valid[slce].numpy())\n",
        "        val_preds += list(preds.data.numpy())\n",
        "        \n",
        "\n",
        "    train_acc_cur = accuracy_score(train_targs, train_preds)\n",
        "    valid_acc_cur = accuracy_score(val_targs, val_preds)\n",
        "    \n",
        "    train_acc.append(train_acc_cur)\n",
        "    valid_acc.append(valid_acc_cur)\n",
        "    \n",
        "    if epoch % 10 == 0:\n",
        "        print(\"Epoch %2i : Train Loss %f , Train acc %f, Valid acc %f\" % (\n",
        "                epoch+1, losses[-1], train_acc_cur, valid_acc_cur))\n",
        "\n",
        "epoch = np.arange(len(train_acc))\n",
        "plt.figure()\n",
        "plt.plot(epoch, train_acc, 'r', epoch, valid_acc, 'b')\n",
        "plt.legend(['Train Accucary','Validation Accuracy'])\n",
        "plt.xlabel('Updates'), plt.ylabel('Acc')"
      ]
    },
    {
      "cell_type": "code",
      "source": [
        "class MyNet(nn.Module):\n",
        "    def __init__(self, dimensions, initializer=init.xavier_normal_):\n",
        "        super().__init__()\n",
        "        self.L = len(dimensions)-1\n",
        "        self.dimensions = dimensions\n",
        "        self.W = nn.ParameterList([nn.Parameter(initializer(torch.Tensor(dimensions[l+1], dimensions[l]))) for l in range(self.L)])\n",
        "        self.b = nn.ParameterList([nn.Parameter(init.constant_(torch.Tensor(dimensions[l+1]), 0)) for l in range(self.L)])\n",
        "        self.activation = torch.nn.ReLU()\n",
        "\n",
        "        self.train_acc = []\n",
        "        self.valid_acc = []\n",
        "\n",
        "    def forward(self, x):\n",
        "        for l in range(self.L):\n",
        "            x = F.linear(x, self.W[l], self.b[l])\n",
        "            x = self.activation(x) if l != self.L-1 else F.softmax(x, dim=1)\n",
        "        return x\n",
        "    \n",
        "    def update_train_stats(self, train_acc, valid_acc):\n",
        "        self.train_acc += train_acc\n",
        "        self.valid_acc += valid_acc\n",
        "\n",
        "    def plot_training_stats(self):\n",
        "        epoch = np.arange(len(self.train_acc))\n",
        "        plt.figure()\n",
        "        plt.plot(epoch, self.train_acc, 'r', epoch, self.valid_acc, 'b')\n",
        "        plt.legend(['Train Accucary','Validation Accuracy'])\n",
        "        plt.xlabel('Updates'), plt.ylabel('Acc')\n",
        "\n",
        "  "
      ],
      "metadata": {
        "id": "6i3lxEH1a1EQ"
      },
      "execution_count": 11,
      "outputs": []
    },
    {
      "cell_type": "code",
      "source": [
        "def train_model(net, optimizer, num_epochs=200, batch_size=100, x_train=x_train, targets_train=targets_train):\n",
        "\n",
        "    # setting hyperparameters and gettings epoch sizes\n",
        "    # batch_size = 100\n",
        "    # num_epochs = 200\n",
        "    num_samples_train = x_train.shape[0]\n",
        "    num_batches_train = num_samples_train // batch_size\n",
        "    num_samples_valid = x_valid.shape[0]\n",
        "    num_batches_valid = num_samples_valid // batch_size\n",
        "\n",
        "    # setting up lists for handling loss/accuracy\n",
        "    train_acc, train_loss = [], []\n",
        "    valid_acc, valid_loss = [], []\n",
        "    test_acc, test_loss = [], []\n",
        "    cur_loss = 0\n",
        "    losses = []\n",
        "\n",
        "    get_slice = lambda i, size: range(i * size, (i + 1) * size)\n",
        "\n",
        "    for epoch in range(num_epochs):\n",
        "        # Forward -> Backprob -> Update params\n",
        "        ## Train\n",
        "        cur_loss = 0\n",
        "        net.train()\n",
        "        for i in range(num_batches_train):\n",
        "            optimizer.zero_grad()\n",
        "            slce = get_slice(i, batch_size)\n",
        "            output = net(x_train[slce])\n",
        "            \n",
        "            # compute gradients given loss\n",
        "            target_batch = targets_train[slce]\n",
        "            batch_loss = criterion(output, target_batch)\n",
        "            batch_loss.backward()\n",
        "            optimizer.step()\n",
        "            \n",
        "            cur_loss += batch_loss   \n",
        "        losses.append(cur_loss / batch_size)\n",
        "\n",
        "        net.eval()\n",
        "        ### Evaluate training\n",
        "        train_preds, train_targs = [], []\n",
        "        for i in range(num_batches_train):\n",
        "            slce = get_slice(i, batch_size)\n",
        "            output = net(x_train[slce])\n",
        "            \n",
        "            preds = torch.max(output, 1)[1]\n",
        "            \n",
        "            train_targs += list(targets_train[slce].numpy())\n",
        "            train_preds += list(preds.data.numpy())\n",
        "        \n",
        "        ### Evaluate validation\n",
        "        val_preds, val_targs = [], []\n",
        "        for i in range(num_batches_valid):\n",
        "            slce = get_slice(i, batch_size)\n",
        "            \n",
        "            output = net(x_valid[slce])\n",
        "            preds = torch.max(output, 1)[1]\n",
        "            val_targs += list(targets_valid[slce].numpy())\n",
        "            val_preds += list(preds.data.numpy())\n",
        "            \n",
        "\n",
        "        train_acc_cur = accuracy_score(train_targs, train_preds)\n",
        "        valid_acc_cur = accuracy_score(val_targs, val_preds)\n",
        "        \n",
        "        train_acc.append(train_acc_cur)\n",
        "        valid_acc.append(valid_acc_cur)\n",
        "        \n",
        "        if epoch % 10 == 9:\n",
        "            print(\"Epoch %2i : Train Loss %f , Train acc %f, Valid acc %f\" % (\n",
        "                    epoch+1, losses[-1], train_acc_cur, valid_acc_cur))"
      ],
      "metadata": {
        "id": "VSfmr6XPfobp"
      },
      "execution_count": 16,
      "outputs": []
    },
    {
      "cell_type": "code",
      "source": [
        "layers = (num_features, 1024, 512, num_classes)\n",
        "\n",
        "mynet1 = MyNet(layers, initializer=init.kaiming_normal_)\n",
        "mynet2 = MyNet(layers, initializer=init.xavier_normal_)\n",
        "mynet3 = MyNet(layers, initializer=init.xavier_normal_)"
      ],
      "metadata": {
        "id": "NLn5ypGLiw2a"
      },
      "execution_count": 18,
      "outputs": []
    },
    {
      "cell_type": "code",
      "source": [
        "optimizer1 = optim.Adam(mynet1.parameters(), lr=1e-3)\n",
        "optimizer2 = optim.SGD(mynet2.parameters(), lr=1e-2, momentum=0.95)\n",
        "optimizer3 = optim.SGD(mynet3.parameters(), lr=1e-2)\n",
        "\n",
        "# train_model(mynet1, optimizer1, num_epochs = 30)\n",
        "# train_model(mynet2, optimizer2, num_epochs = 30)\n",
        "train_model(mynet3, optimizer3, num_epochs = 100)"
      ],
      "metadata": {
        "id": "LFUSNGkPGG4_",
        "outputId": "53d97739-79e6-4be6-8931-f450b64e8291",
        "colab": {
          "base_uri": "https://localhost:8080/",
          "height": 1000
        }
      },
      "execution_count": 19,
      "outputs": [
        {
          "output_type": "stream",
          "name": "stdout",
          "text": [
            "Epoch 10 : Train Loss 0.148623 , Train acc 0.981000, Valid acc 0.864000\n",
            "Epoch 20 : Train Loss 0.147614 , Train acc 0.985000, Valid acc 0.858000\n",
            "Epoch 30 : Train Loss 0.147498 , Train acc 0.986000, Valid acc 0.868000\n",
            "Epoch 10 : Train Loss 0.182517 , Train acc 0.770000, Valid acc 0.726000\n",
            "Epoch 20 : Train Loss 0.157745 , Train acc 0.921000, Valid acc 0.848000\n",
            "Epoch 30 : Train Loss 0.153360 , Train acc 0.949000, Valid acc 0.862000\n",
            "Epoch 10 : Train Loss 0.228855 , Train acc 0.267000, Valid acc 0.212000\n",
            "Epoch 20 : Train Loss 0.226672 , Train acc 0.329000, Valid acc 0.298000\n",
            "Epoch 30 : Train Loss 0.223012 , Train acc 0.345000, Valid acc 0.332000\n",
            "Epoch 40 : Train Loss 0.218005 , Train acc 0.366000, Valid acc 0.336000\n",
            "Epoch 50 : Train Loss 0.212751 , Train acc 0.424000, Valid acc 0.372000\n",
            "Epoch 60 : Train Loss 0.207341 , Train acc 0.536000, Valid acc 0.514000\n",
            "Epoch 70 : Train Loss 0.201478 , Train acc 0.600000, Valid acc 0.586000\n",
            "Epoch 80 : Train Loss 0.195701 , Train acc 0.631000, Valid acc 0.612000\n",
            "Epoch 90 : Train Loss 0.191348 , Train acc 0.640000, Valid acc 0.612000\n",
            "Epoch 100 : Train Loss 0.187923 , Train acc 0.671000, Valid acc 0.622000\n"
          ]
        },
        {
          "output_type": "display_data",
          "data": {
            "text/plain": [
              "<Figure size 432x288 with 1 Axes>"
            ],
            "image/png": "[encoded data removed]"
          },
          "metadata": {
            "needs_background": "light"
          }
        },
        {
          "output_type": "display_data",
          "data": {
            "text/plain": [
              "<Figure size 432x288 with 1 Axes>"
            ],
            "image/png": "[encoded data removed]"
          },
          "metadata": {
            "needs_background": "light"
          }
        },
        {
          "output_type": "display_data",
          "data": {
            "text/plain": [
              "<Figure size 432x288 with 1 Axes>"
            ],
            "image/png": "[encoded data removed]"
          },
          "metadata": {
            "needs_background": "light"
          }
        }
      ]
    },
    {
      "cell_type": "markdown",
      "metadata": {
        "collapsed": true,
        "id": "-ubZ6jM-YAWb"
      },
      "source": [
        "# Assignments\n",
        "\n",
        "Try and add these modifications (might require some Googleing -- an important skill in deep learning):\n",
        "- Kaiming He initialization instead of Xavier Glorot\n",
        "- add an extra layer\n",
        "- use the relu activation function\n",
        "- add momentum to the optimizer\n",
        "- use the ADAM optimizer instead of stochastic gradient descent\n",
        "\n",
        "### Advanced - Regularization\n",
        "\n",
        "Regularization is VERY important in practice and is used practically every time.\n",
        "Many important results are completely dependent on clever use of regularization, and it is something you need to become familiar with if you want to work with deep learning.\n",
        "\n",
        "- add L1 or L2 weight regularization (aka. weight decay) \n",
        "- add dropout to the network (**note** the `net.train()` and `net.eval()` are already in the code)\n",
        "- add batchnorm\n",
        "\n",
        "__Pointers on regularization hyperparameter:__\n",
        "1. L2 and [L1 regularization](http://pytorch.org/docs/master/nn.html#torch.nn.L1Loss) (weight decay of optimization functions) \n",
        "  - Normal ranges: 1e-4  -  1e-8\n",
        "1. [Dropout](http://pytorch.org/docs/master/nn.html?highlight=dropout#torch.nn.Dropout). Dropout rate 0.1-0.5\n",
        "  - Remember to pick the correct version according to the input dimensionality\n",
        "  - **NOTE** call `net.train()` before training to activate random dropout, and call `net.eval()` to deactivate dropout while validating or running inference with model.\n",
        "1. [Batchnorm](http://pytorch.org/docs/master/nn.html#torch.nn.BatchNorm1d): Batchnorm also acts as a regularizer - Often very useful (faster and better convergence)\n",
        "  - Remember to pick the correct version according to the input dimensionality\n",
        "  - **NOTE** call `net.train()` before training to activate, and call `net.eval()` to have a non-stochastic variant while validating or running inference with model.\n",
        "    "
      ]
    },
    {
      "cell_type": "markdown",
      "metadata": {
        "id": "6O3OfPQ_YAWc"
      },
      "source": [
        "You are done for now. [Good job.](https://media1.tenor.com/images/0fd559b07f2174f9b8b7dbde7c5a67ca/tenor.gif)"
      ]
    }
  ],
  "metadata": {
    "kernelspec": {
      "display_name": "Python 3 (ipykernel)",
      "language": "python",
      "name": "python3"
    },
    "language_info": {
      "codemirror_mode": {
        "name": "ipython",
        "version": 3
      },
      "file_extension": ".py",
      "mimetype": "text/x-python",
      "name": "python",
      "nbconvert_exporter": "python",
      "pygments_lexer": "ipython3",
      "version": "3.8.12"
    },
    "colab": {
      "provenance": []
    },
    "widgets": {
      "application/vnd.jupyter.widget-state+json": {
        "4eee762067cf4303ac4ba73c0b4cf3c9": {
          "model_module": "@jupyter-widgets/controls",
          "model_name": "HBoxModel",
          "model_module_version": "1.5.0",
          "state": {
            "_dom_classes": [],
            "_model_module": "@jupyter-widgets/controls",
            "_model_module_version": "1.5.0",
            "_model_name": "HBoxModel",
            "_view_count": null,
            "_view_module": "@jupyter-widgets/controls",
            "_view_module_version": "1.5.0",
            "_view_name": "HBoxView",
            "box_style": "",
            "children": [
              "IPY_MODEL_c23e17f0e65b4c338419205dc4f74cad",
              "IPY_MODEL_0afa975254834e1bba608562607c870e",
              "IPY_MODEL_d61a79f996a2449b97768f49251dd667"
            ],
            "layout": "IPY_MODEL_edfad7e78e744becb3f8791c5d2eeacb"
          }
        },
        "c23e17f0e65b4c338419205dc4f74cad": {
          "model_module": "@jupyter-widgets/controls",
          "model_name": "HTMLModel",
          "model_module_version": "1.5.0",
          "state": {
            "_dom_classes": [],
            "_model_module": "@jupyter-widgets/controls",
            "_model_module_version": "1.5.0",
            "_model_name": "HTMLModel",
            "_view_count": null,
            "_view_module": "@jupyter-widgets/controls",
            "_view_module_version": "1.5.0",
            "_view_name": "HTMLView",
            "description": "",
            "description_tooltip": null,
            "layout": "IPY_MODEL_17266e21d0f4490ba5a535b2e8e1f55e",
            "placeholder": "​",
            "style": "IPY_MODEL_8207e6f671524bf3b5896f4745d4676e",
            "value": "100%"
          }
        },
        "0afa975254834e1bba608562607c870e": {
          "model_module": "@jupyter-widgets/controls",
          "model_name": "FloatProgressModel",
          "model_module_version": "1.5.0",
          "state": {
            "_dom_classes": [],
            "_model_module": "@jupyter-widgets/controls",
            "_model_module_version": "1.5.0",
            "_model_name": "FloatProgressModel",
            "_view_count": null,
            "_view_module": "@jupyter-widgets/controls",
            "_view_module_version": "1.5.0",
            "_view_name": "ProgressView",
            "bar_style": "success",
            "description": "",
            "description_tooltip": null,
            "layout": "IPY_MODEL_4c5bf9358aa042349de3f472ecf9ed57",
            "max": 9912422,
            "min": 0,
            "orientation": "horizontal",
            "style": "IPY_MODEL_cca282eb58874d51ac7865acd97dadc7",
            "value": 9912422
          }
        },
        "d61a79f996a2449b97768f49251dd667": {
          "model_module": "@jupyter-widgets/controls",
          "model_name": "HTMLModel",
          "model_module_version": "1.5.0",
          "state": {
            "_dom_classes": [],
            "_model_module": "@jupyter-widgets/controls",
            "_model_module_version": "1.5.0",
            "_model_name": "HTMLModel",
            "_view_count": null,
            "_view_module": "@jupyter-widgets/controls",
            "_view_module_version": "1.5.0",
            "_view_name": "HTMLView",
            "description": "",
            "description_tooltip": null,
            "layout": "IPY_MODEL_00a29d08016b4d91a0700890007204c0",
            "placeholder": "​",
            "style": "IPY_MODEL_1828fda2c4ef41c080e9230c99466c82",
            "value": " 9912422/9912422 [00:00&lt;00:00, 134810559.12it/s]"
          }
        },
        "edfad7e78e744becb3f8791c5d2eeacb": {
          "model_module": "@jupyter-widgets/base",
          "model_name": "LayoutModel",
          "model_module_version": "1.2.0",
          "state": {
            "_model_module": "@jupyter-widgets/base",
            "_model_module_version": "1.2.0",
            "_model_name": "LayoutModel",
            "_view_count": null,
            "_view_module": "@jupyter-widgets/base",
            "_view_module_version": "1.2.0",
            "_view_name": "LayoutView",
            "align_content": null,
            "align_items": null,
            "align_self": null,
            "border": null,
            "bottom": null,
            "display": null,
            "flex": null,
            "flex_flow": null,
            "grid_area": null,
            "grid_auto_columns": null,
            "grid_auto_flow": null,
            "grid_auto_rows": null,
            "grid_column": null,
            "grid_gap": null,
            "grid_row": null,
            "grid_template_areas": null,
            "grid_template_columns": null,
            "grid_template_rows": null,
            "height": null,
            "justify_content": null,
            "justify_items": null,
            "left": null,
            "margin": null,
            "max_height": null,
            "max_width": null,
            "min_height": null,
            "min_width": null,
            "object_fit": null,
            "object_position": null,
            "order": null,
            "overflow": null,
            "overflow_x": null,
            "overflow_y": null,
            "padding": null,
            "right": null,
            "top": null,
            "visibility": null,
            "width": null
          }
        },
        "17266e21d0f4490ba5a535b2e8e1f55e": {
          "model_module": "@jupyter-widgets/base",
          "model_name": "LayoutModel",
          "model_module_version": "1.2.0",
          "state": {
            "_model_module": "@jupyter-widgets/base",
            "_model_module_version": "1.2.0",
            "_model_name": "LayoutModel",
            "_view_count": null,
            "_view_module": "@jupyter-widgets/base",
            "_view_module_version": "1.2.0",
            "_view_name": "LayoutView",
            "align_content": null,
            "align_items": null,
            "align_self": null,
            "border": null,
            "bottom": null,
            "display": null,
            "flex": null,
            "flex_flow": null,
            "grid_area": null,
            "grid_auto_columns": null,
            "grid_auto_flow": null,
            "grid_auto_rows": null,
            "grid_column": null,
            "grid_gap": null,
            "grid_row": null,
            "grid_template_areas": null,
            "grid_template_columns": null,
            "grid_template_rows": null,
            "height": null,
            "justify_content": null,
            "justify_items": null,
            "left": null,
            "margin": null,
            "max_height": null,
            "max_width": null,
            "min_height": null,
            "min_width": null,
            "object_fit": null,
            "object_position": null,
            "order": null,
            "overflow": null,
            "overflow_x": null,
            "overflow_y": null,
            "padding": null,
            "right": null,
            "top": null,
            "visibility": null,
            "width": null
          }
        },
        "8207e6f671524bf3b5896f4745d4676e": {
          "model_module": "@jupyter-widgets/controls",
          "model_name": "DescriptionStyleModel",
          "model_module_version": "1.5.0",
          "state": {
            "_model_module": "@jupyter-widgets/controls",
            "_model_module_version": "1.5.0",
            "_model_name": "DescriptionStyleModel",
            "_view_count": null,
            "_view_module": "@jupyter-widgets/base",
            "_view_module_version": "1.2.0",
            "_view_name": "StyleView",
            "description_width": ""
          }
        },
        "4c5bf9358aa042349de3f472ecf9ed57": {
          "model_module": "@jupyter-widgets/base",
          "model_name": "LayoutModel",
          "model_module_version": "1.2.0",
          "state": {
            "_model_module": "@jupyter-widgets/base",
            "_model_module_version": "1.2.0",
            "_model_name": "LayoutModel",
            "_view_count": null,
            "_view_module": "@jupyter-widgets/base",
            "_view_module_version": "1.2.0",
            "_view_name": "LayoutView",
            "align_content": null,
            "align_items": null,
            "align_self": null,
            "border": null,
            "bottom": null,
            "display": null,
            "flex": null,
            "flex_flow": null,
            "grid_area": null,
            "grid_auto_columns": null,
            "grid_auto_flow": null,
            "grid_auto_rows": null,
            "grid_column": null,
            "grid_gap": null,
            "grid_row": null,
            "grid_template_areas": null,
            "grid_template_columns": null,
            "grid_template_rows": null,
            "height": null,
            "justify_content": null,
            "justify_items": null,
            "left": null,
            "margin": null,
            "max_height": null,
            "max_width": null,
            "min_height": null,
            "min_width": null,
            "object_fit": null,
            "object_position": null,
            "order": null,
            "overflow": null,
            "overflow_x": null,
            "overflow_y": null,
            "padding": null,
            "right": null,
            "top": null,
            "visibility": null,
            "width": null
          }
        },
        "cca282eb58874d51ac7865acd97dadc7": {
          "model_module": "@jupyter-widgets/controls",
          "model_name": "ProgressStyleModel",
          "model_module_version": "1.5.0",
          "state": {
            "_model_module": "@jupyter-widgets/controls",
            "_model_module_version": "1.5.0",
            "_model_name": "ProgressStyleModel",
            "_view_count": null,
            "_view_module": "@jupyter-widgets/base",
            "_view_module_version": "1.2.0",
            "_view_name": "StyleView",
            "bar_color": null,
            "description_width": ""
          }
        },
        "00a29d08016b4d91a0700890007204c0": {
          "model_module": "@jupyter-widgets/base",
          "model_name": "LayoutModel",
          "model_module_version": "1.2.0",
          "state": {
            "_model_module": "@jupyter-widgets/base",
            "_model_module_version": "1.2.0",
            "_model_name": "LayoutModel",
            "_view_count": null,
            "_view_module": "@jupyter-widgets/base",
            "_view_module_version": "1.2.0",
            "_view_name": "LayoutView",
            "align_content": null,
            "align_items": null,
            "align_self": null,
            "border": null,
            "bottom": null,
            "display": null,
            "flex": null,
            "flex_flow": null,
            "grid_area": null,
            "grid_auto_columns": null,
            "grid_auto_flow": null,
            "grid_auto_rows": null,
            "grid_column": null,
            "grid_gap": null,
            "grid_row": null,
            "grid_template_areas": null,
            "grid_template_columns": null,
            "grid_template_rows": null,
            "height": null,
            "justify_content": null,
            "justify_items": null,
            "left": null,
            "margin": null,
            "max_height": null,
            "max_width": null,
            "min_height": null,
            "min_width": null,
            "object_fit": null,
            "object_position": null,
            "order": null,
            "overflow": null,
            "overflow_x": null,
            "overflow_y": null,
            "padding": null,
            "right": null,
            "top": null,
            "visibility": null,
            "width": null
          }
        },
        "1828fda2c4ef41c080e9230c99466c82": {
          "model_module": "@jupyter-widgets/controls",
          "model_name": "DescriptionStyleModel",
          "model_module_version": "1.5.0",
          "state": {
            "_model_module": "@jupyter-widgets/controls",
            "_model_module_version": "1.5.0",
            "_model_name": "DescriptionStyleModel",
            "_view_count": null,
            "_view_module": "@jupyter-widgets/base",
            "_view_module_version": "1.2.0",
            "_view_name": "StyleView",
            "description_width": ""
          }
        },
        "92d3cc21e29b47d587a3978c7eb8ced2": {
          "model_module": "@jupyter-widgets/controls",
          "model_name": "HBoxModel",
          "model_module_version": "1.5.0",
          "state": {
            "_dom_classes": [],
            "_model_module": "@jupyter-widgets/controls",
            "_model_module_version": "1.5.0",
            "_model_name": "HBoxModel",
            "_view_count": null,
            "_view_module": "@jupyter-widgets/controls",
            "_view_module_version": "1.5.0",
            "_view_name": "HBoxView",
            "box_style": "",
            "children": [
              "IPY_MODEL_1c796108a33349ab8e42123c8a34dcfa",
              "IPY_MODEL_dd9caf7fe8f341fb84522288f0f08c6b",
              "IPY_MODEL_c7e98971767a4a038ce36820fe919661"
            ],
            "layout": "IPY_MODEL_6ce84d1046b74092ab573d89d9b75335"
          }
        },
        "1c796108a33349ab8e42123c8a34dcfa": {
          "model_module": "@jupyter-widgets/controls",
          "model_name": "HTMLModel",
          "model_module_version": "1.5.0",
          "state": {
            "_dom_classes": [],
            "_model_module": "@jupyter-widgets/controls",
            "_model_module_version": "1.5.0",
            "_model_name": "HTMLModel",
            "_view_count": null,
            "_view_module": "@jupyter-widgets/controls",
            "_view_module_version": "1.5.0",
            "_view_name": "HTMLView",
            "description": "",
            "description_tooltip": null,
            "layout": "IPY_MODEL_6389ca9ac8344e458837e9ea0d07acec",
            "placeholder": "​",
            "style": "IPY_MODEL_75aa63733d6840b88d1194e056f10e3f",
            "value": "100%"
          }
        },
        "dd9caf7fe8f341fb84522288f0f08c6b": {
          "model_module": "@jupyter-widgets/controls",
          "model_name": "FloatProgressModel",
          "model_module_version": "1.5.0",
          "state": {
            "_dom_classes": [],
            "_model_module": "@jupyter-widgets/controls",
            "_model_module_version": "1.5.0",
            "_model_name": "FloatProgressModel",
            "_view_count": null,
            "_view_module": "@jupyter-widgets/controls",
            "_view_module_version": "1.5.0",
            "_view_name": "ProgressView",
            "bar_style": "success",
            "description": "",
            "description_tooltip": null,
            "layout": "IPY_MODEL_16e014fae6474fdda7f78cd3804c85c3",
            "max": 28881,
            "min": 0,
            "orientation": "horizontal",
            "style": "IPY_MODEL_05db60adea3e423ea598f21eb3199e6d",
            "value": 28881
          }
        },
        "c7e98971767a4a038ce36820fe919661": {
          "model_module": "@jupyter-widgets/controls",
          "model_name": "HTMLModel",
          "model_module_version": "1.5.0",
          "state": {
            "_dom_classes": [],
            "_model_module": "@jupyter-widgets/controls",
            "_model_module_version": "1.5.0",
            "_model_name": "HTMLModel",
            "_view_count": null,
            "_view_module": "@jupyter-widgets/controls",
            "_view_module_version": "1.5.0",
            "_view_name": "HTMLView",
            "description": "",
            "description_tooltip": null,
            "layout": "IPY_MODEL_7fe1038a2f0c43ef896e0c90ca7c1f81",
            "placeholder": "​",
            "style": "IPY_MODEL_34fafd9b7611438c98458e330efbcf67",
            "value": " 28881/28881 [00:00&lt;00:00, 807948.33it/s]"
          }
        },
        "6ce84d1046b74092ab573d89d9b75335": {
          "model_module": "@jupyter-widgets/base",
          "model_name": "LayoutModel",
          "model_module_version": "1.2.0",
          "state": {
            "_model_module": "@jupyter-widgets/base",
            "_model_module_version": "1.2.0",
            "_model_name": "LayoutModel",
            "_view_count": null,
            "_view_module": "@jupyter-widgets/base",
            "_view_module_version": "1.2.0",
            "_view_name": "LayoutView",
            "align_content": null,
            "align_items": null,
            "align_self": null,
            "border": null,
            "bottom": null,
            "display": null,
            "flex": null,
            "flex_flow": null,
            "grid_area": null,
            "grid_auto_columns": null,
            "grid_auto_flow": null,
            "grid_auto_rows": null,
            "grid_column": null,
            "grid_gap": null,
            "grid_row": null,
            "grid_template_areas": null,
            "grid_template_columns": null,
            "grid_template_rows": null,
            "height": null,
            "justify_content": null,
            "justify_items": null,
            "left": null,
            "margin": null,
            "max_height": null,
            "max_width": null,
            "min_height": null,
            "min_width": null,
            "object_fit": null,
            "object_position": null,
            "order": null,
            "overflow": null,
            "overflow_x": null,
            "overflow_y": null,
            "padding": null,
            "right": null,
            "top": null,
            "visibility": null,
            "width": null
          }
        },
        "6389ca9ac8344e458837e9ea0d07acec": {
          "model_module": "@jupyter-widgets/base",
          "model_name": "LayoutModel",
          "model_module_version": "1.2.0",
          "state": {
            "_model_module": "@jupyter-widgets/base",
            "_model_module_version": "1.2.0",
            "_model_name": "LayoutModel",
            "_view_count": null,
            "_view_module": "@jupyter-widgets/base",
            "_view_module_version": "1.2.0",
            "_view_name": "LayoutView",
            "align_content": null,
            "align_items": null,
            "align_self": null,
            "border": null,
            "bottom": null,
            "display": null,
            "flex": null,
            "flex_flow": null,
            "grid_area": null,
            "grid_auto_columns": null,
            "grid_auto_flow": null,
            "grid_auto_rows": null,
            "grid_column": null,
            "grid_gap": null,
            "grid_row": null,
            "grid_template_areas": null,
            "grid_template_columns": null,
            "grid_template_rows": null,
            "height": null,
            "justify_content": null,
            "justify_items": null,
            "left": null,
            "margin": null,
            "max_height": null,
            "max_width": null,
            "min_height": null,
            "min_width": null,
            "object_fit": null,
            "object_position": null,
            "order": null,
            "overflow": null,
            "overflow_x": null,
            "overflow_y": null,
            "padding": null,
            "right": null,
            "top": null,
            "visibility": null,
            "width": null
          }
        },
        "75aa63733d6840b88d1194e056f10e3f": {
          "model_module": "@jupyter-widgets/controls",
          "model_name": "DescriptionStyleModel",
          "model_module_version": "1.5.0",
          "state": {
            "_model_module": "@jupyter-widgets/controls",
            "_model_module_version": "1.5.0",
            "_model_name": "DescriptionStyleModel",
            "_view_count": null,
            "_view_module": "@jupyter-widgets/base",
            "_view_module_version": "1.2.0",
            "_view_name": "StyleView",
            "description_width": ""
          }
        },
        "16e014fae6474fdda7f78cd3804c85c3": {
          "model_module": "@jupyter-widgets/base",
          "model_name": "LayoutModel",
          "model_module_version": "1.2.0",
          "state": {
            "_model_module": "@jupyter-widgets/base",
            "_model_module_version": "1.2.0",
            "_model_name": "LayoutModel",
            "_view_count": null,
            "_view_module": "@jupyter-widgets/base",
            "_view_module_version": "1.2.0",
            "_view_name": "LayoutView",
            "align_content": null,
            "align_items": null,
            "align_self": null,
            "border": null,
            "bottom": null,
            "display": null,
            "flex": null,
            "flex_flow": null,
            "grid_area": null,
            "grid_auto_columns": null,
            "grid_auto_flow": null,
            "grid_auto_rows": null,
            "grid_column": null,
            "grid_gap": null,
            "grid_row": null,
            "grid_template_areas": null,
            "grid_template_columns": null,
            "grid_template_rows": null,
            "height": null,
            "justify_content": null,
            "justify_items": null,
            "left": null,
            "margin": null,
            "max_height": null,
            "max_width": null,
            "min_height": null,
            "min_width": null,
            "object_fit": null,
            "object_position": null,
            "order": null,
            "overflow": null,
            "overflow_x": null,
            "overflow_y": null,
            "padding": null,
            "right": null,
            "top": null,
            "visibility": null,
            "width": null
          }
        },
        "05db60adea3e423ea598f21eb3199e6d": {
          "model_module": "@jupyter-widgets/controls",
          "model_name": "ProgressStyleModel",
          "model_module_version": "1.5.0",
          "state": {
            "_model_module": "@jupyter-widgets/controls",
            "_model_module_version": "1.5.0",
            "_model_name": "ProgressStyleModel",
            "_view_count": null,
            "_view_module": "@jupyter-widgets/base",
            "_view_module_version": "1.2.0",
            "_view_name": "StyleView",
            "bar_color": null,
            "description_width": ""
          }
        },
        "7fe1038a2f0c43ef896e0c90ca7c1f81": {
          "model_module": "@jupyter-widgets/base",
          "model_name": "LayoutModel",
          "model_module_version": "1.2.0",
          "state": {
            "_model_module": "@jupyter-widgets/base",
            "_model_module_version": "1.2.0",
            "_model_name": "LayoutModel",
            "_view_count": null,
            "_view_module": "@jupyter-widgets/base",
            "_view_module_version": "1.2.0",
            "_view_name": "LayoutView",
            "align_content": null,
            "align_items": null,
            "align_self": null,
            "border": null,
            "bottom": null,
            "display": null,
            "flex": null,
            "flex_flow": null,
            "grid_area": null,
            "grid_auto_columns": null,
            "grid_auto_flow": null,
            "grid_auto_rows": null,
            "grid_column": null,
            "grid_gap": null,
            "grid_row": null,
            "grid_template_areas": null,
            "grid_template_columns": null,
            "grid_template_rows": null,
            "height": null,
            "justify_content": null,
            "justify_items": null,
            "left": null,
            "margin": null,
            "max_height": null,
            "max_width": null,
            "min_height": null,
            "min_width": null,
            "object_fit": null,
            "object_position": null,
            "order": null,
            "overflow": null,
            "overflow_x": null,
            "overflow_y": null,
            "padding": null,
            "right": null,
            "top": null,
            "visibility": null,
            "width": null
          }
        },
        "34fafd9b7611438c98458e330efbcf67": {
          "model_module": "@jupyter-widgets/controls",
          "model_name": "DescriptionStyleModel",
          "model_module_version": "1.5.0",
          "state": {
            "_model_module": "@jupyter-widgets/controls",
            "_model_module_version": "1.5.0",
            "_model_name": "DescriptionStyleModel",
            "_view_count": null,
            "_view_module": "@jupyter-widgets/base",
            "_view_module_version": "1.2.0",
            "_view_name": "StyleView",
            "description_width": ""
          }
        },
        "ba2352a7726549c3bc1b29b44636eb36": {
          "model_module": "@jupyter-widgets/controls",
          "model_name": "HBoxModel",
          "model_module_version": "1.5.0",
          "state": {
            "_dom_classes": [],
            "_model_module": "@jupyter-widgets/controls",
            "_model_module_version": "1.5.0",
            "_model_name": "HBoxModel",
            "_view_count": null,
            "_view_module": "@jupyter-widgets/controls",
            "_view_module_version": "1.5.0",
            "_view_name": "HBoxView",
            "box_style": "",
            "children": [
              "IPY_MODEL_46a67157be314ddd8ca5efe646af4e05",
              "IPY_MODEL_2d4dcdd544da4490bfb5f0d878b83ac6",
              "IPY_MODEL_7bb728383df24150b2539e0df7835bfe"
            ],
            "layout": "IPY_MODEL_ecabe7f95b5643b5bd4529d19da3d40c"
          }
        },
        "46a67157be314ddd8ca5efe646af4e05": {
          "model_module": "@jupyter-widgets/controls",
          "model_name": "HTMLModel",
          "model_module_version": "1.5.0",
          "state": {
            "_dom_classes": [],
            "_model_module": "@jupyter-widgets/controls",
            "_model_module_version": "1.5.0",
            "_model_name": "HTMLModel",
            "_view_count": null,
            "_view_module": "@jupyter-widgets/controls",
            "_view_module_version": "1.5.0",
            "_view_name": "HTMLView",
            "description": "",
            "description_tooltip": null,
            "layout": "IPY_MODEL_638ff7bcbc66490a9bfb28bd352629bb",
            "placeholder": "​",
            "style": "IPY_MODEL_146dbe77a451437fa3e1b98f8ab3b265",
            "value": "100%"
          }
        },
        "2d4dcdd544da4490bfb5f0d878b83ac6": {
          "model_module": "@jupyter-widgets/controls",
          "model_name": "FloatProgressModel",
          "model_module_version": "1.5.0",
          "state": {
            "_dom_classes": [],
            "_model_module": "@jupyter-widgets/controls",
            "_model_module_version": "1.5.0",
            "_model_name": "FloatProgressModel",
            "_view_count": null,
            "_view_module": "@jupyter-widgets/controls",
            "_view_module_version": "1.5.0",
            "_view_name": "ProgressView",
            "bar_style": "success",
            "description": "",
            "description_tooltip": null,
            "layout": "IPY_MODEL_a71bddcceb0a481a933d9f52c5010730",
            "max": 1648877,
            "min": 0,
            "orientation": "horizontal",
            "style": "IPY_MODEL_f9d447a523bf4b19ab54a5ed66c8f576",
            "value": 1648877
          }
        },
        "7bb728383df24150b2539e0df7835bfe": {
          "model_module": "@jupyter-widgets/controls",
          "model_name": "HTMLModel",
          "model_module_version": "1.5.0",
          "state": {
            "_dom_classes": [],
            "_model_module": "@jupyter-widgets/controls",
            "_model_module_version": "1.5.0",
            "_model_name": "HTMLModel",
            "_view_count": null,
            "_view_module": "@jupyter-widgets/controls",
            "_view_module_version": "1.5.0",
            "_view_name": "HTMLView",
            "description": "",
            "description_tooltip": null,
            "layout": "IPY_MODEL_7e78bfa38f3c48409ebd378015380371",
            "placeholder": "​",
            "style": "IPY_MODEL_f3dc9307f5db4b6cab58434c7ce75be7",
            "value": " 1648877/1648877 [00:00&lt;00:00, 34912169.96it/s]"
          }
        },
        "ecabe7f95b5643b5bd4529d19da3d40c": {
          "model_module": "@jupyter-widgets/base",
          "model_name": "LayoutModel",
          "model_module_version": "1.2.0",
          "state": {
            "_model_module": "@jupyter-widgets/base",
            "_model_module_version": "1.2.0",
            "_model_name": "LayoutModel",
            "_view_count": null,
            "_view_module": "@jupyter-widgets/base",
            "_view_module_version": "1.2.0",
            "_view_name": "LayoutView",
            "align_content": null,
            "align_items": null,
            "align_self": null,
            "border": null,
            "bottom": null,
            "display": null,
            "flex": null,
            "flex_flow": null,
            "grid_area": null,
            "grid_auto_columns": null,
            "grid_auto_flow": null,
            "grid_auto_rows": null,
            "grid_column": null,
            "grid_gap": null,
            "grid_row": null,
            "grid_template_areas": null,
            "grid_template_columns": null,
            "grid_template_rows": null,
            "height": null,
            "justify_content": null,
            "justify_items": null,
            "left": null,
            "margin": null,
            "max_height": null,
            "max_width": null,
            "min_height": null,
            "min_width": null,
            "object_fit": null,
            "object_position": null,
            "order": null,
            "overflow": null,
            "overflow_x": null,
            "overflow_y": null,
            "padding": null,
            "right": null,
            "top": null,
            "visibility": null,
            "width": null
          }
        },
        "638ff7bcbc66490a9bfb28bd352629bb": {
          "model_module": "@jupyter-widgets/base",
          "model_name": "LayoutModel",
          "model_module_version": "1.2.0",
          "state": {
            "_model_module": "@jupyter-widgets/base",
            "_model_module_version": "1.2.0",
            "_model_name": "LayoutModel",
            "_view_count": null,
            "_view_module": "@jupyter-widgets/base",
            "_view_module_version": "1.2.0",
            "_view_name": "LayoutView",
            "align_content": null,
            "align_items": null,
            "align_self": null,
            "border": null,
            "bottom": null,
            "display": null,
            "flex": null,
            "flex_flow": null,
            "grid_area": null,
            "grid_auto_columns": null,
            "grid_auto_flow": null,
            "grid_auto_rows": null,
            "grid_column": null,
            "grid_gap": null,
            "grid_row": null,
            "grid_template_areas": null,
            "grid_template_columns": null,
            "grid_template_rows": null,
            "height": null,
            "justify_content": null,
            "justify_items": null,
            "left": null,
            "margin": null,
            "max_height": null,
            "max_width": null,
            "min_height": null,
            "min_width": null,
            "object_fit": null,
            "object_position": null,
            "order": null,
            "overflow": null,
            "overflow_x": null,
            "overflow_y": null,
            "padding": null,
            "right": null,
            "top": null,
            "visibility": null,
            "width": null
          }
        },
        "146dbe77a451437fa3e1b98f8ab3b265": {
          "model_module": "@jupyter-widgets/controls",
          "model_name": "DescriptionStyleModel",
          "model_module_version": "1.5.0",
          "state": {
            "_model_module": "@jupyter-widgets/controls",
            "_model_module_version": "1.5.0",
            "_model_name": "DescriptionStyleModel",
            "_view_count": null,
            "_view_module": "@jupyter-widgets/base",
            "_view_module_version": "1.2.0",
            "_view_name": "StyleView",
            "description_width": ""
          }
        },
        "a71bddcceb0a481a933d9f52c5010730": {
          "model_module": "@jupyter-widgets/base",
          "model_name": "LayoutModel",
          "model_module_version": "1.2.0",
          "state": {
            "_model_module": "@jupyter-widgets/base",
            "_model_module_version": "1.2.0",
            "_model_name": "LayoutModel",
            "_view_count": null,
            "_view_module": "@jupyter-widgets/base",
            "_view_module_version": "1.2.0",
            "_view_name": "LayoutView",
            "align_content": null,
            "align_items": null,
            "align_self": null,
            "border": null,
            "bottom": null,
            "display": null,
            "flex": null,
            "flex_flow": null,
            "grid_area": null,
            "grid_auto_columns": null,
            "grid_auto_flow": null,
            "grid_auto_rows": null,
            "grid_column": null,
            "grid_gap": null,
            "grid_row": null,
            "grid_template_areas": null,
            "grid_template_columns": null,
            "grid_template_rows": null,
            "height": null,
            "justify_content": null,
            "justify_items": null,
            "left": null,
            "margin": null,
            "max_height": null,
            "max_width": null,
            "min_height": null,
            "min_width": null,
            "object_fit": null,
            "object_position": null,
            "order": null,
            "overflow": null,
            "overflow_x": null,
            "overflow_y": null,
            "padding": null,
            "right": null,
            "top": null,
            "visibility": null,
            "width": null
          }
        },
        "f9d447a523bf4b19ab54a5ed66c8f576": {
          "model_module": "@jupyter-widgets/controls",
          "model_name": "ProgressStyleModel",
          "model_module_version": "1.5.0",
          "state": {
            "_model_module": "@jupyter-widgets/controls",
            "_model_module_version": "1.5.0",
            "_model_name": "ProgressStyleModel",
            "_view_count": null,
            "_view_module": "@jupyter-widgets/base",
            "_view_module_version": "1.2.0",
            "_view_name": "StyleView",
            "bar_color": null,
            "description_width": ""
          }
        },
        "7e78bfa38f3c48409ebd378015380371": {
          "model_module": "@jupyter-widgets/base",
          "model_name": "LayoutModel",
          "model_module_version": "1.2.0",
          "state": {
            "_model_module": "@jupyter-widgets/base",
            "_model_module_version": "1.2.0",
            "_model_name": "LayoutModel",
            "_view_count": null,
            "_view_module": "@jupyter-widgets/base",
            "_view_module_version": "1.2.0",
            "_view_name": "LayoutView",
            "align_content": null,
            "align_items": null,
            "align_self": null,
            "border": null,
            "bottom": null,
            "display": null,
            "flex": null,
            "flex_flow": null,
            "grid_area": null,
            "grid_auto_columns": null,
            "grid_auto_flow": null,
            "grid_auto_rows": null,
            "grid_column": null,
            "grid_gap": null,
            "grid_row": null,
            "grid_template_areas": null,
            "grid_template_columns": null,
            "grid_template_rows": null,
            "height": null,
            "justify_content": null,
            "justify_items": null,
            "left": null,
            "margin": null,
            "max_height": null,
            "max_width": null,
            "min_height": null,
            "min_width": null,
            "object_fit": null,
            "object_position": null,
            "order": null,
            "overflow": null,
            "overflow_x": null,
            "overflow_y": null,
            "padding": null,
            "right": null,
            "top": null,
            "visibility": null,
            "width": null
          }
        },
        "f3dc9307f5db4b6cab58434c7ce75be7": {
          "model_module": "@jupyter-widgets/controls",
          "model_name": "DescriptionStyleModel",
          "model_module_version": "1.5.0",
          "state": {
            "_model_module": "@jupyter-widgets/controls",
            "_model_module_version": "1.5.0",
            "_model_name": "DescriptionStyleModel",
            "_view_count": null,
            "_view_module": "@jupyter-widgets/base",
            "_view_module_version": "1.2.0",
            "_view_name": "StyleView",
            "description_width": ""
          }
        },
        "29a4b4bbdf354e7fba9ec18723fcdb23": {
          "model_module": "@jupyter-widgets/controls",
          "model_name": "HBoxModel",
          "model_module_version": "1.5.0",
          "state": {
            "_dom_classes": [],
            "_model_module": "@jupyter-widgets/controls",
            "_model_module_version": "1.5.0",
            "_model_name": "HBoxModel",
            "_view_count": null,
            "_view_module": "@jupyter-widgets/controls",
            "_view_module_version": "1.5.0",
            "_view_name": "HBoxView",
            "box_style": "",
            "children": [
              "IPY_MODEL_243ac62e76264e49b7fb91a68970565b",
              "IPY_MODEL_8d08f8590f584974a88c2e51935eb482",
              "IPY_MODEL_b9932282d4884a93913caf2a59e8eca1"
            ],
            "layout": "IPY_MODEL_2476315ea5114004abd829faf84be2c9"
          }
        },
        "243ac62e76264e49b7fb91a68970565b": {
          "model_module": "@jupyter-widgets/controls",
          "model_name": "HTMLModel",
          "model_module_version": "1.5.0",
          "state": {
            "_dom_classes": [],
            "_model_module": "@jupyter-widgets/controls",
            "_model_module_version": "1.5.0",
            "_model_name": "HTMLModel",
            "_view_count": null,
            "_view_module": "@jupyter-widgets/controls",
            "_view_module_version": "1.5.0",
            "_view_name": "HTMLView",
            "description": "",
            "description_tooltip": null,
            "layout": "IPY_MODEL_6301b1fb2e4247e090d8069809c61129",
            "placeholder": "​",
            "style": "IPY_MODEL_74ecc8406b394b4181646f8cd3222082",
            "value": "100%"
          }
        },
        "8d08f8590f584974a88c2e51935eb482": {
          "model_module": "@jupyter-widgets/controls",
          "model_name": "FloatProgressModel",
          "model_module_version": "1.5.0",
          "state": {
            "_dom_classes": [],
            "_model_module": "@jupyter-widgets/controls",
            "_model_module_version": "1.5.0",
            "_model_name": "FloatProgressModel",
            "_view_count": null,
            "_view_module": "@jupyter-widgets/controls",
            "_view_module_version": "1.5.0",
            "_view_name": "ProgressView",
            "bar_style": "success",
            "description": "",
            "description_tooltip": null,
            "layout": "IPY_MODEL_cbd0755f576540fd92c3a30163ae2d11",
            "max": 4542,
            "min": 0,
            "orientation": "horizontal",
            "style": "IPY_MODEL_4ffce209e5974bd680ba16598b2986e6",
            "value": 4542
          }
        },
        "b9932282d4884a93913caf2a59e8eca1": {
          "model_module": "@jupyter-widgets/controls",
          "model_name": "HTMLModel",
          "model_module_version": "1.5.0",
          "state": {
            "_dom_classes": [],
            "_model_module": "@jupyter-widgets/controls",
            "_model_module_version": "1.5.0",
            "_model_name": "HTMLModel",
            "_view_count": null,
            "_view_module": "@jupyter-widgets/controls",
            "_view_module_version": "1.5.0",
            "_view_name": "HTMLView",
            "description": "",
            "description_tooltip": null,
            "layout": "IPY_MODEL_7df44f255ac941bda8daa8f17f5be7d5",
            "placeholder": "​",
            "style": "IPY_MODEL_0d684c59103f414191f6b7d1f4bce5fe",
            "value": " 4542/4542 [00:00&lt;00:00, 155162.40it/s]"
          }
        },
        "2476315ea5114004abd829faf84be2c9": {
          "model_module": "@jupyter-widgets/base",
          "model_name": "LayoutModel",
          "model_module_version": "1.2.0",
          "state": {
            "_model_module": "@jupyter-widgets/base",
            "_model_module_version": "1.2.0",
            "_model_name": "LayoutModel",
            "_view_count": null,
            "_view_module": "@jupyter-widgets/base",
            "_view_module_version": "1.2.0",
            "_view_name": "LayoutView",
            "align_content": null,
            "align_items": null,
            "align_self": null,
            "border": null,
            "bottom": null,
            "display": null,
            "flex": null,
            "flex_flow": null,
            "grid_area": null,
            "grid_auto_columns": null,
            "grid_auto_flow": null,
            "grid_auto_rows": null,
            "grid_column": null,
            "grid_gap": null,
            "grid_row": null,
            "grid_template_areas": null,
            "grid_template_columns": null,
            "grid_template_rows": null,
            "height": null,
            "justify_content": null,
            "justify_items": null,
            "left": null,
            "margin": null,
            "max_height": null,
            "max_width": null,
            "min_height": null,
            "min_width": null,
            "object_fit": null,
            "object_position": null,
            "order": null,
            "overflow": null,
            "overflow_x": null,
            "overflow_y": null,
            "padding": null,
            "right": null,
            "top": null,
            "visibility": null,
            "width": null
          }
        },
        "6301b1fb2e4247e090d8069809c61129": {
          "model_module": "@jupyter-widgets/base",
          "model_name": "LayoutModel",
          "model_module_version": "1.2.0",
          "state": {
            "_model_module": "@jupyter-widgets/base",
            "_model_module_version": "1.2.0",
            "_model_name": "LayoutModel",
            "_view_count": null,
            "_view_module": "@jupyter-widgets/base",
            "_view_module_version": "1.2.0",
            "_view_name": "LayoutView",
            "align_content": null,
            "align_items": null,
            "align_self": null,
            "border": null,
            "bottom": null,
            "display": null,
            "flex": null,
            "flex_flow": null,
            "grid_area": null,
            "grid_auto_columns": null,
            "grid_auto_flow": null,
            "grid_auto_rows": null,
            "grid_column": null,
            "grid_gap": null,
            "grid_row": null,
            "grid_template_areas": null,
            "grid_template_columns": null,
            "grid_template_rows": null,
            "height": null,
            "justify_content": null,
            "justify_items": null,
            "left": null,
            "margin": null,
            "max_height": null,
            "max_width": null,
            "min_height": null,
            "min_width": null,
            "object_fit": null,
            "object_position": null,
            "order": null,
            "overflow": null,
            "overflow_x": null,
            "overflow_y": null,
            "padding": null,
            "right": null,
            "top": null,
            "visibility": null,
            "width": null
          }
        },
        "74ecc8406b394b4181646f8cd3222082": {
          "model_module": "@jupyter-widgets/controls",
          "model_name": "DescriptionStyleModel",
          "model_module_version": "1.5.0",
          "state": {
            "_model_module": "@jupyter-widgets/controls",
            "_model_module_version": "1.5.0",
            "_model_name": "DescriptionStyleModel",
            "_view_count": null,
            "_view_module": "@jupyter-widgets/base",
            "_view_module_version": "1.2.0",
            "_view_name": "StyleView",
            "description_width": ""
          }
        },
        "cbd0755f576540fd92c3a30163ae2d11": {
          "model_module": "@jupyter-widgets/base",
          "model_name": "LayoutModel",
          "model_module_version": "1.2.0",
          "state": {
            "_model_module": "@jupyter-widgets/base",
            "_model_module_version": "1.2.0",
            "_model_name": "LayoutModel",
            "_view_count": null,
            "_view_module": "@jupyter-widgets/base",
            "_view_module_version": "1.2.0",
            "_view_name": "LayoutView",
            "align_content": null,
            "align_items": null,
            "align_self": null,
            "border": null,
            "bottom": null,
            "display": null,
            "flex": null,
            "flex_flow": null,
            "grid_area": null,
            "grid_auto_columns": null,
            "grid_auto_flow": null,
            "grid_auto_rows": null,
            "grid_column": null,
            "grid_gap": null,
            "grid_row": null,
            "grid_template_areas": null,
            "grid_template_columns": null,
            "grid_template_rows": null,
            "height": null,
            "justify_content": null,
            "justify_items": null,
            "left": null,
            "margin": null,
            "max_height": null,
            "max_width": null,
            "min_height": null,
            "min_width": null,
            "object_fit": null,
            "object_position": null,
            "order": null,
            "overflow": null,
            "overflow_x": null,
            "overflow_y": null,
            "padding": null,
            "right": null,
            "top": null,
            "visibility": null,
            "width": null
          }
        },
        "4ffce209e5974bd680ba16598b2986e6": {
          "model_module": "@jupyter-widgets/controls",
          "model_name": "ProgressStyleModel",
          "model_module_version": "1.5.0",
          "state": {
            "_model_module": "@jupyter-widgets/controls",
            "_model_module_version": "1.5.0",
            "_model_name": "ProgressStyleModel",
            "_view_count": null,
            "_view_module": "@jupyter-widgets/base",
            "_view_module_version": "1.2.0",
            "_view_name": "StyleView",
            "bar_color": null,
            "description_width": ""
          }
        },
        "7df44f255ac941bda8daa8f17f5be7d5": {
          "model_module": "@jupyter-widgets/base",
          "model_name": "LayoutModel",
          "model_module_version": "1.2.0",
          "state": {
            "_model_module": "@jupyter-widgets/base",
            "_model_module_version": "1.2.0",
            "_model_name": "LayoutModel",
            "_view_count": null,
            "_view_module": "@jupyter-widgets/base",
            "_view_module_version": "1.2.0",
            "_view_name": "LayoutView",
            "align_content": null,
            "align_items": null,
            "align_self": null,
            "border": null,
            "bottom": null,
            "display": null,
            "flex": null,
            "flex_flow": null,
            "grid_area": null,
            "grid_auto_columns": null,
            "grid_auto_flow": null,
            "grid_auto_rows": null,
            "grid_column": null,
            "grid_gap": null,
            "grid_row": null,
            "grid_template_areas": null,
            "grid_template_columns": null,
            "grid_template_rows": null,
            "height": null,
            "justify_content": null,
            "justify_items": null,
            "left": null,
            "margin": null,
            "max_height": null,
            "max_width": null,
            "min_height": null,
            "min_width": null,
            "object_fit": null,
            "object_position": null,
            "order": null,
            "overflow": null,
            "overflow_x": null,
            "overflow_y": null,
            "padding": null,
            "right": null,
            "top": null,
            "visibility": null,
            "width": null
          }
        },
        "0d684c59103f414191f6b7d1f4bce5fe": {
          "model_module": "@jupyter-widgets/controls",
          "model_name": "DescriptionStyleModel",
          "model_module_version": "1.5.0",
          "state": {
            "_model_module": "@jupyter-widgets/controls",
            "_model_module_version": "1.5.0",
            "_model_name": "DescriptionStyleModel",
            "_view_count": null,
            "_view_module": "@jupyter-widgets/base",
            "_view_module_version": "1.2.0",
            "_view_name": "StyleView",
            "description_width": ""
          }
        }
      }
    }
  },
  "nbformat": 4,
  "nbformat_minor": 0
}