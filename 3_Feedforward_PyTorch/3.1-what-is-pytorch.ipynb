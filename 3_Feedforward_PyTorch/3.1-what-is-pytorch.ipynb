{
  "cells": [
    {
      "cell_type": "markdown",
      "metadata": {
        "id": "view-in-github",
        "colab_type": "text"
      },
      "source": [
        "<a href=\"https://colab.research.google.com/github/LaugeHermansen/02456-deep-learning-with-PyTorch/blob/master/3_Feedforward_PyTorch/3.1-what-is-pytorch.ipynb\" target=\"_parent\"><img src=\"https://colab.research.google.com/assets/colab-badge.svg\" alt=\"Open In Colab\"/></a>"
      ]
    },
    {
      "cell_type": "markdown",
      "metadata": {
        "id": "5dyJ882PNf-4"
      },
      "source": [
        "# Credits\n",
        "\n",
        "This is heavily based on https://github.com/pytorch/tutorials"
      ]
    },
    {
      "cell_type": "markdown",
      "metadata": {
        "id": "9_0ArnO1Nf-9"
      },
      "source": [
        "# What is PyTorch?\n",
        "\n",
        "> **NOTE** In the last part of this lab cuda is used. If you have a cuda enabled machine, read the README.md in the root of this repo on how to use nvidia-docker.\n",
        "\n",
        "\n",
        "It’s a Python based scientific computing package targeted at two sets of\n",
        "audiences:\n",
        "-  A replacement for numpy to use the power of GPUs\n",
        "-  a deep learning research platform that provides maximum flexibility\n",
        "   and speed\n"
      ]
    },
    {
      "cell_type": "markdown",
      "metadata": {
        "id": "luwOoLncNf--"
      },
      "source": [
        "# Getting Started\n",
        "\n",
        "In this lab you will get a quick start on what pytorch is and how to use it.\n",
        "\n",
        "## 1. Tensors\n",
        "\n",
        "Tensors are similar to numpy’s ndarrays, with the addition being that\n",
        "Tensors can also be used on a GPU to accelerate computing."
      ]
    },
    {
      "cell_type": "code",
      "execution_count": 1,
      "metadata": {
        "id": "9nLNeQUCNf-_"
      },
      "outputs": [],
      "source": [
        "import torch"
      ]
    },
    {
      "cell_type": "markdown",
      "metadata": {
        "id": "c9QMvVtxNf_A"
      },
      "source": [
        "Construct a 5x3 matrix, uninitialized"
      ]
    },
    {
      "cell_type": "code",
      "execution_count": 2,
      "metadata": {
        "scrolled": false,
        "id": "IaYL3cjtNf_A",
        "outputId": "d3c03821-3e15-4ae8-c23c-fcc178ed1066",
        "colab": {
          "base_uri": "https://localhost:8080/"
        }
      },
      "outputs": [
        {
          "output_type": "stream",
          "name": "stdout",
          "text": [
            "tensor([[5.6072e-35, 0.0000e+00, 3.7835e-44],\n",
            "        [0.0000e+00,        nan, 0.0000e+00],\n",
            "        [1.3733e-14, 6.4069e+02, 4.3066e+21],\n",
            "        [1.1824e+22, 4.3066e+21, 6.3828e+28],\n",
            "        [3.8016e-39, 0.0000e+00, 0.0000e+00]])\n"
          ]
        }
      ],
      "source": [
        "x = torch.Tensor(5, 3)\n",
        "print(x)"
      ]
    },
    {
      "cell_type": "markdown",
      "metadata": {
        "id": "nFvAb4K1Nf_B"
      },
      "source": [
        "Construct a randomly initialized matrix"
      ]
    },
    {
      "cell_type": "code",
      "execution_count": 3,
      "metadata": {
        "id": "L4B5Hg7UNf_B",
        "outputId": "662d1cde-6b2e-4a73-d775-cbe6ab3d3c36",
        "colab": {
          "base_uri": "https://localhost:8080/"
        }
      },
      "outputs": [
        {
          "output_type": "stream",
          "name": "stdout",
          "text": [
            "tensor([[0.4373, 0.6294, 0.8296],\n",
            "        [0.8136, 0.2659, 0.1276],\n",
            "        [0.2156, 0.0455, 0.6575],\n",
            "        [0.1464, 0.4199, 0.9659],\n",
            "        [0.5175, 0.8112, 0.6319]])\n"
          ]
        }
      ],
      "source": [
        "x = torch.rand(5, 3)\n",
        "print(x)"
      ]
    },
    {
      "cell_type": "markdown",
      "metadata": {
        "id": "vtVS-d59Nf_C"
      },
      "source": [
        "Get its size"
      ]
    },
    {
      "cell_type": "code",
      "execution_count": 4,
      "metadata": {
        "id": "eOeadBrCNf_D",
        "outputId": "4bf64290-be09-4bab-9d93-6214264b5c2f",
        "colab": {
          "base_uri": "https://localhost:8080/"
        }
      },
      "outputs": [
        {
          "output_type": "stream",
          "name": "stdout",
          "text": [
            "torch.Size([5, 3])\n"
          ]
        }
      ],
      "source": [
        "print(x.size())"
      ]
    },
    {
      "cell_type": "markdown",
      "metadata": {
        "id": "tL2TDshuNf_D"
      },
      "source": [
        "**NOTE**: `torch.Size` is in fact a tuple, so it supports the same operations that a tuple supports."
      ]
    },
    {
      "cell_type": "code",
      "execution_count": null,
      "metadata": {
        "id": "oFw17h3qNf_E"
      },
      "outputs": [],
      "source": [
        "x[1:3] = 2\n",
        "print(x)"
      ]
    },
    {
      "cell_type": "markdown",
      "metadata": {
        "id": "WTD3n4zHNf_E"
      },
      "source": [
        "# Assignment\n",
        "\n",
        "Make use of the pytorch docs <http://pytorch.org/docs/torch>\n",
        "1. Make a tensor of size (2, 17)\n",
        "2. Make a torch.FloatTensor of size (3, 1)\n",
        "3. Make a torch.LongTensor of size (5, 2, 1)\n",
        "  - fill the entire tensor with 7s\n",
        "4. Make a torch.ByteTensor of size (5,)\n",
        "  - fill the middle 3 indices with ones such that it records [0, 1, 1, 1, 0]"
      ]
    },
    {
      "cell_type": "code",
      "source": [
        "x1 = torch.Tensor(2,17)\n",
        "print(x1)\n",
        "\n",
        "\n",
        "x2 = torch.FloatTensor(3,1)\n",
        "print(x2)\n",
        "x3 = torch.LongTensor(5,2,1)\n",
        "print(x3)\n",
        "x3[:,:,:] = 7\n",
        "print(x3)\n",
        "x4 = torch.zeros(5, dtype = torch.uint8)\n",
        "print(x4)\n",
        "x4[1:4] = 1\n",
        "print(x4)\n",
        "\n"
      ],
      "metadata": {
        "id": "T9HocfKhOM80",
        "outputId": "1357bf7f-51b9-48a5-c639-c4843ff2e60d",
        "colab": {
          "base_uri": "https://localhost:8080/"
        }
      },
      "execution_count": 10,
      "outputs": [
        {
          "output_type": "stream",
          "name": "stdout",
          "text": [
            "tensor([[ 5.6284e-35,  0.0000e+00,  0.0000e+00,  0.0000e+00,  1.4013e-45,\n",
            "          0.0000e+00,  0.0000e+00,  0.0000e+00,  0.0000e+00,  0.0000e+00,\n",
            "          0.0000e+00,  0.0000e+00,  1.8244e-34,  0.0000e+00,  2.1430e-35,\n",
            "          0.0000e+00, -1.5687e-28],\n",
            "        [ 4.5720e-41,  0.0000e+00,  0.0000e+00,  0.0000e+00,  0.0000e+00,\n",
            "          0.0000e+00,  0.0000e+00,  0.0000e+00,  0.0000e+00,  0.0000e+00,\n",
            "          0.0000e+00,  0.0000e+00,  0.0000e+00,  1.4013e-45,  0.0000e+00,\n",
            "          0.0000e+00,  0.0000e+00]])\n",
            "tensor([[1.8391e-34],\n",
            "        [0.0000e+00],\n",
            "        [2.3694e-38]])\n",
            "tensor([[[120745600],\n",
            "         [        0]],\n",
            "\n",
            "        [[        0],\n",
            "         [        0]],\n",
            "\n",
            "        [[        0],\n",
            "         [        0]],\n",
            "\n",
            "        [[        0],\n",
            "         [        0]],\n",
            "\n",
            "        [[        0],\n",
            "         [        0]]])\n",
            "tensor([[[7],\n",
            "         [7]],\n",
            "\n",
            "        [[7],\n",
            "         [7]],\n",
            "\n",
            "        [[7],\n",
            "         [7]],\n",
            "\n",
            "        [[7],\n",
            "         [7]],\n",
            "\n",
            "        [[7],\n",
            "         [7]]])\n",
            "tensor([0, 0, 0, 0, 0], dtype=torch.uint8)\n",
            "tensor([0, 1, 1, 1, 0], dtype=torch.uint8)\n"
          ]
        }
      ]
    },
    {
      "cell_type": "markdown",
      "metadata": {
        "id": "dv4eCNWqNf_F"
      },
      "source": [
        "## 2. Operations\n",
        "There are multiple syntaxes for operations. Let's see addition as an example:\n",
        "\n",
        "### 2.1 Addition: syntax 1"
      ]
    },
    {
      "cell_type": "code",
      "execution_count": 11,
      "metadata": {
        "id": "TqPuC2FRNf_F",
        "outputId": "55da2dae-f4e2-45d5-fe1f-be7ba51cdd83",
        "colab": {
          "base_uri": "https://localhost:8080/"
        }
      },
      "outputs": [
        {
          "output_type": "stream",
          "name": "stdout",
          "text": [
            "tensor([[1.3878, 1.1755, 1.1093],\n",
            "        [1.5316, 1.0490, 0.6592],\n",
            "        [0.6246, 0.9563, 1.0926],\n",
            "        [0.2752, 0.5244, 0.9683],\n",
            "        [0.7206, 1.2650, 1.3212]])\n"
          ]
        }
      ],
      "source": [
        "y = torch.rand(5, 3)\n",
        "print(x + y)"
      ]
    },
    {
      "cell_type": "markdown",
      "metadata": {
        "id": "T6rDQyrONf_G"
      },
      "source": [
        "### 2.2 Addition: syntax 2"
      ]
    },
    {
      "cell_type": "code",
      "execution_count": 12,
      "metadata": {
        "id": "3rbaN9A3Nf_G",
        "outputId": "b90e7d6d-0a92-45a9-9728-2259fe148bba",
        "colab": {
          "base_uri": "https://localhost:8080/"
        }
      },
      "outputs": [
        {
          "output_type": "stream",
          "name": "stdout",
          "text": [
            "tensor([[1.3878, 1.1755, 1.1093],\n",
            "        [1.5316, 1.0490, 0.6592],\n",
            "        [0.6246, 0.9563, 1.0926],\n",
            "        [0.2752, 0.5244, 0.9683],\n",
            "        [0.7206, 1.2650, 1.3212]])\n"
          ]
        }
      ],
      "source": [
        "print(torch.add(x, y))"
      ]
    },
    {
      "cell_type": "markdown",
      "metadata": {
        "id": "-qmFxZNvNf_G"
      },
      "source": [
        "### 2.3 Addition: giving an output tensor"
      ]
    },
    {
      "cell_type": "code",
      "execution_count": 13,
      "metadata": {
        "id": "WteRLAxANf_G",
        "outputId": "cadc5d6c-5d3e-456d-e4cf-f433a89c2a5b",
        "colab": {
          "base_uri": "https://localhost:8080/"
        }
      },
      "outputs": [
        {
          "output_type": "stream",
          "name": "stdout",
          "text": [
            "tensor([[1.3878, 1.1755, 1.1093],\n",
            "        [1.5316, 1.0490, 0.6592],\n",
            "        [0.6246, 0.9563, 1.0926],\n",
            "        [0.2752, 0.5244, 0.9683],\n",
            "        [0.7206, 1.2650, 1.3212]])\n"
          ]
        }
      ],
      "source": [
        "result = torch.Tensor(5, 3)\n",
        "torch.add(x, y, out=result)\n",
        "print(result)"
      ]
    },
    {
      "cell_type": "markdown",
      "metadata": {
        "id": "d6g19UL3Nf_H"
      },
      "source": [
        "### 2.4 Addition: in-place\n",
        "\n",
        "adds `x`to `y`"
      ]
    },
    {
      "cell_type": "code",
      "execution_count": 14,
      "metadata": {
        "id": "xtOU_6RJNf_H",
        "outputId": "6d0ac47f-68d1-448e-feef-f4f46cd1433a",
        "colab": {
          "base_uri": "https://localhost:8080/"
        }
      },
      "outputs": [
        {
          "output_type": "stream",
          "name": "stdout",
          "text": [
            "tensor([[1.3878, 1.1755, 1.1093],\n",
            "        [1.5316, 1.0490, 0.6592],\n",
            "        [0.6246, 0.9563, 1.0926],\n",
            "        [0.2752, 0.5244, 0.9683],\n",
            "        [0.7206, 1.2650, 1.3212]])\n"
          ]
        }
      ],
      "source": [
        "y.add_(x)\n",
        "print(y)"
      ]
    },
    {
      "cell_type": "markdown",
      "metadata": {
        "id": "bCrLbR-8Nf_H"
      },
      "source": [
        "**NOTE**: Any operation that mutates a tensor in-place is post-fixed with an `_`. For example: `x.copy_(y)`, `x.t_()`, will change `x`."
      ]
    },
    {
      "cell_type": "markdown",
      "metadata": {
        "id": "eB1Qm-14Nf_H"
      },
      "source": [
        "You can use standard numpy-like indexing with all bells and whistles!"
      ]
    },
    {
      "cell_type": "code",
      "execution_count": 15,
      "metadata": {
        "id": "bN7uPKA6Nf_I",
        "outputId": "ec93e682-3cf7-4e42-d2e3-f90d7e275e5c",
        "colab": {
          "base_uri": "https://localhost:8080/"
        }
      },
      "outputs": [
        {
          "output_type": "stream",
          "name": "stdout",
          "text": [
            "tensor([0.6294, 0.2659, 0.0455, 0.4199, 0.8112])\n"
          ]
        }
      ],
      "source": [
        "print(x[:, 1])"
      ]
    },
    {
      "cell_type": "markdown",
      "metadata": {
        "id": "UjNuONrsNf_I"
      },
      "source": [
        "**Read later** 100+ Tensor operations, including transposing, indexing, slicing, mathematical operations, linear algebra, random numbers, etc are described here <http://pytorch.org/docs/torch>"
      ]
    },
    {
      "cell_type": "markdown",
      "metadata": {
        "id": "twmThuaVNf_I"
      },
      "source": [
        "# Assignment\n",
        "\n",
        "1. multiplication of two tensors (see [torch.Tensor.mul](http://pytorch.org/docs/master/tensors.html#torch.Tensor.mul))\n",
        "2. do the same, but inplace\n",
        "3. division of two tensors (see [torch.Tensor.div](http://pytorch.org/docs/master/tensors.html#torch.Tensor.div))\n",
        "4. perform a matrix multiplication of two tensors of size (2, 4) and (4, 2)"
      ]
    },
    {
      "cell_type": "code",
      "source": [
        "r1 = x*y\n",
        "r2 = torch.Tensor.mul(x,y)\n",
        "r3 = y.detach().clone(); r3.mul_(x)\n"
      ],
      "metadata": {
        "id": "hCDEq0_VRaQL",
        "outputId": "3c5f0cc5-7e8f-4269-896a-787034d6409e",
        "colab": {
          "base_uri": "https://localhost:8080/"
        }
      },
      "execution_count": 23,
      "outputs": [
        {
          "output_type": "stream",
          "name": "stdout",
          "text": [
            "tensor(True) tensor(True) tensor(True)\n"
          ]
        }
      ]
    },
    {
      "cell_type": "markdown",
      "metadata": {
        "id": "s2wrTzEiNf_J"
      },
      "source": [
        "## 3. Numpy Bridge\n",
        "\n",
        "Converting a torch Tensor to a numpy array and vice versa is a breeze.\n",
        "\n",
        "The torch Tensor and numpy array will share their underlying memory locations, and changing one will change the other.\n",
        "\n",
        "### 3.1 Converting torch Tensor to numpy Array"
      ]
    },
    {
      "cell_type": "code",
      "execution_count": 24,
      "metadata": {
        "id": "Nxm6-NgoNf_J",
        "outputId": "29562783-d43d-4b32-ccc9-2a343da4b9a9",
        "colab": {
          "base_uri": "https://localhost:8080/"
        }
      },
      "outputs": [
        {
          "output_type": "stream",
          "name": "stdout",
          "text": [
            "tensor([1., 1., 1., 1., 1.])\n"
          ]
        }
      ],
      "source": [
        "a = torch.ones(5)\n",
        "print(a)"
      ]
    },
    {
      "cell_type": "code",
      "execution_count": 25,
      "metadata": {
        "id": "vynqBm99Nf_J",
        "outputId": "a1030695-fc57-4051-91d0-69b502fc2a5a",
        "colab": {
          "base_uri": "https://localhost:8080/"
        }
      },
      "outputs": [
        {
          "output_type": "stream",
          "name": "stdout",
          "text": [
            "[1. 1. 1. 1. 1.]\n"
          ]
        }
      ],
      "source": [
        "b = a.numpy()\n",
        "print(b)"
      ]
    },
    {
      "cell_type": "markdown",
      "metadata": {
        "id": "FhuE48YYNf_J"
      },
      "source": [
        "See how the numpy array changed in value: the `numpy()` method provides a *view* of the original tensor, not a copy."
      ]
    },
    {
      "cell_type": "code",
      "execution_count": 27,
      "metadata": {
        "id": "d8Mz32SsNf_J",
        "outputId": "3d990b13-2810-427d-c000-5be2510f5972",
        "colab": {
          "base_uri": "https://localhost:8080/"
        }
      },
      "outputs": [
        {
          "output_type": "stream",
          "name": "stdout",
          "text": [
            "tensor([3., 3., 3., 3., 3.])\n",
            "[3. 3. 3. 3. 3.]\n",
            "tensor([ 3.,  3., 23.,  3.,  3.])\n"
          ]
        }
      ],
      "source": [
        "a.add_(1)\n",
        "print(a)\n",
        "print(b)\n",
        "b[2] = 23\n",
        "print(a)"
      ]
    },
    {
      "cell_type": "markdown",
      "metadata": {
        "id": "a9c5beE8Nf_K"
      },
      "source": [
        "### 3.2 Converting numpy Array to torch Tensor\n",
        "\n",
        "See how changing the np array changed the torch Tensor automatically"
      ]
    },
    {
      "cell_type": "code",
      "execution_count": 28,
      "metadata": {
        "id": "Zl2-3JeONf_K",
        "outputId": "3f2af25a-70d4-40ce-f809-da99ddcc9e86",
        "colab": {
          "base_uri": "https://localhost:8080/"
        }
      },
      "outputs": [
        {
          "output_type": "stream",
          "name": "stdout",
          "text": [
            "[2. 2. 2. 2. 2.]\n",
            "tensor([2., 2., 2., 2., 2.], dtype=torch.float64)\n"
          ]
        }
      ],
      "source": [
        "import numpy as np\n",
        "a = np.ones(5)\n",
        "b = torch.from_numpy(a)\n",
        "np.add(a, 1, out=a)\n",
        "print(a)\n",
        "print(b)"
      ]
    },
    {
      "cell_type": "markdown",
      "metadata": {
        "id": "wu--vSV-Nf_K"
      },
      "source": [
        "# Assignment\n",
        "\n",
        "1. create a tensor of size (5, 2) containing ones\n",
        "2. now convert it to a numpy array\n",
        "3. now convert it back to a torch tensor"
      ]
    },
    {
      "cell_type": "markdown",
      "metadata": {
        "id": "tmUuH0TsNf_K"
      },
      "source": [
        "All the Tensors on the CPU except a CharTensor support converting to NumPy and back.\n",
        "\n",
        "## 4 CUDA Tensors\n",
        "\n",
        "Tensors can be moved onto GPU using the `.cuda` function.\n",
        "This is not necessary, but check the `README.md` for details on how to use a GPU with docker."
      ]
    },
    {
      "cell_type": "code",
      "execution_count": 29,
      "metadata": {
        "id": "r754jvKXNf_K",
        "outputId": "d7209a75-67dc-4620-fbb9-bc722bdbd781",
        "colab": {
          "base_uri": "https://localhost:8080/"
        }
      },
      "outputs": [
        {
          "output_type": "stream",
          "name": "stdout",
          "text": [
            "CUDA not available on your machine.\n"
          ]
        }
      ],
      "source": [
        "# let us run this cell only if CUDA is available\n",
        "if torch.cuda.is_available():\n",
        "    x = x.cuda()\n",
        "    y = y.cuda()\n",
        "    z = x + y\n",
        "    # Notice that the tensors are now of type torch.cuda.FloatTensor (notice the cuda in there)\n",
        "    # This is meant as a tensor to be run on the GPU.\n",
        "    # The .cuda() does this to any parameter it is applied to.\n",
        "    print(x)\n",
        "    print(y)\n",
        "    print(z)\n",
        "else:\n",
        "    print(\"CUDA not available on your machine.\")"
      ]
    },
    {
      "cell_type": "code",
      "execution_count": null,
      "metadata": {
        "id": "u5UWX_dXNf_L"
      },
      "outputs": [],
      "source": []
    }
  ],
  "metadata": {
    "kernelspec": {
      "display_name": "Python 3 (ipykernel)",
      "language": "python",
      "name": "python3"
    },
    "language_info": {
      "codemirror_mode": {
        "name": "ipython",
        "version": 3
      },
      "file_extension": ".py",
      "mimetype": "text/x-python",
      "name": "python",
      "nbconvert_exporter": "python",
      "pygments_lexer": "ipython3",
      "version": "3.8.12"
    },
    "colab": {
      "provenance": [],
      "include_colab_link": true
    }
  },
  "nbformat": 4,
  "nbformat_minor": 0
}